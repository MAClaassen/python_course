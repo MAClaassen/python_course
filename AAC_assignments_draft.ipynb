{
  "cells": [
    {
      "cell_type": "markdown",
      "metadata": {
        "id": "view-in-github",
        "colab_type": "text"
      },
      "source": [
        "<a href=\"https://colab.research.google.com/github/MAClaassen/python_course/blob/main/AAC_assignments_draft.ipynb\" target=\"_parent\"><img src=\"https://colab.research.google.com/assets/colab-badge.svg\" alt=\"Open In Colab\"/></a>"
      ]
    },
    {
      "cell_type": "markdown",
      "metadata": {
        "id": "IqY_BUzpUiCB"
      },
      "source": [
        "## 0.0.0 Start"
      ]
    },
    {
      "cell_type": "code",
      "source": [
        "pip install prince"
      ],
      "metadata": {
        "id": "XbwIOBaSvfQD",
        "colab": {
          "base_uri": "https://localhost:8080/"
        },
        "outputId": "c016f215-cbb5-41e2-b020-260c95bafa6d"
      },
      "execution_count": 1,
      "outputs": [
        {
          "output_type": "stream",
          "name": "stdout",
          "text": [
            "Looking in indexes: https://pypi.org/simple, https://us-python.pkg.dev/colab-wheels/public/simple/\n",
            "Collecting prince\n",
            "  Downloading prince-0.7.1-py3-none-any.whl (21 kB)\n",
            "Requirement already satisfied: scipy>=1.3.0 in /usr/local/lib/python3.7/dist-packages (from prince) (1.4.1)\n",
            "Requirement already satisfied: numpy>=1.17.1 in /usr/local/lib/python3.7/dist-packages (from prince) (1.21.6)\n",
            "Requirement already satisfied: scikit-learn>=0.22.1 in /usr/local/lib/python3.7/dist-packages (from prince) (1.0.2)\n",
            "Requirement already satisfied: pandas>=1.0.3 in /usr/local/lib/python3.7/dist-packages (from prince) (1.3.5)\n",
            "Requirement already satisfied: matplotlib>=3.0.2 in /usr/local/lib/python3.7/dist-packages (from prince) (3.2.2)\n",
            "Requirement already satisfied: cycler>=0.10 in /usr/local/lib/python3.7/dist-packages (from matplotlib>=3.0.2->prince) (0.11.0)\n",
            "Requirement already satisfied: kiwisolver>=1.0.1 in /usr/local/lib/python3.7/dist-packages (from matplotlib>=3.0.2->prince) (1.4.3)\n",
            "Requirement already satisfied: pyparsing!=2.0.4,!=2.1.2,!=2.1.6,>=2.0.1 in /usr/local/lib/python3.7/dist-packages (from matplotlib>=3.0.2->prince) (3.0.9)\n",
            "Requirement already satisfied: python-dateutil>=2.1 in /usr/local/lib/python3.7/dist-packages (from matplotlib>=3.0.2->prince) (2.8.2)\n",
            "Requirement already satisfied: typing-extensions in /usr/local/lib/python3.7/dist-packages (from kiwisolver>=1.0.1->matplotlib>=3.0.2->prince) (4.1.1)\n",
            "Requirement already satisfied: pytz>=2017.3 in /usr/local/lib/python3.7/dist-packages (from pandas>=1.0.3->prince) (2022.1)\n",
            "Requirement already satisfied: six>=1.5 in /usr/local/lib/python3.7/dist-packages (from python-dateutil>=2.1->matplotlib>=3.0.2->prince) (1.15.0)\n",
            "Requirement already satisfied: threadpoolctl>=2.0.0 in /usr/local/lib/python3.7/dist-packages (from scikit-learn>=0.22.1->prince) (3.1.0)\n",
            "Requirement already satisfied: joblib>=0.11 in /usr/local/lib/python3.7/dist-packages (from scikit-learn>=0.22.1->prince) (1.1.0)\n",
            "Installing collected packages: prince\n",
            "Successfully installed prince-0.7.1\n"
          ]
        }
      ]
    },
    {
      "cell_type": "code",
      "execution_count": 2,
      "metadata": {
        "id": "aHRcOo_7UyiB"
      },
      "outputs": [],
      "source": [
        "import numpy as np\n",
        "import pandas as pd\n",
        "import seaborn as sns\n",
        "import matplotlib.pyplot as plt\n",
        "import matplotlib\n",
        "get_ipython().run_line_magic('matplotlib', 'inline')\n",
        "import datetime as dt\n",
        "import plotly.express as px\n",
        "import plotly.graph_objects as go\n",
        "import prince\n",
        "import matplotlib.colors as colors"
      ]
    },
    {
      "cell_type": "code",
      "execution_count": 3,
      "metadata": {
        "id": "v9Od8-dp_Sur"
      },
      "outputs": [],
      "source": [
        "from urllib.request import urlopen\n",
        "import json\n",
        "with urlopen('https://raw.githubusercontent.com/plotly/datasets/master/geojson-counties-fips.json') as response:\n",
        "    counties = json.load(response)"
      ]
    },
    {
      "cell_type": "code",
      "execution_count": 4,
      "metadata": {
        "colab": {
          "base_uri": "https://localhost:8080/"
        },
        "id": "CrMxjOWyU0Cw",
        "outputId": "18deb8bb-0fa5-4d01-827d-61ed4300fd57"
      },
      "outputs": [
        {
          "output_type": "stream",
          "name": "stdout",
          "text": [
            "Mounted at /content/drive/\n"
          ]
        }
      ],
      "source": [
        "from google.colab import drive\n",
        "\n",
        "drive.mount('/content/drive/', force_remount=True)\n",
        "\n",
        "data_path='/content/drive/MyDrive/My_project/'\n",
        "\n",
        "results_path='/content/drive/My Drive/My_project/'"
      ]
    },
    {
      "cell_type": "markdown",
      "metadata": {
        "id": "PbddB6oPLplF"
      },
      "source": [
        "### Load data"
      ]
    },
    {
      "cell_type": "code",
      "execution_count": 5,
      "metadata": {
        "id": "wHgpw8TWVIFc",
        "colab": {
          "base_uri": "https://localhost:8080/",
          "height": 1000
        },
        "outputId": "5a76b0a6-2290-44d4-edda-b8dee70f753d"
      },
      "outputs": [
        {
          "output_type": "execute_result",
          "data": {
            "text/plain": [
              "      Search Column\\n\\n     ID  \\\n",
              "0                     0      1   \n",
              "1                     0      2   \n",
              "2                     0      3   \n",
              "3                     0      4   \n",
              "4                     0      5   \n",
              "...                 ...    ...   \n",
              "2765                  0   958a   \n",
              "2766                  0   958b   \n",
              "2767                  0   995a   \n",
              "2768                  0   995b   \n",
              "2769                  1  997tt   \n",
              "\n",
              "                                         Accident Title  Publication Year  \\\n",
              "0     Failure of Rappel Setup (Protection Pulled Out...            1990.0   \n",
              "1     Failure of Rappel—Failure to Check System, Bri...            1990.0   \n",
              "2     Fall into Crevasse, Climbing Alone, Inadequate...            1990.0   \n",
              "3     Fall into Crevasse, Climbing Unroped, British ...            1990.0   \n",
              "4     Fall Into Crevasse, Unroped, Inadequate Equipm...            1990.0   \n",
              "...                                                 ...               ...   \n",
              "2765  Fall on Ice, Inadequate Protection, Poor Posit...            2000.0   \n",
              "2766  Edited Title: Fall on Ice, Inadequate Protecti...            2000.0   \n",
              "2767  Edited title: Snow Blindness ...— Alaska, Moun...            2000.0   \n",
              "2768  Edited title:  Acute Mountain Sickness — Alask...            2000.0   \n",
              "2769  Stranded — Did Not Check Fixed Ropes, Dehydrat...            2000.0   \n",
              "\n",
              "                                                   Text  \\\n",
              "0     Colorado, Rocky Mountain National Park\\nOn May...   \n",
              "1     British Columbia, Squamish, Smoke Bluffs\\nOn M...   \n",
              "2     Alberta, Rocky Mountains, Crowfoot Mountain\\nO...   \n",
              "3     British Columbia, Bugaboo Mountains, Bugaboo S...   \n",
              "4     On the afternoon of March 29, 1989, four ski t...   \n",
              "...                                                 ...   \n",
              "2765  Alberta, Banff National Park, Cascade Waterfal...   \n",
              "2766  Alberta, Banff National Park, Cascade Waterfal...   \n",
              "2767  Alaska, Mount McKinley\\nOn June 15, both a Sou...   \n",
              "2768  Alaska, Mount McKinley\\nOn June 15, both a Sou...   \n",
              "2769  California, Yosemite Valley, Lost Arrow Spire\\...   \n",
              "\n",
              "                                           Tags Applied  COUNT OF TAGS  <15  \\\n",
              "0     Serious, Head / Brain Injury, Descent, Roped, ...              8  1.0   \n",
              "1     Experienced, Serious, Descent, Roped, Top-Rope...              7  NaN   \n",
              "2     Experienced, Minor, Unroped , Solo, Climbing A...              9  NaN   \n",
              "3     Minor, Unroped , Solo, Alpine/Mountaineering, ...              5  NaN   \n",
              "4     Deadly, Serious, Descent, Unroped , Solo, Non-...             10  NaN   \n",
              "...                                                 ...            ...  ...   \n",
              "2765  No/Little, Deadly, Descent, Unroped , Solo, Ic...              9  NaN   \n",
              "2766  Serious, Descent, Roped, Ice Climbing, Avalanc...              8  NaN   \n",
              "2767  Descent, Alpine/Mountaineering, Ascent Illness...              4  NaN   \n",
              "2768  Serious, Descent, Alpine/Mountaineering, Ascen...              5  NaN   \n",
              "2769  Minor, Roped, Trad Climbing, Alpine/Mountainee...              7  NaN   \n",
              "\n",
              "      15-20  21-25  ...  March  April  May  June  July  August  September  \\\n",
              "0       NaN    NaN  ...    NaN    NaN    1   NaN   NaN     NaN        NaN   \n",
              "1       NaN    NaN  ...    NaN    NaN    1   NaN   NaN     NaN        NaN   \n",
              "2       NaN    NaN  ...    NaN    NaN  NaN   NaN   NaN       1        NaN   \n",
              "3       NaN    NaN  ...    NaN    NaN  NaN   NaN   NaN     NaN          1   \n",
              "4       NaN    NaN  ...      1    NaN  NaN   NaN   NaN     NaN        NaN   \n",
              "...     ...    ...  ...    ...    ...  ...   ...   ...     ...        ...   \n",
              "2765    NaN    1.0  ...    NaN    NaN  NaN   NaN   NaN     NaN        NaN   \n",
              "2766    NaN    NaN  ...    NaN    NaN  NaN   NaN   NaN     NaN        NaN   \n",
              "2767    NaN    NaN  ...    NaN    NaN  NaN     1   NaN     NaN        NaN   \n",
              "2768    NaN    NaN  ...    NaN    NaN  NaN     1   NaN     NaN        NaN   \n",
              "2769    NaN    2.0  ...    NaN    NaN  NaN   NaN   NaN     NaN        NaN   \n",
              "\n",
              "      October  November  December  \n",
              "0         NaN       NaN       NaN  \n",
              "1         NaN       NaN       NaN  \n",
              "2         NaN       NaN       NaN  \n",
              "3         NaN       NaN       NaN  \n",
              "4         NaN       NaN       NaN  \n",
              "...       ...       ...       ...  \n",
              "2765      NaN       NaN         1  \n",
              "2766      NaN       NaN         1  \n",
              "2767      NaN       NaN       NaN  \n",
              "2768      NaN       NaN       NaN  \n",
              "2769      NaN       NaN         1  \n",
              "\n",
              "[2770 rows x 96 columns]"
            ],
            "text/html": [
              "\n",
              "  <div id=\"df-8d7387aa-875d-4d6c-a4bb-d52237995624\">\n",
              "    <div class=\"colab-df-container\">\n",
              "      <div>\n",
              "<style scoped>\n",
              "    .dataframe tbody tr th:only-of-type {\n",
              "        vertical-align: middle;\n",
              "    }\n",
              "\n",
              "    .dataframe tbody tr th {\n",
              "        vertical-align: top;\n",
              "    }\n",
              "\n",
              "    .dataframe thead th {\n",
              "        text-align: right;\n",
              "    }\n",
              "</style>\n",
              "<table border=\"1\" class=\"dataframe\">\n",
              "  <thead>\n",
              "    <tr style=\"text-align: right;\">\n",
              "      <th></th>\n",
              "      <th>Search Column\\n\\n</th>\n",
              "      <th>ID</th>\n",
              "      <th>Accident Title</th>\n",
              "      <th>Publication Year</th>\n",
              "      <th>Text</th>\n",
              "      <th>Tags Applied</th>\n",
              "      <th>COUNT OF TAGS</th>\n",
              "      <th>&lt;15</th>\n",
              "      <th>15-20</th>\n",
              "      <th>21-25</th>\n",
              "      <th>...</th>\n",
              "      <th>March</th>\n",
              "      <th>April</th>\n",
              "      <th>May</th>\n",
              "      <th>June</th>\n",
              "      <th>July</th>\n",
              "      <th>August</th>\n",
              "      <th>September</th>\n",
              "      <th>October</th>\n",
              "      <th>November</th>\n",
              "      <th>December</th>\n",
              "    </tr>\n",
              "  </thead>\n",
              "  <tbody>\n",
              "    <tr>\n",
              "      <th>0</th>\n",
              "      <td>0</td>\n",
              "      <td>1</td>\n",
              "      <td>Failure of Rappel Setup (Protection Pulled Out...</td>\n",
              "      <td>1990.0</td>\n",
              "      <td>Colorado, Rocky Mountain National Park\\nOn May...</td>\n",
              "      <td>Serious, Head / Brain Injury, Descent, Roped, ...</td>\n",
              "      <td>8</td>\n",
              "      <td>1.0</td>\n",
              "      <td>NaN</td>\n",
              "      <td>NaN</td>\n",
              "      <td>...</td>\n",
              "      <td>NaN</td>\n",
              "      <td>NaN</td>\n",
              "      <td>1</td>\n",
              "      <td>NaN</td>\n",
              "      <td>NaN</td>\n",
              "      <td>NaN</td>\n",
              "      <td>NaN</td>\n",
              "      <td>NaN</td>\n",
              "      <td>NaN</td>\n",
              "      <td>NaN</td>\n",
              "    </tr>\n",
              "    <tr>\n",
              "      <th>1</th>\n",
              "      <td>0</td>\n",
              "      <td>2</td>\n",
              "      <td>Failure of Rappel—Failure to Check System, Bri...</td>\n",
              "      <td>1990.0</td>\n",
              "      <td>British Columbia, Squamish, Smoke Bluffs\\nOn M...</td>\n",
              "      <td>Experienced, Serious, Descent, Roped, Top-Rope...</td>\n",
              "      <td>7</td>\n",
              "      <td>NaN</td>\n",
              "      <td>NaN</td>\n",
              "      <td>NaN</td>\n",
              "      <td>...</td>\n",
              "      <td>NaN</td>\n",
              "      <td>NaN</td>\n",
              "      <td>1</td>\n",
              "      <td>NaN</td>\n",
              "      <td>NaN</td>\n",
              "      <td>NaN</td>\n",
              "      <td>NaN</td>\n",
              "      <td>NaN</td>\n",
              "      <td>NaN</td>\n",
              "      <td>NaN</td>\n",
              "    </tr>\n",
              "    <tr>\n",
              "      <th>2</th>\n",
              "      <td>0</td>\n",
              "      <td>3</td>\n",
              "      <td>Fall into Crevasse, Climbing Alone, Inadequate...</td>\n",
              "      <td>1990.0</td>\n",
              "      <td>Alberta, Rocky Mountains, Crowfoot Mountain\\nO...</td>\n",
              "      <td>Experienced, Minor, Unroped , Solo, Climbing A...</td>\n",
              "      <td>9</td>\n",
              "      <td>NaN</td>\n",
              "      <td>NaN</td>\n",
              "      <td>NaN</td>\n",
              "      <td>...</td>\n",
              "      <td>NaN</td>\n",
              "      <td>NaN</td>\n",
              "      <td>NaN</td>\n",
              "      <td>NaN</td>\n",
              "      <td>NaN</td>\n",
              "      <td>1</td>\n",
              "      <td>NaN</td>\n",
              "      <td>NaN</td>\n",
              "      <td>NaN</td>\n",
              "      <td>NaN</td>\n",
              "    </tr>\n",
              "    <tr>\n",
              "      <th>3</th>\n",
              "      <td>0</td>\n",
              "      <td>4</td>\n",
              "      <td>Fall into Crevasse, Climbing Unroped, British ...</td>\n",
              "      <td>1990.0</td>\n",
              "      <td>British Columbia, Bugaboo Mountains, Bugaboo S...</td>\n",
              "      <td>Minor, Unroped , Solo, Alpine/Mountaineering, ...</td>\n",
              "      <td>5</td>\n",
              "      <td>NaN</td>\n",
              "      <td>NaN</td>\n",
              "      <td>NaN</td>\n",
              "      <td>...</td>\n",
              "      <td>NaN</td>\n",
              "      <td>NaN</td>\n",
              "      <td>NaN</td>\n",
              "      <td>NaN</td>\n",
              "      <td>NaN</td>\n",
              "      <td>NaN</td>\n",
              "      <td>1</td>\n",
              "      <td>NaN</td>\n",
              "      <td>NaN</td>\n",
              "      <td>NaN</td>\n",
              "    </tr>\n",
              "    <tr>\n",
              "      <th>4</th>\n",
              "      <td>0</td>\n",
              "      <td>5</td>\n",
              "      <td>Fall Into Crevasse, Unroped, Inadequate Equipm...</td>\n",
              "      <td>1990.0</td>\n",
              "      <td>On the afternoon of March 29, 1989, four ski t...</td>\n",
              "      <td>Deadly, Serious, Descent, Unroped , Solo, Non-...</td>\n",
              "      <td>10</td>\n",
              "      <td>NaN</td>\n",
              "      <td>NaN</td>\n",
              "      <td>NaN</td>\n",
              "      <td>...</td>\n",
              "      <td>1</td>\n",
              "      <td>NaN</td>\n",
              "      <td>NaN</td>\n",
              "      <td>NaN</td>\n",
              "      <td>NaN</td>\n",
              "      <td>NaN</td>\n",
              "      <td>NaN</td>\n",
              "      <td>NaN</td>\n",
              "      <td>NaN</td>\n",
              "      <td>NaN</td>\n",
              "    </tr>\n",
              "    <tr>\n",
              "      <th>...</th>\n",
              "      <td>...</td>\n",
              "      <td>...</td>\n",
              "      <td>...</td>\n",
              "      <td>...</td>\n",
              "      <td>...</td>\n",
              "      <td>...</td>\n",
              "      <td>...</td>\n",
              "      <td>...</td>\n",
              "      <td>...</td>\n",
              "      <td>...</td>\n",
              "      <td>...</td>\n",
              "      <td>...</td>\n",
              "      <td>...</td>\n",
              "      <td>...</td>\n",
              "      <td>...</td>\n",
              "      <td>...</td>\n",
              "      <td>...</td>\n",
              "      <td>...</td>\n",
              "      <td>...</td>\n",
              "      <td>...</td>\n",
              "      <td>...</td>\n",
              "    </tr>\n",
              "    <tr>\n",
              "      <th>2765</th>\n",
              "      <td>0</td>\n",
              "      <td>958a</td>\n",
              "      <td>Fall on Ice, Inadequate Protection, Poor Posit...</td>\n",
              "      <td>2000.0</td>\n",
              "      <td>Alberta, Banff National Park, Cascade Waterfal...</td>\n",
              "      <td>No/Little, Deadly, Descent, Unroped , Solo, Ic...</td>\n",
              "      <td>9</td>\n",
              "      <td>NaN</td>\n",
              "      <td>NaN</td>\n",
              "      <td>1.0</td>\n",
              "      <td>...</td>\n",
              "      <td>NaN</td>\n",
              "      <td>NaN</td>\n",
              "      <td>NaN</td>\n",
              "      <td>NaN</td>\n",
              "      <td>NaN</td>\n",
              "      <td>NaN</td>\n",
              "      <td>NaN</td>\n",
              "      <td>NaN</td>\n",
              "      <td>NaN</td>\n",
              "      <td>1</td>\n",
              "    </tr>\n",
              "    <tr>\n",
              "      <th>2766</th>\n",
              "      <td>0</td>\n",
              "      <td>958b</td>\n",
              "      <td>Edited Title: Fall on Ice, Inadequate Protecti...</td>\n",
              "      <td>2000.0</td>\n",
              "      <td>Alberta, Banff National Park, Cascade Waterfal...</td>\n",
              "      <td>Serious, Descent, Roped, Ice Climbing, Avalanc...</td>\n",
              "      <td>8</td>\n",
              "      <td>NaN</td>\n",
              "      <td>NaN</td>\n",
              "      <td>NaN</td>\n",
              "      <td>...</td>\n",
              "      <td>NaN</td>\n",
              "      <td>NaN</td>\n",
              "      <td>NaN</td>\n",
              "      <td>NaN</td>\n",
              "      <td>NaN</td>\n",
              "      <td>NaN</td>\n",
              "      <td>NaN</td>\n",
              "      <td>NaN</td>\n",
              "      <td>NaN</td>\n",
              "      <td>1</td>\n",
              "    </tr>\n",
              "    <tr>\n",
              "      <th>2767</th>\n",
              "      <td>0</td>\n",
              "      <td>995a</td>\n",
              "      <td>Edited title: Snow Blindness ...— Alaska, Moun...</td>\n",
              "      <td>2000.0</td>\n",
              "      <td>Alaska, Mount McKinley\\nOn June 15, both a Sou...</td>\n",
              "      <td>Descent, Alpine/Mountaineering, Ascent Illness...</td>\n",
              "      <td>4</td>\n",
              "      <td>NaN</td>\n",
              "      <td>NaN</td>\n",
              "      <td>NaN</td>\n",
              "      <td>...</td>\n",
              "      <td>NaN</td>\n",
              "      <td>NaN</td>\n",
              "      <td>NaN</td>\n",
              "      <td>1</td>\n",
              "      <td>NaN</td>\n",
              "      <td>NaN</td>\n",
              "      <td>NaN</td>\n",
              "      <td>NaN</td>\n",
              "      <td>NaN</td>\n",
              "      <td>NaN</td>\n",
              "    </tr>\n",
              "    <tr>\n",
              "      <th>2768</th>\n",
              "      <td>0</td>\n",
              "      <td>995b</td>\n",
              "      <td>Edited title:  Acute Mountain Sickness — Alask...</td>\n",
              "      <td>2000.0</td>\n",
              "      <td>Alaska, Mount McKinley\\nOn June 15, both a Sou...</td>\n",
              "      <td>Serious, Descent, Alpine/Mountaineering, Ascen...</td>\n",
              "      <td>5</td>\n",
              "      <td>NaN</td>\n",
              "      <td>NaN</td>\n",
              "      <td>NaN</td>\n",
              "      <td>...</td>\n",
              "      <td>NaN</td>\n",
              "      <td>NaN</td>\n",
              "      <td>NaN</td>\n",
              "      <td>1</td>\n",
              "      <td>NaN</td>\n",
              "      <td>NaN</td>\n",
              "      <td>NaN</td>\n",
              "      <td>NaN</td>\n",
              "      <td>NaN</td>\n",
              "      <td>NaN</td>\n",
              "    </tr>\n",
              "    <tr>\n",
              "      <th>2769</th>\n",
              "      <td>1</td>\n",
              "      <td>997tt</td>\n",
              "      <td>Stranded — Did Not Check Fixed Ropes, Dehydrat...</td>\n",
              "      <td>2000.0</td>\n",
              "      <td>California, Yosemite Valley, Lost Arrow Spire\\...</td>\n",
              "      <td>Minor, Roped, Trad Climbing, Alpine/Mountainee...</td>\n",
              "      <td>7</td>\n",
              "      <td>NaN</td>\n",
              "      <td>NaN</td>\n",
              "      <td>2.0</td>\n",
              "      <td>...</td>\n",
              "      <td>NaN</td>\n",
              "      <td>NaN</td>\n",
              "      <td>NaN</td>\n",
              "      <td>NaN</td>\n",
              "      <td>NaN</td>\n",
              "      <td>NaN</td>\n",
              "      <td>NaN</td>\n",
              "      <td>NaN</td>\n",
              "      <td>NaN</td>\n",
              "      <td>1</td>\n",
              "    </tr>\n",
              "  </tbody>\n",
              "</table>\n",
              "<p>2770 rows × 96 columns</p>\n",
              "</div>\n",
              "      <button class=\"colab-df-convert\" onclick=\"convertToInteractive('df-8d7387aa-875d-4d6c-a4bb-d52237995624')\"\n",
              "              title=\"Convert this dataframe to an interactive table.\"\n",
              "              style=\"display:none;\">\n",
              "        \n",
              "  <svg xmlns=\"http://www.w3.org/2000/svg\" height=\"24px\"viewBox=\"0 0 24 24\"\n",
              "       width=\"24px\">\n",
              "    <path d=\"M0 0h24v24H0V0z\" fill=\"none\"/>\n",
              "    <path d=\"M18.56 5.44l.94 2.06.94-2.06 2.06-.94-2.06-.94-.94-2.06-.94 2.06-2.06.94zm-11 1L8.5 8.5l.94-2.06 2.06-.94-2.06-.94L8.5 2.5l-.94 2.06-2.06.94zm10 10l.94 2.06.94-2.06 2.06-.94-2.06-.94-.94-2.06-.94 2.06-2.06.94z\"/><path d=\"M17.41 7.96l-1.37-1.37c-.4-.4-.92-.59-1.43-.59-.52 0-1.04.2-1.43.59L10.3 9.45l-7.72 7.72c-.78.78-.78 2.05 0 2.83L4 21.41c.39.39.9.59 1.41.59.51 0 1.02-.2 1.41-.59l7.78-7.78 2.81-2.81c.8-.78.8-2.07 0-2.86zM5.41 20L4 18.59l7.72-7.72 1.47 1.35L5.41 20z\"/>\n",
              "  </svg>\n",
              "      </button>\n",
              "      \n",
              "  <style>\n",
              "    .colab-df-container {\n",
              "      display:flex;\n",
              "      flex-wrap:wrap;\n",
              "      gap: 12px;\n",
              "    }\n",
              "\n",
              "    .colab-df-convert {\n",
              "      background-color: #E8F0FE;\n",
              "      border: none;\n",
              "      border-radius: 50%;\n",
              "      cursor: pointer;\n",
              "      display: none;\n",
              "      fill: #1967D2;\n",
              "      height: 32px;\n",
              "      padding: 0 0 0 0;\n",
              "      width: 32px;\n",
              "    }\n",
              "\n",
              "    .colab-df-convert:hover {\n",
              "      background-color: #E2EBFA;\n",
              "      box-shadow: 0px 1px 2px rgba(60, 64, 67, 0.3), 0px 1px 3px 1px rgba(60, 64, 67, 0.15);\n",
              "      fill: #174EA6;\n",
              "    }\n",
              "\n",
              "    [theme=dark] .colab-df-convert {\n",
              "      background-color: #3B4455;\n",
              "      fill: #D2E3FC;\n",
              "    }\n",
              "\n",
              "    [theme=dark] .colab-df-convert:hover {\n",
              "      background-color: #434B5C;\n",
              "      box-shadow: 0px 1px 3px 1px rgba(0, 0, 0, 0.15);\n",
              "      filter: drop-shadow(0px 1px 2px rgba(0, 0, 0, 0.3));\n",
              "      fill: #FFFFFF;\n",
              "    }\n",
              "  </style>\n",
              "\n",
              "      <script>\n",
              "        const buttonEl =\n",
              "          document.querySelector('#df-8d7387aa-875d-4d6c-a4bb-d52237995624 button.colab-df-convert');\n",
              "        buttonEl.style.display =\n",
              "          google.colab.kernel.accessAllowed ? 'block' : 'none';\n",
              "\n",
              "        async function convertToInteractive(key) {\n",
              "          const element = document.querySelector('#df-8d7387aa-875d-4d6c-a4bb-d52237995624');\n",
              "          const dataTable =\n",
              "            await google.colab.kernel.invokeFunction('convertToInteractive',\n",
              "                                                     [key], {});\n",
              "          if (!dataTable) return;\n",
              "\n",
              "          const docLinkHtml = 'Like what you see? Visit the ' +\n",
              "            '<a target=\"_blank\" href=https://colab.research.google.com/notebooks/data_table.ipynb>data table notebook</a>'\n",
              "            + ' to learn more about interactive tables.';\n",
              "          element.innerHTML = '';\n",
              "          dataTable['output_type'] = 'display_data';\n",
              "          await google.colab.output.renderOutput(dataTable, element);\n",
              "          const docLink = document.createElement('div');\n",
              "          docLink.innerHTML = docLinkHtml;\n",
              "          element.appendChild(docLink);\n",
              "        }\n",
              "      </script>\n",
              "    </div>\n",
              "  </div>\n",
              "  "
            ]
          },
          "metadata": {},
          "execution_count": 5
        }
      ],
      "source": [
        "# load data\n",
        "AAC_accidents = pd.read_csv(data_path + '_github-AAC_accidents_tagged_data.csv')\n",
        "AAC_accidents"
      ]
    },
    {
      "cell_type": "code",
      "execution_count": 6,
      "metadata": {
        "id": "qBEwuXfDUSEN",
        "colab": {
          "base_uri": "https://localhost:8080/"
        },
        "outputId": "429bf04c-f9a1-4353-8e8e-8b5bd1876afc"
      },
      "outputs": [
        {
          "output_type": "stream",
          "name": "stderr",
          "text": [
            "/usr/local/lib/python3.7/dist-packages/pandas/core/indexing.py:1732: SettingWithCopyWarning: \n",
            "A value is trying to be set on a copy of a slice from a DataFrame\n",
            "\n",
            "See the caveats in the documentation: https://pandas.pydata.org/pandas-docs/stable/user_guide/indexing.html#returning-a-view-versus-a-copy\n",
            "  self._setitem_single_block(indexer, value, name)\n"
          ]
        },
        {
          "output_type": "stream",
          "name": "stdout",
          "text": [
            "Avalanche, Fall on Snow and Ice, Pueblo, El Pico de Orizaba\n",
            "\n",
            "Rappel Error—Misuse of Grigri, Baffin Island, Stewart Valley\n",
            "\n",
            "Fall on Rock - Lost Balance, Protection Pulled Out \n",
            "Crowders Mountain State Park, Two-Pitch Wall\n",
            "\n",
            "Fall on Rock, Falling Rock - Failure to Test Holds, Inadequate Belay \n",
            "Humphrey's Ledge, Tree Keys\n",
            "\n",
            "Fall On Rock – Inadequate Belay \n",
            "Roosevelt National Forest, Dream Canyon\n",
            "\n",
            "Rockfall – Poor Position \n",
            "Canada, Yamnuska, Missionary's Crack\n",
            "\n",
            "Slip On Rock, Rappel Error – Alcohol, Poor Position \n",
            "San Bernadino Mountains, Lucerne Valley\n",
            "\n",
            "Illness \n",
            "Canada, Yokon, Kluane National Park and Reserve, Mt. Logan, East Ridge\n",
            "\n",
            "Anchor Failure – Off-Route \n",
            "Wind River Range, Pingora Peak\n",
            "\n",
            "Fall on Rock – Incomplete Tie-In Knot \n",
            "Canada, Québec, Racine, Lac Larouche\n",
            "\n",
            "HAPE \n",
            "Denali, West Buttress\n",
            "\n",
            "Fall on Rock, Stranded – Off-Route, Inadequate Gear \n",
            "Grand Teton National Park, Teewinot\n",
            "\n",
            "An Untimely Slip \n",
            "New River Gorge, Meadow River\n",
            "\n",
            "Rappel Error — Damaging Pendulum Swing \n",
            "Yosemite Valley, Royal Arches Area\n",
            "\n",
            "Deadly Rockfall \n",
            "Yosemite Valley, El Capitan\n",
            "\n",
            "LEADER FALL ON ICE Denali National Park, West Kahiltna Peak \n",
            "\n",
            "AVALANCHE Denali National Park, Mt. Hunter, Mini-Moonflower \n",
            "\n",
            "SEVERE ALTITUDE ILLNESS | First of Two Contrasting Cases Denali National Park, Denali, West Buttress Route \n",
            "\n",
            "SEVERE ALTITUDE ILLNESS | Second of Two Contrasting Cases Denali National Park, Denali, West Buttress Route\n",
            "\n",
            "SEVERE ALTITUDE ILLNESS | HAPE and HACE Denali National Park, Denali, West Buttress Route \n",
            "\n",
            "ALTITUDE-RELATED EVACUATION AT 17,200 FEET\n",
            "\n",
            "FALL ON SKIS | Skiing With Loaded Sled Denali National Park, Kahiltna Glacier \n",
            "\n",
            "CARBON MONOXIDE POISONING Denali National Park, Denali, West Buttress Route \n",
            "\n",
            "FATAL FALL DURING DESCENT Juneau Icefield, Mendenhall Towers \n",
            "\n",
            "LEDGE FALL | Failure to Clip Bolt, Inexperience Flagstaff Area, The Pit \n",
            "\n",
            "GROUND FALL | Inadequate Equipment, Inexperience Flagstaff Area, The Pit \n",
            "\n",
            "RAPPEL ERROR | Uneven Ropes, No Stopper Knots Flagstaff Area, Oak Creek Overlook \n",
            "\n",
            "FALL FROM ANCHOR | Inadequate Anchor Flagstaff Area, Oak Creek Overlook \n",
            "\n",
            "GROUND FALL | Protection Pulled Out McDowell Mountains, Tom’s Thumb \n",
            "\n",
            "#1 MT. SHASTA ANNUAL SUMMARY Mt. Shasta and Castle Crags Wilderness  - Dropped Object, Distracted\n",
            "\n",
            "#2 MT. SHASTA ANNUAL SUMMARY Mt. Shasta and Castle Crags Wilderness : Head Injury, No Helmet, Descending\n",
            "\n",
            "#3 MT. SHASTA ANNUAL SUMMARY Mt. Shasta and Castle Crags Wilderness:  Glissading with Crampons\n",
            "\n",
            "#4 MT. SHASTA ANNUAL SUMMARY Mt. Shasta and Castle Crags Wilderness:  Off-route fall\n",
            "\n",
            "#5 MT. SHASTA ANNUAL SUMMARY Mt. Shasta and Castle Crags Wilderness: Rockfall and self-rescue\n",
            "\n",
            "#6 MT. SHASTA ANNUAL SUMMARY Mt. Shasta and Castle Crags Wilderness: Fall while descending\n",
            "\n",
            "LEDGE FALL | Inadequate Protection, Speed Climbing Yosemite National Park, El Capitan, The Nose \n",
            "\n",
            "LOWERING ERROR | Inexperience, No Stopper Knot Yosemite Valley, Reed’s Pinnacle \n",
            "\n",
            "STRANDED ON DESCENT | Off-Route, Fatigue Yosemite Valley, El Capitan, East Ledges , Part 1\n",
            "\n",
            "STRANDED ON DESCENT | Off-Route, Fatigue Yosemite Valley, El Capitan, East Ledges , Part 2\n",
            "\n",
            "GROUND FALLS | Inadequate Protection, Rope Severed Yosemite Valley, El Capitan \n",
            "\n",
            "LOWERING ERROR | Miscommunication Bishop, Pine Creek Canyon, Gateway Slabs \n",
            "\n",
            "LEADER FALL ON ROCK | Loose Rock, Inadequate Protection Sierra National Forest, Windy Cliff \n",
            "\n",
            "LOWERING ERROR | No Stopper Knot Clear Creek Canyon, Creekside \n",
            "\n",
            "STRANDED | Stuck Rappel Ropes Clear Creek Canyon, Creekside \n",
            "\n",
            "LEADER FALL ON ROCK | Off-Route Eldorado Canyon, Redgarden Wall \n",
            "\n",
            "LEAD FALL ONTO LEDGE | Protection Pulled Out Ragged Mountain, Main Cliff \n",
            "\n",
            "FALL ON ROCK | Huge Loose Block Red River Gorge, Miller Fork, Camelot \n",
            "\n",
            "FALL FROM TOP OF CLIFF | Inadequate Protection Taylor’s Falls \n",
            "\n",
            "STRANDED | Knee Stuck In Wide Crack Sandstone, Robinson Park \n",
            "\n",
            "GROUND FALL | Detached Flake Red Rock, Moderate Mecca \n",
            "\n",
            "LEADER FALL ON ICE | Inadequate Protection, Fatigue Crawford Notch, Mt. Willard \n",
            "\n",
            "ROCKFALL ON RAPPEL | Darkness, Haste Organ Mountains, Pyramid of the South Rabbit Ear \n",
            "\n",
            "LEADER FALL ON ICE | Inadequate protection, Poor Position Adirondacks, Pitchoff Mountain, North Face \n",
            "\n",
            "NEAR MISS | Unclipped from Anchor Shawangunks, Trapps \n",
            "\n",
            "SHAWANGUNKS ANNUAL SUMMARY Mohonk Preserve #1 Top-rope set with Inadequate Equipment\n",
            "\n",
            "SHAWANGUNKS ANNUAL SUMMARY Mohonk Preserve #2: Protection Pulled, Brain Injury\n",
            "\n",
            "SHAWANGUNKS ANNUAL SUMMARY Mohonk Preserve #3: Fall while preparing anchor\n",
            "\n",
            "SHAWANGUNKS ANNUAL SUMMARY Mohonk Preserve #4:  Fatal free solo\n",
            "\n",
            "SHAWANGUNKS ANNUAL SUMMARY Mohonk Preserve #5: Top-rope Belayed Lowering Error\n",
            "\n",
            "SHAWANGUNKS ANNUAL SUMMARY Mohonk Preserve #6: TBI after fall on Third Pitch of Anguish\n",
            "\n",
            "SHAWANGUNKS ANNUAL SUMMARY Mohonk Preserve #7: Run out fall leads to pendulum\n",
            "\n",
            "GROUND FALL | Inexperience, Inadequate Belay Pilot Mountain State Park, The Parking Lot \n",
            "\n",
            "FALL ON ROCK | Inexperience, No Helmet Pilot Mountain State Park, Black Rain Wall \n",
            "\n",
            "FALL ON ROCK | Protection Pulled, Impact on Ledge Pisgah National Forest, Looking Glass Rock \n",
            "\n",
            "GROUND FALL | Inadequate Protection Hanging Rock State Park, Moore’s Wall \n",
            "\n",
            "FALL ON ROCK | Inexperience, Inadequate Protection Linville Gorge Wilderness, The Daddy \n",
            "\n",
            "FATAL FALL | Failure to Self-Arrest, Inadequate Equipment Mt. Hood, South Side \n",
            "\n",
            " Fall on Rock, Inadequate Protection\n",
            "\n",
            "Fatal Ground Fall: Rope Likely Cut Over Edge\n",
            "\n"
          ]
        },
        {
          "output_type": "execute_result",
          "data": {
            "text/plain": [
              "69"
            ]
          },
          "metadata": {},
          "execution_count": 6
        }
      ],
      "source": [
        "\n",
        "# 2. Ensured Date was in DateTime format\n",
        "\n",
        "\n",
        "AAC_accidents['Publication Year'] = pd.to_datetime(AAC_accidents['Publication Year'], yearfirst=True, format = '%Y')\n",
        "AAC_accidents['Publication Year'] = pd.DatetimeIndex(AAC_accidents['Publication Year']).year\n",
        "AAC_accidents['Publication Year'] = AAC_accidents['Publication Year'].fillna(0)\n",
        "AAC_accidents['Publication Year'] = AAC_accidents['Publication Year'].astype(int)\n",
        "\n",
        "\n",
        "# 3. Replaced NaN for 0\n",
        "\n",
        "\n",
        "AAC_accidents= AAC_accidents.fillna(0)\n",
        "\n",
        "\n",
        "# 4. I wanted to create a new column with the location of the accident. This would involve matching the Text and accident columns to a list containing Canadian Provinces and US States\n",
        "\n",
        "\n",
        "Provinces_States = ['Alabama', 'Alaska', 'American Samoa', 'Arizona', 'Arkansas', 'California',\n",
        "             'Colorado', 'Connecticut', 'Delaware', 'District of Columbia', 'Florida', 'Georgia',\n",
        "             'Guam', 'Hawaii', 'Idaho', 'Illinois', 'Indiana', 'Iowa', 'Kansas', 'Kentucky',\n",
        "             'Louisiana', 'Maine', 'Maryland', 'Massachusetts', 'Michigan', 'Minnesota',\n",
        "             'Minor Outlying Islands', 'Mississippi', 'Missouri', 'Montana', 'Nebraska', 'Nevada',\n",
        "             'New Hampshire', 'New Jersey', 'New Mexico', 'New York', 'North Carolina', 'North Dakota',\n",
        "             'Northern Mariana Islands', 'Ohio', 'Oklahoma', 'Oregon', 'Pennsylvania', 'Puerto Rico',\n",
        "             'Rhode Island', 'South Carolina', 'South Dakota', 'Tennessee', 'Texas', 'U.S. Virgin Islands',\n",
        "             'Utah', 'Vermont', 'Virginia', 'Washington',\n",
        "             'West Virginia', 'Wisconsin', 'Wyoming','Alberta', 'British Columbia', 'Manitoba','New Brunswick', 'Newfoundland and Labrador',\n",
        "                 'Northwest Territories', 'Nova Scotia','Nunavut', 'Ontario', 'Prince Edward Island' , 'PEI',\n",
        "                 'Quebec','Saskatchewan', 'Yukon']\n",
        "\n",
        "#5. Created a new Location Column\n",
        "AAC_accidents['Location'] = ''\n",
        "\n",
        "\n",
        "for i in range(AAC_accidents.shape[0] - 1):\n",
        "    title = AAC_accidents['Accident Title'].iloc[i]\n",
        "    text = AAC_accidents['Text'].iloc[i]\n",
        "    location = None\n",
        "    for place in Provinces_States:\n",
        "        if place in title:\n",
        "            location = place\n",
        "            break\n",
        "        elif place in text:\n",
        "            location = place\n",
        "            break\n",
        "    if location == None:\n",
        "        print(title)\n",
        "\n",
        "        print()\n",
        "\n",
        "    AAC_accidents['Location'].iloc[i]=location\n",
        "\n",
        "AAC_accidents['Location'].isna().sum()\n"
      ]
    },
    {
      "cell_type": "code",
      "execution_count": 7,
      "metadata": {
        "colab": {
          "base_uri": "https://localhost:8080/"
        },
        "id": "Tb7YqxukUSET",
        "outputId": "176674e8-9f6a-42d8-a084-bf46185ad71d"
      },
      "outputs": [
        {
          "output_type": "execute_result",
          "data": {
            "text/plain": [
              "Index(['Search Column\\n\\n', 'ID', 'Accident Title', 'Publication Year', 'Text',\n",
              "       'Tags Applied', 'COUNT OF TAGS', '<15', '15-20', '21-25', '26-30',\n",
              "       '31-35', '36-50', '51-75', '>75', 'No/Little', 'Moderate',\n",
              "       'Experienced', 'Unknown', 'Deadly', 'Serious', 'Minor',\n",
              "       'Head / Brain Injury', 'Descent', 'Roped', 'Trad Climbing', 'Sport',\n",
              "       'Top-Rope', 'Aid & Big Wall Climbing', 'Pendulum', 'Unroped ', 'Solo',\n",
              "       'Climbing Alone', 'Bouldering', 'Non-climbing', 'Alpine/Mountaineering',\n",
              "       'Piton/Ice Screw', 'Ascent Illness', 'Crampon Issues', 'Ice Climbing',\n",
              "       'Glissading', 'Ski-related ', 'Poor Position',\n",
              "       'Poor Cond/Seasonal Risk', 'Avalanche',\n",
              "       'Cornice / Snow Bridge Collapse', 'Bergschrund',\n",
              "       'Crevasse / Moat / Berschrund', 'Icefall / Serac / Ice Avalanche',\n",
              "       'Exposure', 'Non-Ascent Illness', 'Visibility', 'Severe Weather',\n",
              "       'Wildlife', 'Natural Rockfall', 'Off-route', 'Rushed', 'Run Out',\n",
              "       'Crowds', 'Inadequate Food/Water', 'No Helmet', 'Late in Day',\n",
              "       'Late Start', 'Party Separated', 'Ledge Fall', 'Gym / Artificial',\n",
              "       'Gym Climber', 'Fatigue', 'Large Group', 'Distracted',\n",
              "       'Object Dropped/Dislodged', 'Handhold/Foothold Broke',\n",
              "       'Knot & Tie-in Error', 'No Backup or End Knot', 'Gear Broke',\n",
              "       'Intoxicated', 'Inadequate Equipment', 'Inadequate Protection / Pulled',\n",
              "       'Anchor Failure / Error', 'Stranded / Lost / Overdue', 'Belay Error',\n",
              "       'Rappel Error', 'Lowering Error', 'Miscommunication', 'January',\n",
              "       'February', 'March', 'April', 'May', 'June', 'July', 'August',\n",
              "       'September', 'October', 'November', 'December', 'Location'],\n",
              "      dtype='object')"
            ]
          },
          "metadata": {},
          "execution_count": 7
        }
      ],
      "source": [
        "# check what variables are in the data\n",
        "AAC_accidents.columns"
      ]
    },
    {
      "cell_type": "markdown",
      "metadata": {
        "id": "GW9KEPkRXbxX"
      },
      "source": [
        "It is clear from the list above that I will need to melt a lot of columns into factors. "
      ]
    },
    {
      "cell_type": "code",
      "execution_count": 8,
      "metadata": {
        "id": "DrQAMV4ntWZ2"
      },
      "outputs": [],
      "source": [
        "# set row number so I can use it as index later\n",
        "#AAC_accidents['ID'] = AAC_accidents.reset_index().index"
      ]
    },
    {
      "cell_type": "code",
      "execution_count": 9,
      "metadata": {
        "id": "GR_K2leTBEQD"
      },
      "outputs": [],
      "source": [
        "# remove some columns\n",
        "AAC_accidents = AAC_accidents.drop(columns=['Search Column\\n\\n', 'Tags Applied', 'COUNT OF TAGS'])"
      ]
    },
    {
      "cell_type": "code",
      "execution_count": 10,
      "metadata": {
        "id": "qDYTXimiN-Mi",
        "colab": {
          "base_uri": "https://localhost:8080/"
        },
        "outputId": "852a04f8-b12b-4cfe-dba8-062bce46f005"
      },
      "outputs": [
        {
          "output_type": "stream",
          "name": "stdout",
          "text": [
            "<class 'pandas.core.frame.DataFrame'>\n",
            "RangeIndex: 2770 entries, 0 to 2769\n",
            "Data columns (total 94 columns):\n",
            " #   Column                           Non-Null Count  Dtype  \n",
            "---  ------                           --------------  -----  \n",
            " 0   ID                               2770 non-null   object \n",
            " 1   Accident Title                   2770 non-null   object \n",
            " 2   Publication Year                 2770 non-null   int64  \n",
            " 3   Text                             2770 non-null   object \n",
            " 4   <15                              2770 non-null   float64\n",
            " 5   15-20                            2770 non-null   float64\n",
            " 6   21-25                            2770 non-null   float64\n",
            " 7   26-30                            2770 non-null   float64\n",
            " 8   31-35                            2770 non-null   float64\n",
            " 9   36-50                            2770 non-null   float64\n",
            " 10  51-75                            2770 non-null   float64\n",
            " 11  >75                              2770 non-null   float64\n",
            " 12  No/Little                        2770 non-null   float64\n",
            " 13  Moderate                         2770 non-null   float64\n",
            " 14  Experienced                      2770 non-null   float64\n",
            " 15  Unknown                          2770 non-null   float64\n",
            " 16  Deadly                           2770 non-null   float64\n",
            " 17  Serious                          2770 non-null   float64\n",
            " 18  Minor                            2770 non-null   float64\n",
            " 19  Head / Brain Injury              2770 non-null   float64\n",
            " 20  Descent                          2770 non-null   float64\n",
            " 21  Roped                            2770 non-null   float64\n",
            " 22  Trad Climbing                    2770 non-null   float64\n",
            " 23  Sport                            2770 non-null   float64\n",
            " 24  Top-Rope                         2770 non-null   float64\n",
            " 25  Aid & Big Wall Climbing          2770 non-null   float64\n",
            " 26  Pendulum                         2770 non-null   float64\n",
            " 27  Unroped                          2770 non-null   float64\n",
            " 28  Solo                             2770 non-null   float64\n",
            " 29  Climbing Alone                   2770 non-null   float64\n",
            " 30  Bouldering                       2770 non-null   float64\n",
            " 31  Non-climbing                     2770 non-null   float64\n",
            " 32  Alpine/Mountaineering            2770 non-null   float64\n",
            " 33  Piton/Ice Screw                  2770 non-null   float64\n",
            " 34  Ascent Illness                   2770 non-null   float64\n",
            " 35  Crampon Issues                   2770 non-null   float64\n",
            " 36  Ice Climbing                     2770 non-null   float64\n",
            " 37  Glissading                       2770 non-null   float64\n",
            " 38  Ski-related                      2770 non-null   float64\n",
            " 39  Poor Position                    2770 non-null   float64\n",
            " 40  Poor Cond/Seasonal Risk          2770 non-null   float64\n",
            " 41  Avalanche                        2770 non-null   float64\n",
            " 42  Cornice / Snow Bridge Collapse   2770 non-null   float64\n",
            " 43  Bergschrund                      2770 non-null   float64\n",
            " 44  Crevasse / Moat / Berschrund     2770 non-null   float64\n",
            " 45  Icefall / Serac / Ice Avalanche  2770 non-null   float64\n",
            " 46  Exposure                         2770 non-null   float64\n",
            " 47  Non-Ascent Illness               2770 non-null   float64\n",
            " 48  Visibility                       2770 non-null   float64\n",
            " 49  Severe Weather                   2770 non-null   float64\n",
            " 50  Wildlife                         2770 non-null   float64\n",
            " 51  Natural Rockfall                 2770 non-null   float64\n",
            " 52  Off-route                        2770 non-null   float64\n",
            " 53  Rushed                           2770 non-null   float64\n",
            " 54  Run Out                          2770 non-null   float64\n",
            " 55  Crowds                           2770 non-null   float64\n",
            " 56  Inadequate Food/Water            2770 non-null   float64\n",
            " 57  No Helmet                        2770 non-null   float64\n",
            " 58  Late in Day                      2770 non-null   float64\n",
            " 59  Late Start                       2770 non-null   float64\n",
            " 60  Party Separated                  2770 non-null   float64\n",
            " 61  Ledge Fall                       2770 non-null   float64\n",
            " 62  Gym / Artificial                 2770 non-null   float64\n",
            " 63  Gym Climber                      2770 non-null   float64\n",
            " 64  Fatigue                          2770 non-null   float64\n",
            " 65  Large Group                      2770 non-null   float64\n",
            " 66  Distracted                       2770 non-null   float64\n",
            " 67  Object Dropped/Dislodged         2770 non-null   float64\n",
            " 68  Handhold/Foothold Broke          2770 non-null   float64\n",
            " 69  Knot & Tie-in Error              2770 non-null   float64\n",
            " 70  No Backup or End Knot            2770 non-null   float64\n",
            " 71  Gear Broke                       2770 non-null   float64\n",
            " 72  Intoxicated                      2770 non-null   float64\n",
            " 73  Inadequate Equipment             2770 non-null   float64\n",
            " 74  Inadequate Protection / Pulled   2770 non-null   float64\n",
            " 75  Anchor Failure / Error           2770 non-null   float64\n",
            " 76  Stranded / Lost / Overdue        2770 non-null   float64\n",
            " 77  Belay Error                      2770 non-null   float64\n",
            " 78  Rappel Error                     2770 non-null   float64\n",
            " 79  Lowering Error                   2770 non-null   float64\n",
            " 80  Miscommunication                 2770 non-null   float64\n",
            " 81  January                          2770 non-null   float64\n",
            " 82  February                         2770 non-null   object \n",
            " 83  March                            2770 non-null   object \n",
            " 84  April                            2770 non-null   object \n",
            " 85  May                              2770 non-null   object \n",
            " 86  June                             2770 non-null   object \n",
            " 87  July                             2770 non-null   object \n",
            " 88  August                           2770 non-null   object \n",
            " 89  September                        2770 non-null   object \n",
            " 90  October                          2770 non-null   object \n",
            " 91  November                         2770 non-null   float64\n",
            " 92  December                         2770 non-null   object \n",
            " 93  Location                         2701 non-null   object \n",
            "dtypes: float64(79), int64(1), object(14)\n",
            "memory usage: 2.0+ MB\n",
            "None\n"
          ]
        }
      ],
      "source": [
        "# look at types of variables\n",
        "print(AAC_accidents.info())"
      ]
    },
    {
      "cell_type": "markdown",
      "source": [
        "# Descriptives"
      ],
      "metadata": {
        "id": "AeWKjZfcnQuN"
      }
    },
    {
      "cell_type": "markdown",
      "source": [
        "## Plotting geo location - total amounts"
      ],
      "metadata": {
        "id": "X9SOrPEULGkk"
      }
    },
    {
      "cell_type": "code",
      "execution_count": 11,
      "metadata": {
        "id": "i9OuSzLTUN2b"
      },
      "outputs": [],
      "source": [
        "# load geographic information to join to the data set\n",
        "geo_location = pd.read_csv(data_path + 'geo_location.csv')\n",
        "geo_location['Location'] = geo_location['name']\n",
        "AAC_accidents_geo = pd.merge(AAC_accidents, geo_location, how = 'left', on = 'Location')"
      ]
    },
    {
      "cell_type": "code",
      "source": [
        "# keep only the relevant columns\n",
        "AAC_accidents_geo_select = AAC_accidents_geo[['Location', 'latitude', 'longitude']]\n",
        "AAC_accidents_geo_select"
      ],
      "metadata": {
        "colab": {
          "base_uri": "https://localhost:8080/",
          "height": 424
        },
        "id": "_GmJv5GxAuMf",
        "outputId": "b90286d3-cc57-4b4f-c669-5ec1b1841bfc"
      },
      "execution_count": 12,
      "outputs": [
        {
          "output_type": "execute_result",
          "data": {
            "text/plain": [
              "              Location   latitude   longitude\n",
              "0             Colorado  39.550051 -105.782067\n",
              "1     British Columbia  53.726669 -127.647621\n",
              "2              Alberta  36.855200  -77.893700\n",
              "3     British Columbia  53.726669 -127.647621\n",
              "4              Alberta  36.855200  -77.893700\n",
              "...                ...        ...         ...\n",
              "2765           Alberta  36.855200  -77.893700\n",
              "2766           Alberta  36.855200  -77.893700\n",
              "2767            Alaska  63.588753 -154.493062\n",
              "2768            Alaska  63.588753 -154.493062\n",
              "2769                          NaN         NaN\n",
              "\n",
              "[2770 rows x 3 columns]"
            ],
            "text/html": [
              "\n",
              "  <div id=\"df-3868da9f-a2f9-431f-ba1f-6c88a1e8afac\">\n",
              "    <div class=\"colab-df-container\">\n",
              "      <div>\n",
              "<style scoped>\n",
              "    .dataframe tbody tr th:only-of-type {\n",
              "        vertical-align: middle;\n",
              "    }\n",
              "\n",
              "    .dataframe tbody tr th {\n",
              "        vertical-align: top;\n",
              "    }\n",
              "\n",
              "    .dataframe thead th {\n",
              "        text-align: right;\n",
              "    }\n",
              "</style>\n",
              "<table border=\"1\" class=\"dataframe\">\n",
              "  <thead>\n",
              "    <tr style=\"text-align: right;\">\n",
              "      <th></th>\n",
              "      <th>Location</th>\n",
              "      <th>latitude</th>\n",
              "      <th>longitude</th>\n",
              "    </tr>\n",
              "  </thead>\n",
              "  <tbody>\n",
              "    <tr>\n",
              "      <th>0</th>\n",
              "      <td>Colorado</td>\n",
              "      <td>39.550051</td>\n",
              "      <td>-105.782067</td>\n",
              "    </tr>\n",
              "    <tr>\n",
              "      <th>1</th>\n",
              "      <td>British Columbia</td>\n",
              "      <td>53.726669</td>\n",
              "      <td>-127.647621</td>\n",
              "    </tr>\n",
              "    <tr>\n",
              "      <th>2</th>\n",
              "      <td>Alberta</td>\n",
              "      <td>36.855200</td>\n",
              "      <td>-77.893700</td>\n",
              "    </tr>\n",
              "    <tr>\n",
              "      <th>3</th>\n",
              "      <td>British Columbia</td>\n",
              "      <td>53.726669</td>\n",
              "      <td>-127.647621</td>\n",
              "    </tr>\n",
              "    <tr>\n",
              "      <th>4</th>\n",
              "      <td>Alberta</td>\n",
              "      <td>36.855200</td>\n",
              "      <td>-77.893700</td>\n",
              "    </tr>\n",
              "    <tr>\n",
              "      <th>...</th>\n",
              "      <td>...</td>\n",
              "      <td>...</td>\n",
              "      <td>...</td>\n",
              "    </tr>\n",
              "    <tr>\n",
              "      <th>2765</th>\n",
              "      <td>Alberta</td>\n",
              "      <td>36.855200</td>\n",
              "      <td>-77.893700</td>\n",
              "    </tr>\n",
              "    <tr>\n",
              "      <th>2766</th>\n",
              "      <td>Alberta</td>\n",
              "      <td>36.855200</td>\n",
              "      <td>-77.893700</td>\n",
              "    </tr>\n",
              "    <tr>\n",
              "      <th>2767</th>\n",
              "      <td>Alaska</td>\n",
              "      <td>63.588753</td>\n",
              "      <td>-154.493062</td>\n",
              "    </tr>\n",
              "    <tr>\n",
              "      <th>2768</th>\n",
              "      <td>Alaska</td>\n",
              "      <td>63.588753</td>\n",
              "      <td>-154.493062</td>\n",
              "    </tr>\n",
              "    <tr>\n",
              "      <th>2769</th>\n",
              "      <td></td>\n",
              "      <td>NaN</td>\n",
              "      <td>NaN</td>\n",
              "    </tr>\n",
              "  </tbody>\n",
              "</table>\n",
              "<p>2770 rows × 3 columns</p>\n",
              "</div>\n",
              "      <button class=\"colab-df-convert\" onclick=\"convertToInteractive('df-3868da9f-a2f9-431f-ba1f-6c88a1e8afac')\"\n",
              "              title=\"Convert this dataframe to an interactive table.\"\n",
              "              style=\"display:none;\">\n",
              "        \n",
              "  <svg xmlns=\"http://www.w3.org/2000/svg\" height=\"24px\"viewBox=\"0 0 24 24\"\n",
              "       width=\"24px\">\n",
              "    <path d=\"M0 0h24v24H0V0z\" fill=\"none\"/>\n",
              "    <path d=\"M18.56 5.44l.94 2.06.94-2.06 2.06-.94-2.06-.94-.94-2.06-.94 2.06-2.06.94zm-11 1L8.5 8.5l.94-2.06 2.06-.94-2.06-.94L8.5 2.5l-.94 2.06-2.06.94zm10 10l.94 2.06.94-2.06 2.06-.94-2.06-.94-.94-2.06-.94 2.06-2.06.94z\"/><path d=\"M17.41 7.96l-1.37-1.37c-.4-.4-.92-.59-1.43-.59-.52 0-1.04.2-1.43.59L10.3 9.45l-7.72 7.72c-.78.78-.78 2.05 0 2.83L4 21.41c.39.39.9.59 1.41.59.51 0 1.02-.2 1.41-.59l7.78-7.78 2.81-2.81c.8-.78.8-2.07 0-2.86zM5.41 20L4 18.59l7.72-7.72 1.47 1.35L5.41 20z\"/>\n",
              "  </svg>\n",
              "      </button>\n",
              "      \n",
              "  <style>\n",
              "    .colab-df-container {\n",
              "      display:flex;\n",
              "      flex-wrap:wrap;\n",
              "      gap: 12px;\n",
              "    }\n",
              "\n",
              "    .colab-df-convert {\n",
              "      background-color: #E8F0FE;\n",
              "      border: none;\n",
              "      border-radius: 50%;\n",
              "      cursor: pointer;\n",
              "      display: none;\n",
              "      fill: #1967D2;\n",
              "      height: 32px;\n",
              "      padding: 0 0 0 0;\n",
              "      width: 32px;\n",
              "    }\n",
              "\n",
              "    .colab-df-convert:hover {\n",
              "      background-color: #E2EBFA;\n",
              "      box-shadow: 0px 1px 2px rgba(60, 64, 67, 0.3), 0px 1px 3px 1px rgba(60, 64, 67, 0.15);\n",
              "      fill: #174EA6;\n",
              "    }\n",
              "\n",
              "    [theme=dark] .colab-df-convert {\n",
              "      background-color: #3B4455;\n",
              "      fill: #D2E3FC;\n",
              "    }\n",
              "\n",
              "    [theme=dark] .colab-df-convert:hover {\n",
              "      background-color: #434B5C;\n",
              "      box-shadow: 0px 1px 3px 1px rgba(0, 0, 0, 0.15);\n",
              "      filter: drop-shadow(0px 1px 2px rgba(0, 0, 0, 0.3));\n",
              "      fill: #FFFFFF;\n",
              "    }\n",
              "  </style>\n",
              "\n",
              "      <script>\n",
              "        const buttonEl =\n",
              "          document.querySelector('#df-3868da9f-a2f9-431f-ba1f-6c88a1e8afac button.colab-df-convert');\n",
              "        buttonEl.style.display =\n",
              "          google.colab.kernel.accessAllowed ? 'block' : 'none';\n",
              "\n",
              "        async function convertToInteractive(key) {\n",
              "          const element = document.querySelector('#df-3868da9f-a2f9-431f-ba1f-6c88a1e8afac');\n",
              "          const dataTable =\n",
              "            await google.colab.kernel.invokeFunction('convertToInteractive',\n",
              "                                                     [key], {});\n",
              "          if (!dataTable) return;\n",
              "\n",
              "          const docLinkHtml = 'Like what you see? Visit the ' +\n",
              "            '<a target=\"_blank\" href=https://colab.research.google.com/notebooks/data_table.ipynb>data table notebook</a>'\n",
              "            + ' to learn more about interactive tables.';\n",
              "          element.innerHTML = '';\n",
              "          dataTable['output_type'] = 'display_data';\n",
              "          await google.colab.output.renderOutput(dataTable, element);\n",
              "          const docLink = document.createElement('div');\n",
              "          docLink.innerHTML = docLinkHtml;\n",
              "          element.appendChild(docLink);\n",
              "        }\n",
              "      </script>\n",
              "    </div>\n",
              "  </div>\n",
              "  "
            ]
          },
          "metadata": {},
          "execution_count": 12
        }
      ]
    },
    {
      "cell_type": "code",
      "source": [
        "# give each observation a value such that they can be summed up with pivot_table \n",
        "AAC_accidents_geo_select['amount'] = '1'"
      ],
      "metadata": {
        "colab": {
          "base_uri": "https://localhost:8080/"
        },
        "id": "itQOP5WIExDZ",
        "outputId": "009bcb93-5cde-4b92-d43e-d5222b7e8106"
      },
      "execution_count": 13,
      "outputs": [
        {
          "output_type": "stream",
          "name": "stderr",
          "text": [
            "/usr/local/lib/python3.7/dist-packages/ipykernel_launcher.py:2: SettingWithCopyWarning: \n",
            "A value is trying to be set on a copy of a slice from a DataFrame.\n",
            "Try using .loc[row_indexer,col_indexer] = value instead\n",
            "\n",
            "See the caveats in the documentation: https://pandas.pydata.org/pandas-docs/stable/user_guide/indexing.html#returning-a-view-versus-a-copy\n",
            "  \n"
          ]
        }
      ]
    },
    {
      "cell_type": "code",
      "source": [
        "# use pivot_table to reshape long data into wide data: 1 row per location\n",
        "AAC_accidents_geo_amount = AAC_accidents_geo_select.pivot_table(index=['Location', 'latitude', 'longitude'], \n",
        "                       values='amount', \n",
        "                       aggfunc='count', fill_value=0)"
      ],
      "metadata": {
        "id": "3rDDLeuGBWyK"
      },
      "execution_count": 14,
      "outputs": []
    },
    {
      "cell_type": "code",
      "source": [
        "# remove index from columns such that they can be plotted\n",
        "AAC_accidents_geo = AAC_accidents_geo_amount.rename_axis(['Location', 'latitude', 'longitude']).reset_index()"
      ],
      "metadata": {
        "id": "mb7NONEHBf24"
      },
      "execution_count": 15,
      "outputs": []
    },
    {
      "cell_type": "markdown",
      "source": [
        "## Figure 1"
      ],
      "metadata": {
        "id": "N0VvSodq7JLq"
      }
    },
    {
      "cell_type": "code",
      "source": [
        "!pip install kaleido"
      ],
      "metadata": {
        "colab": {
          "base_uri": "https://localhost:8080/"
        },
        "id": "bYVyAXILtd6z",
        "outputId": "bc50473d-2f36-4070-9efa-ab852658d690"
      },
      "execution_count": 16,
      "outputs": [
        {
          "output_type": "stream",
          "name": "stdout",
          "text": [
            "Looking in indexes: https://pypi.org/simple, https://us-python.pkg.dev/colab-wheels/public/simple/\n",
            "Collecting kaleido\n",
            "  Downloading kaleido-0.2.1-py2.py3-none-manylinux1_x86_64.whl (79.9 MB)\n",
            "\u001b[K     |████████████████████████████████| 79.9 MB 125 kB/s \n",
            "\u001b[?25hInstalling collected packages: kaleido\n",
            "Successfully installed kaleido-0.2.1\n"
          ]
        }
      ]
    },
    {
      "cell_type": "code",
      "source": [
        "import kaleido "
      ],
      "metadata": {
        "id": "_h9aNL4pubJ5"
      },
      "execution_count": 17,
      "outputs": []
    },
    {
      "cell_type": "code",
      "source": [
        "import plotly\n",
        "import plotly.express as px\n",
        "#import chart_studio.plotly as py"
      ],
      "metadata": {
        "id": "VMT7-nR1vIp3"
      },
      "execution_count": 18,
      "outputs": []
    },
    {
      "cell_type": "code",
      "source": [
        "fig = go.Figure(data = go.Scattergeo(\n",
        "        #locationmode = 'USA-states',\n",
        "        lon = AAC_accidents_geo['longitude'],\n",
        "        lat = AAC_accidents_geo['latitude'],\n",
        "        text = AAC_accidents_geo[['Location', 'amount']],\n",
        "        marker = dict(\n",
        "            size = AAC_accidents_geo['amount'],\n",
        "            color = AAC_accidents_geo['amount'],\n",
        "                colorscale ='viridis',\n",
        "                showscale = True,\n",
        "            line_color='white',\n",
        "            line_width=0.5,\n",
        "            sizemode = 'area'\n",
        "        )))\n",
        "\n",
        "fig.update_layout(\n",
        "        title_text = 'Number of accidents per location',\n",
        "        showlegend = False,\n",
        "        geo = dict(\n",
        "            scope = 'north america',\n",
        "            landcolor = 'rgb(217, 217, 217)',\n",
        "        )\n",
        "    )\n",
        "\n",
        "fig.show()\n",
        "\n",
        "# save figure as html\n",
        "#fig.write_html(\"/content/drive/MyDrive/My_project/location.html\")"
      ],
      "metadata": {
        "colab": {
          "base_uri": "https://localhost:8080/",
          "height": 542
        },
        "id": "V_Z946inGnWm",
        "outputId": "c16ea1ee-08f0-4f4d-c1fe-7b88318cbaa3"
      },
      "execution_count": 19,
      "outputs": [
        {
          "output_type": "display_data",
          "data": {
            "text/html": [
              "<html>\n",
              "<head><meta charset=\"utf-8\" /></head>\n",
              "<body>\n",
              "    <div>            <script src=\"https://cdnjs.cloudflare.com/ajax/libs/mathjax/2.7.5/MathJax.js?config=TeX-AMS-MML_SVG\"></script><script type=\"text/javascript\">if (window.MathJax) {MathJax.Hub.Config({SVG: {font: \"STIX-Web\"}});}</script>                <script type=\"text/javascript\">window.PlotlyConfig = {MathJaxConfig: 'local'};</script>\n",
              "        <script src=\"https://cdn.plot.ly/plotly-2.8.3.min.js\"></script>                <div id=\"911f9fc5-72bb-4505-8a9e-76d9a772348c\" class=\"plotly-graph-div\" style=\"height:525px; width:100%;\"></div>            <script type=\"text/javascript\">                                    window.PLOTLYENV=window.PLOTLYENV || {};                                    if (document.getElementById(\"911f9fc5-72bb-4505-8a9e-76d9a772348c\")) {                    Plotly.newPlot(                        \"911f9fc5-72bb-4505-8a9e-76d9a772348c\",                        [{\"lat\":[32.318231,63.588753,36.8552,34.048928,35.20105,53.726669,38.2969,39.550051,41.603221,38.910832,32.157435,44.068202,40.633125,41.878003,39.011902,37.839333,45.253783,39.045755,42.407211,44.314844,46.729553,37.964253,46.879682,41.492537,38.80261,-66.159668,43.193852,34.97273,43.299428,35.759573,-63.0,70.453262,35.007752,34.0393,43.804133,41.203322,43.969515,35.517491,31.968599,39.32098,44.558803,37.431573,47.751074,43.78444,43.075968,35.5201],\"lon\":[-86.902298,-154.493062,-77.8937,-111.093731,-91.831833,-127.647621,-76.4949,-105.782067,-73.087749,-75.52767,-82.907123,-114.742041,-89.398528,-93.097702,-98.484246,-84.270018,-69.445469,-76.641271,-71.382437,-85.602364,-94.6859,-91.831833,-110.362566,-99.901813,-116.419389,46.49839,-71.572395,-105.032363,-74.217933,-79.0193,45.0,-86.798981,-97.092877,-117.6064,-120.554201,-77.194525,-99.901813,-86.580447,-99.901813,-111.093731,-72.577841,-78.656894,-120.740139,-88.787868,-107.290284,-97.7639],\"marker\":{\"color\":[1,309,311,38,5,113,422,366,7,10,3,38,6,1,1,35,12,2,4,2,5,4,16,1,23,1,105,15,52,78,2,1,1,10,142,6,3,8,5,79,6,48,213,13,155,7],\"colorscale\":[[0.0,\"#440154\"],[0.1111111111111111,\"#482878\"],[0.2222222222222222,\"#3e4989\"],[0.3333333333333333,\"#31688e\"],[0.4444444444444444,\"#26828e\"],[0.5555555555555556,\"#1f9e89\"],[0.6666666666666666,\"#35b779\"],[0.7777777777777778,\"#6ece58\"],[0.8888888888888888,\"#b5de2b\"],[1.0,\"#fde725\"]],\"line\":{\"color\":\"white\",\"width\":0.5},\"showscale\":true,\"size\":[1,309,311,38,5,113,422,366,7,10,3,38,6,1,1,35,12,2,4,2,5,4,16,1,23,1,105,15,52,78,2,1,1,10,142,6,3,8,5,79,6,48,213,13,155,7],\"sizemode\":\"area\"},\"text\":[[\"Alabama\",1],[\"Alaska\",309],[\"Alberta\",311],[\"Arizona\",38],[\"Arkansas\",5],[\"British Columbia\",113],[\"California\",422],[\"Colorado\",366],[\"Connecticut\",7],[\"Delaware\",10],[\"Georgia\",3],[\"Idaho\",38],[\"Illinois\",6],[\"Iowa\",1],[\"Kansas\",1],[\"Kentucky\",35],[\"Maine\",12],[\"Maryland\",2],[\"Massachusetts\",4],[\"Michigan\",2],[\"Minnesota\",5],[\"Missouri\",4],[\"Montana\",16],[\"Nebraska\",1],[\"Nevada\",23],[\"New Brunswick\",1],[\"New Hampshire\",105],[\"New Mexico\",15],[\"New York\",52],[\"North Carolina\",78],[\"Nova Scotia\",2],[\"Nunavut\",1],[\"Oklahoma\",1],[\"Ontario\",10],[\"Oregon\",142],[\"Pennsylvania\",6],[\"South Dakota\",3],[\"Tennessee\",8],[\"Texas\",5],[\"Utah\",79],[\"Vermont\",6],[\"Virginia\",48],[\"Washington\",213],[\"Wisconsin\",13],[\"Wyoming\",155],[\"Yukon\",7]],\"type\":\"scattergeo\"}],                        {\"template\":{\"data\":{\"bar\":[{\"error_x\":{\"color\":\"#2a3f5f\"},\"error_y\":{\"color\":\"#2a3f5f\"},\"marker\":{\"line\":{\"color\":\"#E5ECF6\",\"width\":0.5},\"pattern\":{\"fillmode\":\"overlay\",\"size\":10,\"solidity\":0.2}},\"type\":\"bar\"}],\"barpolar\":[{\"marker\":{\"line\":{\"color\":\"#E5ECF6\",\"width\":0.5},\"pattern\":{\"fillmode\":\"overlay\",\"size\":10,\"solidity\":0.2}},\"type\":\"barpolar\"}],\"carpet\":[{\"aaxis\":{\"endlinecolor\":\"#2a3f5f\",\"gridcolor\":\"white\",\"linecolor\":\"white\",\"minorgridcolor\":\"white\",\"startlinecolor\":\"#2a3f5f\"},\"baxis\":{\"endlinecolor\":\"#2a3f5f\",\"gridcolor\":\"white\",\"linecolor\":\"white\",\"minorgridcolor\":\"white\",\"startlinecolor\":\"#2a3f5f\"},\"type\":\"carpet\"}],\"choropleth\":[{\"colorbar\":{\"outlinewidth\":0,\"ticks\":\"\"},\"type\":\"choropleth\"}],\"contour\":[{\"colorbar\":{\"outlinewidth\":0,\"ticks\":\"\"},\"colorscale\":[[0.0,\"#0d0887\"],[0.1111111111111111,\"#46039f\"],[0.2222222222222222,\"#7201a8\"],[0.3333333333333333,\"#9c179e\"],[0.4444444444444444,\"#bd3786\"],[0.5555555555555556,\"#d8576b\"],[0.6666666666666666,\"#ed7953\"],[0.7777777777777778,\"#fb9f3a\"],[0.8888888888888888,\"#fdca26\"],[1.0,\"#f0f921\"]],\"type\":\"contour\"}],\"contourcarpet\":[{\"colorbar\":{\"outlinewidth\":0,\"ticks\":\"\"},\"type\":\"contourcarpet\"}],\"heatmap\":[{\"colorbar\":{\"outlinewidth\":0,\"ticks\":\"\"},\"colorscale\":[[0.0,\"#0d0887\"],[0.1111111111111111,\"#46039f\"],[0.2222222222222222,\"#7201a8\"],[0.3333333333333333,\"#9c179e\"],[0.4444444444444444,\"#bd3786\"],[0.5555555555555556,\"#d8576b\"],[0.6666666666666666,\"#ed7953\"],[0.7777777777777778,\"#fb9f3a\"],[0.8888888888888888,\"#fdca26\"],[1.0,\"#f0f921\"]],\"type\":\"heatmap\"}],\"heatmapgl\":[{\"colorbar\":{\"outlinewidth\":0,\"ticks\":\"\"},\"colorscale\":[[0.0,\"#0d0887\"],[0.1111111111111111,\"#46039f\"],[0.2222222222222222,\"#7201a8\"],[0.3333333333333333,\"#9c179e\"],[0.4444444444444444,\"#bd3786\"],[0.5555555555555556,\"#d8576b\"],[0.6666666666666666,\"#ed7953\"],[0.7777777777777778,\"#fb9f3a\"],[0.8888888888888888,\"#fdca26\"],[1.0,\"#f0f921\"]],\"type\":\"heatmapgl\"}],\"histogram\":[{\"marker\":{\"pattern\":{\"fillmode\":\"overlay\",\"size\":10,\"solidity\":0.2}},\"type\":\"histogram\"}],\"histogram2d\":[{\"colorbar\":{\"outlinewidth\":0,\"ticks\":\"\"},\"colorscale\":[[0.0,\"#0d0887\"],[0.1111111111111111,\"#46039f\"],[0.2222222222222222,\"#7201a8\"],[0.3333333333333333,\"#9c179e\"],[0.4444444444444444,\"#bd3786\"],[0.5555555555555556,\"#d8576b\"],[0.6666666666666666,\"#ed7953\"],[0.7777777777777778,\"#fb9f3a\"],[0.8888888888888888,\"#fdca26\"],[1.0,\"#f0f921\"]],\"type\":\"histogram2d\"}],\"histogram2dcontour\":[{\"colorbar\":{\"outlinewidth\":0,\"ticks\":\"\"},\"colorscale\":[[0.0,\"#0d0887\"],[0.1111111111111111,\"#46039f\"],[0.2222222222222222,\"#7201a8\"],[0.3333333333333333,\"#9c179e\"],[0.4444444444444444,\"#bd3786\"],[0.5555555555555556,\"#d8576b\"],[0.6666666666666666,\"#ed7953\"],[0.7777777777777778,\"#fb9f3a\"],[0.8888888888888888,\"#fdca26\"],[1.0,\"#f0f921\"]],\"type\":\"histogram2dcontour\"}],\"mesh3d\":[{\"colorbar\":{\"outlinewidth\":0,\"ticks\":\"\"},\"type\":\"mesh3d\"}],\"parcoords\":[{\"line\":{\"colorbar\":{\"outlinewidth\":0,\"ticks\":\"\"}},\"type\":\"parcoords\"}],\"pie\":[{\"automargin\":true,\"type\":\"pie\"}],\"scatter\":[{\"marker\":{\"colorbar\":{\"outlinewidth\":0,\"ticks\":\"\"}},\"type\":\"scatter\"}],\"scatter3d\":[{\"line\":{\"colorbar\":{\"outlinewidth\":0,\"ticks\":\"\"}},\"marker\":{\"colorbar\":{\"outlinewidth\":0,\"ticks\":\"\"}},\"type\":\"scatter3d\"}],\"scattercarpet\":[{\"marker\":{\"colorbar\":{\"outlinewidth\":0,\"ticks\":\"\"}},\"type\":\"scattercarpet\"}],\"scattergeo\":[{\"marker\":{\"colorbar\":{\"outlinewidth\":0,\"ticks\":\"\"}},\"type\":\"scattergeo\"}],\"scattergl\":[{\"marker\":{\"colorbar\":{\"outlinewidth\":0,\"ticks\":\"\"}},\"type\":\"scattergl\"}],\"scattermapbox\":[{\"marker\":{\"colorbar\":{\"outlinewidth\":0,\"ticks\":\"\"}},\"type\":\"scattermapbox\"}],\"scatterpolar\":[{\"marker\":{\"colorbar\":{\"outlinewidth\":0,\"ticks\":\"\"}},\"type\":\"scatterpolar\"}],\"scatterpolargl\":[{\"marker\":{\"colorbar\":{\"outlinewidth\":0,\"ticks\":\"\"}},\"type\":\"scatterpolargl\"}],\"scatterternary\":[{\"marker\":{\"colorbar\":{\"outlinewidth\":0,\"ticks\":\"\"}},\"type\":\"scatterternary\"}],\"surface\":[{\"colorbar\":{\"outlinewidth\":0,\"ticks\":\"\"},\"colorscale\":[[0.0,\"#0d0887\"],[0.1111111111111111,\"#46039f\"],[0.2222222222222222,\"#7201a8\"],[0.3333333333333333,\"#9c179e\"],[0.4444444444444444,\"#bd3786\"],[0.5555555555555556,\"#d8576b\"],[0.6666666666666666,\"#ed7953\"],[0.7777777777777778,\"#fb9f3a\"],[0.8888888888888888,\"#fdca26\"],[1.0,\"#f0f921\"]],\"type\":\"surface\"}],\"table\":[{\"cells\":{\"fill\":{\"color\":\"#EBF0F8\"},\"line\":{\"color\":\"white\"}},\"header\":{\"fill\":{\"color\":\"#C8D4E3\"},\"line\":{\"color\":\"white\"}},\"type\":\"table\"}]},\"layout\":{\"annotationdefaults\":{\"arrowcolor\":\"#2a3f5f\",\"arrowhead\":0,\"arrowwidth\":1},\"autotypenumbers\":\"strict\",\"coloraxis\":{\"colorbar\":{\"outlinewidth\":0,\"ticks\":\"\"}},\"colorscale\":{\"diverging\":[[0,\"#8e0152\"],[0.1,\"#c51b7d\"],[0.2,\"#de77ae\"],[0.3,\"#f1b6da\"],[0.4,\"#fde0ef\"],[0.5,\"#f7f7f7\"],[0.6,\"#e6f5d0\"],[0.7,\"#b8e186\"],[0.8,\"#7fbc41\"],[0.9,\"#4d9221\"],[1,\"#276419\"]],\"sequential\":[[0.0,\"#0d0887\"],[0.1111111111111111,\"#46039f\"],[0.2222222222222222,\"#7201a8\"],[0.3333333333333333,\"#9c179e\"],[0.4444444444444444,\"#bd3786\"],[0.5555555555555556,\"#d8576b\"],[0.6666666666666666,\"#ed7953\"],[0.7777777777777778,\"#fb9f3a\"],[0.8888888888888888,\"#fdca26\"],[1.0,\"#f0f921\"]],\"sequentialminus\":[[0.0,\"#0d0887\"],[0.1111111111111111,\"#46039f\"],[0.2222222222222222,\"#7201a8\"],[0.3333333333333333,\"#9c179e\"],[0.4444444444444444,\"#bd3786\"],[0.5555555555555556,\"#d8576b\"],[0.6666666666666666,\"#ed7953\"],[0.7777777777777778,\"#fb9f3a\"],[0.8888888888888888,\"#fdca26\"],[1.0,\"#f0f921\"]]},\"colorway\":[\"#636efa\",\"#EF553B\",\"#00cc96\",\"#ab63fa\",\"#FFA15A\",\"#19d3f3\",\"#FF6692\",\"#B6E880\",\"#FF97FF\",\"#FECB52\"],\"font\":{\"color\":\"#2a3f5f\"},\"geo\":{\"bgcolor\":\"white\",\"lakecolor\":\"white\",\"landcolor\":\"#E5ECF6\",\"showlakes\":true,\"showland\":true,\"subunitcolor\":\"white\"},\"hoverlabel\":{\"align\":\"left\"},\"hovermode\":\"closest\",\"mapbox\":{\"style\":\"light\"},\"paper_bgcolor\":\"white\",\"plot_bgcolor\":\"#E5ECF6\",\"polar\":{\"angularaxis\":{\"gridcolor\":\"white\",\"linecolor\":\"white\",\"ticks\":\"\"},\"bgcolor\":\"#E5ECF6\",\"radialaxis\":{\"gridcolor\":\"white\",\"linecolor\":\"white\",\"ticks\":\"\"}},\"scene\":{\"xaxis\":{\"backgroundcolor\":\"#E5ECF6\",\"gridcolor\":\"white\",\"gridwidth\":2,\"linecolor\":\"white\",\"showbackground\":true,\"ticks\":\"\",\"zerolinecolor\":\"white\"},\"yaxis\":{\"backgroundcolor\":\"#E5ECF6\",\"gridcolor\":\"white\",\"gridwidth\":2,\"linecolor\":\"white\",\"showbackground\":true,\"ticks\":\"\",\"zerolinecolor\":\"white\"},\"zaxis\":{\"backgroundcolor\":\"#E5ECF6\",\"gridcolor\":\"white\",\"gridwidth\":2,\"linecolor\":\"white\",\"showbackground\":true,\"ticks\":\"\",\"zerolinecolor\":\"white\"}},\"shapedefaults\":{\"line\":{\"color\":\"#2a3f5f\"}},\"ternary\":{\"aaxis\":{\"gridcolor\":\"white\",\"linecolor\":\"white\",\"ticks\":\"\"},\"baxis\":{\"gridcolor\":\"white\",\"linecolor\":\"white\",\"ticks\":\"\"},\"bgcolor\":\"#E5ECF6\",\"caxis\":{\"gridcolor\":\"white\",\"linecolor\":\"white\",\"ticks\":\"\"}},\"title\":{\"x\":0.05},\"xaxis\":{\"automargin\":true,\"gridcolor\":\"white\",\"linecolor\":\"white\",\"ticks\":\"\",\"title\":{\"standoff\":15},\"zerolinecolor\":\"white\",\"zerolinewidth\":2},\"yaxis\":{\"automargin\":true,\"gridcolor\":\"white\",\"linecolor\":\"white\",\"ticks\":\"\",\"title\":{\"standoff\":15},\"zerolinecolor\":\"white\",\"zerolinewidth\":2}}},\"title\":{\"text\":\"Number of accidents per location\"},\"geo\":{\"scope\":\"north america\",\"landcolor\":\"rgb(217, 217, 217)\"},\"showlegend\":false},                        {\"responsive\": true}                    ).then(function(){\n",
              "                            \n",
              "var gd = document.getElementById('911f9fc5-72bb-4505-8a9e-76d9a772348c');\n",
              "var x = new MutationObserver(function (mutations, observer) {{\n",
              "        var display = window.getComputedStyle(gd).display;\n",
              "        if (!display || display === 'none') {{\n",
              "            console.log([gd, 'removed!']);\n",
              "            Plotly.purge(gd);\n",
              "            observer.disconnect();\n",
              "        }}\n",
              "}});\n",
              "\n",
              "// Listen for the removal of the full notebook cells\n",
              "var notebookContainer = gd.closest('#notebook-container');\n",
              "if (notebookContainer) {{\n",
              "    x.observe(notebookContainer, {childList: true});\n",
              "}}\n",
              "\n",
              "// Listen for the clearing of the current output cell\n",
              "var outputEl = gd.closest('.output');\n",
              "if (outputEl) {{\n",
              "    x.observe(outputEl, {childList: true});\n",
              "}}\n",
              "\n",
              "                        })                };                            </script>        </div>\n",
              "</body>\n",
              "</html>"
            ]
          },
          "metadata": {}
        }
      ]
    },
    {
      "cell_type": "markdown",
      "metadata": {
        "id": "lBGJ3u_Z1KSt"
      },
      "source": [
        "# Recode categorical variables\n",
        "\n",
        "In this section I am recoding the variables in the dataframe using the 'melt' function. This turns a wide dataframe into a long dataframe. More concretely, I am creating factor variables with different levels from a set of columns in the dataframe that each represent 1 particular level of the category. "
      ]
    },
    {
      "cell_type": "markdown",
      "source": [
        "## Seriousness of accident\n",
        "\n",
        "I am only selecting accidents tagged as deadly, serious, and minor. The tag 'Head/Brain injury' overlaps with, for instance, the tag 'serious\". "
      ],
      "metadata": {
        "id": "VLT4h_wAzv2N"
      }
    },
    {
      "cell_type": "code",
      "source": [
        "# seriousness of accident\n",
        "melt_serious = AAC_accidents.melt(id_vars=['ID', 'Accident Title'],\n",
        "                              value_vars=['Deadly', 'Serious', 'Minor'],\n",
        "       var_name = 'Seriousness')\n",
        "\n",
        "melt_serious = melt_serious.loc[(melt_serious['value'] != 0)] #remove rows with no observations\n",
        "\n",
        "melt_serious = melt_serious.drop('value', 1) #drop the value column\n",
        "\n",
        "melt_serious #view df"
      ],
      "metadata": {
        "id": "43cUo5I4yHud",
        "colab": {
          "base_uri": "https://localhost:8080/",
          "height": 493
        },
        "outputId": "b741a1a8-1c3c-4b2a-9959-fcfc1873b4e5"
      },
      "execution_count": 20,
      "outputs": [
        {
          "output_type": "stream",
          "name": "stderr",
          "text": [
            "/usr/local/lib/python3.7/dist-packages/ipykernel_launcher.py:8: FutureWarning:\n",
            "\n",
            "In a future version of pandas all arguments of DataFrame.drop except for the argument 'labels' will be keyword-only\n",
            "\n"
          ]
        },
        {
          "output_type": "execute_result",
          "data": {
            "text/plain": [
              "         ID                                     Accident Title Seriousness\n",
              "4         5  Fall Into Crevasse, Unroped, Inadequate Equipm...      Deadly\n",
              "5         6  Fall into Moat, Descending Unroped, Poor Posit...      Deadly\n",
              "11       12  Fall on Rock, Climbing Solo, No Hard Hat, Inex...      Deadly\n",
              "12       13  Fall on Rock, Climbing Solo, No Hard Hat, Queb...      Deadly\n",
              "19       20  Fall on Snow, Inadequate Equipment, California...      Deadly\n",
              "...     ...                                                ...         ...\n",
              "8275   619t  Fall on Ice, Inadequate Protection, Montana, H...       Minor\n",
              "8277   660a  Stranded, Inexperience, Inadequate Equipment, ...       Minor\n",
              "8288   744a  Faulty Use of Crampons—Glissading, New Hampshi...       Minor\n",
              "8290   750t  Stranded, Failure to Follow Route, Climbing Al...       Minor\n",
              "8309  997tt  Stranded — Did Not Check Fixed Ropes, Dehydrat...       Minor\n",
              "\n",
              "[2704 rows x 3 columns]"
            ],
            "text/html": [
              "\n",
              "  <div id=\"df-e3487696-cde8-4379-8a3b-a5c5b762e61a\">\n",
              "    <div class=\"colab-df-container\">\n",
              "      <div>\n",
              "<style scoped>\n",
              "    .dataframe tbody tr th:only-of-type {\n",
              "        vertical-align: middle;\n",
              "    }\n",
              "\n",
              "    .dataframe tbody tr th {\n",
              "        vertical-align: top;\n",
              "    }\n",
              "\n",
              "    .dataframe thead th {\n",
              "        text-align: right;\n",
              "    }\n",
              "</style>\n",
              "<table border=\"1\" class=\"dataframe\">\n",
              "  <thead>\n",
              "    <tr style=\"text-align: right;\">\n",
              "      <th></th>\n",
              "      <th>ID</th>\n",
              "      <th>Accident Title</th>\n",
              "      <th>Seriousness</th>\n",
              "    </tr>\n",
              "  </thead>\n",
              "  <tbody>\n",
              "    <tr>\n",
              "      <th>4</th>\n",
              "      <td>5</td>\n",
              "      <td>Fall Into Crevasse, Unroped, Inadequate Equipm...</td>\n",
              "      <td>Deadly</td>\n",
              "    </tr>\n",
              "    <tr>\n",
              "      <th>5</th>\n",
              "      <td>6</td>\n",
              "      <td>Fall into Moat, Descending Unroped, Poor Posit...</td>\n",
              "      <td>Deadly</td>\n",
              "    </tr>\n",
              "    <tr>\n",
              "      <th>11</th>\n",
              "      <td>12</td>\n",
              "      <td>Fall on Rock, Climbing Solo, No Hard Hat, Inex...</td>\n",
              "      <td>Deadly</td>\n",
              "    </tr>\n",
              "    <tr>\n",
              "      <th>12</th>\n",
              "      <td>13</td>\n",
              "      <td>Fall on Rock, Climbing Solo, No Hard Hat, Queb...</td>\n",
              "      <td>Deadly</td>\n",
              "    </tr>\n",
              "    <tr>\n",
              "      <th>19</th>\n",
              "      <td>20</td>\n",
              "      <td>Fall on Snow, Inadequate Equipment, California...</td>\n",
              "      <td>Deadly</td>\n",
              "    </tr>\n",
              "    <tr>\n",
              "      <th>...</th>\n",
              "      <td>...</td>\n",
              "      <td>...</td>\n",
              "      <td>...</td>\n",
              "    </tr>\n",
              "    <tr>\n",
              "      <th>8275</th>\n",
              "      <td>619t</td>\n",
              "      <td>Fall on Ice, Inadequate Protection, Montana, H...</td>\n",
              "      <td>Minor</td>\n",
              "    </tr>\n",
              "    <tr>\n",
              "      <th>8277</th>\n",
              "      <td>660a</td>\n",
              "      <td>Stranded, Inexperience, Inadequate Equipment, ...</td>\n",
              "      <td>Minor</td>\n",
              "    </tr>\n",
              "    <tr>\n",
              "      <th>8288</th>\n",
              "      <td>744a</td>\n",
              "      <td>Faulty Use of Crampons—Glissading, New Hampshi...</td>\n",
              "      <td>Minor</td>\n",
              "    </tr>\n",
              "    <tr>\n",
              "      <th>8290</th>\n",
              "      <td>750t</td>\n",
              "      <td>Stranded, Failure to Follow Route, Climbing Al...</td>\n",
              "      <td>Minor</td>\n",
              "    </tr>\n",
              "    <tr>\n",
              "      <th>8309</th>\n",
              "      <td>997tt</td>\n",
              "      <td>Stranded — Did Not Check Fixed Ropes, Dehydrat...</td>\n",
              "      <td>Minor</td>\n",
              "    </tr>\n",
              "  </tbody>\n",
              "</table>\n",
              "<p>2704 rows × 3 columns</p>\n",
              "</div>\n",
              "      <button class=\"colab-df-convert\" onclick=\"convertToInteractive('df-e3487696-cde8-4379-8a3b-a5c5b762e61a')\"\n",
              "              title=\"Convert this dataframe to an interactive table.\"\n",
              "              style=\"display:none;\">\n",
              "        \n",
              "  <svg xmlns=\"http://www.w3.org/2000/svg\" height=\"24px\"viewBox=\"0 0 24 24\"\n",
              "       width=\"24px\">\n",
              "    <path d=\"M0 0h24v24H0V0z\" fill=\"none\"/>\n",
              "    <path d=\"M18.56 5.44l.94 2.06.94-2.06 2.06-.94-2.06-.94-.94-2.06-.94 2.06-2.06.94zm-11 1L8.5 8.5l.94-2.06 2.06-.94-2.06-.94L8.5 2.5l-.94 2.06-2.06.94zm10 10l.94 2.06.94-2.06 2.06-.94-2.06-.94-.94-2.06-.94 2.06-2.06.94z\"/><path d=\"M17.41 7.96l-1.37-1.37c-.4-.4-.92-.59-1.43-.59-.52 0-1.04.2-1.43.59L10.3 9.45l-7.72 7.72c-.78.78-.78 2.05 0 2.83L4 21.41c.39.39.9.59 1.41.59.51 0 1.02-.2 1.41-.59l7.78-7.78 2.81-2.81c.8-.78.8-2.07 0-2.86zM5.41 20L4 18.59l7.72-7.72 1.47 1.35L5.41 20z\"/>\n",
              "  </svg>\n",
              "      </button>\n",
              "      \n",
              "  <style>\n",
              "    .colab-df-container {\n",
              "      display:flex;\n",
              "      flex-wrap:wrap;\n",
              "      gap: 12px;\n",
              "    }\n",
              "\n",
              "    .colab-df-convert {\n",
              "      background-color: #E8F0FE;\n",
              "      border: none;\n",
              "      border-radius: 50%;\n",
              "      cursor: pointer;\n",
              "      display: none;\n",
              "      fill: #1967D2;\n",
              "      height: 32px;\n",
              "      padding: 0 0 0 0;\n",
              "      width: 32px;\n",
              "    }\n",
              "\n",
              "    .colab-df-convert:hover {\n",
              "      background-color: #E2EBFA;\n",
              "      box-shadow: 0px 1px 2px rgba(60, 64, 67, 0.3), 0px 1px 3px 1px rgba(60, 64, 67, 0.15);\n",
              "      fill: #174EA6;\n",
              "    }\n",
              "\n",
              "    [theme=dark] .colab-df-convert {\n",
              "      background-color: #3B4455;\n",
              "      fill: #D2E3FC;\n",
              "    }\n",
              "\n",
              "    [theme=dark] .colab-df-convert:hover {\n",
              "      background-color: #434B5C;\n",
              "      box-shadow: 0px 1px 3px 1px rgba(0, 0, 0, 0.15);\n",
              "      filter: drop-shadow(0px 1px 2px rgba(0, 0, 0, 0.3));\n",
              "      fill: #FFFFFF;\n",
              "    }\n",
              "  </style>\n",
              "\n",
              "      <script>\n",
              "        const buttonEl =\n",
              "          document.querySelector('#df-e3487696-cde8-4379-8a3b-a5c5b762e61a button.colab-df-convert');\n",
              "        buttonEl.style.display =\n",
              "          google.colab.kernel.accessAllowed ? 'block' : 'none';\n",
              "\n",
              "        async function convertToInteractive(key) {\n",
              "          const element = document.querySelector('#df-e3487696-cde8-4379-8a3b-a5c5b762e61a');\n",
              "          const dataTable =\n",
              "            await google.colab.kernel.invokeFunction('convertToInteractive',\n",
              "                                                     [key], {});\n",
              "          if (!dataTable) return;\n",
              "\n",
              "          const docLinkHtml = 'Like what you see? Visit the ' +\n",
              "            '<a target=\"_blank\" href=https://colab.research.google.com/notebooks/data_table.ipynb>data table notebook</a>'\n",
              "            + ' to learn more about interactive tables.';\n",
              "          element.innerHTML = '';\n",
              "          dataTable['output_type'] = 'display_data';\n",
              "          await google.colab.output.renderOutput(dataTable, element);\n",
              "          const docLink = document.createElement('div');\n",
              "          docLink.innerHTML = docLinkHtml;\n",
              "          element.appendChild(docLink);\n",
              "        }\n",
              "      </script>\n",
              "    </div>\n",
              "  </div>\n",
              "  "
            ]
          },
          "metadata": {},
          "execution_count": 20
        }
      ]
    },
    {
      "cell_type": "code",
      "source": [
        "# reorder factor levels of variable such that there is a logical order of the seriousness of the accidents\n",
        "melt_serious['Seriousness'] = melt_serious['Seriousness'].astype('category')\n",
        "melt_serious['Seriousness'] = melt_serious['Seriousness'].cat.reorder_categories(['Minor', 'Serious', 'Deadly'])"
      ],
      "metadata": {
        "id": "zSEvlwXmwh3A"
      },
      "execution_count": 21,
      "outputs": []
    },
    {
      "cell_type": "markdown",
      "source": [
        "### Figure 2a - Seriousness of accident"
      ],
      "metadata": {
        "id": "SP4RkeSs9ok6"
      }
    },
    {
      "cell_type": "code",
      "source": [
        "fig, axs = plt.subplots(1,2,figsize=(10, 5)) # define subplots rows, columns, and size\n",
        "\n",
        "seriousness_count = melt_serious['Seriousness'].value_counts().sort_index() #sort_index() to get the right order set for this category\n",
        "colours = ['green', 'blue', 'orange'] \n",
        "labels = melt_serious['Seriousness'].cat.categories.tolist()\n",
        "\n",
        "axs[0].bar(labels, seriousness_count, color = colours) # makebar plot\n",
        "\n",
        "sizes = seriousness_count\n",
        "axs[1].pie(sizes, labels = labels, colors = colours, autopct='%1.1f%%') #make pie plot\n",
        "plt.axis('equal')\n",
        "plt.xlabel('% of accidents', fontsize=12)\n",
        "\n",
        "fig.suptitle(\"Seriousness of Accidents\") #common title\n",
        "fig.text(0.04, 0.5, 'Number of Accidents', va='center', rotation='vertical') #common y-axis\n",
        "\n",
        "# rotate axes \n",
        "for ax in fig.axes:\n",
        "    matplotlib.pyplot.sca(ax)\n",
        "    plt.xticks(rotation=45)"
      ],
      "metadata": {
        "colab": {
          "base_uri": "https://localhost:8080/",
          "height": 379
        },
        "id": "4vCU_RbFpU59",
        "outputId": "b66cefca-2498-49e3-c312-b3e607840b19"
      },
      "execution_count": 22,
      "outputs": [
        {
          "output_type": "display_data",
          "data": {
            "text/plain": [
              "<Figure size 720x360 with 2 Axes>"
            ],
            "image/png": "[encoded data removed]"
          },
          "metadata": {
            "needs_background": "light"
          }
        }
      ]
    },
    {
      "cell_type": "code",
      "source": [
        "# attach new variable to main dataframe\n",
        "AAC_serious = melt_serious.merge(AAC_accidents, how = 'right', on = ['ID', 'Accident Title'])"
      ],
      "metadata": {
        "id": "qYOBz5bZBVc-"
      },
      "execution_count": 23,
      "outputs": []
    },
    {
      "cell_type": "markdown",
      "source": [
        "## Type of climbing\n",
        "\n",
        "As a first analysis of this dataset, I will focus on the climbing categories trad climbing, sport, bouldering and solo (roped; unroped refers mostly to hikes). It is outside the scope of this analysis to include aid & big wall climbing, ice climbing, alpine-mountaineering, given that they are non-exlusive (e.g., big wall climbing may involve trad or sport climbing). "
      ],
      "metadata": {
        "id": "gFurpSZay76Q"
      }
    },
    {
      "cell_type": "code",
      "execution_count": 24,
      "metadata": {
        "id": "D4dZ9-tTCvC0",
        "colab": {
          "base_uri": "https://localhost:8080/",
          "height": 493
        },
        "outputId": "1cc87401-3f52-4e98-c919-78b92bea2775"
      },
      "outputs": [
        {
          "output_type": "stream",
          "name": "stderr",
          "text": [
            "/usr/local/lib/python3.7/dist-packages/ipykernel_launcher.py:8: FutureWarning:\n",
            "\n",
            "In a future version of pandas all arguments of DataFrame.drop except for the argument 'labels' will be keyword-only\n",
            "\n"
          ]
        },
        {
          "output_type": "execute_result",
          "data": {
            "text/plain": [
              "         ID                                     Accident Title  Type_climbing\n",
              "0         1  Failure of Rappel Setup (Protection Pulled Out...  Trad Climbing\n",
              "9        10  Fall on Rock, Chocks Pulled Out, Quebec, Gatin...  Trad Climbing\n",
              "14       15  Fall on Rock, Inadequate Protection, Alberta, ...  Trad Climbing\n",
              "15       16  Fall on Rock, Inadequate Protection, Ontario, ...  Trad Climbing\n",
              "16       17  Fall on Rock, No Helmet, Quebec, Gatineau Park...  Trad Climbing\n",
              "...     ...                                                ...            ...\n",
              "11065  835t  Fall on Snow, Failure to Follow Route, Inadequ...           Solo\n",
              "11068  853t  Fall on Rock, Climbing Alone, Inadequate Cloth...           Solo\n",
              "11070  885t  Fall on Snow, Unable to Self-Arrest, Fall into...           Solo\n",
              "11072   93t  Fall on Ice, Climbing Unroped, Party Separated...           Solo\n",
              "11075  958a  Fall on Ice, Inadequate Protection, Poor Posit...           Solo\n",
              "\n",
              "[1626 rows x 3 columns]"
            ],
            "text/html": [
              "\n",
              "  <div id=\"df-092202bf-745e-4386-bebf-d9e2eb5fe674\">\n",
              "    <div class=\"colab-df-container\">\n",
              "      <div>\n",
              "<style scoped>\n",
              "    .dataframe tbody tr th:only-of-type {\n",
              "        vertical-align: middle;\n",
              "    }\n",
              "\n",
              "    .dataframe tbody tr th {\n",
              "        vertical-align: top;\n",
              "    }\n",
              "\n",
              "    .dataframe thead th {\n",
              "        text-align: right;\n",
              "    }\n",
              "</style>\n",
              "<table border=\"1\" class=\"dataframe\">\n",
              "  <thead>\n",
              "    <tr style=\"text-align: right;\">\n",
              "      <th></th>\n",
              "      <th>ID</th>\n",
              "      <th>Accident Title</th>\n",
              "      <th>Type_climbing</th>\n",
              "    </tr>\n",
              "  </thead>\n",
              "  <tbody>\n",
              "    <tr>\n",
              "      <th>0</th>\n",
              "      <td>1</td>\n",
              "      <td>Failure of Rappel Setup (Protection Pulled Out...</td>\n",
              "      <td>Trad Climbing</td>\n",
              "    </tr>\n",
              "    <tr>\n",
              "      <th>9</th>\n",
              "      <td>10</td>\n",
              "      <td>Fall on Rock, Chocks Pulled Out, Quebec, Gatin...</td>\n",
              "      <td>Trad Climbing</td>\n",
              "    </tr>\n",
              "    <tr>\n",
              "      <th>14</th>\n",
              "      <td>15</td>\n",
              "      <td>Fall on Rock, Inadequate Protection, Alberta, ...</td>\n",
              "      <td>Trad Climbing</td>\n",
              "    </tr>\n",
              "    <tr>\n",
              "      <th>15</th>\n",
              "      <td>16</td>\n",
              "      <td>Fall on Rock, Inadequate Protection, Ontario, ...</td>\n",
              "      <td>Trad Climbing</td>\n",
              "    </tr>\n",
              "    <tr>\n",
              "      <th>16</th>\n",
              "      <td>17</td>\n",
              "      <td>Fall on Rock, No Helmet, Quebec, Gatineau Park...</td>\n",
              "      <td>Trad Climbing</td>\n",
              "    </tr>\n",
              "    <tr>\n",
              "      <th>...</th>\n",
              "      <td>...</td>\n",
              "      <td>...</td>\n",
              "      <td>...</td>\n",
              "    </tr>\n",
              "    <tr>\n",
              "      <th>11065</th>\n",
              "      <td>835t</td>\n",
              "      <td>Fall on Snow, Failure to Follow Route, Inadequ...</td>\n",
              "      <td>Solo</td>\n",
              "    </tr>\n",
              "    <tr>\n",
              "      <th>11068</th>\n",
              "      <td>853t</td>\n",
              "      <td>Fall on Rock, Climbing Alone, Inadequate Cloth...</td>\n",
              "      <td>Solo</td>\n",
              "    </tr>\n",
              "    <tr>\n",
              "      <th>11070</th>\n",
              "      <td>885t</td>\n",
              "      <td>Fall on Snow, Unable to Self-Arrest, Fall into...</td>\n",
              "      <td>Solo</td>\n",
              "    </tr>\n",
              "    <tr>\n",
              "      <th>11072</th>\n",
              "      <td>93t</td>\n",
              "      <td>Fall on Ice, Climbing Unroped, Party Separated...</td>\n",
              "      <td>Solo</td>\n",
              "    </tr>\n",
              "    <tr>\n",
              "      <th>11075</th>\n",
              "      <td>958a</td>\n",
              "      <td>Fall on Ice, Inadequate Protection, Poor Posit...</td>\n",
              "      <td>Solo</td>\n",
              "    </tr>\n",
              "  </tbody>\n",
              "</table>\n",
              "<p>1626 rows × 3 columns</p>\n",
              "</div>\n",
              "      <button class=\"colab-df-convert\" onclick=\"convertToInteractive('df-092202bf-745e-4386-bebf-d9e2eb5fe674')\"\n",
              "              title=\"Convert this dataframe to an interactive table.\"\n",
              "              style=\"display:none;\">\n",
              "        \n",
              "  <svg xmlns=\"http://www.w3.org/2000/svg\" height=\"24px\"viewBox=\"0 0 24 24\"\n",
              "       width=\"24px\">\n",
              "    <path d=\"M0 0h24v24H0V0z\" fill=\"none\"/>\n",
              "    <path d=\"M18.56 5.44l.94 2.06.94-2.06 2.06-.94-2.06-.94-.94-2.06-.94 2.06-2.06.94zm-11 1L8.5 8.5l.94-2.06 2.06-.94-2.06-.94L8.5 2.5l-.94 2.06-2.06.94zm10 10l.94 2.06.94-2.06 2.06-.94-2.06-.94-.94-2.06-.94 2.06-2.06.94z\"/><path d=\"M17.41 7.96l-1.37-1.37c-.4-.4-.92-.59-1.43-.59-.52 0-1.04.2-1.43.59L10.3 9.45l-7.72 7.72c-.78.78-.78 2.05 0 2.83L4 21.41c.39.39.9.59 1.41.59.51 0 1.02-.2 1.41-.59l7.78-7.78 2.81-2.81c.8-.78.8-2.07 0-2.86zM5.41 20L4 18.59l7.72-7.72 1.47 1.35L5.41 20z\"/>\n",
              "  </svg>\n",
              "      </button>\n",
              "      \n",
              "  <style>\n",
              "    .colab-df-container {\n",
              "      display:flex;\n",
              "      flex-wrap:wrap;\n",
              "      gap: 12px;\n",
              "    }\n",
              "\n",
              "    .colab-df-convert {\n",
              "      background-color: #E8F0FE;\n",
              "      border: none;\n",
              "      border-radius: 50%;\n",
              "      cursor: pointer;\n",
              "      display: none;\n",
              "      fill: #1967D2;\n",
              "      height: 32px;\n",
              "      padding: 0 0 0 0;\n",
              "      width: 32px;\n",
              "    }\n",
              "\n",
              "    .colab-df-convert:hover {\n",
              "      background-color: #E2EBFA;\n",
              "      box-shadow: 0px 1px 2px rgba(60, 64, 67, 0.3), 0px 1px 3px 1px rgba(60, 64, 67, 0.15);\n",
              "      fill: #174EA6;\n",
              "    }\n",
              "\n",
              "    [theme=dark] .colab-df-convert {\n",
              "      background-color: #3B4455;\n",
              "      fill: #D2E3FC;\n",
              "    }\n",
              "\n",
              "    [theme=dark] .colab-df-convert:hover {\n",
              "      background-color: #434B5C;\n",
              "      box-shadow: 0px 1px 3px 1px rgba(0, 0, 0, 0.15);\n",
              "      filter: drop-shadow(0px 1px 2px rgba(0, 0, 0, 0.3));\n",
              "      fill: #FFFFFF;\n",
              "    }\n",
              "  </style>\n",
              "\n",
              "      <script>\n",
              "        const buttonEl =\n",
              "          document.querySelector('#df-092202bf-745e-4386-bebf-d9e2eb5fe674 button.colab-df-convert');\n",
              "        buttonEl.style.display =\n",
              "          google.colab.kernel.accessAllowed ? 'block' : 'none';\n",
              "\n",
              "        async function convertToInteractive(key) {\n",
              "          const element = document.querySelector('#df-092202bf-745e-4386-bebf-d9e2eb5fe674');\n",
              "          const dataTable =\n",
              "            await google.colab.kernel.invokeFunction('convertToInteractive',\n",
              "                                                     [key], {});\n",
              "          if (!dataTable) return;\n",
              "\n",
              "          const docLinkHtml = 'Like what you see? Visit the ' +\n",
              "            '<a target=\"_blank\" href=https://colab.research.google.com/notebooks/data_table.ipynb>data table notebook</a>'\n",
              "            + ' to learn more about interactive tables.';\n",
              "          element.innerHTML = '';\n",
              "          dataTable['output_type'] = 'display_data';\n",
              "          await google.colab.output.renderOutput(dataTable, element);\n",
              "          const docLink = document.createElement('div');\n",
              "          docLink.innerHTML = docLinkHtml;\n",
              "          element.appendChild(docLink);\n",
              "        }\n",
              "      </script>\n",
              "    </div>\n",
              "  </div>\n",
              "  "
            ]
          },
          "metadata": {},
          "execution_count": 24
        }
      ],
      "source": [
        "# type of climb\n",
        "melt_type = AAC_accidents.melt(id_vars=['ID', 'Accident Title'],\n",
        "                              value_vars=['Trad Climbing', 'Sport', 'Bouldering', 'Solo'],\n",
        "       var_name = 'Type_climbing')\n",
        "\n",
        "melt_type = melt_type.loc[(melt_type['value'] != 0)]\n",
        "\n",
        "melt_type = melt_type.drop('value', 1)\n",
        "\n",
        "melt_type"
      ]
    },
    {
      "cell_type": "code",
      "source": [
        "# percentage of accidents involving these three types of climbing\n",
        "len(melt_type)/len(AAC_accidents)*100"
      ],
      "metadata": {
        "colab": {
          "base_uri": "https://localhost:8080/"
        },
        "id": "rMN3kZWFpX12",
        "outputId": "2fd1692d-b155-4f4d-c037-6590bcb11f6d"
      },
      "execution_count": 50,
      "outputs": [
        {
          "output_type": "execute_result",
          "data": {
            "text/plain": [
              "58.70036101083033"
            ]
          },
          "metadata": {},
          "execution_count": 50
        }
      ]
    },
    {
      "cell_type": "markdown",
      "source": [
        "### Figure 2b - Type of climbing"
      ],
      "metadata": {
        "id": "I9SodmhRGxIi"
      }
    },
    {
      "cell_type": "code",
      "source": [
        "fig, axs = plt.subplots(1,2,figsize=(10, 5)) # define subplots rows, columns, and size\n",
        "\n",
        "type_count = melt_type['Type_climbing'].value_counts()\n",
        "colours = ['green', 'blue', 'orange', 'red'] \n",
        "melt_type['Type_climbing'] = melt_type['Type_climbing'].astype('category')\n",
        "labels = melt_type['Type_climbing'].cat.categories.tolist()\n",
        "\n",
        "axs[0].bar(labels, type_count, color = colours) # makebar plot\n",
        "\n",
        "sizes = type_count\n",
        "axs[1].pie(sizes, labels = labels, colors = colours, autopct='%1.1f%%') #make pie plot\n",
        "plt.axis('equal')\n",
        "plt.xlabel('% of accidents', fontsize=12)\n",
        "\n",
        "fig.suptitle(\"Type of Climbing\") #common title\n",
        "fig.text(0.04, 0.5, 'Number of Accidents', va='center', rotation='vertical') #common y-axis\n",
        "\n",
        "# rotate axes \n",
        "for ax in fig.axes:\n",
        "    matplotlib.pyplot.sca(ax)\n",
        "    plt.xticks(rotation=45)"
      ],
      "metadata": {
        "colab": {
          "base_uri": "https://localhost:8080/",
          "height": 401
        },
        "id": "xpsnWwAJpAPl",
        "outputId": "8748445e-b798-4826-9a26-79700c91c67e"
      },
      "execution_count": 25,
      "outputs": [
        {
          "output_type": "display_data",
          "data": {
            "text/plain": [
              "<Figure size 720x360 with 2 Axes>"
            ],
            "image/png": "[encoded data removed]"
          },
          "metadata": {
            "needs_background": "light"
          }
        }
      ]
    },
    {
      "cell_type": "code",
      "source": [
        "# attach new variable to main dataframe\n",
        "AAC_serious_type = melt_type.merge(AAC_serious, how = 'right', on = ['ID', 'Accident Title'])"
      ],
      "metadata": {
        "id": "DjCSx5yV-oI0"
      },
      "execution_count": 26,
      "outputs": []
    },
    {
      "cell_type": "markdown",
      "source": [
        "## Experience\n",
        "\n",
        "This category deals with how experienced the person involved in the accident is. "
      ],
      "metadata": {
        "id": "o4rKUTTy0WfK"
      }
    },
    {
      "cell_type": "code",
      "source": [
        "# melt experience\n",
        "melt_experience = AAC_accidents.melt(id_vars=['ID', 'Accident Title'],\n",
        "                                     value_vars =   ['No/Little', 'Moderate',\n",
        "       'Experienced', 'Unknown'],\n",
        "       var_name = 'Experience')\n",
        "\n",
        "melt_experience = melt_experience.loc[(melt_experience['value'] != 0)]\n",
        "melt_experience = melt_experience.drop('value', 1)\n",
        "melt_experience"
      ],
      "metadata": {
        "colab": {
          "base_uri": "https://localhost:8080/",
          "height": 493
        },
        "id": "I2sDqTJn0YrT",
        "outputId": "6f39b7e1-3da4-47d3-bef2-0d9b5c4080da"
      },
      "execution_count": 27,
      "outputs": [
        {
          "output_type": "stream",
          "name": "stderr",
          "text": [
            "/usr/local/lib/python3.7/dist-packages/ipykernel_launcher.py:8: FutureWarning:\n",
            "\n",
            "In a future version of pandas all arguments of DataFrame.drop except for the argument 'labels' will be keyword-only\n",
            "\n"
          ]
        },
        {
          "output_type": "execute_result",
          "data": {
            "text/plain": [
              "          ID                                     Accident Title Experience\n",
              "10        11  Fall on Rock, Climbing Solo, Inadequate Equipm...  No/Little\n",
              "11        12  Fall on Rock, Climbing Solo, No Hard Hat, Inex...  No/Little\n",
              "13        14  Fall on Rock, Free-Solo, Exceeding Abilities, ...  No/Little\n",
              "20        21  Fall on Snow, Inadequate Protection, No Hard H...  No/Little\n",
              "26        28  Falling Rock, Fall on Ice, Faulty Use of Cramp...  No/Little\n",
              "...      ...                                                ...        ...\n",
              "10882  1670t  Jumped into Crevasse, and then Later Fell in C...    Unknown\n",
              "10908  1959a  HAPE and ..., Washington, Mount Rainier, Camp ...    Unknown\n",
              "10909  1959b     ... HACE, Washington, Mount Rainier, Camp Muir    Unknown\n",
              "10919  2065a            Illness ...), Washington, Mount Rainier    Unknown\n",
              "10920  2065b            Frostbite..., Washington, Mount Rainier    Unknown\n",
              "\n",
              "[1326 rows x 3 columns]"
            ],
            "text/html": [
              "\n",
              "  <div id=\"df-1f8e902f-2f6d-4466-9d6c-ec816345c70f\">\n",
              "    <div class=\"colab-df-container\">\n",
              "      <div>\n",
              "<style scoped>\n",
              "    .dataframe tbody tr th:only-of-type {\n",
              "        vertical-align: middle;\n",
              "    }\n",
              "\n",
              "    .dataframe tbody tr th {\n",
              "        vertical-align: top;\n",
              "    }\n",
              "\n",
              "    .dataframe thead th {\n",
              "        text-align: right;\n",
              "    }\n",
              "</style>\n",
              "<table border=\"1\" class=\"dataframe\">\n",
              "  <thead>\n",
              "    <tr style=\"text-align: right;\">\n",
              "      <th></th>\n",
              "      <th>ID</th>\n",
              "      <th>Accident Title</th>\n",
              "      <th>Experience</th>\n",
              "    </tr>\n",
              "  </thead>\n",
              "  <tbody>\n",
              "    <tr>\n",
              "      <th>10</th>\n",
              "      <td>11</td>\n",
              "      <td>Fall on Rock, Climbing Solo, Inadequate Equipm...</td>\n",
              "      <td>No/Little</td>\n",
              "    </tr>\n",
              "    <tr>\n",
              "      <th>11</th>\n",
              "      <td>12</td>\n",
              "      <td>Fall on Rock, Climbing Solo, No Hard Hat, Inex...</td>\n",
              "      <td>No/Little</td>\n",
              "    </tr>\n",
              "    <tr>\n",
              "      <th>13</th>\n",
              "      <td>14</td>\n",
              "      <td>Fall on Rock, Free-Solo, Exceeding Abilities, ...</td>\n",
              "      <td>No/Little</td>\n",
              "    </tr>\n",
              "    <tr>\n",
              "      <th>20</th>\n",
              "      <td>21</td>\n",
              "      <td>Fall on Snow, Inadequate Protection, No Hard H...</td>\n",
              "      <td>No/Little</td>\n",
              "    </tr>\n",
              "    <tr>\n",
              "      <th>26</th>\n",
              "      <td>28</td>\n",
              "      <td>Falling Rock, Fall on Ice, Faulty Use of Cramp...</td>\n",
              "      <td>No/Little</td>\n",
              "    </tr>\n",
              "    <tr>\n",
              "      <th>...</th>\n",
              "      <td>...</td>\n",
              "      <td>...</td>\n",
              "      <td>...</td>\n",
              "    </tr>\n",
              "    <tr>\n",
              "      <th>10882</th>\n",
              "      <td>1670t</td>\n",
              "      <td>Jumped into Crevasse, and then Later Fell in C...</td>\n",
              "      <td>Unknown</td>\n",
              "    </tr>\n",
              "    <tr>\n",
              "      <th>10908</th>\n",
              "      <td>1959a</td>\n",
              "      <td>HAPE and ..., Washington, Mount Rainier, Camp ...</td>\n",
              "      <td>Unknown</td>\n",
              "    </tr>\n",
              "    <tr>\n",
              "      <th>10909</th>\n",
              "      <td>1959b</td>\n",
              "      <td>... HACE, Washington, Mount Rainier, Camp Muir</td>\n",
              "      <td>Unknown</td>\n",
              "    </tr>\n",
              "    <tr>\n",
              "      <th>10919</th>\n",
              "      <td>2065a</td>\n",
              "      <td>Illness ...), Washington, Mount Rainier</td>\n",
              "      <td>Unknown</td>\n",
              "    </tr>\n",
              "    <tr>\n",
              "      <th>10920</th>\n",
              "      <td>2065b</td>\n",
              "      <td>Frostbite..., Washington, Mount Rainier</td>\n",
              "      <td>Unknown</td>\n",
              "    </tr>\n",
              "  </tbody>\n",
              "</table>\n",
              "<p>1326 rows × 3 columns</p>\n",
              "</div>\n",
              "      <button class=\"colab-df-convert\" onclick=\"convertToInteractive('df-1f8e902f-2f6d-4466-9d6c-ec816345c70f')\"\n",
              "              title=\"Convert this dataframe to an interactive table.\"\n",
              "              style=\"display:none;\">\n",
              "        \n",
              "  <svg xmlns=\"http://www.w3.org/2000/svg\" height=\"24px\"viewBox=\"0 0 24 24\"\n",
              "       width=\"24px\">\n",
              "    <path d=\"M0 0h24v24H0V0z\" fill=\"none\"/>\n",
              "    <path d=\"M18.56 5.44l.94 2.06.94-2.06 2.06-.94-2.06-.94-.94-2.06-.94 2.06-2.06.94zm-11 1L8.5 8.5l.94-2.06 2.06-.94-2.06-.94L8.5 2.5l-.94 2.06-2.06.94zm10 10l.94 2.06.94-2.06 2.06-.94-2.06-.94-.94-2.06-.94 2.06-2.06.94z\"/><path d=\"M17.41 7.96l-1.37-1.37c-.4-.4-.92-.59-1.43-.59-.52 0-1.04.2-1.43.59L10.3 9.45l-7.72 7.72c-.78.78-.78 2.05 0 2.83L4 21.41c.39.39.9.59 1.41.59.51 0 1.02-.2 1.41-.59l7.78-7.78 2.81-2.81c.8-.78.8-2.07 0-2.86zM5.41 20L4 18.59l7.72-7.72 1.47 1.35L5.41 20z\"/>\n",
              "  </svg>\n",
              "      </button>\n",
              "      \n",
              "  <style>\n",
              "    .colab-df-container {\n",
              "      display:flex;\n",
              "      flex-wrap:wrap;\n",
              "      gap: 12px;\n",
              "    }\n",
              "\n",
              "    .colab-df-convert {\n",
              "      background-color: #E8F0FE;\n",
              "      border: none;\n",
              "      border-radius: 50%;\n",
              "      cursor: pointer;\n",
              "      display: none;\n",
              "      fill: #1967D2;\n",
              "      height: 32px;\n",
              "      padding: 0 0 0 0;\n",
              "      width: 32px;\n",
              "    }\n",
              "\n",
              "    .colab-df-convert:hover {\n",
              "      background-color: #E2EBFA;\n",
              "      box-shadow: 0px 1px 2px rgba(60, 64, 67, 0.3), 0px 1px 3px 1px rgba(60, 64, 67, 0.15);\n",
              "      fill: #174EA6;\n",
              "    }\n",
              "\n",
              "    [theme=dark] .colab-df-convert {\n",
              "      background-color: #3B4455;\n",
              "      fill: #D2E3FC;\n",
              "    }\n",
              "\n",
              "    [theme=dark] .colab-df-convert:hover {\n",
              "      background-color: #434B5C;\n",
              "      box-shadow: 0px 1px 3px 1px rgba(0, 0, 0, 0.15);\n",
              "      filter: drop-shadow(0px 1px 2px rgba(0, 0, 0, 0.3));\n",
              "      fill: #FFFFFF;\n",
              "    }\n",
              "  </style>\n",
              "\n",
              "      <script>\n",
              "        const buttonEl =\n",
              "          document.querySelector('#df-1f8e902f-2f6d-4466-9d6c-ec816345c70f button.colab-df-convert');\n",
              "        buttonEl.style.display =\n",
              "          google.colab.kernel.accessAllowed ? 'block' : 'none';\n",
              "\n",
              "        async function convertToInteractive(key) {\n",
              "          const element = document.querySelector('#df-1f8e902f-2f6d-4466-9d6c-ec816345c70f');\n",
              "          const dataTable =\n",
              "            await google.colab.kernel.invokeFunction('convertToInteractive',\n",
              "                                                     [key], {});\n",
              "          if (!dataTable) return;\n",
              "\n",
              "          const docLinkHtml = 'Like what you see? Visit the ' +\n",
              "            '<a target=\"_blank\" href=https://colab.research.google.com/notebooks/data_table.ipynb>data table notebook</a>'\n",
              "            + ' to learn more about interactive tables.';\n",
              "          element.innerHTML = '';\n",
              "          dataTable['output_type'] = 'display_data';\n",
              "          await google.colab.output.renderOutput(dataTable, element);\n",
              "          const docLink = document.createElement('div');\n",
              "          docLink.innerHTML = docLinkHtml;\n",
              "          element.appendChild(docLink);\n",
              "        }\n",
              "      </script>\n",
              "    </div>\n",
              "  </div>\n",
              "  "
            ]
          },
          "metadata": {},
          "execution_count": 27
        }
      ]
    },
    {
      "cell_type": "code",
      "source": [
        "# change factor levels of variable\n",
        "melt_experience['Experience'] = melt_experience['Experience'].astype('category')\n",
        "melt_experience['Experience'] = melt_experience['Experience'].cat.reorder_categories(['No/Little', 'Moderate', 'Experienced', 'Unknown'])"
      ],
      "metadata": {
        "id": "3CaWhCuC4c25"
      },
      "execution_count": 28,
      "outputs": []
    },
    {
      "cell_type": "markdown",
      "source": [
        "### Figure 2c - Experience\n",
        "\n",
        "Here I look at the number of accidents for every level of experience that the person involved had. I select 'unkwown' for these descritives, but this category will be removed later from further analysis. "
      ],
      "metadata": {
        "id": "87XU81-gZqJz"
      }
    },
    {
      "cell_type": "code",
      "source": [
        "fig, axs = plt.subplots(1,2,figsize=(10, 5)) # define subplots rows, columns, and size\n",
        "\n",
        "experience_count = melt_experience['Experience'].value_counts().sort_index() #sort_index() to get the right order set for this category\n",
        "colours = ['green', 'blue', 'orange', 'red']\n",
        "labels = melt_experience['Experience'].cat.categories.tolist()\n",
        "\n",
        "axs[0].bar(labels, experience_count, color = colours) # makebar plot\n",
        "\n",
        "sizes = experience_count\n",
        "axs[1].pie(sizes, labels = labels, colors = colours, autopct='%1.1f%%') #make pie plot\n",
        "plt.axis('equal')\n",
        "plt.xlabel('% of accidents', fontsize=12)\n",
        "\n",
        "fig.suptitle(\"Experience of person involved in accident\") #common title\n",
        "fig.text(0.04, 0.5, 'Number of Accidents', va='center', rotation='vertical') #common y-axis\n",
        "\n",
        "# rotate axes \n",
        "for ax in fig.axes:\n",
        "    matplotlib.pyplot.sca(ax)\n",
        "    plt.xticks(rotation=45)"
      ],
      "metadata": {
        "colab": {
          "base_uri": "https://localhost:8080/",
          "height": 397
        },
        "id": "DF2Ayt1xokGr",
        "outputId": "51e5846b-831c-4c92-8ebc-f03569bab785"
      },
      "execution_count": 29,
      "outputs": [
        {
          "output_type": "display_data",
          "data": {
            "text/plain": [
              "<Figure size 720x360 with 2 Axes>"
            ],
            "image/png": "[encoded data removed]"
          },
          "metadata": {
            "needs_background": "light"
          }
        }
      ]
    },
    {
      "cell_type": "code",
      "source": [
        "# remove 'unknown' category\n",
        "melt_experience['Experience'] = melt_experience['Experience'].cat.remove_categories('Unknown')"
      ],
      "metadata": {
        "id": "wV7EUtdh9Csg"
      },
      "execution_count": 30,
      "outputs": []
    },
    {
      "cell_type": "code",
      "source": [
        "# attach new variable to main dataframe\n",
        "AAC_serious_type_experience = melt_experience.merge(AAC_serious_type, how = 'right', on = ['ID', 'Accident Title'])"
      ],
      "metadata": {
        "id": "JFxaVnxi8fDo"
      },
      "execution_count": 31,
      "outputs": []
    },
    {
      "cell_type": "markdown",
      "source": [
        "## Age"
      ],
      "metadata": {
        "id": "eKBMBRrs0pbG"
      }
    },
    {
      "cell_type": "code",
      "source": [
        "# age\n",
        "melt_age = AAC_accidents.melt(id_vars=['ID', 'Accident Title'],\n",
        "                              value_vars=['<15', '15-20', '21-25', '26-30', '31-35', '36-50', '51-75', '>75'],\n",
        "                              var_name = 'Age')\n",
        "\n",
        "melt_age = melt_age.loc[(melt_age['value'] != 0)]\n",
        "melt_age = melt_age.drop('value', 1)\n",
        "melt_age"
      ],
      "metadata": {
        "id": "GzJqgyus0pbG",
        "colab": {
          "base_uri": "https://localhost:8080/",
          "height": 493
        },
        "outputId": "553dec99-c79c-4779-f5c8-4caa3b205e04"
      },
      "execution_count": 32,
      "outputs": [
        {
          "output_type": "stream",
          "name": "stderr",
          "text": [
            "/usr/local/lib/python3.7/dist-packages/ipykernel_launcher.py:7: FutureWarning:\n",
            "\n",
            "In a future version of pandas all arguments of DataFrame.drop except for the argument 'labels' will be keyword-only\n",
            "\n"
          ]
        },
        {
          "output_type": "execute_result",
          "data": {
            "text/plain": [
              "          ID                                     Accident Title    Age\n",
              "0          1  Failure of Rappel Setup (Protection Pulled Out...    <15\n",
              "80        91  Fall into Crevasse, Unroped, Public on Glacier...    <15\n",
              "147      162  Lightning, Maine, Mount Katahdin, Baxter State...    <15\n",
              "148      163  Loss of Control—Voluntary Glissade, Fall into ...    <15\n",
              "306      338  Fall on Rock, Placed Inadequate Protection, Ou...    <15\n",
              "...      ...                                                ...    ...\n",
              "19320  2684a  Tahquitz Rock Fatalities \\nCalifornia, Tahquit...  51-75\n",
              "19355   619t  Fall on Ice, Inadequate Protection, Montana, H...  51-75\n",
              "19382    93t  Fall on Ice, Climbing Unroped, Party Separated...  51-75\n",
              "19928    590  Fall on Rock, Unroped, No Hard Hat, Alberta, R...    >75\n",
              "22056  2515b  Edited Title: Fall From Red Banks – Failure to...    >75\n",
              "\n",
              "[2413 rows x 3 columns]"
            ],
            "text/html": [
              "\n",
              "  <div id=\"df-49371fac-c4e5-442d-ae38-e8055d6a16c1\">\n",
              "    <div class=\"colab-df-container\">\n",
              "      <div>\n",
              "<style scoped>\n",
              "    .dataframe tbody tr th:only-of-type {\n",
              "        vertical-align: middle;\n",
              "    }\n",
              "\n",
              "    .dataframe tbody tr th {\n",
              "        vertical-align: top;\n",
              "    }\n",
              "\n",
              "    .dataframe thead th {\n",
              "        text-align: right;\n",
              "    }\n",
              "</style>\n",
              "<table border=\"1\" class=\"dataframe\">\n",
              "  <thead>\n",
              "    <tr style=\"text-align: right;\">\n",
              "      <th></th>\n",
              "      <th>ID</th>\n",
              "      <th>Accident Title</th>\n",
              "      <th>Age</th>\n",
              "    </tr>\n",
              "  </thead>\n",
              "  <tbody>\n",
              "    <tr>\n",
              "      <th>0</th>\n",
              "      <td>1</td>\n",
              "      <td>Failure of Rappel Setup (Protection Pulled Out...</td>\n",
              "      <td>&lt;15</td>\n",
              "    </tr>\n",
              "    <tr>\n",
              "      <th>80</th>\n",
              "      <td>91</td>\n",
              "      <td>Fall into Crevasse, Unroped, Public on Glacier...</td>\n",
              "      <td>&lt;15</td>\n",
              "    </tr>\n",
              "    <tr>\n",
              "      <th>147</th>\n",
              "      <td>162</td>\n",
              "      <td>Lightning, Maine, Mount Katahdin, Baxter State...</td>\n",
              "      <td>&lt;15</td>\n",
              "    </tr>\n",
              "    <tr>\n",
              "      <th>148</th>\n",
              "      <td>163</td>\n",
              "      <td>Loss of Control—Voluntary Glissade, Fall into ...</td>\n",
              "      <td>&lt;15</td>\n",
              "    </tr>\n",
              "    <tr>\n",
              "      <th>306</th>\n",
              "      <td>338</td>\n",
              "      <td>Fall on Rock, Placed Inadequate Protection, Ou...</td>\n",
              "      <td>&lt;15</td>\n",
              "    </tr>\n",
              "    <tr>\n",
              "      <th>...</th>\n",
              "      <td>...</td>\n",
              "      <td>...</td>\n",
              "      <td>...</td>\n",
              "    </tr>\n",
              "    <tr>\n",
              "      <th>19320</th>\n",
              "      <td>2684a</td>\n",
              "      <td>Tahquitz Rock Fatalities \\nCalifornia, Tahquit...</td>\n",
              "      <td>51-75</td>\n",
              "    </tr>\n",
              "    <tr>\n",
              "      <th>19355</th>\n",
              "      <td>619t</td>\n",
              "      <td>Fall on Ice, Inadequate Protection, Montana, H...</td>\n",
              "      <td>51-75</td>\n",
              "    </tr>\n",
              "    <tr>\n",
              "      <th>19382</th>\n",
              "      <td>93t</td>\n",
              "      <td>Fall on Ice, Climbing Unroped, Party Separated...</td>\n",
              "      <td>51-75</td>\n",
              "    </tr>\n",
              "    <tr>\n",
              "      <th>19928</th>\n",
              "      <td>590</td>\n",
              "      <td>Fall on Rock, Unroped, No Hard Hat, Alberta, R...</td>\n",
              "      <td>&gt;75</td>\n",
              "    </tr>\n",
              "    <tr>\n",
              "      <th>22056</th>\n",
              "      <td>2515b</td>\n",
              "      <td>Edited Title: Fall From Red Banks – Failure to...</td>\n",
              "      <td>&gt;75</td>\n",
              "    </tr>\n",
              "  </tbody>\n",
              "</table>\n",
              "<p>2413 rows × 3 columns</p>\n",
              "</div>\n",
              "      <button class=\"colab-df-convert\" onclick=\"convertToInteractive('df-49371fac-c4e5-442d-ae38-e8055d6a16c1')\"\n",
              "              title=\"Convert this dataframe to an interactive table.\"\n",
              "              style=\"display:none;\">\n",
              "        \n",
              "  <svg xmlns=\"http://www.w3.org/2000/svg\" height=\"24px\"viewBox=\"0 0 24 24\"\n",
              "       width=\"24px\">\n",
              "    <path d=\"M0 0h24v24H0V0z\" fill=\"none\"/>\n",
              "    <path d=\"M18.56 5.44l.94 2.06.94-2.06 2.06-.94-2.06-.94-.94-2.06-.94 2.06-2.06.94zm-11 1L8.5 8.5l.94-2.06 2.06-.94-2.06-.94L8.5 2.5l-.94 2.06-2.06.94zm10 10l.94 2.06.94-2.06 2.06-.94-2.06-.94-.94-2.06-.94 2.06-2.06.94z\"/><path d=\"M17.41 7.96l-1.37-1.37c-.4-.4-.92-.59-1.43-.59-.52 0-1.04.2-1.43.59L10.3 9.45l-7.72 7.72c-.78.78-.78 2.05 0 2.83L4 21.41c.39.39.9.59 1.41.59.51 0 1.02-.2 1.41-.59l7.78-7.78 2.81-2.81c.8-.78.8-2.07 0-2.86zM5.41 20L4 18.59l7.72-7.72 1.47 1.35L5.41 20z\"/>\n",
              "  </svg>\n",
              "      </button>\n",
              "      \n",
              "  <style>\n",
              "    .colab-df-container {\n",
              "      display:flex;\n",
              "      flex-wrap:wrap;\n",
              "      gap: 12px;\n",
              "    }\n",
              "\n",
              "    .colab-df-convert {\n",
              "      background-color: #E8F0FE;\n",
              "      border: none;\n",
              "      border-radius: 50%;\n",
              "      cursor: pointer;\n",
              "      display: none;\n",
              "      fill: #1967D2;\n",
              "      height: 32px;\n",
              "      padding: 0 0 0 0;\n",
              "      width: 32px;\n",
              "    }\n",
              "\n",
              "    .colab-df-convert:hover {\n",
              "      background-color: #E2EBFA;\n",
              "      box-shadow: 0px 1px 2px rgba(60, 64, 67, 0.3), 0px 1px 3px 1px rgba(60, 64, 67, 0.15);\n",
              "      fill: #174EA6;\n",
              "    }\n",
              "\n",
              "    [theme=dark] .colab-df-convert {\n",
              "      background-color: #3B4455;\n",
              "      fill: #D2E3FC;\n",
              "    }\n",
              "\n",
              "    [theme=dark] .colab-df-convert:hover {\n",
              "      background-color: #434B5C;\n",
              "      box-shadow: 0px 1px 3px 1px rgba(0, 0, 0, 0.15);\n",
              "      filter: drop-shadow(0px 1px 2px rgba(0, 0, 0, 0.3));\n",
              "      fill: #FFFFFF;\n",
              "    }\n",
              "  </style>\n",
              "\n",
              "      <script>\n",
              "        const buttonEl =\n",
              "          document.querySelector('#df-49371fac-c4e5-442d-ae38-e8055d6a16c1 button.colab-df-convert');\n",
              "        buttonEl.style.display =\n",
              "          google.colab.kernel.accessAllowed ? 'block' : 'none';\n",
              "\n",
              "        async function convertToInteractive(key) {\n",
              "          const element = document.querySelector('#df-49371fac-c4e5-442d-ae38-e8055d6a16c1');\n",
              "          const dataTable =\n",
              "            await google.colab.kernel.invokeFunction('convertToInteractive',\n",
              "                                                     [key], {});\n",
              "          if (!dataTable) return;\n",
              "\n",
              "          const docLinkHtml = 'Like what you see? Visit the ' +\n",
              "            '<a target=\"_blank\" href=https://colab.research.google.com/notebooks/data_table.ipynb>data table notebook</a>'\n",
              "            + ' to learn more about interactive tables.';\n",
              "          element.innerHTML = '';\n",
              "          dataTable['output_type'] = 'display_data';\n",
              "          await google.colab.output.renderOutput(dataTable, element);\n",
              "          const docLink = document.createElement('div');\n",
              "          docLink.innerHTML = docLinkHtml;\n",
              "          element.appendChild(docLink);\n",
              "        }\n",
              "      </script>\n",
              "    </div>\n",
              "  </div>\n",
              "  "
            ]
          },
          "metadata": {},
          "execution_count": 32
        }
      ]
    },
    {
      "cell_type": "code",
      "source": [
        "# change factor levels of variable\n",
        "melt_age['Age'] = melt_age['Age'].astype('category')\n",
        "melt_age['Age'] = melt_age['Age'].cat.reorder_categories(['<15', '15-20', '21-25', '26-30', '31-35', '36-50', '51-75', '>75'])"
      ],
      "metadata": {
        "id": "PmoLTWiM5bTz"
      },
      "execution_count": 33,
      "outputs": []
    },
    {
      "cell_type": "markdown",
      "source": [
        "### Figure 2d - Age"
      ],
      "metadata": {
        "id": "p-kYr6PPbNPK"
      }
    },
    {
      "cell_type": "code",
      "source": [
        "fig, axs = plt.subplots(1,2,figsize=(10, 5)) # define subplots rows, columns, and size\n",
        "\n",
        "age_count = melt_age['Age'].value_counts().sort_index() #sort_index() to get the right order set for this category\n",
        "colours = ['green', 'blue', 'orange', 'red']\n",
        "labels = melt_age['Age'].cat.categories.tolist()\n",
        "\n",
        "axs[0].bar(labels, age_count, color = colours) # makebar plot\n",
        "\n",
        "sizes = age_count\n",
        "axs[1].pie(sizes, labels = labels, colors = colours, autopct='%1.1f%%') #make pie plot\n",
        "plt.axis('equal')\n",
        "plt.xlabel('% of accidents', fontsize=12)\n",
        "\n",
        "fig.suptitle(\"Age of person involved in accident\") #common title\n",
        "fig.text(0.04, 0.5, 'Number of Accidents', va='center', rotation='vertical') #common y-axis\n",
        "\n",
        "# rotate axes \n",
        "for ax in fig.axes:\n",
        "    matplotlib.pyplot.sca(ax)\n",
        "    plt.xticks(rotation=45)\n",
        "\n",
        "    fig.savefig(data_path +'age.jpg', bbox_inches='tight', dpi = 600)"
      ],
      "metadata": {
        "colab": {
          "base_uri": "https://localhost:8080/",
          "height": 373
        },
        "id": "ssZ85ZypoJti",
        "outputId": "cfa7af05-3059-4091-c06a-e04345eeed7a"
      },
      "execution_count": 34,
      "outputs": [
        {
          "output_type": "display_data",
          "data": {
            "text/plain": [
              "<Figure size 720x360 with 2 Axes>"
            ],
            "image/png": "[encoded data removed]"
          },
          "metadata": {
            "needs_background": "light"
          }
        }
      ]
    },
    {
      "cell_type": "code",
      "source": [
        "# attach new variable to main dataframe\n",
        "AAC_serious_type_experience_age = melt_age.merge(AAC_serious_type_experience, how = 'right', on = ['ID', 'Accident Title'])"
      ],
      "metadata": {
        "id": "0_wNPBDvErbB"
      },
      "execution_count": 35,
      "outputs": []
    },
    {
      "cell_type": "markdown",
      "source": [
        "## Nature"
      ],
      "metadata": {
        "id": "a-k91_a1NGpF"
      }
    },
    {
      "cell_type": "code",
      "source": [
        "# nature\n",
        "melt_nature = AAC_accidents.melt(id_vars=['ID', 'Accident Title'],\n",
        "                              value_vars=['Visibility', 'Severe Weather',\n",
        "       'Wildlife', 'Natural Rockfall'],\n",
        "                              var_name = 'Nature')\n",
        "\n",
        "melt_nature = melt_nature.loc[(melt_nature['value'] != 0)]\n",
        "melt_nature = melt_nature.drop('value', 1)\n",
        "melt_nature"
      ],
      "metadata": {
        "colab": {
          "base_uri": "https://localhost:8080/",
          "height": 493
        },
        "id": "topUT3uvNIdF",
        "outputId": "12279ba8-9b38-4e3d-9c1c-43b39371f4a6"
      },
      "execution_count": 36,
      "outputs": [
        {
          "output_type": "stream",
          "name": "stderr",
          "text": [
            "/usr/local/lib/python3.7/dist-packages/ipykernel_launcher.py:8: FutureWarning:\n",
            "\n",
            "In a future version of pandas all arguments of DataFrame.drop except for the argument 'labels' will be keyword-only\n",
            "\n"
          ]
        },
        {
          "output_type": "execute_result",
          "data": {
            "text/plain": [
              "          ID                                     Accident Title  \\\n",
              "43        47  Weather, Fall on Snow, Exposure, Alaska, Mount...   \n",
              "73        83  Weather, Fatigue, Failure to Follow Route, Fal...   \n",
              "79        90  Fall into Crevasse, Unroped, Alberta, Rocky Mo...   \n",
              "109      121  HAPE, Frostbite, Party Seperated, Inexperience...   \n",
              "155      171  Stranded, Darkness, Falled to Follow Direction...   \n",
              "...      ...                                                ...   \n",
              "10943  2364f  Fall on Rock – Suspected Rockfall, Climbing Al...   \n",
              "10963  2479b            Rockfall \\nOregon, Mt. Hood, South Side   \n",
              "11003  2649c  Mt. Shasta rockfall\\nCalifornia, Mt. Shasta an...   \n",
              "11009  2682b  Rocky Mountain National Park, Rockfall \\nColor...   \n",
              "11011  2684b  Tahquitz Rock Fatalities \\nCalifornia, Tahquit...   \n",
              "\n",
              "                 Nature  \n",
              "43           Visibility  \n",
              "73           Visibility  \n",
              "79           Visibility  \n",
              "109          Visibility  \n",
              "155          Visibility  \n",
              "...                 ...  \n",
              "10943  Natural Rockfall  \n",
              "10963  Natural Rockfall  \n",
              "11003  Natural Rockfall  \n",
              "11009  Natural Rockfall  \n",
              "11011  Natural Rockfall  \n",
              "\n",
              "[579 rows x 3 columns]"
            ],
            "text/html": [
              "\n",
              "  <div id=\"df-7d9f8fe4-d241-407e-8879-8477161e7c96\">\n",
              "    <div class=\"colab-df-container\">\n",
              "      <div>\n",
              "<style scoped>\n",
              "    .dataframe tbody tr th:only-of-type {\n",
              "        vertical-align: middle;\n",
              "    }\n",
              "\n",
              "    .dataframe tbody tr th {\n",
              "        vertical-align: top;\n",
              "    }\n",
              "\n",
              "    .dataframe thead th {\n",
              "        text-align: right;\n",
              "    }\n",
              "</style>\n",
              "<table border=\"1\" class=\"dataframe\">\n",
              "  <thead>\n",
              "    <tr style=\"text-align: right;\">\n",
              "      <th></th>\n",
              "      <th>ID</th>\n",
              "      <th>Accident Title</th>\n",
              "      <th>Nature</th>\n",
              "    </tr>\n",
              "  </thead>\n",
              "  <tbody>\n",
              "    <tr>\n",
              "      <th>43</th>\n",
              "      <td>47</td>\n",
              "      <td>Weather, Fall on Snow, Exposure, Alaska, Mount...</td>\n",
              "      <td>Visibility</td>\n",
              "    </tr>\n",
              "    <tr>\n",
              "      <th>73</th>\n",
              "      <td>83</td>\n",
              "      <td>Weather, Fatigue, Failure to Follow Route, Fal...</td>\n",
              "      <td>Visibility</td>\n",
              "    </tr>\n",
              "    <tr>\n",
              "      <th>79</th>\n",
              "      <td>90</td>\n",
              "      <td>Fall into Crevasse, Unroped, Alberta, Rocky Mo...</td>\n",
              "      <td>Visibility</td>\n",
              "    </tr>\n",
              "    <tr>\n",
              "      <th>109</th>\n",
              "      <td>121</td>\n",
              "      <td>HAPE, Frostbite, Party Seperated, Inexperience...</td>\n",
              "      <td>Visibility</td>\n",
              "    </tr>\n",
              "    <tr>\n",
              "      <th>155</th>\n",
              "      <td>171</td>\n",
              "      <td>Stranded, Darkness, Falled to Follow Direction...</td>\n",
              "      <td>Visibility</td>\n",
              "    </tr>\n",
              "    <tr>\n",
              "      <th>...</th>\n",
              "      <td>...</td>\n",
              "      <td>...</td>\n",
              "      <td>...</td>\n",
              "    </tr>\n",
              "    <tr>\n",
              "      <th>10943</th>\n",
              "      <td>2364f</td>\n",
              "      <td>Fall on Rock – Suspected Rockfall, Climbing Al...</td>\n",
              "      <td>Natural Rockfall</td>\n",
              "    </tr>\n",
              "    <tr>\n",
              "      <th>10963</th>\n",
              "      <td>2479b</td>\n",
              "      <td>Rockfall \\nOregon, Mt. Hood, South Side</td>\n",
              "      <td>Natural Rockfall</td>\n",
              "    </tr>\n",
              "    <tr>\n",
              "      <th>11003</th>\n",
              "      <td>2649c</td>\n",
              "      <td>Mt. Shasta rockfall\\nCalifornia, Mt. Shasta an...</td>\n",
              "      <td>Natural Rockfall</td>\n",
              "    </tr>\n",
              "    <tr>\n",
              "      <th>11009</th>\n",
              "      <td>2682b</td>\n",
              "      <td>Rocky Mountain National Park, Rockfall \\nColor...</td>\n",
              "      <td>Natural Rockfall</td>\n",
              "    </tr>\n",
              "    <tr>\n",
              "      <th>11011</th>\n",
              "      <td>2684b</td>\n",
              "      <td>Tahquitz Rock Fatalities \\nCalifornia, Tahquit...</td>\n",
              "      <td>Natural Rockfall</td>\n",
              "    </tr>\n",
              "  </tbody>\n",
              "</table>\n",
              "<p>579 rows × 3 columns</p>\n",
              "</div>\n",
              "      <button class=\"colab-df-convert\" onclick=\"convertToInteractive('df-7d9f8fe4-d241-407e-8879-8477161e7c96')\"\n",
              "              title=\"Convert this dataframe to an interactive table.\"\n",
              "              style=\"display:none;\">\n",
              "        \n",
              "  <svg xmlns=\"http://www.w3.org/2000/svg\" height=\"24px\"viewBox=\"0 0 24 24\"\n",
              "       width=\"24px\">\n",
              "    <path d=\"M0 0h24v24H0V0z\" fill=\"none\"/>\n",
              "    <path d=\"M18.56 5.44l.94 2.06.94-2.06 2.06-.94-2.06-.94-.94-2.06-.94 2.06-2.06.94zm-11 1L8.5 8.5l.94-2.06 2.06-.94-2.06-.94L8.5 2.5l-.94 2.06-2.06.94zm10 10l.94 2.06.94-2.06 2.06-.94-2.06-.94-.94-2.06-.94 2.06-2.06.94z\"/><path d=\"M17.41 7.96l-1.37-1.37c-.4-.4-.92-.59-1.43-.59-.52 0-1.04.2-1.43.59L10.3 9.45l-7.72 7.72c-.78.78-.78 2.05 0 2.83L4 21.41c.39.39.9.59 1.41.59.51 0 1.02-.2 1.41-.59l7.78-7.78 2.81-2.81c.8-.78.8-2.07 0-2.86zM5.41 20L4 18.59l7.72-7.72 1.47 1.35L5.41 20z\"/>\n",
              "  </svg>\n",
              "      </button>\n",
              "      \n",
              "  <style>\n",
              "    .colab-df-container {\n",
              "      display:flex;\n",
              "      flex-wrap:wrap;\n",
              "      gap: 12px;\n",
              "    }\n",
              "\n",
              "    .colab-df-convert {\n",
              "      background-color: #E8F0FE;\n",
              "      border: none;\n",
              "      border-radius: 50%;\n",
              "      cursor: pointer;\n",
              "      display: none;\n",
              "      fill: #1967D2;\n",
              "      height: 32px;\n",
              "      padding: 0 0 0 0;\n",
              "      width: 32px;\n",
              "    }\n",
              "\n",
              "    .colab-df-convert:hover {\n",
              "      background-color: #E2EBFA;\n",
              "      box-shadow: 0px 1px 2px rgba(60, 64, 67, 0.3), 0px 1px 3px 1px rgba(60, 64, 67, 0.15);\n",
              "      fill: #174EA6;\n",
              "    }\n",
              "\n",
              "    [theme=dark] .colab-df-convert {\n",
              "      background-color: #3B4455;\n",
              "      fill: #D2E3FC;\n",
              "    }\n",
              "\n",
              "    [theme=dark] .colab-df-convert:hover {\n",
              "      background-color: #434B5C;\n",
              "      box-shadow: 0px 1px 3px 1px rgba(0, 0, 0, 0.15);\n",
              "      filter: drop-shadow(0px 1px 2px rgba(0, 0, 0, 0.3));\n",
              "      fill: #FFFFFF;\n",
              "    }\n",
              "  </style>\n",
              "\n",
              "      <script>\n",
              "        const buttonEl =\n",
              "          document.querySelector('#df-7d9f8fe4-d241-407e-8879-8477161e7c96 button.colab-df-convert');\n",
              "        buttonEl.style.display =\n",
              "          google.colab.kernel.accessAllowed ? 'block' : 'none';\n",
              "\n",
              "        async function convertToInteractive(key) {\n",
              "          const element = document.querySelector('#df-7d9f8fe4-d241-407e-8879-8477161e7c96');\n",
              "          const dataTable =\n",
              "            await google.colab.kernel.invokeFunction('convertToInteractive',\n",
              "                                                     [key], {});\n",
              "          if (!dataTable) return;\n",
              "\n",
              "          const docLinkHtml = 'Like what you see? Visit the ' +\n",
              "            '<a target=\"_blank\" href=https://colab.research.google.com/notebooks/data_table.ipynb>data table notebook</a>'\n",
              "            + ' to learn more about interactive tables.';\n",
              "          element.innerHTML = '';\n",
              "          dataTable['output_type'] = 'display_data';\n",
              "          await google.colab.output.renderOutput(dataTable, element);\n",
              "          const docLink = document.createElement('div');\n",
              "          docLink.innerHTML = docLinkHtml;\n",
              "          element.appendChild(docLink);\n",
              "        }\n",
              "      </script>\n",
              "    </div>\n",
              "  </div>\n",
              "  "
            ]
          },
          "metadata": {},
          "execution_count": 36
        }
      ]
    },
    {
      "cell_type": "markdown",
      "source": [
        "### Figure 2e - Nature"
      ],
      "metadata": {
        "id": "D1A3dMW-ehkm"
      }
    },
    {
      "cell_type": "code",
      "source": [
        "fig, axs = plt.subplots(1,2,figsize=(10, 5)) # define subplots rows, columns, and size\n",
        "\n",
        "nature_count = melt_nature['Nature'].value_counts()\n",
        "colours = ['green', 'blue', 'orange', 'red']\n",
        "melt_nature['Nature'] = melt_nature['Nature'].astype('category')\n",
        "labels = melt_nature['Nature'].cat.categories.tolist()\n",
        "\n",
        "\n",
        "axs[0].bar(labels, nature_count, color = colours) # makebar plot\n",
        "\n",
        "sizes = nature_count\n",
        "axs[1].pie(sizes, labels = labels, colors = colours, autopct='%1.1f%%') #make pie plot\n",
        "plt.axis('equal')\n",
        "plt.xlabel('% of accidents', fontsize=12)\n",
        "\n",
        "fig.suptitle(\"Natural event related to accident\") #common title\n",
        "fig.text(0.04, 0.5, 'Number of Accidents', va='center', rotation='vertical') #common y-axis\n",
        "\n",
        "# rotate axes \n",
        "for ax in fig.axes:\n",
        "    matplotlib.pyplot.sca(ax)\n",
        "    plt.xticks(rotation=45)\n",
        "\n",
        "#fig.savefig(data_path +'nature.jpg', bbox_inches='tight', dpi = 600)"
      ],
      "metadata": {
        "colab": {
          "base_uri": "https://localhost:8080/",
          "height": 409
        },
        "id": "rZXGWKTNbSwd",
        "outputId": "f5c87c32-7043-49a3-9e1e-4776d913e381"
      },
      "execution_count": 37,
      "outputs": [
        {
          "output_type": "display_data",
          "data": {
            "text/plain": [
              "<Figure size 720x360 with 2 Axes>"
            ],
            "image/png": "[encoded data removed]"
          },
          "metadata": {
            "needs_background": "light"
          }
        }
      ]
    },
    {
      "cell_type": "code",
      "source": [
        "# attach new variable to main dataframe\n",
        "AAC_serious_type_experience_age_nature = melt_nature.merge(AAC_serious_type_experience_age, how = 'right', on = ['ID', 'Accident Title'])"
      ],
      "metadata": {
        "id": "pOl67czGDsxA"
      },
      "execution_count": 38,
      "outputs": []
    },
    {
      "cell_type": "markdown",
      "source": [
        "## Human causes"
      ],
      "metadata": {
        "id": "4-uT_hkPd8Fc"
      }
    },
    {
      "cell_type": "code",
      "source": [
        "#causes\n",
        "melt_causes = AAC_accidents.melt(id_vars=['ID', 'Accident Title'],\n",
        "                              value_vars=['Non-Ascent Illness', 'Off-route', 'Rushed', 'Run Out',\n",
        "       'Crowds', 'Inadequate Food/Water', 'No Helmet', 'Late in Day',\n",
        "       'Late Start', 'Party Separated', 'Ledge Fall', 'Gym / Artificial',\n",
        "       'Gym Climber', 'Fatigue', 'Large Group', 'Distracted',\n",
        "       'Object Dropped/Dislodged', 'Handhold/Foothold Broke',\n",
        "       'Knot & Tie-in Error', 'No Backup or End Knot', 'Gear Broke',\n",
        "       'Intoxicated', 'Inadequate Equipment', 'Inadequate Protection / Pulled',\n",
        "       'Anchor Failure / Error', 'Stranded / Lost / Overdue', 'Belay Error',\n",
        "       'Rappel Error', 'Lowering Error', 'Miscommunication'],\n",
        "                              var_name = 'Causes')\n",
        "\n",
        "melt_causes = melt_causes.loc[(melt_causes['value'] != 0)]\n",
        "melt_causes = melt_causes.drop('value', 1)\n",
        "melt_causes"
      ],
      "metadata": {
        "colab": {
          "base_uri": "https://localhost:8080/",
          "height": 493
        },
        "id": "D8v5taNtUbQD",
        "outputId": "f6b03e3e-610d-4f61-f7a7-2dc8d01cb597"
      },
      "execution_count": 39,
      "outputs": [
        {
          "output_type": "stream",
          "name": "stderr",
          "text": [
            "/usr/local/lib/python3.7/dist-packages/ipykernel_launcher.py:15: FutureWarning:\n",
            "\n",
            "In a future version of pandas all arguments of DataFrame.drop except for the argument 'labels' will be keyword-only\n",
            "\n"
          ]
        },
        {
          "output_type": "execute_result",
          "data": {
            "text/plain": [
              "          ID                                     Accident Title  \\\n",
              "164      183  Failure to Communicate, Illness, Alaska, Mount...   \n",
              "443      488         Grand Mal Seizures, Alaska, Mount McKinley   \n",
              "512      564  Acute Abdomen, Alaska, Mount McKinley, West Bu...   \n",
              "513      565  Atrial Fibrillation, Alaska, Mount McKinley, W...   \n",
              "618      680  Appendicitis, Alaska, Mount McKinley, Muldrow ...   \n",
              "...      ...                                                ...   \n",
              "82881  1481t  Fall on Rock—Lowering Error, Communication Pro...   \n",
              "82898  1604t  Fall on Rock—Dislocated Knee, Fall on Snow—Una...   \n",
              "82925   189t  Fall on Rock while Rappelling, Miscommunicatio...   \n",
              "82954  2247t  Fall on Rock, Lowering Error \\nMaine, Acadia N...   \n",
              "82957  2269f  Rappel Error - Ropes Uneven and No Knots in En...   \n",
              "\n",
              "                   Causes  \n",
              "164    Non-Ascent Illness  \n",
              "443    Non-Ascent Illness  \n",
              "512    Non-Ascent Illness  \n",
              "513    Non-Ascent Illness  \n",
              "618    Non-Ascent Illness  \n",
              "...                   ...  \n",
              "82881    Miscommunication  \n",
              "82898    Miscommunication  \n",
              "82925    Miscommunication  \n",
              "82954    Miscommunication  \n",
              "82957    Miscommunication  \n",
              "\n",
              "[3907 rows x 3 columns]"
            ],
            "text/html": [
              "\n",
              "  <div id=\"df-49190854-418b-47b8-94c6-661a8eac661f\">\n",
              "    <div class=\"colab-df-container\">\n",
              "      <div>\n",
              "<style scoped>\n",
              "    .dataframe tbody tr th:only-of-type {\n",
              "        vertical-align: middle;\n",
              "    }\n",
              "\n",
              "    .dataframe tbody tr th {\n",
              "        vertical-align: top;\n",
              "    }\n",
              "\n",
              "    .dataframe thead th {\n",
              "        text-align: right;\n",
              "    }\n",
              "</style>\n",
              "<table border=\"1\" class=\"dataframe\">\n",
              "  <thead>\n",
              "    <tr style=\"text-align: right;\">\n",
              "      <th></th>\n",
              "      <th>ID</th>\n",
              "      <th>Accident Title</th>\n",
              "      <th>Causes</th>\n",
              "    </tr>\n",
              "  </thead>\n",
              "  <tbody>\n",
              "    <tr>\n",
              "      <th>164</th>\n",
              "      <td>183</td>\n",
              "      <td>Failure to Communicate, Illness, Alaska, Mount...</td>\n",
              "      <td>Non-Ascent Illness</td>\n",
              "    </tr>\n",
              "    <tr>\n",
              "      <th>443</th>\n",
              "      <td>488</td>\n",
              "      <td>Grand Mal Seizures, Alaska, Mount McKinley</td>\n",
              "      <td>Non-Ascent Illness</td>\n",
              "    </tr>\n",
              "    <tr>\n",
              "      <th>512</th>\n",
              "      <td>564</td>\n",
              "      <td>Acute Abdomen, Alaska, Mount McKinley, West Bu...</td>\n",
              "      <td>Non-Ascent Illness</td>\n",
              "    </tr>\n",
              "    <tr>\n",
              "      <th>513</th>\n",
              "      <td>565</td>\n",
              "      <td>Atrial Fibrillation, Alaska, Mount McKinley, W...</td>\n",
              "      <td>Non-Ascent Illness</td>\n",
              "    </tr>\n",
              "    <tr>\n",
              "      <th>618</th>\n",
              "      <td>680</td>\n",
              "      <td>Appendicitis, Alaska, Mount McKinley, Muldrow ...</td>\n",
              "      <td>Non-Ascent Illness</td>\n",
              "    </tr>\n",
              "    <tr>\n",
              "      <th>...</th>\n",
              "      <td>...</td>\n",
              "      <td>...</td>\n",
              "      <td>...</td>\n",
              "    </tr>\n",
              "    <tr>\n",
              "      <th>82881</th>\n",
              "      <td>1481t</td>\n",
              "      <td>Fall on Rock—Lowering Error, Communication Pro...</td>\n",
              "      <td>Miscommunication</td>\n",
              "    </tr>\n",
              "    <tr>\n",
              "      <th>82898</th>\n",
              "      <td>1604t</td>\n",
              "      <td>Fall on Rock—Dislocated Knee, Fall on Snow—Una...</td>\n",
              "      <td>Miscommunication</td>\n",
              "    </tr>\n",
              "    <tr>\n",
              "      <th>82925</th>\n",
              "      <td>189t</td>\n",
              "      <td>Fall on Rock while Rappelling, Miscommunicatio...</td>\n",
              "      <td>Miscommunication</td>\n",
              "    </tr>\n",
              "    <tr>\n",
              "      <th>82954</th>\n",
              "      <td>2247t</td>\n",
              "      <td>Fall on Rock, Lowering Error \\nMaine, Acadia N...</td>\n",
              "      <td>Miscommunication</td>\n",
              "    </tr>\n",
              "    <tr>\n",
              "      <th>82957</th>\n",
              "      <td>2269f</td>\n",
              "      <td>Rappel Error - Ropes Uneven and No Knots in En...</td>\n",
              "      <td>Miscommunication</td>\n",
              "    </tr>\n",
              "  </tbody>\n",
              "</table>\n",
              "<p>3907 rows × 3 columns</p>\n",
              "</div>\n",
              "      <button class=\"colab-df-convert\" onclick=\"convertToInteractive('df-49190854-418b-47b8-94c6-661a8eac661f')\"\n",
              "              title=\"Convert this dataframe to an interactive table.\"\n",
              "              style=\"display:none;\">\n",
              "        \n",
              "  <svg xmlns=\"http://www.w3.org/2000/svg\" height=\"24px\"viewBox=\"0 0 24 24\"\n",
              "       width=\"24px\">\n",
              "    <path d=\"M0 0h24v24H0V0z\" fill=\"none\"/>\n",
              "    <path d=\"M18.56 5.44l.94 2.06.94-2.06 2.06-.94-2.06-.94-.94-2.06-.94 2.06-2.06.94zm-11 1L8.5 8.5l.94-2.06 2.06-.94-2.06-.94L8.5 2.5l-.94 2.06-2.06.94zm10 10l.94 2.06.94-2.06 2.06-.94-2.06-.94-.94-2.06-.94 2.06-2.06.94z\"/><path d=\"M17.41 7.96l-1.37-1.37c-.4-.4-.92-.59-1.43-.59-.52 0-1.04.2-1.43.59L10.3 9.45l-7.72 7.72c-.78.78-.78 2.05 0 2.83L4 21.41c.39.39.9.59 1.41.59.51 0 1.02-.2 1.41-.59l7.78-7.78 2.81-2.81c.8-.78.8-2.07 0-2.86zM5.41 20L4 18.59l7.72-7.72 1.47 1.35L5.41 20z\"/>\n",
              "  </svg>\n",
              "      </button>\n",
              "      \n",
              "  <style>\n",
              "    .colab-df-container {\n",
              "      display:flex;\n",
              "      flex-wrap:wrap;\n",
              "      gap: 12px;\n",
              "    }\n",
              "\n",
              "    .colab-df-convert {\n",
              "      background-color: #E8F0FE;\n",
              "      border: none;\n",
              "      border-radius: 50%;\n",
              "      cursor: pointer;\n",
              "      display: none;\n",
              "      fill: #1967D2;\n",
              "      height: 32px;\n",
              "      padding: 0 0 0 0;\n",
              "      width: 32px;\n",
              "    }\n",
              "\n",
              "    .colab-df-convert:hover {\n",
              "      background-color: #E2EBFA;\n",
              "      box-shadow: 0px 1px 2px rgba(60, 64, 67, 0.3), 0px 1px 3px 1px rgba(60, 64, 67, 0.15);\n",
              "      fill: #174EA6;\n",
              "    }\n",
              "\n",
              "    [theme=dark] .colab-df-convert {\n",
              "      background-color: #3B4455;\n",
              "      fill: #D2E3FC;\n",
              "    }\n",
              "\n",
              "    [theme=dark] .colab-df-convert:hover {\n",
              "      background-color: #434B5C;\n",
              "      box-shadow: 0px 1px 3px 1px rgba(0, 0, 0, 0.15);\n",
              "      filter: drop-shadow(0px 1px 2px rgba(0, 0, 0, 0.3));\n",
              "      fill: #FFFFFF;\n",
              "    }\n",
              "  </style>\n",
              "\n",
              "      <script>\n",
              "        const buttonEl =\n",
              "          document.querySelector('#df-49190854-418b-47b8-94c6-661a8eac661f button.colab-df-convert');\n",
              "        buttonEl.style.display =\n",
              "          google.colab.kernel.accessAllowed ? 'block' : 'none';\n",
              "\n",
              "        async function convertToInteractive(key) {\n",
              "          const element = document.querySelector('#df-49190854-418b-47b8-94c6-661a8eac661f');\n",
              "          const dataTable =\n",
              "            await google.colab.kernel.invokeFunction('convertToInteractive',\n",
              "                                                     [key], {});\n",
              "          if (!dataTable) return;\n",
              "\n",
              "          const docLinkHtml = 'Like what you see? Visit the ' +\n",
              "            '<a target=\"_blank\" href=https://colab.research.google.com/notebooks/data_table.ipynb>data table notebook</a>'\n",
              "            + ' to learn more about interactive tables.';\n",
              "          element.innerHTML = '';\n",
              "          dataTable['output_type'] = 'display_data';\n",
              "          await google.colab.output.renderOutput(dataTable, element);\n",
              "          const docLink = document.createElement('div');\n",
              "          docLink.innerHTML = docLinkHtml;\n",
              "          element.appendChild(docLink);\n",
              "        }\n",
              "      </script>\n",
              "    </div>\n",
              "  </div>\n",
              "  "
            ]
          },
          "metadata": {},
          "execution_count": 39
        }
      ]
    },
    {
      "cell_type": "markdown",
      "source": [
        "### Figure 2f - Human causes"
      ],
      "metadata": {
        "id": "369mRmGpnSPI"
      }
    },
    {
      "cell_type": "code",
      "source": [
        "causes_count = melt_causes['Causes'].value_counts()\n",
        "#colours = ['green', 'blue', 'orange', 'red']\n",
        "\n",
        "plt.figure(figsize=(10,5))\n",
        "plt.bar(causes_count.index, causes_count.values, alpha=1, color = colours)\n",
        "plt.ylabel('Number of Accidents', fontsize=12)\n",
        "plt.xlabel('Human causes', fontsize=12)\n",
        "plt.xticks(rotation = 90)\n",
        "\n",
        "plt.show()\n",
        "#fig.savefig(data_path +'causes.jpg', bbox_inches='tight', dpi = 600)"
      ],
      "metadata": {
        "colab": {
          "base_uri": "https://localhost:8080/",
          "height": 477
        },
        "id": "DeSAblBbm0vm",
        "outputId": "513b11c9-e4ec-429c-de68-31ff4ca1c12e"
      },
      "execution_count": 40,
      "outputs": [
        {
          "output_type": "display_data",
          "data": {
            "text/plain": [
              "<Figure size 720x360 with 1 Axes>"
            ],
            "image/png": "[encoded data removed]"
          },
          "metadata": {
            "needs_background": "light"
          }
        }
      ]
    },
    {
      "cell_type": "code",
      "source": [
        "# attach new variable to main dataframe\n",
        "AAC_serious_type_experience_age_nature_causes = melt_causes.merge(AAC_serious_type_experience_age_nature, how = 'right', on = ['ID', 'Accident Title'])"
      ],
      "metadata": {
        "id": "4G_vvfpeeETV"
      },
      "execution_count": 41,
      "outputs": []
    },
    {
      "cell_type": "markdown",
      "source": [
        "### Causes merged to seriousness"
      ],
      "metadata": {
        "id": "6QPTw5iRUauv"
      }
    },
    {
      "cell_type": "code",
      "source": [
        "# attach new variable to main dataframe\n",
        "AAC_serious_cause = melt_causes.merge(AAC_serious, how = 'right', on = ['ID', 'Accident Title'])"
      ],
      "metadata": {
        "id": "qj4sVbS-UbQE"
      },
      "execution_count": null,
      "outputs": []
    },
    {
      "cell_type": "markdown",
      "source": [
        "# Crosstabs"
      ],
      "metadata": {
        "id": "iRwy7fQtF6bB"
      }
    },
    {
      "cell_type": "markdown",
      "source": [
        "## Seriousness by type of climbing"
      ],
      "metadata": {
        "id": "Ubu78D1B2ZHx"
      }
    },
    {
      "cell_type": "code",
      "source": [
        "pd.crosstab(AAC_serious_type_experience_age.Seriousness, AAC_serious_type_experience_age.Type_climbing, margins=True, margins_name=\"Total\", \n",
        "            rownames = [\"Seriousness of Accident\"], colnames = [\"Type of Climbing\"])"
      ],
      "metadata": {
        "id": "-Bzt7LkehJVT"
      },
      "execution_count": null,
      "outputs": []
    },
    {
      "cell_type": "code",
      "source": [
        "# heatmap of crosstab\n",
        "sns.heatmap(pd.crosstab(AAC_serious_type_experience_age.Seriousness, AAC_serious_type_experience_age.Type_climbing),\n",
        "            cmap=\"YlGnBu\", annot=True, fmt = \".3g\", cbar=False)"
      ],
      "metadata": {
        "id": "spCXaFJilyfv"
      },
      "execution_count": null,
      "outputs": []
    },
    {
      "cell_type": "code",
      "source": [
        "#import sys\n",
        "#!{sys.executable} -m pip install scipy"
      ],
      "metadata": {
        "id": "1U4rw7nMOQ-T"
      },
      "execution_count": null,
      "outputs": []
    },
    {
      "cell_type": "code",
      "source": [
        "#!pip install scipy"
      ],
      "metadata": {
        "id": "c0Z_LBJ-O70E"
      },
      "execution_count": null,
      "outputs": []
    },
    {
      "cell_type": "code",
      "source": [
        "#pip install scipy"
      ],
      "metadata": {
        "id": "3EUOD14otcgj"
      },
      "execution_count": null,
      "outputs": []
    },
    {
      "cell_type": "code",
      "source": [
        "#pip install --user scipy"
      ],
      "metadata": {
        "id": "frdgwQzitgD9"
      },
      "execution_count": null,
      "outputs": []
    },
    {
      "cell_type": "code",
      "source": [
        "#import scipy"
      ],
      "metadata": {
        "id": "CqTCwbW3Pan0"
      },
      "execution_count": null,
      "outputs": []
    },
    {
      "cell_type": "code",
      "source": [
        "pip install scipy.stats"
      ],
      "metadata": {
        "id": "vz4deOsctw6V"
      },
      "execution_count": null,
      "outputs": []
    },
    {
      "cell_type": "code",
      "source": [
        "from scipy import stats"
      ],
      "metadata": {
        "id": "fXL-Ol95tu3_"
      },
      "execution_count": null,
      "outputs": []
    },
    {
      "cell_type": "code",
      "source": [
        "contingency = pd.crosstab(AAC_serious_type_experience_age.Seriousness, AAC_serious_type_experience_age.Type_climbing)\n",
        "# Chi-square test of independence. \n",
        "chi2, p, dof, expected = stats.chi2_contingency(contingency) \n",
        "# Print the p-value\n",
        "print(p)"
      ],
      "metadata": {
        "id": "55QUOdS7OGnb"
      },
      "execution_count": null,
      "outputs": []
    },
    {
      "cell_type": "markdown",
      "source": [
        "## Seriouness by experience"
      ],
      "metadata": {
        "id": "2k6S96Gt3CM8"
      }
    },
    {
      "cell_type": "code",
      "source": [
        "pd.crosstab(AAC_serious_type_experience_age.Seriousness, AAC_serious_type_experience_age.Experience, margins=True, margins_name=\"Total\", \n",
        "            rownames = [\"Seriousness of Accident\"], colnames = [\"Experience\"])"
      ],
      "metadata": {
        "id": "btJprmS63GGF"
      },
      "execution_count": null,
      "outputs": []
    },
    {
      "cell_type": "code",
      "source": [
        "# heatmap of crosstab\n",
        "sns.heatmap(pd.crosstab(AAC_serious_type_experience_age.Seriousness, AAC_serious_type_experience_age.Experience),\n",
        "            cmap=\"YlGnBu\", annot=True, fmt = \".3g\", cbar=False)"
      ],
      "metadata": {
        "id": "tiU8WIbV3GGF"
      },
      "execution_count": null,
      "outputs": []
    },
    {
      "cell_type": "code",
      "source": [
        "contingency = pd.crosstab(AAC_serious_type_experience_age.Seriousness, AAC_serious_type_experience_age.Experience)\n",
        "# Chi-square test of independence. \n",
        "chi2, p, dof, expected = stats.chi2_contingency(contingency) \n",
        "# Print the p-value\n",
        "print(p)"
      ],
      "metadata": {
        "id": "tHs4qNLy3GGG"
      },
      "execution_count": null,
      "outputs": []
    },
    {
      "cell_type": "markdown",
      "source": [
        "## Seriousness by age"
      ],
      "metadata": {
        "id": "2S4m4t1o5MQi"
      }
    },
    {
      "cell_type": "code",
      "source": [
        "pd.crosstab(AAC_serious_type_experience_age.Seriousness, AAC_serious_type_experience_age.Age, margins=True, margins_name=\"Total\", \n",
        "            rownames = [\"Seriousness of Accident\"], colnames = [\"Age\"])"
      ],
      "metadata": {
        "id": "FIyhx1qU4_vt"
      },
      "execution_count": null,
      "outputs": []
    },
    {
      "cell_type": "code",
      "source": [
        "# heatmap of crosstab\n",
        "sns.heatmap(pd.crosstab(AAC_serious_type_experience_age.Seriousness, AAC_serious_type_experience_age.Age),\n",
        "            cmap=\"YlGnBu\", annot=True, fmt = \".3g\", cbar=False)"
      ],
      "metadata": {
        "id": "SYm0UqZ44_vt"
      },
      "execution_count": null,
      "outputs": []
    },
    {
      "cell_type": "code",
      "source": [
        "contingency = pd.crosstab(AAC_serious_type_experience_age.Seriousness, AAC_serious_type_experience_age.Age)\n",
        "# Chi-square test of independence. \n",
        "chi2, p, dof, expected = stats.chi2_contingency(contingency) \n",
        "# Print the p-value\n",
        "print(p)"
      ],
      "metadata": {
        "id": "tDqSU2l34_vt"
      },
      "execution_count": null,
      "outputs": []
    },
    {
      "cell_type": "markdown",
      "source": [
        "# MCA"
      ],
      "metadata": {
        "id": "B9iwTGn-5Zdp"
      }
    },
    {
      "cell_type": "markdown",
      "source": [
        "## MCA seriousness, type of climbing, experience"
      ],
      "metadata": {
        "id": "W_ZIZf8muu-A"
      }
    },
    {
      "cell_type": "code",
      "source": [
        "# select columns\n",
        "MCA_serious= AAC_serious_type_experience_age_nature_causes[[\"Seriousness\", \"Type_climbing\", \"Experience\"]]"
      ],
      "metadata": {
        "id": "5Nhxa_Truu-B"
      },
      "execution_count": null,
      "outputs": []
    },
    {
      "cell_type": "code",
      "source": [
        "# drop NA because MCA does not take NA\n",
        "MCA_serious = MCA_serious.dropna()\n",
        "MCA_serious"
      ],
      "metadata": {
        "id": "TMmU4nbNuu-B"
      },
      "execution_count": null,
      "outputs": []
    },
    {
      "cell_type": "code",
      "source": [
        "mca = prince.MCA()"
      ],
      "metadata": {
        "id": "HcCOcEm0uu-B"
      },
      "execution_count": null,
      "outputs": []
    },
    {
      "cell_type": "code",
      "source": [
        "mca = mca.fit(MCA_serious)\n",
        "mca = mca.transform(MCA_serious) # same as calling ca.fs_r_sup(df_new) for *another* test set.\n",
        "print(mca)\n"
      ],
      "metadata": {
        "id": "mx1G6p5duu-B"
      },
      "execution_count": null,
      "outputs": []
    },
    {
      "cell_type": "code",
      "source": [
        "mca = prince.MCA()\n",
        "mca = mca.fit(MCA_serious)"
      ],
      "metadata": {
        "id": "9g-5h7DQuu-B"
      },
      "execution_count": null,
      "outputs": []
    },
    {
      "cell_type": "code",
      "source": [
        "ax = mca.plot_coordinates(\n",
        "     X=MCA_serious,\n",
        "     ax=None,\n",
        "     figsize=(15, 15),\n",
        "     show_row_points=False,\n",
        "     row_points_size=10,\n",
        "     show_row_labels=False,\n",
        "     show_column_points=True,\n",
        "     column_points_size=100,\n",
        "     show_column_labels=True,\n",
        "     legend_n_cols=1\n",
        "     )"
      ],
      "metadata": {
        "id": "0CsPByhWuu-B"
      },
      "execution_count": null,
      "outputs": []
    },
    {
      "cell_type": "code",
      "source": [
        "mca.explained_inertia_"
      ],
      "metadata": {
        "id": "d04SYtomuu-B"
      },
      "execution_count": null,
      "outputs": []
    },
    {
      "cell_type": "code",
      "source": [
        "# there's a lot of duplicate accidents in our new dataframe \n",
        "#ids = AAC_accidents5[\"ID\"]\n",
        "\n",
        "#AAC_accidents5[ids.isin(ids[ids.duplicated()])].sort_values(\"ID\")"
      ],
      "metadata": {
        "id": "CzmjNFCa5Zd0"
      },
      "execution_count": null,
      "outputs": []
    },
    {
      "cell_type": "code",
      "source": [
        "# select columns\n",
        "MCA_main_cat = AAC_serious_type_experience_age[[\"Experience\", \"Type_climbing\", \"Seriousness\", \"Age\"]]"
      ],
      "metadata": {
        "id": "qC_Sp2rp5Zd0"
      },
      "execution_count": null,
      "outputs": []
    },
    {
      "cell_type": "code",
      "source": [
        "# frop NA because MCA does not take NA: only 867 accidents left\n",
        "MCA_main_cat = MCA_main_cat.dropna()\n",
        "MCA_main_cat"
      ],
      "metadata": {
        "id": "1lJoetHuFpvC"
      },
      "execution_count": null,
      "outputs": []
    },
    {
      "cell_type": "code",
      "source": [
        "#pip install prince"
      ],
      "metadata": {
        "id": "cSTcsYe-Feoy"
      },
      "execution_count": null,
      "outputs": []
    },
    {
      "cell_type": "code",
      "source": [
        "#import prince"
      ],
      "metadata": {
        "id": "U6nu_Q7JFgvH"
      },
      "execution_count": null,
      "outputs": []
    },
    {
      "cell_type": "code",
      "source": [
        "mca = prince.MCA()"
      ],
      "metadata": {
        "id": "qKCajzvp5Zd1"
      },
      "execution_count": null,
      "outputs": []
    },
    {
      "cell_type": "code",
      "source": [
        "mca = mca.fit(MCA_main_cat)\n",
        "mca = mca.transform(MCA_main_cat) # same as calling ca.fs_r_sup(df_new) for *another* test set.\n",
        "print(mca)\n"
      ],
      "metadata": {
        "id": "8YT13lZR5Zd1"
      },
      "execution_count": null,
      "outputs": []
    },
    {
      "cell_type": "code",
      "source": [
        "mca = prince.MCA()\n",
        "mca = mca.fit(MCA_main_cat)"
      ],
      "metadata": {
        "id": "RbZc-NLU5Zd1"
      },
      "execution_count": null,
      "outputs": []
    },
    {
      "cell_type": "markdown",
      "source": [
        "Is everything squished because there's a lot of overlap in the points?"
      ],
      "metadata": {
        "id": "vOf0e7LE5Zd1"
      }
    },
    {
      "cell_type": "code",
      "source": [
        "ax = mca.plot_coordinates(\n",
        "     X=MCA_main_cat,\n",
        "     ax=None,\n",
        "     figsize=(15, 15),\n",
        "     show_row_points=False,\n",
        "     row_points_size=10,\n",
        "     show_row_labels=False,\n",
        "     show_column_points=True,\n",
        "     column_points_size=100,\n",
        "     show_column_labels=True,\n",
        "     legend_n_cols=1\n",
        "     )"
      ],
      "metadata": {
        "id": "K1auNyf55Zd1"
      },
      "execution_count": null,
      "outputs": []
    },
    {
      "cell_type": "markdown",
      "source": [
        "## MCA causes and seriousness"
      ],
      "metadata": {
        "id": "Ou7xSZWVPdvU"
      }
    },
    {
      "cell_type": "code",
      "source": [
        "# select columns\n",
        "MCA_causes = AAC_serious_cause[[\"Seriousness\", \"Causes\"]]"
      ],
      "metadata": {
        "id": "5f5LZWhCOYu-"
      },
      "execution_count": null,
      "outputs": []
    },
    {
      "cell_type": "code",
      "source": [
        "# drop NA because MCA does not take NA\n",
        "MCA_causes = MCA_causes.dropna()\n",
        "MCA_causes"
      ],
      "metadata": {
        "id": "Zxm01T7SOYu-"
      },
      "execution_count": null,
      "outputs": []
    },
    {
      "cell_type": "code",
      "source": [
        "mca = prince.MCA()"
      ],
      "metadata": {
        "id": "BAQ8EvHdOYu-"
      },
      "execution_count": null,
      "outputs": []
    },
    {
      "cell_type": "code",
      "source": [
        "mca = mca.fit(MCA_causes)\n",
        "mca = mca.transform(MCA_causes) # same as calling ca.fs_r_sup(df_new) for *another* test set.\n",
        "print(mca)\n"
      ],
      "metadata": {
        "id": "gKAjsPYpOYu-"
      },
      "execution_count": null,
      "outputs": []
    },
    {
      "cell_type": "code",
      "source": [
        "mca = prince.MCA()\n",
        "mca = mca.fit(MCA_causes)"
      ],
      "metadata": {
        "id": "bexaAWtBOYu-"
      },
      "execution_count": null,
      "outputs": []
    },
    {
      "cell_type": "code",
      "source": [
        "ax = mca.plot_coordinates(\n",
        "     X=MCA_causes,\n",
        "     ax=None,\n",
        "     figsize=(15, 15),\n",
        "     show_row_points=False,\n",
        "     row_points_size=10,\n",
        "     show_row_labels=False,\n",
        "     show_column_points=True,\n",
        "     column_points_size=100,\n",
        "     show_column_labels=True,\n",
        "     legend_n_cols=1\n",
        "     )"
      ],
      "metadata": {
        "id": "ZJtv1gemOYu_"
      },
      "execution_count": null,
      "outputs": []
    },
    {
      "cell_type": "code",
      "source": [
        "mca.explained_inertia_"
      ],
      "metadata": {
        "id": "x9pC-AUmbMtc"
      },
      "execution_count": null,
      "outputs": []
    },
    {
      "cell_type": "markdown",
      "source": [
        "## MCA causes, seriousness, type of climbing, experience"
      ],
      "metadata": {
        "id": "d3OU-rqJbkrW"
      }
    },
    {
      "cell_type": "code",
      "source": [
        "# select columns to be included in MCA\n",
        "MCA_causes = AAC_serious_type_experience_age_nature_causes[['Seriousness', 'Type_climbing', 'Experience', 'Causes']]"
      ],
      "metadata": {
        "id": "PuUR4_Sfbc5Q"
      },
      "execution_count": null,
      "outputs": []
    },
    {
      "cell_type": "code",
      "source": [
        "# drop NA because MCA does not take NA: only 1675 accidents left\n",
        "MCA_causes = MCA_causes.dropna()\n",
        "MCA_causes"
      ],
      "metadata": {
        "id": "1-Y7xYI3bc5R"
      },
      "execution_count": null,
      "outputs": []
    },
    {
      "cell_type": "code",
      "source": [
        "mca = prince.MCA()"
      ],
      "metadata": {
        "id": "-fKLCajObc5R"
      },
      "execution_count": null,
      "outputs": []
    },
    {
      "cell_type": "code",
      "source": [
        "mca = mca.fit(MCA_causes)\n",
        "mca = mca.transform(MCA_causes) # same as calling ca.fs_r_sup(df_new) for *another* test set.\n",
        "print(mca)\n"
      ],
      "metadata": {
        "id": "omxtrqV1bc5R"
      },
      "execution_count": null,
      "outputs": []
    },
    {
      "cell_type": "code",
      "source": [
        "mca = prince.MCA()\n",
        "mca = mca.fit(MCA_causes)"
      ],
      "metadata": {
        "id": "NFovqF2Qbc5R"
      },
      "execution_count": null,
      "outputs": []
    },
    {
      "cell_type": "code",
      "source": [
        "#plt.plot(np.cumsum(mca.explained_variance_ratio_))\n",
        "plt.xlabel('number of components')\n",
        "plt.ylabel('cumulative explained variance')"
      ],
      "metadata": {
        "id": "mREt1vDQs335"
      },
      "execution_count": null,
      "outputs": []
    },
    {
      "cell_type": "code",
      "source": [
        "mca = MCA().fit(digits.data)\n",
        "plt.plot(np.cumsum(mca.explained_variance_ratio_))\n",
        "plt.xlabel('number of components')\n",
        "plt.ylabel('cumulative explained variance');"
      ],
      "metadata": {
        "id": "z0_khIZzs1Q9"
      },
      "execution_count": null,
      "outputs": []
    },
    {
      "cell_type": "code",
      "source": [
        "ax = mca.plot_coordinates(\n",
        "     X=MCA_causes,\n",
        "     ax=None,\n",
        "     figsize=(15, 15),\n",
        "     show_row_points=False,\n",
        "     row_points_size=10,\n",
        "     show_row_labels=False,\n",
        "     show_column_points=True,\n",
        "     column_points_size=100,\n",
        "     show_column_labels=True,\n",
        "     legend_n_cols=1\n",
        "     )"
      ],
      "metadata": {
        "id": "XWox5Ibibc5R"
      },
      "execution_count": null,
      "outputs": []
    },
    {
      "cell_type": "code",
      "source": [
        "mca.eigenvalues_"
      ],
      "metadata": {
        "colab": {
          "base_uri": "https://localhost:8080/"
        },
        "id": "umRJdb8jNQ5X",
        "outputId": "53f1a6a4-7892-4aec-d48b-91d39f001ef4"
      },
      "execution_count": null,
      "outputs": [
        {
          "output_type": "execute_result",
          "data": {
            "text/plain": [
              "[0.5672691337628497, 0.5241901689666112]"
            ]
          },
          "metadata": {},
          "execution_count": 128
        }
      ]
    },
    {
      "cell_type": "code",
      "source": [
        "# make scree plot explained variance per dimension (only if you have more than 1 dimension?)"
      ],
      "metadata": {
        "id": "YJZrDBuJLnAe"
      },
      "execution_count": null,
      "outputs": []
    },
    {
      "cell_type": "markdown",
      "source": [
        "# Main analysis\n",
        "\n",
        "Going to practice it before recoding all the data.\n",
        "\n"
      ],
      "metadata": {
        "id": "H8zo9QAgngs8"
      }
    },
    {
      "cell_type": "code",
      "source": [
        "#pip install prince"
      ],
      "metadata": {
        "colab": {
          "base_uri": "https://localhost:8080/"
        },
        "id": "D0ROWhABXYrl",
        "outputId": "760c375d-3bde-4579-e2d0-88afff337de0"
      },
      "execution_count": null,
      "outputs": [
        {
          "output_type": "stream",
          "name": "stdout",
          "text": [
            "Looking in indexes: https://pypi.org/simple, https://us-python.pkg.dev/colab-wheels/public/simple/\n",
            "Collecting prince\n",
            "  Downloading prince-0.7.1-py3-none-any.whl (21 kB)\n",
            "Requirement already satisfied: numpy>=1.17.1 in /usr/local/lib/python3.7/dist-packages (from prince) (1.21.6)\n",
            "Requirement already satisfied: scipy>=1.3.0 in /usr/local/lib/python3.7/dist-packages (from prince) (1.4.1)\n",
            "Requirement already satisfied: scikit-learn>=0.22.1 in /usr/local/lib/python3.7/dist-packages (from prince) (1.0.2)\n",
            "Requirement already satisfied: pandas>=1.0.3 in /usr/local/lib/python3.7/dist-packages (from prince) (1.3.5)\n",
            "Requirement already satisfied: matplotlib>=3.0.2 in /usr/local/lib/python3.7/dist-packages (from prince) (3.2.2)\n",
            "Requirement already satisfied: python-dateutil>=2.1 in /usr/local/lib/python3.7/dist-packages (from matplotlib>=3.0.2->prince) (2.8.2)\n",
            "Requirement already satisfied: kiwisolver>=1.0.1 in /usr/local/lib/python3.7/dist-packages (from matplotlib>=3.0.2->prince) (1.4.3)\n",
            "Requirement already satisfied: cycler>=0.10 in /usr/local/lib/python3.7/dist-packages (from matplotlib>=3.0.2->prince) (0.11.0)\n",
            "Requirement already satisfied: pyparsing!=2.0.4,!=2.1.2,!=2.1.6,>=2.0.1 in /usr/local/lib/python3.7/dist-packages (from matplotlib>=3.0.2->prince) (3.0.9)\n",
            "Requirement already satisfied: typing-extensions in /usr/local/lib/python3.7/dist-packages (from kiwisolver>=1.0.1->matplotlib>=3.0.2->prince) (4.1.1)\n",
            "Requirement already satisfied: pytz>=2017.3 in /usr/local/lib/python3.7/dist-packages (from pandas>=1.0.3->prince) (2022.1)\n",
            "Requirement already satisfied: six>=1.5 in /usr/local/lib/python3.7/dist-packages (from python-dateutil>=2.1->matplotlib>=3.0.2->prince) (1.15.0)\n",
            "Requirement already satisfied: threadpoolctl>=2.0.0 in /usr/local/lib/python3.7/dist-packages (from scikit-learn>=0.22.1->prince) (3.1.0)\n",
            "Requirement already satisfied: joblib>=0.11 in /usr/local/lib/python3.7/dist-packages (from scikit-learn>=0.22.1->prince) (1.1.0)\n",
            "Installing collected packages: prince\n",
            "Successfully installed prince-0.7.1\n"
          ]
        }
      ]
    },
    {
      "cell_type": "code",
      "source": [
        "#import prince"
      ],
      "metadata": {
        "id": "R7UFHs8fTF-c"
      },
      "execution_count": null,
      "outputs": []
    },
    {
      "cell_type": "code",
      "source": [
        "data = pd.read_csv('https://raw.githubusercontent.com/esafak/mca/master/data/burgundies.csv',\n",
        "                   sep=',', skiprows=1, index_col=0, header=0)\n",
        "data.head()\n",
        "\n",
        "X = data.drop('oak_type', axis=1)\n",
        "j_sup = data.oak_type\n",
        "i_sup = np.array([0, 1, 0, 1, 0, .5, .5, 1, 0, 1, 0, 0, 1, 0, .5, .5, 1, 0, .5, .5, 0, 1])\n",
        "ncols = 10\n",
        "\n",
        "X.shape, j_sup.shape, i_sup.shape"
      ],
      "metadata": {
        "colab": {
          "base_uri": "https://localhost:8080/"
        },
        "id": "Yeyk1U8aPZUC",
        "outputId": "3522ccaf-f8dd-4451-982b-1ad06584e78d"
      },
      "execution_count": null,
      "outputs": [
        {
          "output_type": "execute_result",
          "data": {
            "text/plain": [
              "((6, 22), (6,), (22,))"
            ]
          },
          "metadata": {},
          "execution_count": 45
        }
      ]
    },
    {
      "cell_type": "code",
      "source": [
        "src_index = (['Expert 1'] * 7 + ['Expert 2'] * 9 + ['Expert 3'] * 6)\n",
        "var_index = (['fruity'] * 2 + ['woody'] * 3 + ['coffee'] * 2 + ['fruity'] * 2\n",
        "             + ['roasted'] * 2 + ['vanillin'] * 3 + ['woody'] * 2 + ['fruity'] * 2\n",
        "             + ['butter'] * 2 + ['woody'] * 2)\n",
        "yn = ['y','n']; rg = ['1', '2', '3']; val_index = yn + rg + yn*3 + rg + yn*4\n",
        "col_index = pd.MultiIndex.from_arrays([src_index, var_index, val_index], \n",
        "                                      names=['source', 'variable', 'value'])\n",
        "\n",
        "table1 = pd.DataFrame(data=X.values, index=X.index, columns=col_index)\n",
        "table1.loc['W?'] = i_sup\n",
        "table1['','Oak Type',''] = j_sup\n",
        "\n",
        "table1"
      ],
      "metadata": {
        "colab": {
          "base_uri": "https://localhost:8080/",
          "height": 392
        },
        "id": "E5OLHLuLRTLK",
        "outputId": "1116662e-a406-4388-aead-8398ef70f8db"
      },
      "execution_count": null,
      "outputs": [
        {
          "output_type": "execute_result",
          "data": {
            "text/plain": [
              "source   Expert 1                                  Expert 2               ...  \\\n",
              "variable   fruity      woody           coffee        fruity      roasted  ...   \n",
              "value           y    n     1    2    3      y    n        y    n       y  ...   \n",
              "Wine                                                                      ...   \n",
              "W1            1.0  0.0   0.0  0.0  1.0    0.0  1.0      1.0  0.0     0.0  ...   \n",
              "W2            0.0  1.0   0.0  1.0  0.0    1.0  0.0      0.0  1.0     1.0  ...   \n",
              "W3            0.0  1.0   1.0  0.0  0.0    1.0  0.0      0.0  1.0     1.0  ...   \n",
              "W4            0.0  1.0   1.0  0.0  0.0    1.0  0.0      0.0  1.0     1.0  ...   \n",
              "W5            1.0  0.0   0.0  0.0  1.0    0.0  1.0      1.0  0.0     0.0  ...   \n",
              "W6            1.0  0.0   0.0  1.0  0.0    0.0  1.0      1.0  0.0     0.0  ...   \n",
              "W?            0.0  1.0   0.0  1.0  0.0    0.5  0.5      1.0  0.0     1.0  ...   \n",
              "\n",
              "source                       Expert 3                                       \n",
              "variable vanillin woody        fruity      butter      woody      Oak Type  \n",
              "value           3     y    n        y    n      y    n     y    n           \n",
              "Wine                                                                        \n",
              "W1            1.0   0.0  1.0      0.0  1.0    0.0  1.0   0.0  1.0      1.0  \n",
              "W2            0.0   1.0  0.0      0.0  1.0    1.0  0.0   1.0  0.0      2.0  \n",
              "W3            0.0   1.0  0.0      0.0  1.0    1.0  0.0   1.0  0.0      2.0  \n",
              "W4            0.0   1.0  0.0      1.0  0.0    1.0  0.0   1.0  0.0      2.0  \n",
              "W5            1.0   0.0  1.0      1.0  0.0    0.0  1.0   0.0  1.0      1.0  \n",
              "W6            0.0   0.0  1.0      1.0  0.0    0.0  1.0   0.0  1.0      1.0  \n",
              "W?            0.0   0.5  0.5      1.0  0.0    0.5  0.5   0.0  1.0      NaN  \n",
              "\n",
              "[7 rows x 23 columns]"
            ],
            "text/html": [
              "\n",
              "  <div id=\"df-6b2f0910-2d2d-43e1-b5ac-8ec7d02dc9d1\">\n",
              "    <div class=\"colab-df-container\">\n",
              "      <div>\n",
              "<style scoped>\n",
              "    .dataframe tbody tr th:only-of-type {\n",
              "        vertical-align: middle;\n",
              "    }\n",
              "\n",
              "    .dataframe tbody tr th {\n",
              "        vertical-align: top;\n",
              "    }\n",
              "\n",
              "    .dataframe thead tr th {\n",
              "        text-align: left;\n",
              "    }\n",
              "\n",
              "    .dataframe thead tr:last-of-type th {\n",
              "        text-align: right;\n",
              "    }\n",
              "</style>\n",
              "<table border=\"1\" class=\"dataframe\">\n",
              "  <thead>\n",
              "    <tr>\n",
              "      <th>source</th>\n",
              "      <th colspan=\"7\" halign=\"left\">Expert 1</th>\n",
              "      <th colspan=\"7\" halign=\"left\">Expert 2</th>\n",
              "      <th colspan=\"6\" halign=\"left\">Expert 3</th>\n",
              "      <th></th>\n",
              "    </tr>\n",
              "    <tr>\n",
              "      <th>variable</th>\n",
              "      <th colspan=\"2\" halign=\"left\">fruity</th>\n",
              "      <th colspan=\"3\" halign=\"left\">woody</th>\n",
              "      <th colspan=\"2\" halign=\"left\">coffee</th>\n",
              "      <th colspan=\"2\" halign=\"left\">fruity</th>\n",
              "      <th>roasted</th>\n",
              "      <th>...</th>\n",
              "      <th>vanillin</th>\n",
              "      <th colspan=\"2\" halign=\"left\">woody</th>\n",
              "      <th colspan=\"2\" halign=\"left\">fruity</th>\n",
              "      <th colspan=\"2\" halign=\"left\">butter</th>\n",
              "      <th colspan=\"2\" halign=\"left\">woody</th>\n",
              "      <th>Oak Type</th>\n",
              "    </tr>\n",
              "    <tr>\n",
              "      <th>value</th>\n",
              "      <th>y</th>\n",
              "      <th>n</th>\n",
              "      <th>1</th>\n",
              "      <th>2</th>\n",
              "      <th>3</th>\n",
              "      <th>y</th>\n",
              "      <th>n</th>\n",
              "      <th>y</th>\n",
              "      <th>n</th>\n",
              "      <th>y</th>\n",
              "      <th>...</th>\n",
              "      <th>3</th>\n",
              "      <th>y</th>\n",
              "      <th>n</th>\n",
              "      <th>y</th>\n",
              "      <th>n</th>\n",
              "      <th>y</th>\n",
              "      <th>n</th>\n",
              "      <th>y</th>\n",
              "      <th>n</th>\n",
              "      <th></th>\n",
              "    </tr>\n",
              "    <tr>\n",
              "      <th>Wine</th>\n",
              "      <th></th>\n",
              "      <th></th>\n",
              "      <th></th>\n",
              "      <th></th>\n",
              "      <th></th>\n",
              "      <th></th>\n",
              "      <th></th>\n",
              "      <th></th>\n",
              "      <th></th>\n",
              "      <th></th>\n",
              "      <th></th>\n",
              "      <th></th>\n",
              "      <th></th>\n",
              "      <th></th>\n",
              "      <th></th>\n",
              "      <th></th>\n",
              "      <th></th>\n",
              "      <th></th>\n",
              "      <th></th>\n",
              "      <th></th>\n",
              "      <th></th>\n",
              "    </tr>\n",
              "  </thead>\n",
              "  <tbody>\n",
              "    <tr>\n",
              "      <th>W1</th>\n",
              "      <td>1.0</td>\n",
              "      <td>0.0</td>\n",
              "      <td>0.0</td>\n",
              "      <td>0.0</td>\n",
              "      <td>1.0</td>\n",
              "      <td>0.0</td>\n",
              "      <td>1.0</td>\n",
              "      <td>1.0</td>\n",
              "      <td>0.0</td>\n",
              "      <td>0.0</td>\n",
              "      <td>...</td>\n",
              "      <td>1.0</td>\n",
              "      <td>0.0</td>\n",
              "      <td>1.0</td>\n",
              "      <td>0.0</td>\n",
              "      <td>1.0</td>\n",
              "      <td>0.0</td>\n",
              "      <td>1.0</td>\n",
              "      <td>0.0</td>\n",
              "      <td>1.0</td>\n",
              "      <td>1.0</td>\n",
              "    </tr>\n",
              "    <tr>\n",
              "      <th>W2</th>\n",
              "      <td>0.0</td>\n",
              "      <td>1.0</td>\n",
              "      <td>0.0</td>\n",
              "      <td>1.0</td>\n",
              "      <td>0.0</td>\n",
              "      <td>1.0</td>\n",
              "      <td>0.0</td>\n",
              "      <td>0.0</td>\n",
              "      <td>1.0</td>\n",
              "      <td>1.0</td>\n",
              "      <td>...</td>\n",
              "      <td>0.0</td>\n",
              "      <td>1.0</td>\n",
              "      <td>0.0</td>\n",
              "      <td>0.0</td>\n",
              "      <td>1.0</td>\n",
              "      <td>1.0</td>\n",
              "      <td>0.0</td>\n",
              "      <td>1.0</td>\n",
              "      <td>0.0</td>\n",
              "      <td>2.0</td>\n",
              "    </tr>\n",
              "    <tr>\n",
              "      <th>W3</th>\n",
              "      <td>0.0</td>\n",
              "      <td>1.0</td>\n",
              "      <td>1.0</td>\n",
              "      <td>0.0</td>\n",
              "      <td>0.0</td>\n",
              "      <td>1.0</td>\n",
              "      <td>0.0</td>\n",
              "      <td>0.0</td>\n",
              "      <td>1.0</td>\n",
              "      <td>1.0</td>\n",
              "      <td>...</td>\n",
              "      <td>0.0</td>\n",
              "      <td>1.0</td>\n",
              "      <td>0.0</td>\n",
              "      <td>0.0</td>\n",
              "      <td>1.0</td>\n",
              "      <td>1.0</td>\n",
              "      <td>0.0</td>\n",
              "      <td>1.0</td>\n",
              "      <td>0.0</td>\n",
              "      <td>2.0</td>\n",
              "    </tr>\n",
              "    <tr>\n",
              "      <th>W4</th>\n",
              "      <td>0.0</td>\n",
              "      <td>1.0</td>\n",
              "      <td>1.0</td>\n",
              "      <td>0.0</td>\n",
              "      <td>0.0</td>\n",
              "      <td>1.0</td>\n",
              "      <td>0.0</td>\n",
              "      <td>0.0</td>\n",
              "      <td>1.0</td>\n",
              "      <td>1.0</td>\n",
              "      <td>...</td>\n",
              "      <td>0.0</td>\n",
              "      <td>1.0</td>\n",
              "      <td>0.0</td>\n",
              "      <td>1.0</td>\n",
              "      <td>0.0</td>\n",
              "      <td>1.0</td>\n",
              "      <td>0.0</td>\n",
              "      <td>1.0</td>\n",
              "      <td>0.0</td>\n",
              "      <td>2.0</td>\n",
              "    </tr>\n",
              "    <tr>\n",
              "      <th>W5</th>\n",
              "      <td>1.0</td>\n",
              "      <td>0.0</td>\n",
              "      <td>0.0</td>\n",
              "      <td>0.0</td>\n",
              "      <td>1.0</td>\n",
              "      <td>0.0</td>\n",
              "      <td>1.0</td>\n",
              "      <td>1.0</td>\n",
              "      <td>0.0</td>\n",
              "      <td>0.0</td>\n",
              "      <td>...</td>\n",
              "      <td>1.0</td>\n",
              "      <td>0.0</td>\n",
              "      <td>1.0</td>\n",
              "      <td>1.0</td>\n",
              "      <td>0.0</td>\n",
              "      <td>0.0</td>\n",
              "      <td>1.0</td>\n",
              "      <td>0.0</td>\n",
              "      <td>1.0</td>\n",
              "      <td>1.0</td>\n",
              "    </tr>\n",
              "    <tr>\n",
              "      <th>W6</th>\n",
              "      <td>1.0</td>\n",
              "      <td>0.0</td>\n",
              "      <td>0.0</td>\n",
              "      <td>1.0</td>\n",
              "      <td>0.0</td>\n",
              "      <td>0.0</td>\n",
              "      <td>1.0</td>\n",
              "      <td>1.0</td>\n",
              "      <td>0.0</td>\n",
              "      <td>0.0</td>\n",
              "      <td>...</td>\n",
              "      <td>0.0</td>\n",
              "      <td>0.0</td>\n",
              "      <td>1.0</td>\n",
              "      <td>1.0</td>\n",
              "      <td>0.0</td>\n",
              "      <td>0.0</td>\n",
              "      <td>1.0</td>\n",
              "      <td>0.0</td>\n",
              "      <td>1.0</td>\n",
              "      <td>1.0</td>\n",
              "    </tr>\n",
              "    <tr>\n",
              "      <th>W?</th>\n",
              "      <td>0.0</td>\n",
              "      <td>1.0</td>\n",
              "      <td>0.0</td>\n",
              "      <td>1.0</td>\n",
              "      <td>0.0</td>\n",
              "      <td>0.5</td>\n",
              "      <td>0.5</td>\n",
              "      <td>1.0</td>\n",
              "      <td>0.0</td>\n",
              "      <td>1.0</td>\n",
              "      <td>...</td>\n",
              "      <td>0.0</td>\n",
              "      <td>0.5</td>\n",
              "      <td>0.5</td>\n",
              "      <td>1.0</td>\n",
              "      <td>0.0</td>\n",
              "      <td>0.5</td>\n",
              "      <td>0.5</td>\n",
              "      <td>0.0</td>\n",
              "      <td>1.0</td>\n",
              "      <td>NaN</td>\n",
              "    </tr>\n",
              "  </tbody>\n",
              "</table>\n",
              "<p>7 rows × 23 columns</p>\n",
              "</div>\n",
              "      <button class=\"colab-df-convert\" onclick=\"convertToInteractive('df-6b2f0910-2d2d-43e1-b5ac-8ec7d02dc9d1')\"\n",
              "              title=\"Convert this dataframe to an interactive table.\"\n",
              "              style=\"display:none;\">\n",
              "        \n",
              "  <svg xmlns=\"http://www.w3.org/2000/svg\" height=\"24px\"viewBox=\"0 0 24 24\"\n",
              "       width=\"24px\">\n",
              "    <path d=\"M0 0h24v24H0V0z\" fill=\"none\"/>\n",
              "    <path d=\"M18.56 5.44l.94 2.06.94-2.06 2.06-.94-2.06-.94-.94-2.06-.94 2.06-2.06.94zm-11 1L8.5 8.5l.94-2.06 2.06-.94-2.06-.94L8.5 2.5l-.94 2.06-2.06.94zm10 10l.94 2.06.94-2.06 2.06-.94-2.06-.94-.94-2.06-.94 2.06-2.06.94z\"/><path d=\"M17.41 7.96l-1.37-1.37c-.4-.4-.92-.59-1.43-.59-.52 0-1.04.2-1.43.59L10.3 9.45l-7.72 7.72c-.78.78-.78 2.05 0 2.83L4 21.41c.39.39.9.59 1.41.59.51 0 1.02-.2 1.41-.59l7.78-7.78 2.81-2.81c.8-.78.8-2.07 0-2.86zM5.41 20L4 18.59l7.72-7.72 1.47 1.35L5.41 20z\"/>\n",
              "  </svg>\n",
              "      </button>\n",
              "      \n",
              "  <style>\n",
              "    .colab-df-container {\n",
              "      display:flex;\n",
              "      flex-wrap:wrap;\n",
              "      gap: 12px;\n",
              "    }\n",
              "\n",
              "    .colab-df-convert {\n",
              "      background-color: #E8F0FE;\n",
              "      border: none;\n",
              "      border-radius: 50%;\n",
              "      cursor: pointer;\n",
              "      display: none;\n",
              "      fill: #1967D2;\n",
              "      height: 32px;\n",
              "      padding: 0 0 0 0;\n",
              "      width: 32px;\n",
              "    }\n",
              "\n",
              "    .colab-df-convert:hover {\n",
              "      background-color: #E2EBFA;\n",
              "      box-shadow: 0px 1px 2px rgba(60, 64, 67, 0.3), 0px 1px 3px 1px rgba(60, 64, 67, 0.15);\n",
              "      fill: #174EA6;\n",
              "    }\n",
              "\n",
              "    [theme=dark] .colab-df-convert {\n",
              "      background-color: #3B4455;\n",
              "      fill: #D2E3FC;\n",
              "    }\n",
              "\n",
              "    [theme=dark] .colab-df-convert:hover {\n",
              "      background-color: #434B5C;\n",
              "      box-shadow: 0px 1px 3px 1px rgba(0, 0, 0, 0.15);\n",
              "      filter: drop-shadow(0px 1px 2px rgba(0, 0, 0, 0.3));\n",
              "      fill: #FFFFFF;\n",
              "    }\n",
              "  </style>\n",
              "\n",
              "      <script>\n",
              "        const buttonEl =\n",
              "          document.querySelector('#df-6b2f0910-2d2d-43e1-b5ac-8ec7d02dc9d1 button.colab-df-convert');\n",
              "        buttonEl.style.display =\n",
              "          google.colab.kernel.accessAllowed ? 'block' : 'none';\n",
              "\n",
              "        async function convertToInteractive(key) {\n",
              "          const element = document.querySelector('#df-6b2f0910-2d2d-43e1-b5ac-8ec7d02dc9d1');\n",
              "          const dataTable =\n",
              "            await google.colab.kernel.invokeFunction('convertToInteractive',\n",
              "                                                     [key], {});\n",
              "          if (!dataTable) return;\n",
              "\n",
              "          const docLinkHtml = 'Like what you see? Visit the ' +\n",
              "            '<a target=\"_blank\" href=https://colab.research.google.com/notebooks/data_table.ipynb>data table notebook</a>'\n",
              "            + ' to learn more about interactive tables.';\n",
              "          element.innerHTML = '';\n",
              "          dataTable['output_type'] = 'display_data';\n",
              "          await google.colab.output.renderOutput(dataTable, element);\n",
              "          const docLink = document.createElement('div');\n",
              "          docLink.innerHTML = docLinkHtml;\n",
              "          element.appendChild(docLink);\n",
              "        }\n",
              "      </script>\n",
              "    </div>\n",
              "  </div>\n",
              "  "
            ]
          },
          "metadata": {},
          "execution_count": 46
        }
      ]
    },
    {
      "cell_type": "code",
      "source": [
        "#import prince"
      ],
      "metadata": {
        "id": "rHAOLKD4vogf"
      },
      "execution_count": null,
      "outputs": []
    },
    {
      "cell_type": "code",
      "source": [
        "mca = prince.MCA()"
      ],
      "metadata": {
        "id": "UeKzC_EYReBu"
      },
      "execution_count": null,
      "outputs": []
    },
    {
      "cell_type": "code",
      "source": [
        "mca = mca.fit(X) # same as calling ca.fs_r(1)\n",
        "#mca = mca.transform(X) # same as calling ca.fs_r_sup(df_new) for *another* test set.\n",
        "#print(mca)"
      ],
      "metadata": {
        "id": "AY84332xbWcl"
      },
      "execution_count": null,
      "outputs": []
    },
    {
      "cell_type": "code",
      "source": [
        ">>> ax = mca.plot_coordinates(\n",
        "...     X=X,\n",
        "...     ax=None,\n",
        "...     figsize=(6, 6),\n",
        "...     show_row_points=True,\n",
        "...     row_points_size=10,\n",
        "...     show_row_labels=False,\n",
        "...     show_column_points=True,\n",
        "...     column_points_size=30,\n",
        "...     show_column_labels=False,\n",
        "...     legend_n_cols=1\n",
        "... )"
      ],
      "metadata": {
        "colab": {
          "base_uri": "https://localhost:8080/",
          "height": 740
        },
        "id": "kH3i_-qmbzyf",
        "outputId": "fce5a8f8-bf52-489f-b01c-0ea9ac5e8468"
      },
      "execution_count": null,
      "outputs": [
        {
          "output_type": "error",
          "ename": "ZeroDivisionError",
          "evalue": "ignored",
          "traceback": [
            "\u001b[0;31m---------------------------------------------------------------------------\u001b[0m",
            "\u001b[0;31mZeroDivisionError\u001b[0m                         Traceback (most recent call last)",
            "\u001b[0;32m<ipython-input-53-071e13323ea5>\u001b[0m in \u001b[0;36m<module>\u001b[0;34m()\u001b[0m\n\u001b[1;32m      9\u001b[0m     \u001b[0mcolumn_points_size\u001b[0m\u001b[0;34m=\u001b[0m\u001b[0;36m30\u001b[0m\u001b[0;34m,\u001b[0m\u001b[0;34m\u001b[0m\u001b[0;34m\u001b[0m\u001b[0m\n\u001b[1;32m     10\u001b[0m     \u001b[0mshow_column_labels\u001b[0m\u001b[0;34m=\u001b[0m\u001b[0;32mFalse\u001b[0m\u001b[0;34m,\u001b[0m\u001b[0;34m\u001b[0m\u001b[0;34m\u001b[0m\u001b[0m\n\u001b[0;32m---> 11\u001b[0;31m     \u001b[0mlegend_n_cols\u001b[0m\u001b[0;34m=\u001b[0m\u001b[0;36m1\u001b[0m\u001b[0;34m\u001b[0m\u001b[0;34m\u001b[0m\u001b[0m\n\u001b[0m\u001b[1;32m     12\u001b[0m )\n",
            "\u001b[0;32m/usr/local/lib/python3.7/dist-packages/prince/mca.py\u001b[0m in \u001b[0;36mplot_coordinates\u001b[0;34m(self, X, ax, figsize, x_component, y_component, show_row_points, row_points_size, row_points_alpha, show_row_labels, show_column_points, column_points_size, show_column_labels, legend_n_cols)\u001b[0m\n\u001b[1;32m    125\u001b[0m         \u001b[0;31m# Text\u001b[0m\u001b[0;34m\u001b[0m\u001b[0;34m\u001b[0m\u001b[0;34m\u001b[0m\u001b[0m\n\u001b[1;32m    126\u001b[0m         \u001b[0max\u001b[0m\u001b[0;34m.\u001b[0m\u001b[0mset_title\u001b[0m\u001b[0;34m(\u001b[0m\u001b[0;34m'Row and column principal coordinates'\u001b[0m\u001b[0;34m)\u001b[0m\u001b[0;34m\u001b[0m\u001b[0;34m\u001b[0m\u001b[0m\n\u001b[0;32m--> 127\u001b[0;31m         \u001b[0mei\u001b[0m \u001b[0;34m=\u001b[0m \u001b[0mself\u001b[0m\u001b[0;34m.\u001b[0m\u001b[0mexplained_inertia_\u001b[0m\u001b[0;34m\u001b[0m\u001b[0;34m\u001b[0m\u001b[0m\n\u001b[0m\u001b[1;32m    128\u001b[0m         \u001b[0max\u001b[0m\u001b[0;34m.\u001b[0m\u001b[0mset_xlabel\u001b[0m\u001b[0;34m(\u001b[0m\u001b[0;34m'Component {} ({:.2f}% inertia)'\u001b[0m\u001b[0;34m.\u001b[0m\u001b[0mformat\u001b[0m\u001b[0;34m(\u001b[0m\u001b[0mx_component\u001b[0m\u001b[0;34m,\u001b[0m \u001b[0;36m100\u001b[0m \u001b[0;34m*\u001b[0m \u001b[0mei\u001b[0m\u001b[0;34m[\u001b[0m\u001b[0mx_component\u001b[0m\u001b[0;34m]\u001b[0m\u001b[0;34m)\u001b[0m\u001b[0;34m)\u001b[0m\u001b[0;34m\u001b[0m\u001b[0;34m\u001b[0m\u001b[0m\n\u001b[1;32m    129\u001b[0m         \u001b[0max\u001b[0m\u001b[0;34m.\u001b[0m\u001b[0mset_ylabel\u001b[0m\u001b[0;34m(\u001b[0m\u001b[0;34m'Component {} ({:.2f}% inertia)'\u001b[0m\u001b[0;34m.\u001b[0m\u001b[0mformat\u001b[0m\u001b[0;34m(\u001b[0m\u001b[0my_component\u001b[0m\u001b[0;34m,\u001b[0m \u001b[0;36m100\u001b[0m \u001b[0;34m*\u001b[0m \u001b[0mei\u001b[0m\u001b[0;34m[\u001b[0m\u001b[0my_component\u001b[0m\u001b[0;34m]\u001b[0m\u001b[0;34m)\u001b[0m\u001b[0;34m)\u001b[0m\u001b[0;34m\u001b[0m\u001b[0;34m\u001b[0m\u001b[0m\n",
            "\u001b[0;32m/usr/local/lib/python3.7/dist-packages/prince/ca.py\u001b[0m in \u001b[0;36mexplained_inertia_\u001b[0;34m(self)\u001b[0m\n\u001b[1;32m    108\u001b[0m         \u001b[0;34m\"\"\"The percentage of explained inertia per principal component.\"\"\"\u001b[0m\u001b[0;34m\u001b[0m\u001b[0;34m\u001b[0m\u001b[0m\n\u001b[1;32m    109\u001b[0m         \u001b[0mself\u001b[0m\u001b[0;34m.\u001b[0m\u001b[0m_check_is_fitted\u001b[0m\u001b[0;34m(\u001b[0m\u001b[0;34m)\u001b[0m\u001b[0;34m\u001b[0m\u001b[0;34m\u001b[0m\u001b[0m\n\u001b[0;32m--> 110\u001b[0;31m         \u001b[0;32mreturn\u001b[0m \u001b[0;34m[\u001b[0m\u001b[0meig\u001b[0m \u001b[0;34m/\u001b[0m \u001b[0mself\u001b[0m\u001b[0;34m.\u001b[0m\u001b[0mtotal_inertia_\u001b[0m \u001b[0;32mfor\u001b[0m \u001b[0meig\u001b[0m \u001b[0;32min\u001b[0m \u001b[0mself\u001b[0m\u001b[0;34m.\u001b[0m\u001b[0meigenvalues_\u001b[0m\u001b[0;34m]\u001b[0m\u001b[0;34m\u001b[0m\u001b[0;34m\u001b[0m\u001b[0m\n\u001b[0m\u001b[1;32m    111\u001b[0m \u001b[0;34m\u001b[0m\u001b[0m\n\u001b[1;32m    112\u001b[0m     \u001b[0;32mdef\u001b[0m \u001b[0mrow_coordinates\u001b[0m\u001b[0;34m(\u001b[0m\u001b[0mself\u001b[0m\u001b[0;34m,\u001b[0m \u001b[0mX\u001b[0m\u001b[0;34m)\u001b[0m\u001b[0;34m:\u001b[0m\u001b[0;34m\u001b[0m\u001b[0;34m\u001b[0m\u001b[0m\n",
            "\u001b[0;32m/usr/local/lib/python3.7/dist-packages/prince/ca.py\u001b[0m in \u001b[0;36m<listcomp>\u001b[0;34m(.0)\u001b[0m\n\u001b[1;32m    108\u001b[0m         \u001b[0;34m\"\"\"The percentage of explained inertia per principal component.\"\"\"\u001b[0m\u001b[0;34m\u001b[0m\u001b[0;34m\u001b[0m\u001b[0m\n\u001b[1;32m    109\u001b[0m         \u001b[0mself\u001b[0m\u001b[0;34m.\u001b[0m\u001b[0m_check_is_fitted\u001b[0m\u001b[0;34m(\u001b[0m\u001b[0;34m)\u001b[0m\u001b[0;34m\u001b[0m\u001b[0;34m\u001b[0m\u001b[0m\n\u001b[0;32m--> 110\u001b[0;31m         \u001b[0;32mreturn\u001b[0m \u001b[0;34m[\u001b[0m\u001b[0meig\u001b[0m \u001b[0;34m/\u001b[0m \u001b[0mself\u001b[0m\u001b[0;34m.\u001b[0m\u001b[0mtotal_inertia_\u001b[0m \u001b[0;32mfor\u001b[0m \u001b[0meig\u001b[0m \u001b[0;32min\u001b[0m \u001b[0mself\u001b[0m\u001b[0;34m.\u001b[0m\u001b[0meigenvalues_\u001b[0m\u001b[0;34m]\u001b[0m\u001b[0;34m\u001b[0m\u001b[0;34m\u001b[0m\u001b[0m\n\u001b[0m\u001b[1;32m    111\u001b[0m \u001b[0;34m\u001b[0m\u001b[0m\n\u001b[1;32m    112\u001b[0m     \u001b[0;32mdef\u001b[0m \u001b[0mrow_coordinates\u001b[0m\u001b[0;34m(\u001b[0m\u001b[0mself\u001b[0m\u001b[0;34m,\u001b[0m \u001b[0mX\u001b[0m\u001b[0;34m)\u001b[0m\u001b[0;34m:\u001b[0m\u001b[0;34m\u001b[0m\u001b[0;34m\u001b[0m\u001b[0m\n",
            "\u001b[0;31mZeroDivisionError\u001b[0m: float division by zero"
          ]
        },
        {
          "output_type": "display_data",
          "data": {
            "text/plain": [
              "<Figure size 432x432 with 1 Axes>"
            ],
            "image/png": "[encoded data removed]"
          },
          "metadata": {}
        }
      ]
    },
    {
      "cell_type": "markdown",
      "source": [
        "## Example from https://stackoverflow.com/questions/48521740/using-mca-package-in-python"
      ],
      "metadata": {
        "id": "nqouKCtfYY_C"
      }
    },
    {
      "cell_type": "code",
      "source": [
        "X = pd.read_csv('https://archive.ics.uci.edu/ml/machine-learning-databases/balloons/adult+stretch.data')\n",
        "X.columns = ['Color', 'Size', 'Action', 'Age', 'Inflated']\n",
        "\n",
        "print(X.head())\n",
        "\n",
        "mca = prince.MCA()"
      ],
      "metadata": {
        "colab": {
          "base_uri": "https://localhost:8080/"
        },
        "id": "GsVqUt-dYXR5",
        "outputId": "8afb3630-e515-4919-d69a-70ed9604dc1e"
      },
      "execution_count": null,
      "outputs": [
        {
          "output_type": "stream",
          "name": "stdout",
          "text": [
            "    Color   Size   Action    Age Inflated\n",
            "0  YELLOW  SMALL  STRETCH  ADULT        T\n",
            "1  YELLOW  SMALL  STRETCH  CHILD        F\n",
            "2  YELLOW  SMALL      DIP  ADULT        F\n",
            "3  YELLOW  SMALL      DIP  CHILD        F\n",
            "4  YELLOW  LARGE  STRETCH  ADULT        T\n"
          ]
        }
      ]
    },
    {
      "cell_type": "code",
      "source": [
        "mca = mca.fit(X) # same as calling ca.fs_r(1)\n",
        "#mca = mca.transform(X) # same as calling ca.fs_r_sup(df_new) for *another* test set.\n",
        "#print(mca)"
      ],
      "metadata": {
        "id": "gTx4JT4KYc7G"
      },
      "execution_count": null,
      "outputs": []
    },
    {
      "cell_type": "code",
      "source": [
        "ax = mca.plot_coordinates(\n",
        "     X=X,\n",
        "     ax=None,\n",
        "     figsize=(6, 6),\n",
        "     show_row_points=True,\n",
        "     row_points_size=10,\n",
        "     show_row_labels=False,\n",
        "     show_column_points=True,\n",
        "     column_points_size=30,\n",
        "     show_column_labels=False,\n",
        "     legend_n_cols=1\n",
        "     )"
      ],
      "metadata": {
        "colab": {
          "base_uri": "https://localhost:8080/",
          "height": 410
        },
        "id": "sJWZNJWOYwQS",
        "outputId": "304081c2-656d-4b57-cc94-6fb7e24280e3"
      },
      "execution_count": null,
      "outputs": [
        {
          "output_type": "display_data",
          "data": {
            "text/plain": [
              "<Figure size 432x432 with 1 Axes>"
            ],
            "image/png": "[encoded data removed]"
          },
          "metadata": {}
        }
      ]
    },
    {
      "cell_type": "markdown",
      "source": [
        "## Plotting geo location - per seriousness\n",
        "\n",
        "Doesn't look very good because levels cover each other. "
      ],
      "metadata": {
        "id": "cD8WgSlDwLe7"
      }
    },
    {
      "cell_type": "code",
      "source": [
        "# make long again location x seriousness\n",
        "merged_df_wide_serious = pd.melt(merged_df_wide, id_vars=['Location', 'longitude', 'latitude'], \n",
        "                                 value_vars=['Deadly', 'Minor', 'Serious'], \n",
        "                                 var_name = 'Seriousness')\n",
        "\n",
        "merged_df_wide_serious.sort_values(by = 'Location')"
      ],
      "metadata": {
        "colab": {
          "base_uri": "https://localhost:8080/",
          "height": 424
        },
        "id": "NTw6eRM7wQU7",
        "outputId": "91aa698b-e627-4906-9f7c-a52f647086b6"
      },
      "execution_count": null,
      "outputs": [
        {
          "output_type": "execute_result",
          "data": {
            "text/plain": [
              "    Location   longitude   latitude Seriousness  value\n",
              "0     Alaska -154.493062  63.588753      Deadly     70\n",
              "45    Alaska -154.493062  63.588753       Minor     27\n",
              "90    Alaska -154.493062  63.588753     Serious    222\n",
              "1    Alberta  -77.893700  36.855200      Deadly     59\n",
              "46   Alberta  -77.893700  36.855200       Minor     26\n",
              "..       ...         ...        ...         ...    ...\n",
              "43   Wyoming -107.290284  43.075968      Deadly     31\n",
              "88   Wyoming -107.290284  43.075968       Minor     14\n",
              "89     Yukon  -97.763900  35.520100       Minor      0\n",
              "44     Yukon  -97.763900  35.520100      Deadly      3\n",
              "134    Yukon  -97.763900  35.520100     Serious      3\n",
              "\n",
              "[135 rows x 5 columns]"
            ],
            "text/html": [
              "\n",
              "  <div id=\"df-94d17dc2-765c-4b4b-b570-7ca182144fb7\">\n",
              "    <div class=\"colab-df-container\">\n",
              "      <div>\n",
              "<style scoped>\n",
              "    .dataframe tbody tr th:only-of-type {\n",
              "        vertical-align: middle;\n",
              "    }\n",
              "\n",
              "    .dataframe tbody tr th {\n",
              "        vertical-align: top;\n",
              "    }\n",
              "\n",
              "    .dataframe thead th {\n",
              "        text-align: right;\n",
              "    }\n",
              "</style>\n",
              "<table border=\"1\" class=\"dataframe\">\n",
              "  <thead>\n",
              "    <tr style=\"text-align: right;\">\n",
              "      <th></th>\n",
              "      <th>Location</th>\n",
              "      <th>longitude</th>\n",
              "      <th>latitude</th>\n",
              "      <th>Seriousness</th>\n",
              "      <th>value</th>\n",
              "    </tr>\n",
              "  </thead>\n",
              "  <tbody>\n",
              "    <tr>\n",
              "      <th>0</th>\n",
              "      <td>Alaska</td>\n",
              "      <td>-154.493062</td>\n",
              "      <td>63.588753</td>\n",
              "      <td>Deadly</td>\n",
              "      <td>70</td>\n",
              "    </tr>\n",
              "    <tr>\n",
              "      <th>45</th>\n",
              "      <td>Alaska</td>\n",
              "      <td>-154.493062</td>\n",
              "      <td>63.588753</td>\n",
              "      <td>Minor</td>\n",
              "      <td>27</td>\n",
              "    </tr>\n",
              "    <tr>\n",
              "      <th>90</th>\n",
              "      <td>Alaska</td>\n",
              "      <td>-154.493062</td>\n",
              "      <td>63.588753</td>\n",
              "      <td>Serious</td>\n",
              "      <td>222</td>\n",
              "    </tr>\n",
              "    <tr>\n",
              "      <th>1</th>\n",
              "      <td>Alberta</td>\n",
              "      <td>-77.893700</td>\n",
              "      <td>36.855200</td>\n",
              "      <td>Deadly</td>\n",
              "      <td>59</td>\n",
              "    </tr>\n",
              "    <tr>\n",
              "      <th>46</th>\n",
              "      <td>Alberta</td>\n",
              "      <td>-77.893700</td>\n",
              "      <td>36.855200</td>\n",
              "      <td>Minor</td>\n",
              "      <td>26</td>\n",
              "    </tr>\n",
              "    <tr>\n",
              "      <th>...</th>\n",
              "      <td>...</td>\n",
              "      <td>...</td>\n",
              "      <td>...</td>\n",
              "      <td>...</td>\n",
              "      <td>...</td>\n",
              "    </tr>\n",
              "    <tr>\n",
              "      <th>43</th>\n",
              "      <td>Wyoming</td>\n",
              "      <td>-107.290284</td>\n",
              "      <td>43.075968</td>\n",
              "      <td>Deadly</td>\n",
              "      <td>31</td>\n",
              "    </tr>\n",
              "    <tr>\n",
              "      <th>88</th>\n",
              "      <td>Wyoming</td>\n",
              "      <td>-107.290284</td>\n",
              "      <td>43.075968</td>\n",
              "      <td>Minor</td>\n",
              "      <td>14</td>\n",
              "    </tr>\n",
              "    <tr>\n",
              "      <th>89</th>\n",
              "      <td>Yukon</td>\n",
              "      <td>-97.763900</td>\n",
              "      <td>35.520100</td>\n",
              "      <td>Minor</td>\n",
              "      <td>0</td>\n",
              "    </tr>\n",
              "    <tr>\n",
              "      <th>44</th>\n",
              "      <td>Yukon</td>\n",
              "      <td>-97.763900</td>\n",
              "      <td>35.520100</td>\n",
              "      <td>Deadly</td>\n",
              "      <td>3</td>\n",
              "    </tr>\n",
              "    <tr>\n",
              "      <th>134</th>\n",
              "      <td>Yukon</td>\n",
              "      <td>-97.763900</td>\n",
              "      <td>35.520100</td>\n",
              "      <td>Serious</td>\n",
              "      <td>3</td>\n",
              "    </tr>\n",
              "  </tbody>\n",
              "</table>\n",
              "<p>135 rows × 5 columns</p>\n",
              "</div>\n",
              "      <button class=\"colab-df-convert\" onclick=\"convertToInteractive('df-94d17dc2-765c-4b4b-b570-7ca182144fb7')\"\n",
              "              title=\"Convert this dataframe to an interactive table.\"\n",
              "              style=\"display:none;\">\n",
              "        \n",
              "  <svg xmlns=\"http://www.w3.org/2000/svg\" height=\"24px\"viewBox=\"0 0 24 24\"\n",
              "       width=\"24px\">\n",
              "    <path d=\"M0 0h24v24H0V0z\" fill=\"none\"/>\n",
              "    <path d=\"M18.56 5.44l.94 2.06.94-2.06 2.06-.94-2.06-.94-.94-2.06-.94 2.06-2.06.94zm-11 1L8.5 8.5l.94-2.06 2.06-.94-2.06-.94L8.5 2.5l-.94 2.06-2.06.94zm10 10l.94 2.06.94-2.06 2.06-.94-2.06-.94-.94-2.06-.94 2.06-2.06.94z\"/><path d=\"M17.41 7.96l-1.37-1.37c-.4-.4-.92-.59-1.43-.59-.52 0-1.04.2-1.43.59L10.3 9.45l-7.72 7.72c-.78.78-.78 2.05 0 2.83L4 21.41c.39.39.9.59 1.41.59.51 0 1.02-.2 1.41-.59l7.78-7.78 2.81-2.81c.8-.78.8-2.07 0-2.86zM5.41 20L4 18.59l7.72-7.72 1.47 1.35L5.41 20z\"/>\n",
              "  </svg>\n",
              "      </button>\n",
              "      \n",
              "  <style>\n",
              "    .colab-df-container {\n",
              "      display:flex;\n",
              "      flex-wrap:wrap;\n",
              "      gap: 12px;\n",
              "    }\n",
              "\n",
              "    .colab-df-convert {\n",
              "      background-color: #E8F0FE;\n",
              "      border: none;\n",
              "      border-radius: 50%;\n",
              "      cursor: pointer;\n",
              "      display: none;\n",
              "      fill: #1967D2;\n",
              "      height: 32px;\n",
              "      padding: 0 0 0 0;\n",
              "      width: 32px;\n",
              "    }\n",
              "\n",
              "    .colab-df-convert:hover {\n",
              "      background-color: #E2EBFA;\n",
              "      box-shadow: 0px 1px 2px rgba(60, 64, 67, 0.3), 0px 1px 3px 1px rgba(60, 64, 67, 0.15);\n",
              "      fill: #174EA6;\n",
              "    }\n",
              "\n",
              "    [theme=dark] .colab-df-convert {\n",
              "      background-color: #3B4455;\n",
              "      fill: #D2E3FC;\n",
              "    }\n",
              "\n",
              "    [theme=dark] .colab-df-convert:hover {\n",
              "      background-color: #434B5C;\n",
              "      box-shadow: 0px 1px 3px 1px rgba(0, 0, 0, 0.15);\n",
              "      filter: drop-shadow(0px 1px 2px rgba(0, 0, 0, 0.3));\n",
              "      fill: #FFFFFF;\n",
              "    }\n",
              "  </style>\n",
              "\n",
              "      <script>\n",
              "        const buttonEl =\n",
              "          document.querySelector('#df-94d17dc2-765c-4b4b-b570-7ca182144fb7 button.colab-df-convert');\n",
              "        buttonEl.style.display =\n",
              "          google.colab.kernel.accessAllowed ? 'block' : 'none';\n",
              "\n",
              "        async function convertToInteractive(key) {\n",
              "          const element = document.querySelector('#df-94d17dc2-765c-4b4b-b570-7ca182144fb7');\n",
              "          const dataTable =\n",
              "            await google.colab.kernel.invokeFunction('convertToInteractive',\n",
              "                                                     [key], {});\n",
              "          if (!dataTable) return;\n",
              "\n",
              "          const docLinkHtml = 'Like what you see? Visit the ' +\n",
              "            '<a target=\"_blank\" href=https://colab.research.google.com/notebooks/data_table.ipynb>data table notebook</a>'\n",
              "            + ' to learn more about interactive tables.';\n",
              "          element.innerHTML = '';\n",
              "          dataTable['output_type'] = 'display_data';\n",
              "          await google.colab.output.renderOutput(dataTable, element);\n",
              "          const docLink = document.createElement('div');\n",
              "          docLink.innerHTML = docLinkHtml;\n",
              "          element.appendChild(docLink);\n",
              "        }\n",
              "      </script>\n",
              "    </div>\n",
              "  </div>\n",
              "  "
            ]
          },
          "metadata": {},
          "execution_count": 244
        }
      ]
    },
    {
      "cell_type": "code",
      "source": [
        "fig = px.scatter_geo(merged_df_wide_serious,\n",
        "                     color=\"Seriousness\", # which column to use to set the color of markers\n",
        "                     lon = 'longitude',\n",
        "                     lat = 'latitude',\n",
        "                     hover_name=\"Location\", # column added to hover information\n",
        "                     size=\"value\", # size of markers\n",
        "                     scope = 'usa')\n",
        "\n",
        "fig.show()"
      ],
      "metadata": {
        "colab": {
          "base_uri": "https://localhost:8080/",
          "height": 542
        },
        "id": "OUjudhQDytdK",
        "outputId": "1b48e265-9ce9-4252-ee93-d50de48ee5b7"
      },
      "execution_count": null,
      "outputs": [
        {
          "output_type": "display_data",
          "data": {
            "text/html": [
              "<html>\n",
              "<head><meta charset=\"utf-8\" /></head>\n",
              "<body>\n",
              "    <div>            <script src=\"https://cdnjs.cloudflare.com/ajax/libs/mathjax/2.7.5/MathJax.js?config=TeX-AMS-MML_SVG\"></script><script type=\"text/javascript\">if (window.MathJax) {MathJax.Hub.Config({SVG: {font: \"STIX-Web\"}});}</script>                <script type=\"text/javascript\">window.PlotlyConfig = {MathJaxConfig: 'local'};</script>\n",
              "        <script src=\"https://cdn.plot.ly/plotly-2.8.3.min.js\"></script>                <div id=\"2a28ba5b-ff64-47f8-ad68-a19b1dea4fe7\" class=\"plotly-graph-div\" style=\"height:525px; width:100%;\"></div>            <script type=\"text/javascript\">                                    window.PLOTLYENV=window.PLOTLYENV || {};                                    if (document.getElementById(\"2a28ba5b-ff64-47f8-ad68-a19b1dea4fe7\")) {                    Plotly.newPlot(                        \"2a28ba5b-ff64-47f8-ad68-a19b1dea4fe7\",                        [{\"geo\":\"geo\",\"hovertemplate\":\"<b>%{hovertext}</b><br><br>Seriousness=Deadly<br>value=%{marker.size}<br>latitude=%{lat}<br>longitude=%{lon}<extra></extra>\",\"hovertext\":[\"Alaska\",\"Alberta\",\"Arizona\",\"Arkansas\",\"British Columbia\",\"California\",\"Colorado\",\"Connecticut\",\"Delaware\",\"Georgia\",\"Idaho\",\"Illinois\",\"Iowa\",\"Kansas\",\"Kentucky\",\"Maine\",\"Maryland\",\"Massachusetts\",\"Michigan\",\"Minnesota\",\"Missouri\",\"Montana\",\"Nebraska\",\"Nevada\",\"New Brunswick\",\"New Hampshire\",\"New Mexico\",\"New York\",\"North Carolina\",\"Nova Scotia\",\"Nunavut\",\"Oklahoma\",\"Ontario\",\"Oregon\",\"Pennsylvania\",\"South Dakota\",\"Tennessee\",\"Texas\",\"Utah\",\"Vermont\",\"Virginia\",\"Washington\",\"Wisconsin\",\"Wyoming\",\"Yukon\"],\"lat\":[63.588753,36.8552,34.048928,35.20105,53.726669,38.2969,39.550051,41.603221,38.910832,32.157435,44.068202,40.633125,41.878003,39.011902,37.839333,45.253783,39.045755,42.407211,44.314844,46.729553,37.964253,46.879682,41.492537,38.80261,-66.159668,43.193852,34.97273,43.299428,35.759573,-63.0,70.453262,35.007752,34.0393,43.804133,41.203322,43.969515,35.517491,31.968599,39.32098,44.558803,37.431573,47.751074,43.78444,43.075968,35.5201],\"legendgroup\":\"Deadly\",\"lon\":[-154.493062,-77.8937,-111.093731,-91.831833,-127.647621,-76.4949,-105.782067,-73.087749,-75.52767,-82.907123,-114.742041,-89.398528,-93.097702,-98.484246,-84.270018,-69.445469,-76.641271,-71.382437,-85.602364,-94.6859,-91.831833,-110.362566,-99.901813,-116.419389,46.49839,-71.572395,-105.032363,-74.217933,-79.0193,45.0,-86.798981,-97.092877,-117.6064,-120.554201,-77.194525,-99.901813,-86.580447,-99.901813,-111.093731,-72.577841,-78.656894,-120.740139,-88.787868,-107.290284,-97.7639],\"marker\":{\"color\":\"#636efa\",\"size\":[70,59,11,1,35,78,64,1,3,2,8,1,0,0,4,3,0,0,0,0,0,8,0,5,0,10,4,16,11,0,0,1,2,40,1,1,0,0,16,2,7,48,2,31,3],\"sizemode\":\"area\",\"sizeref\":0.6675,\"symbol\":\"circle\"},\"mode\":\"markers\",\"name\":\"Deadly\",\"showlegend\":true,\"type\":\"scattergeo\"},{\"geo\":\"geo\",\"hovertemplate\":\"<b>%{hovertext}</b><br><br>Seriousness=Minor<br>value=%{marker.size}<br>latitude=%{lat}<br>longitude=%{lon}<extra></extra>\",\"hovertext\":[\"Alaska\",\"Alberta\",\"Arizona\",\"Arkansas\",\"British Columbia\",\"California\",\"Colorado\",\"Connecticut\",\"Delaware\",\"Georgia\",\"Idaho\",\"Illinois\",\"Iowa\",\"Kansas\",\"Kentucky\",\"Maine\",\"Maryland\",\"Massachusetts\",\"Michigan\",\"Minnesota\",\"Missouri\",\"Montana\",\"Nebraska\",\"Nevada\",\"New Brunswick\",\"New Hampshire\",\"New Mexico\",\"New York\",\"North Carolina\",\"Nova Scotia\",\"Nunavut\",\"Oklahoma\",\"Ontario\",\"Oregon\",\"Pennsylvania\",\"South Dakota\",\"Tennessee\",\"Texas\",\"Utah\",\"Vermont\",\"Virginia\",\"Washington\",\"Wisconsin\",\"Wyoming\",\"Yukon\"],\"lat\":[63.588753,36.8552,34.048928,35.20105,53.726669,38.2969,39.550051,41.603221,38.910832,32.157435,44.068202,40.633125,41.878003,39.011902,37.839333,45.253783,39.045755,42.407211,44.314844,46.729553,37.964253,46.879682,41.492537,38.80261,-66.159668,43.193852,34.97273,43.299428,35.759573,-63.0,70.453262,35.007752,34.0393,43.804133,41.203322,43.969515,35.517491,31.968599,39.32098,44.558803,37.431573,47.751074,43.78444,43.075968,35.5201],\"legendgroup\":\"Minor\",\"lon\":[-154.493062,-77.8937,-111.093731,-91.831833,-127.647621,-76.4949,-105.782067,-73.087749,-75.52767,-82.907123,-114.742041,-89.398528,-93.097702,-98.484246,-84.270018,-69.445469,-76.641271,-71.382437,-85.602364,-94.6859,-91.831833,-110.362566,-99.901813,-116.419389,46.49839,-71.572395,-105.032363,-74.217933,-79.0193,45.0,-86.798981,-97.092877,-117.6064,-120.554201,-77.194525,-99.901813,-86.580447,-99.901813,-111.093731,-72.577841,-78.656894,-120.740139,-88.787868,-107.290284,-97.7639],\"marker\":{\"color\":\"#EF553B\",\"size\":[27,26,2,0,10,59,37,0,2,0,4,0,1,0,2,0,0,0,0,0,0,1,0,5,0,14,1,2,7,0,0,0,0,8,0,0,0,1,6,1,1,19,1,14,0],\"sizemode\":\"area\",\"sizeref\":0.6675,\"symbol\":\"circle\"},\"mode\":\"markers\",\"name\":\"Minor\",\"showlegend\":true,\"type\":\"scattergeo\"},{\"geo\":\"geo\",\"hovertemplate\":\"<b>%{hovertext}</b><br><br>Seriousness=Serious<br>value=%{marker.size}<br>latitude=%{lat}<br>longitude=%{lon}<extra></extra>\",\"hovertext\":[\"Alaska\",\"Alberta\",\"Arizona\",\"Arkansas\",\"British Columbia\",\"California\",\"Colorado\",\"Connecticut\",\"Delaware\",\"Georgia\",\"Idaho\",\"Illinois\",\"Iowa\",\"Kansas\",\"Kentucky\",\"Maine\",\"Maryland\",\"Massachusetts\",\"Michigan\",\"Minnesota\",\"Missouri\",\"Montana\",\"Nebraska\",\"Nevada\",\"New Brunswick\",\"New Hampshire\",\"New Mexico\",\"New York\",\"North Carolina\",\"Nova Scotia\",\"Nunavut\",\"Oklahoma\",\"Ontario\",\"Oregon\",\"Pennsylvania\",\"South Dakota\",\"Tennessee\",\"Texas\",\"Utah\",\"Vermont\",\"Virginia\",\"Washington\",\"Wisconsin\",\"Wyoming\",\"Yukon\"],\"lat\":[63.588753,36.8552,34.048928,35.20105,53.726669,38.2969,39.550051,41.603221,38.910832,32.157435,44.068202,40.633125,41.878003,39.011902,37.839333,45.253783,39.045755,42.407211,44.314844,46.729553,37.964253,46.879682,41.492537,38.80261,-66.159668,43.193852,34.97273,43.299428,35.759573,-63.0,70.453262,35.007752,34.0393,43.804133,41.203322,43.969515,35.517491,31.968599,39.32098,44.558803,37.431573,47.751074,43.78444,43.075968,35.5201],\"legendgroup\":\"Serious\",\"lon\":[-154.493062,-77.8937,-111.093731,-91.831833,-127.647621,-76.4949,-105.782067,-73.087749,-75.52767,-82.907123,-114.742041,-89.398528,-93.097702,-98.484246,-84.270018,-69.445469,-76.641271,-71.382437,-85.602364,-94.6859,-91.831833,-110.362566,-99.901813,-116.419389,46.49839,-71.572395,-105.032363,-74.217933,-79.0193,45.0,-86.798981,-97.092877,-117.6064,-120.554201,-77.194525,-99.901813,-86.580447,-99.901813,-111.093731,-72.577841,-78.656894,-120.740139,-88.787868,-107.290284,-97.7639],\"marker\":{\"color\":\"#00cc96\",\"size\":[222,235,22,4,74,267,240,6,5,1,30,3,0,1,23,9,2,4,2,5,2,8,1,13,1,69,9,30,54,2,1,0,8,87,5,1,8,4,57,3,35,148,10,107,3],\"sizemode\":\"area\",\"sizeref\":0.6675,\"symbol\":\"circle\"},\"mode\":\"markers\",\"name\":\"Serious\",\"showlegend\":true,\"type\":\"scattergeo\"}],                        {\"template\":{\"data\":{\"bar\":[{\"error_x\":{\"color\":\"#2a3f5f\"},\"error_y\":{\"color\":\"#2a3f5f\"},\"marker\":{\"line\":{\"color\":\"#E5ECF6\",\"width\":0.5},\"pattern\":{\"fillmode\":\"overlay\",\"size\":10,\"solidity\":0.2}},\"type\":\"bar\"}],\"barpolar\":[{\"marker\":{\"line\":{\"color\":\"#E5ECF6\",\"width\":0.5},\"pattern\":{\"fillmode\":\"overlay\",\"size\":10,\"solidity\":0.2}},\"type\":\"barpolar\"}],\"carpet\":[{\"aaxis\":{\"endlinecolor\":\"#2a3f5f\",\"gridcolor\":\"white\",\"linecolor\":\"white\",\"minorgridcolor\":\"white\",\"startlinecolor\":\"#2a3f5f\"},\"baxis\":{\"endlinecolor\":\"#2a3f5f\",\"gridcolor\":\"white\",\"linecolor\":\"white\",\"minorgridcolor\":\"white\",\"startlinecolor\":\"#2a3f5f\"},\"type\":\"carpet\"}],\"choropleth\":[{\"colorbar\":{\"outlinewidth\":0,\"ticks\":\"\"},\"type\":\"choropleth\"}],\"contour\":[{\"colorbar\":{\"outlinewidth\":0,\"ticks\":\"\"},\"colorscale\":[[0.0,\"#0d0887\"],[0.1111111111111111,\"#46039f\"],[0.2222222222222222,\"#7201a8\"],[0.3333333333333333,\"#9c179e\"],[0.4444444444444444,\"#bd3786\"],[0.5555555555555556,\"#d8576b\"],[0.6666666666666666,\"#ed7953\"],[0.7777777777777778,\"#fb9f3a\"],[0.8888888888888888,\"#fdca26\"],[1.0,\"#f0f921\"]],\"type\":\"contour\"}],\"contourcarpet\":[{\"colorbar\":{\"outlinewidth\":0,\"ticks\":\"\"},\"type\":\"contourcarpet\"}],\"heatmap\":[{\"colorbar\":{\"outlinewidth\":0,\"ticks\":\"\"},\"colorscale\":[[0.0,\"#0d0887\"],[0.1111111111111111,\"#46039f\"],[0.2222222222222222,\"#7201a8\"],[0.3333333333333333,\"#9c179e\"],[0.4444444444444444,\"#bd3786\"],[0.5555555555555556,\"#d8576b\"],[0.6666666666666666,\"#ed7953\"],[0.7777777777777778,\"#fb9f3a\"],[0.8888888888888888,\"#fdca26\"],[1.0,\"#f0f921\"]],\"type\":\"heatmap\"}],\"heatmapgl\":[{\"colorbar\":{\"outlinewidth\":0,\"ticks\":\"\"},\"colorscale\":[[0.0,\"#0d0887\"],[0.1111111111111111,\"#46039f\"],[0.2222222222222222,\"#7201a8\"],[0.3333333333333333,\"#9c179e\"],[0.4444444444444444,\"#bd3786\"],[0.5555555555555556,\"#d8576b\"],[0.6666666666666666,\"#ed7953\"],[0.7777777777777778,\"#fb9f3a\"],[0.8888888888888888,\"#fdca26\"],[1.0,\"#f0f921\"]],\"type\":\"heatmapgl\"}],\"histogram\":[{\"marker\":{\"pattern\":{\"fillmode\":\"overlay\",\"size\":10,\"solidity\":0.2}},\"type\":\"histogram\"}],\"histogram2d\":[{\"colorbar\":{\"outlinewidth\":0,\"ticks\":\"\"},\"colorscale\":[[0.0,\"#0d0887\"],[0.1111111111111111,\"#46039f\"],[0.2222222222222222,\"#7201a8\"],[0.3333333333333333,\"#9c179e\"],[0.4444444444444444,\"#bd3786\"],[0.5555555555555556,\"#d8576b\"],[0.6666666666666666,\"#ed7953\"],[0.7777777777777778,\"#fb9f3a\"],[0.8888888888888888,\"#fdca26\"],[1.0,\"#f0f921\"]],\"type\":\"histogram2d\"}],\"histogram2dcontour\":[{\"colorbar\":{\"outlinewidth\":0,\"ticks\":\"\"},\"colorscale\":[[0.0,\"#0d0887\"],[0.1111111111111111,\"#46039f\"],[0.2222222222222222,\"#7201a8\"],[0.3333333333333333,\"#9c179e\"],[0.4444444444444444,\"#bd3786\"],[0.5555555555555556,\"#d8576b\"],[0.6666666666666666,\"#ed7953\"],[0.7777777777777778,\"#fb9f3a\"],[0.8888888888888888,\"#fdca26\"],[1.0,\"#f0f921\"]],\"type\":\"histogram2dcontour\"}],\"mesh3d\":[{\"colorbar\":{\"outlinewidth\":0,\"ticks\":\"\"},\"type\":\"mesh3d\"}],\"parcoords\":[{\"line\":{\"colorbar\":{\"outlinewidth\":0,\"ticks\":\"\"}},\"type\":\"parcoords\"}],\"pie\":[{\"automargin\":true,\"type\":\"pie\"}],\"scatter\":[{\"marker\":{\"colorbar\":{\"outlinewidth\":0,\"ticks\":\"\"}},\"type\":\"scatter\"}],\"scatter3d\":[{\"line\":{\"colorbar\":{\"outlinewidth\":0,\"ticks\":\"\"}},\"marker\":{\"colorbar\":{\"outlinewidth\":0,\"ticks\":\"\"}},\"type\":\"scatter3d\"}],\"scattercarpet\":[{\"marker\":{\"colorbar\":{\"outlinewidth\":0,\"ticks\":\"\"}},\"type\":\"scattercarpet\"}],\"scattergeo\":[{\"marker\":{\"colorbar\":{\"outlinewidth\":0,\"ticks\":\"\"}},\"type\":\"scattergeo\"}],\"scattergl\":[{\"marker\":{\"colorbar\":{\"outlinewidth\":0,\"ticks\":\"\"}},\"type\":\"scattergl\"}],\"scattermapbox\":[{\"marker\":{\"colorbar\":{\"outlinewidth\":0,\"ticks\":\"\"}},\"type\":\"scattermapbox\"}],\"scatterpolar\":[{\"marker\":{\"colorbar\":{\"outlinewidth\":0,\"ticks\":\"\"}},\"type\":\"scatterpolar\"}],\"scatterpolargl\":[{\"marker\":{\"colorbar\":{\"outlinewidth\":0,\"ticks\":\"\"}},\"type\":\"scatterpolargl\"}],\"scatterternary\":[{\"marker\":{\"colorbar\":{\"outlinewidth\":0,\"ticks\":\"\"}},\"type\":\"scatterternary\"}],\"surface\":[{\"colorbar\":{\"outlinewidth\":0,\"ticks\":\"\"},\"colorscale\":[[0.0,\"#0d0887\"],[0.1111111111111111,\"#46039f\"],[0.2222222222222222,\"#7201a8\"],[0.3333333333333333,\"#9c179e\"],[0.4444444444444444,\"#bd3786\"],[0.5555555555555556,\"#d8576b\"],[0.6666666666666666,\"#ed7953\"],[0.7777777777777778,\"#fb9f3a\"],[0.8888888888888888,\"#fdca26\"],[1.0,\"#f0f921\"]],\"type\":\"surface\"}],\"table\":[{\"cells\":{\"fill\":{\"color\":\"#EBF0F8\"},\"line\":{\"color\":\"white\"}},\"header\":{\"fill\":{\"color\":\"#C8D4E3\"},\"line\":{\"color\":\"white\"}},\"type\":\"table\"}]},\"layout\":{\"annotationdefaults\":{\"arrowcolor\":\"#2a3f5f\",\"arrowhead\":0,\"arrowwidth\":1},\"autotypenumbers\":\"strict\",\"coloraxis\":{\"colorbar\":{\"outlinewidth\":0,\"ticks\":\"\"}},\"colorscale\":{\"diverging\":[[0,\"#8e0152\"],[0.1,\"#c51b7d\"],[0.2,\"#de77ae\"],[0.3,\"#f1b6da\"],[0.4,\"#fde0ef\"],[0.5,\"#f7f7f7\"],[0.6,\"#e6f5d0\"],[0.7,\"#b8e186\"],[0.8,\"#7fbc41\"],[0.9,\"#4d9221\"],[1,\"#276419\"]],\"sequential\":[[0.0,\"#0d0887\"],[0.1111111111111111,\"#46039f\"],[0.2222222222222222,\"#7201a8\"],[0.3333333333333333,\"#9c179e\"],[0.4444444444444444,\"#bd3786\"],[0.5555555555555556,\"#d8576b\"],[0.6666666666666666,\"#ed7953\"],[0.7777777777777778,\"#fb9f3a\"],[0.8888888888888888,\"#fdca26\"],[1.0,\"#f0f921\"]],\"sequentialminus\":[[0.0,\"#0d0887\"],[0.1111111111111111,\"#46039f\"],[0.2222222222222222,\"#7201a8\"],[0.3333333333333333,\"#9c179e\"],[0.4444444444444444,\"#bd3786\"],[0.5555555555555556,\"#d8576b\"],[0.6666666666666666,\"#ed7953\"],[0.7777777777777778,\"#fb9f3a\"],[0.8888888888888888,\"#fdca26\"],[1.0,\"#f0f921\"]]},\"colorway\":[\"#636efa\",\"#EF553B\",\"#00cc96\",\"#ab63fa\",\"#FFA15A\",\"#19d3f3\",\"#FF6692\",\"#B6E880\",\"#FF97FF\",\"#FECB52\"],\"font\":{\"color\":\"#2a3f5f\"},\"geo\":{\"bgcolor\":\"white\",\"lakecolor\":\"white\",\"landcolor\":\"#E5ECF6\",\"showlakes\":true,\"showland\":true,\"subunitcolor\":\"white\"},\"hoverlabel\":{\"align\":\"left\"},\"hovermode\":\"closest\",\"mapbox\":{\"style\":\"light\"},\"paper_bgcolor\":\"white\",\"plot_bgcolor\":\"#E5ECF6\",\"polar\":{\"angularaxis\":{\"gridcolor\":\"white\",\"linecolor\":\"white\",\"ticks\":\"\"},\"bgcolor\":\"#E5ECF6\",\"radialaxis\":{\"gridcolor\":\"white\",\"linecolor\":\"white\",\"ticks\":\"\"}},\"scene\":{\"xaxis\":{\"backgroundcolor\":\"#E5ECF6\",\"gridcolor\":\"white\",\"gridwidth\":2,\"linecolor\":\"white\",\"showbackground\":true,\"ticks\":\"\",\"zerolinecolor\":\"white\"},\"yaxis\":{\"backgroundcolor\":\"#E5ECF6\",\"gridcolor\":\"white\",\"gridwidth\":2,\"linecolor\":\"white\",\"showbackground\":true,\"ticks\":\"\",\"zerolinecolor\":\"white\"},\"zaxis\":{\"backgroundcolor\":\"#E5ECF6\",\"gridcolor\":\"white\",\"gridwidth\":2,\"linecolor\":\"white\",\"showbackground\":true,\"ticks\":\"\",\"zerolinecolor\":\"white\"}},\"shapedefaults\":{\"line\":{\"color\":\"#2a3f5f\"}},\"ternary\":{\"aaxis\":{\"gridcolor\":\"white\",\"linecolor\":\"white\",\"ticks\":\"\"},\"baxis\":{\"gridcolor\":\"white\",\"linecolor\":\"white\",\"ticks\":\"\"},\"bgcolor\":\"#E5ECF6\",\"caxis\":{\"gridcolor\":\"white\",\"linecolor\":\"white\",\"ticks\":\"\"}},\"title\":{\"x\":0.05},\"xaxis\":{\"automargin\":true,\"gridcolor\":\"white\",\"linecolor\":\"white\",\"ticks\":\"\",\"title\":{\"standoff\":15},\"zerolinecolor\":\"white\",\"zerolinewidth\":2},\"yaxis\":{\"automargin\":true,\"gridcolor\":\"white\",\"linecolor\":\"white\",\"ticks\":\"\",\"title\":{\"standoff\":15},\"zerolinecolor\":\"white\",\"zerolinewidth\":2}}},\"geo\":{\"domain\":{\"x\":[0.0,1.0],\"y\":[0.0,1.0]},\"center\":{},\"scope\":\"usa\"},\"legend\":{\"title\":{\"text\":\"Seriousness\"},\"tracegroupgap\":0,\"itemsizing\":\"constant\"},\"margin\":{\"t\":60}},                        {\"responsive\": true}                    ).then(function(){\n",
              "                            \n",
              "var gd = document.getElementById('2a28ba5b-ff64-47f8-ad68-a19b1dea4fe7');\n",
              "var x = new MutationObserver(function (mutations, observer) {{\n",
              "        var display = window.getComputedStyle(gd).display;\n",
              "        if (!display || display === 'none') {{\n",
              "            console.log([gd, 'removed!']);\n",
              "            Plotly.purge(gd);\n",
              "            observer.disconnect();\n",
              "        }}\n",
              "}});\n",
              "\n",
              "// Listen for the removal of the full notebook cells\n",
              "var notebookContainer = gd.closest('#notebook-container');\n",
              "if (notebookContainer) {{\n",
              "    x.observe(notebookContainer, {childList: true});\n",
              "}}\n",
              "\n",
              "// Listen for the clearing of the current output cell\n",
              "var outputEl = gd.closest('.output');\n",
              "if (outputEl) {{\n",
              "    x.observe(outputEl, {childList: true});\n",
              "}}\n",
              "\n",
              "                        })                };                            </script>        </div>\n",
              "</body>\n",
              "</html>"
            ]
          },
          "metadata": {}
        }
      ]
    },
    {
      "cell_type": "code",
      "source": [
        "# write to csv to look at data\n",
        "df.to_csv(data_path+'check.csv',sep=',', index=False)"
      ],
      "metadata": {
        "id": "wBygB9WBPuwC"
      },
      "execution_count": null,
      "outputs": []
    },
    {
      "cell_type": "markdown",
      "source": [
        "# Back-up code"
      ],
      "metadata": {
        "id": "efNAHt-QKWEg"
      }
    },
    {
      "cell_type": "markdown",
      "source": [
        "### Write to CSV"
      ],
      "metadata": {
        "id": "nM3RvOJPWU6B"
      }
    },
    {
      "cell_type": "code",
      "source": [
        "# write to csv to look at data\n",
        "merged_df_wide.to_csv(data_path+'merged_df_wide.csv',sep=',', index=False)"
      ],
      "metadata": {
        "id": "qx_grPrjKbkv"
      },
      "execution_count": null,
      "outputs": []
    },
    {
      "cell_type": "code",
      "source": [
        "df.to_csv(data_path+'df.csv',sep=',', index=False)"
      ],
      "metadata": {
        "colab": {
          "base_uri": "https://localhost:8080/",
          "height": 166
        },
        "id": "NHpk3xqBloez",
        "outputId": "8a7dd56d-0238-49ef-a905-988f21e16b6b"
      },
      "execution_count": null,
      "outputs": [
        {
          "output_type": "error",
          "ename": "NameError",
          "evalue": "ignored",
          "traceback": [
            "\u001b[0;31m---------------------------------------------------------------------------\u001b[0m",
            "\u001b[0;31mNameError\u001b[0m                                 Traceback (most recent call last)",
            "\u001b[0;32m<ipython-input-147-25e0c4061483>\u001b[0m in \u001b[0;36m<module>\u001b[0;34m()\u001b[0m\n\u001b[0;32m----> 1\u001b[0;31m \u001b[0mdf\u001b[0m\u001b[0;34m.\u001b[0m\u001b[0mto_csv\u001b[0m\u001b[0;34m(\u001b[0m\u001b[0mdata_path\u001b[0m\u001b[0;34m+\u001b[0m\u001b[0;34m'df.csv'\u001b[0m\u001b[0;34m,\u001b[0m\u001b[0msep\u001b[0m\u001b[0;34m=\u001b[0m\u001b[0;34m','\u001b[0m\u001b[0;34m,\u001b[0m \u001b[0mindex\u001b[0m\u001b[0;34m=\u001b[0m\u001b[0;32mFalse\u001b[0m\u001b[0;34m)\u001b[0m\u001b[0;34m\u001b[0m\u001b[0;34m\u001b[0m\u001b[0m\n\u001b[0m",
            "\u001b[0;31mNameError\u001b[0m: name 'df' is not defined"
          ]
        }
      ]
    },
    {
      "cell_type": "markdown",
      "source": [
        "### Select columns"
      ],
      "metadata": {
        "id": "lYCbXA1QWZPa"
      }
    },
    {
      "cell_type": "code",
      "source": [
        "ages = titanic[\"Age\"]\n",
        "age_sex = titanic[[\"Age\", \"Sex\"]]"
      ],
      "metadata": {
        "id": "jyxIIJCFWWu5"
      },
      "execution_count": null,
      "outputs": []
    },
    {
      "cell_type": "markdown",
      "source": [
        "## Remove column"
      ],
      "metadata": {
        "id": "mH-TJuh8HlDw"
      }
    },
    {
      "cell_type": "code",
      "source": [
        "df = df.drop('column_name', 1)"
      ],
      "metadata": {
        "id": "xpZM4SDNHiKC"
      },
      "execution_count": null,
      "outputs": []
    },
    {
      "cell_type": "markdown",
      "source": [
        "## Reset index\n",
        "\n",
        "If you get this error: \"None of ['ID'] are in the columns\""
      ],
      "metadata": {
        "id": "5Ax0HApH7I79"
      }
    },
    {
      "cell_type": "code",
      "source": [
        "AAC_accidents['ID'] = AAC_accidents.reset_index().index\n",
        "\n",
        "# if just setting index to a column in the df\n",
        "AAC_accidents = AAC_accidents.set_index('ID')"
      ],
      "metadata": {
        "colab": {
          "base_uri": "https://localhost:8080/",
          "height": 364
        },
        "id": "yMevChTE7IZm",
        "outputId": "3e9f22cb-6946-4762-dade-402b9f6fae8d"
      },
      "execution_count": null,
      "outputs": [
        {
          "output_type": "error",
          "ename": "ValueError",
          "evalue": "ignored",
          "traceback": [
            "\u001b[0;31m---------------------------------------------------------------------------\u001b[0m",
            "\u001b[0;31mValueError\u001b[0m                                Traceback (most recent call last)",
            "\u001b[0;32m<ipython-input-148-59d6dbd26939>\u001b[0m in \u001b[0;36m<module>\u001b[0;34m()\u001b[0m\n\u001b[0;32m----> 1\u001b[0;31m \u001b[0mAAC_accidents\u001b[0m\u001b[0;34m[\u001b[0m\u001b[0;34m'ID'\u001b[0m\u001b[0;34m]\u001b[0m \u001b[0;34m=\u001b[0m \u001b[0mAAC_accidents\u001b[0m\u001b[0;34m.\u001b[0m\u001b[0mreset_index\u001b[0m\u001b[0;34m(\u001b[0m\u001b[0;34m)\u001b[0m\u001b[0;34m.\u001b[0m\u001b[0mindex\u001b[0m\u001b[0;34m\u001b[0m\u001b[0;34m\u001b[0m\u001b[0m\n\u001b[0m\u001b[1;32m      2\u001b[0m \u001b[0;34m\u001b[0m\u001b[0m\n\u001b[1;32m      3\u001b[0m \u001b[0;31m# if just setting index to a column in the df\u001b[0m\u001b[0;34m\u001b[0m\u001b[0;34m\u001b[0m\u001b[0;34m\u001b[0m\u001b[0m\n\u001b[1;32m      4\u001b[0m \u001b[0mAAC_accidents\u001b[0m \u001b[0;34m=\u001b[0m \u001b[0mAAC_accidents\u001b[0m\u001b[0;34m.\u001b[0m\u001b[0mset_index\u001b[0m\u001b[0;34m(\u001b[0m\u001b[0;34m'ID'\u001b[0m\u001b[0;34m)\u001b[0m\u001b[0;34m\u001b[0m\u001b[0;34m\u001b[0m\u001b[0m\n",
            "\u001b[0;32m/usr/local/lib/python3.7/dist-packages/pandas/util/_decorators.py\u001b[0m in \u001b[0;36mwrapper\u001b[0;34m(*args, **kwargs)\u001b[0m\n\u001b[1;32m    309\u001b[0m                     \u001b[0mstacklevel\u001b[0m\u001b[0;34m=\u001b[0m\u001b[0mstacklevel\u001b[0m\u001b[0;34m,\u001b[0m\u001b[0;34m\u001b[0m\u001b[0;34m\u001b[0m\u001b[0m\n\u001b[1;32m    310\u001b[0m                 )\n\u001b[0;32m--> 311\u001b[0;31m             \u001b[0;32mreturn\u001b[0m \u001b[0mfunc\u001b[0m\u001b[0;34m(\u001b[0m\u001b[0;34m*\u001b[0m\u001b[0margs\u001b[0m\u001b[0;34m,\u001b[0m \u001b[0;34m**\u001b[0m\u001b[0mkwargs\u001b[0m\u001b[0;34m)\u001b[0m\u001b[0;34m\u001b[0m\u001b[0;34m\u001b[0m\u001b[0m\n\u001b[0m\u001b[1;32m    312\u001b[0m \u001b[0;34m\u001b[0m\u001b[0m\n\u001b[1;32m    313\u001b[0m         \u001b[0;32mreturn\u001b[0m \u001b[0mwrapper\u001b[0m\u001b[0;34m\u001b[0m\u001b[0;34m\u001b[0m\u001b[0m\n",
            "\u001b[0;32m/usr/local/lib/python3.7/dist-packages/pandas/core/frame.py\u001b[0m in \u001b[0;36mreset_index\u001b[0;34m(self, level, drop, inplace, col_level, col_fill)\u001b[0m\n\u001b[1;32m   5797\u001b[0m                     )\n\u001b[1;32m   5798\u001b[0m \u001b[0;34m\u001b[0m\u001b[0m\n\u001b[0;32m-> 5799\u001b[0;31m                 \u001b[0mnew_obj\u001b[0m\u001b[0;34m.\u001b[0m\u001b[0minsert\u001b[0m\u001b[0;34m(\u001b[0m\u001b[0;36m0\u001b[0m\u001b[0;34m,\u001b[0m \u001b[0mname\u001b[0m\u001b[0;34m,\u001b[0m \u001b[0mlevel_values\u001b[0m\u001b[0;34m)\u001b[0m\u001b[0;34m\u001b[0m\u001b[0;34m\u001b[0m\u001b[0m\n\u001b[0m\u001b[1;32m   5800\u001b[0m \u001b[0;34m\u001b[0m\u001b[0m\n\u001b[1;32m   5801\u001b[0m         \u001b[0mnew_obj\u001b[0m\u001b[0;34m.\u001b[0m\u001b[0mindex\u001b[0m \u001b[0;34m=\u001b[0m \u001b[0mnew_index\u001b[0m\u001b[0;34m\u001b[0m\u001b[0;34m\u001b[0m\u001b[0m\n",
            "\u001b[0;32m/usr/local/lib/python3.7/dist-packages/pandas/core/frame.py\u001b[0m in \u001b[0;36minsert\u001b[0;34m(self, loc, column, value, allow_duplicates)\u001b[0m\n\u001b[1;32m   4412\u001b[0m         \u001b[0;32mif\u001b[0m \u001b[0;32mnot\u001b[0m \u001b[0mallow_duplicates\u001b[0m \u001b[0;32mand\u001b[0m \u001b[0mcolumn\u001b[0m \u001b[0;32min\u001b[0m \u001b[0mself\u001b[0m\u001b[0;34m.\u001b[0m\u001b[0mcolumns\u001b[0m\u001b[0;34m:\u001b[0m\u001b[0;34m\u001b[0m\u001b[0;34m\u001b[0m\u001b[0m\n\u001b[1;32m   4413\u001b[0m             \u001b[0;31m# Should this be a different kind of error??\u001b[0m\u001b[0;34m\u001b[0m\u001b[0;34m\u001b[0m\u001b[0;34m\u001b[0m\u001b[0m\n\u001b[0;32m-> 4414\u001b[0;31m             \u001b[0;32mraise\u001b[0m \u001b[0mValueError\u001b[0m\u001b[0;34m(\u001b[0m\u001b[0;34mf\"cannot insert {column}, already exists\"\u001b[0m\u001b[0;34m)\u001b[0m\u001b[0;34m\u001b[0m\u001b[0;34m\u001b[0m\u001b[0m\n\u001b[0m\u001b[1;32m   4415\u001b[0m         \u001b[0;32mif\u001b[0m \u001b[0;32mnot\u001b[0m \u001b[0misinstance\u001b[0m\u001b[0;34m(\u001b[0m\u001b[0mloc\u001b[0m\u001b[0;34m,\u001b[0m \u001b[0mint\u001b[0m\u001b[0;34m)\u001b[0m\u001b[0;34m:\u001b[0m\u001b[0;34m\u001b[0m\u001b[0;34m\u001b[0m\u001b[0m\n\u001b[1;32m   4416\u001b[0m             \u001b[0;32mraise\u001b[0m \u001b[0mTypeError\u001b[0m\u001b[0;34m(\u001b[0m\u001b[0;34m\"loc must be int\"\u001b[0m\u001b[0;34m)\u001b[0m\u001b[0;34m\u001b[0m\u001b[0;34m\u001b[0m\u001b[0m\n",
            "\u001b[0;31mValueError\u001b[0m: cannot insert ID, already exists"
          ]
        }
      ]
    },
    {
      "cell_type": "markdown",
      "source": [
        "## Remove duplicate column"
      ],
      "metadata": {
        "id": "qPOxb_XutAPF"
      }
    },
    {
      "cell_type": "code",
      "source": [
        ""
      ],
      "metadata": {
        "id": "3PJcsC41tB8M"
      },
      "execution_count": null,
      "outputs": []
    },
    {
      "cell_type": "code",
      "source": [
        "test2 = test.loc[:,~test.columns.duplicated()]\n",
        "test2"
      ],
      "metadata": {
        "id": "H-mDzFwTs_Yl"
      },
      "execution_count": null,
      "outputs": []
    },
    {
      "cell_type": "code",
      "source": [
        "# check unique values in column\n"
      ],
      "metadata": {
        "colab": {
          "base_uri": "https://localhost:8080/",
          "height": 183
        },
        "id": "-muNcsF8aDZN",
        "outputId": "ae7f9f8e-34f3-4e1e-9806-4169806df610"
      },
      "execution_count": null,
      "outputs": [
        {
          "output_type": "error",
          "ename": "AttributeError",
          "evalue": "ignored",
          "traceback": [
            "\u001b[0;31m---------------------------------------------------------------------------\u001b[0m",
            "\u001b[0;31mAttributeError\u001b[0m                            Traceback (most recent call last)",
            "\u001b[0;32m<ipython-input-237-e9008b9f362a>\u001b[0m in \u001b[0;36m<module>\u001b[0;34m()\u001b[0m\n\u001b[1;32m      1\u001b[0m \u001b[0;31m# check unique values in column\u001b[0m\u001b[0;34m\u001b[0m\u001b[0;34m\u001b[0m\u001b[0;34m\u001b[0m\u001b[0m\n\u001b[0;32m----> 2\u001b[0;31m \u001b[0mAAC_accidents\u001b[0m\u001b[0;34m[\u001b[0m\u001b[0;34m'Location'\u001b[0m\u001b[0;34m]\u001b[0m\u001b[0;34m.\u001b[0m\u001b[0munique\u001b[0m\u001b[0;34m(\u001b[0m\u001b[0;34m)\u001b[0m\u001b[0;34m.\u001b[0m\u001b[0mcount\u001b[0m\u001b[0;34m\u001b[0m\u001b[0;34m\u001b[0m\u001b[0m\n\u001b[0m",
            "\u001b[0;31mAttributeError\u001b[0m: 'Categorical' object has no attribute 'count'"
          ]
        }
      ]
    },
    {
      "cell_type": "markdown",
      "source": [
        "## Making suplots without using axs"
      ],
      "metadata": {
        "id": "N_LPYoLVlxkT"
      }
    },
    {
      "cell_type": "code",
      "source": [
        "plt.subplot(121) #define subplot 1\n",
        "plt.suptitle(\"Seriousness of Accidents\")\n",
        "seriousness_count = melt_serious['Seriousness'].value_counts().sort_index() #sort_index() to get the right order set for this category\n",
        "colours = ['green', 'blue', 'orange'] # \n",
        "labels = melt_serious['Seriousness'].cat.categories.tolist()\n",
        "\n",
        "plt.bar(labels, seriousness_count, color = colours)\n",
        "plt.ylabel('Number of Accidents', fontsize=12)\n",
        "plt.xticks(rotation = 45)\n",
        "\n",
        "plt.subplot(122)  #define subplot 2\n",
        "labels = labels\n",
        "sizes = seriousness_count #set size of pie to number of accidents\n",
        "\n",
        "plt.pie(sizes, labels = labels, colors = colours, autopct='%1.1f%%')\n",
        "plt.axis('equal')\n",
        "plt.xlabel('% of accidents', fontsize=12)\n",
        "\n",
        "\n",
        "plt.show()"
      ],
      "metadata": {
        "id": "3zzCozVJlw0s"
      },
      "execution_count": null,
      "outputs": []
    },
    {
      "cell_type": "markdown",
      "source": [
        "# Other stuff"
      ],
      "metadata": {
        "id": "pHniOchJKeLJ"
      }
    },
    {
      "cell_type": "code",
      "execution_count": null,
      "metadata": {
        "id": "mTVmAsJ1eu22"
      },
      "outputs": [],
      "source": [
        "# melt age\n",
        "melt_age = AAC_accidents.melt(['Search Column\\n\\n', 'ID', 'Accident Title', 'Publication Year', 'Text',\n",
        "       'Tags Applied', 'COUNT OF TAGS', 'No/Little', 'Moderate',\n",
        "       'Experienced', 'Unknown', 'Deadly', 'Serious', 'Minor',\n",
        "       'Head / Brain Injury', 'Descent', 'Roped', 'Trad Climbing', 'Sport',\n",
        "       'T op-Rope', 'Aid & Big Wall Climbing', 'Pendulum', 'Unroped ', 'Solo',\n",
        "       'Climbing Alone', 'Bouldering', 'Non-climbing', 'Alpine/Mountaineering',\n",
        "       'Piton/Ice Screw', 'Ascent Illness', 'Crampon Issues', 'Ice Climbing',\n",
        "       'Glissading', 'Ski-related ', 'Poor Position',\n",
        "       'Poor Cond/Seasonal Risk', 'Avalanche',\n",
        "       'Cornice / Snow Bridge Collapse', 'Bergschrund',\n",
        "       'Crevasse / Moat / Berschrund', 'Icefall / Serac / Ice Avalanche',\n",
        "       'Exposure', 'Non-Ascent Illness', 'Visibility', 'Severe Weather',\n",
        "       'Wildlife', 'Natural Rockfall', 'Off-route', 'Rushed', 'Run Out',\n",
        "       'Crowds', 'Inadequate Food/Water', 'No Helmet', 'Late in Day',\n",
        "       'Late Start', 'Party Separated', 'Ledge Fall', 'Gym / Artificial',\n",
        "       'Gym Climber', 'Fatigue', 'Large Group', 'Distracted',\n",
        "       'Object Dropped/Dislodged', 'Handhold/Foothold Broke',\n",
        "       'Knot & Tie-in Error', 'No Backup or End Knot', 'Gear Broke',\n",
        "       'Intoxicated', 'Inadequate Equipment', 'Inadequate Protection / Pulled',\n",
        "       'Anchor Failure / Error', 'Stranded / Lost / Overdue', 'Belay Error',\n",
        "       'Rappel Error', 'Lowering Error', 'Miscommunication', 'January',\n",
        "       'February', 'March', 'April', 'May', 'June', 'July', 'August',\n",
        "       'September', 'October', 'November', 'December', 'Location'], \n",
        "       ['<15', '15-20', '21-25', '26-30',\n",
        "       '31-35', '36-50', '51-75', '>75'],\n",
        "       \"Age\")"
      ]
    },
    {
      "cell_type": "code",
      "execution_count": null,
      "metadata": {
        "colab": {
          "base_uri": "https://localhost:8080/",
          "height": 1000
        },
        "id": "Q5PzyLkiOVVm",
        "outputId": "f33daae6-6423-4ca2-f4b4-7e11f20f9e4d"
      },
      "outputs": [
        {
          "data": {
            "text/html": [
              "\n",
              "  <div id=\"df-0b254aea-f3a6-4283-8354-606ef78d2100\">\n",
              "    <div class=\"colab-df-container\">\n",
              "      <div>\n",
              "<style scoped>\n",
              "    .dataframe tbody tr th:only-of-type {\n",
              "        vertical-align: middle;\n",
              "    }\n",
              "\n",
              "    .dataframe tbody tr th {\n",
              "        vertical-align: top;\n",
              "    }\n",
              "\n",
              "    .dataframe thead th {\n",
              "        text-align: right;\n",
              "    }\n",
              "</style>\n",
              "<table border=\"1\" class=\"dataframe\">\n",
              "  <thead>\n",
              "    <tr style=\"text-align: right;\">\n",
              "      <th></th>\n",
              "      <th>Search Column\\n\\n</th>\n",
              "      <th>ID</th>\n",
              "      <th>Accident Title</th>\n",
              "      <th>Publication Year</th>\n",
              "      <th>Text</th>\n",
              "      <th>Tags Applied</th>\n",
              "      <th>COUNT OF TAGS</th>\n",
              "      <th>&lt;15</th>\n",
              "      <th>15-20</th>\n",
              "      <th>21-25</th>\n",
              "      <th>...</th>\n",
              "      <th>April</th>\n",
              "      <th>May</th>\n",
              "      <th>June</th>\n",
              "      <th>July</th>\n",
              "      <th>August</th>\n",
              "      <th>September</th>\n",
              "      <th>October</th>\n",
              "      <th>November</th>\n",
              "      <th>December</th>\n",
              "      <th>Location</th>\n",
              "    </tr>\n",
              "  </thead>\n",
              "  <tbody>\n",
              "    <tr>\n",
              "      <th>0</th>\n",
              "      <td>0</td>\n",
              "      <td>1</td>\n",
              "      <td>Failure of Rappel Setup (Protection Pulled Out...</td>\n",
              "      <td>1990</td>\n",
              "      <td>Colorado, Rocky Mountain National Park\\nOn May...</td>\n",
              "      <td>Serious, Head / Brain Injury, Descent, Roped, ...</td>\n",
              "      <td>8</td>\n",
              "      <td>1.0</td>\n",
              "      <td>0.0</td>\n",
              "      <td>0.0</td>\n",
              "      <td>...</td>\n",
              "      <td>0</td>\n",
              "      <td>1</td>\n",
              "      <td>0</td>\n",
              "      <td>0</td>\n",
              "      <td>0</td>\n",
              "      <td>0</td>\n",
              "      <td>0</td>\n",
              "      <td>0.0</td>\n",
              "      <td>0</td>\n",
              "      <td>Colorado</td>\n",
              "    </tr>\n",
              "    <tr>\n",
              "      <th>1</th>\n",
              "      <td>0</td>\n",
              "      <td>2</td>\n",
              "      <td>Failure of Rappel—Failure to Check System, Bri...</td>\n",
              "      <td>1990</td>\n",
              "      <td>British Columbia, Squamish, Smoke Bluffs\\nOn M...</td>\n",
              "      <td>Experienced, Serious, Descent, Roped, Top-Rope...</td>\n",
              "      <td>7</td>\n",
              "      <td>0.0</td>\n",
              "      <td>0.0</td>\n",
              "      <td>0.0</td>\n",
              "      <td>...</td>\n",
              "      <td>0</td>\n",
              "      <td>1</td>\n",
              "      <td>0</td>\n",
              "      <td>0</td>\n",
              "      <td>0</td>\n",
              "      <td>0</td>\n",
              "      <td>0</td>\n",
              "      <td>0.0</td>\n",
              "      <td>0</td>\n",
              "      <td>British Columbia</td>\n",
              "    </tr>\n",
              "    <tr>\n",
              "      <th>2</th>\n",
              "      <td>0</td>\n",
              "      <td>3</td>\n",
              "      <td>Fall into Crevasse, Climbing Alone, Inadequate...</td>\n",
              "      <td>1990</td>\n",
              "      <td>Alberta, Rocky Mountains, Crowfoot Mountain\\nO...</td>\n",
              "      <td>Experienced, Minor, Unroped , Solo, Climbing A...</td>\n",
              "      <td>9</td>\n",
              "      <td>0.0</td>\n",
              "      <td>0.0</td>\n",
              "      <td>0.0</td>\n",
              "      <td>...</td>\n",
              "      <td>0</td>\n",
              "      <td>0</td>\n",
              "      <td>0</td>\n",
              "      <td>0</td>\n",
              "      <td>1</td>\n",
              "      <td>0</td>\n",
              "      <td>0</td>\n",
              "      <td>0.0</td>\n",
              "      <td>0</td>\n",
              "      <td>Alberta</td>\n",
              "    </tr>\n",
              "    <tr>\n",
              "      <th>3</th>\n",
              "      <td>0</td>\n",
              "      <td>4</td>\n",
              "      <td>Fall into Crevasse, Climbing Unroped, British ...</td>\n",
              "      <td>1990</td>\n",
              "      <td>British Columbia, Bugaboo Mountains, Bugaboo S...</td>\n",
              "      <td>Minor, Unroped , Solo, Alpine/Mountaineering, ...</td>\n",
              "      <td>5</td>\n",
              "      <td>0.0</td>\n",
              "      <td>0.0</td>\n",
              "      <td>0.0</td>\n",
              "      <td>...</td>\n",
              "      <td>0</td>\n",
              "      <td>0</td>\n",
              "      <td>0</td>\n",
              "      <td>0</td>\n",
              "      <td>0</td>\n",
              "      <td>1</td>\n",
              "      <td>0</td>\n",
              "      <td>0.0</td>\n",
              "      <td>0</td>\n",
              "      <td>British Columbia</td>\n",
              "    </tr>\n",
              "    <tr>\n",
              "      <th>4</th>\n",
              "      <td>0</td>\n",
              "      <td>5</td>\n",
              "      <td>Fall Into Crevasse, Unroped, Inadequate Equipm...</td>\n",
              "      <td>1990</td>\n",
              "      <td>On the afternoon of March 29, 1989, four ski t...</td>\n",
              "      <td>Deadly, Serious, Descent, Unroped , Solo, Non-...</td>\n",
              "      <td>10</td>\n",
              "      <td>0.0</td>\n",
              "      <td>0.0</td>\n",
              "      <td>0.0</td>\n",
              "      <td>...</td>\n",
              "      <td>0</td>\n",
              "      <td>0</td>\n",
              "      <td>0</td>\n",
              "      <td>0</td>\n",
              "      <td>0</td>\n",
              "      <td>0</td>\n",
              "      <td>0</td>\n",
              "      <td>0.0</td>\n",
              "      <td>0</td>\n",
              "      <td>Alberta</td>\n",
              "    </tr>\n",
              "    <tr>\n",
              "      <th>...</th>\n",
              "      <td>...</td>\n",
              "      <td>...</td>\n",
              "      <td>...</td>\n",
              "      <td>...</td>\n",
              "      <td>...</td>\n",
              "      <td>...</td>\n",
              "      <td>...</td>\n",
              "      <td>...</td>\n",
              "      <td>...</td>\n",
              "      <td>...</td>\n",
              "      <td>...</td>\n",
              "      <td>...</td>\n",
              "      <td>...</td>\n",
              "      <td>...</td>\n",
              "      <td>...</td>\n",
              "      <td>...</td>\n",
              "      <td>...</td>\n",
              "      <td>...</td>\n",
              "      <td>...</td>\n",
              "      <td>...</td>\n",
              "      <td>...</td>\n",
              "    </tr>\n",
              "    <tr>\n",
              "      <th>2765</th>\n",
              "      <td>0</td>\n",
              "      <td>958a</td>\n",
              "      <td>Fall on Ice, Inadequate Protection, Poor Posit...</td>\n",
              "      <td>2000</td>\n",
              "      <td>Alberta, Banff National Park, Cascade Waterfal...</td>\n",
              "      <td>No/Little, Deadly, Descent, Unroped , Solo, Ic...</td>\n",
              "      <td>9</td>\n",
              "      <td>0.0</td>\n",
              "      <td>0.0</td>\n",
              "      <td>1.0</td>\n",
              "      <td>...</td>\n",
              "      <td>0</td>\n",
              "      <td>0</td>\n",
              "      <td>0</td>\n",
              "      <td>0</td>\n",
              "      <td>0</td>\n",
              "      <td>0</td>\n",
              "      <td>0</td>\n",
              "      <td>0.0</td>\n",
              "      <td>1</td>\n",
              "      <td>Alberta</td>\n",
              "    </tr>\n",
              "    <tr>\n",
              "      <th>2766</th>\n",
              "      <td>0</td>\n",
              "      <td>958b</td>\n",
              "      <td>Edited Title: Fall on Ice, Inadequate Protecti...</td>\n",
              "      <td>2000</td>\n",
              "      <td>Alberta, Banff National Park, Cascade Waterfal...</td>\n",
              "      <td>Serious, Descent, Roped, Ice Climbing, Avalanc...</td>\n",
              "      <td>8</td>\n",
              "      <td>0.0</td>\n",
              "      <td>0.0</td>\n",
              "      <td>0.0</td>\n",
              "      <td>...</td>\n",
              "      <td>0</td>\n",
              "      <td>0</td>\n",
              "      <td>0</td>\n",
              "      <td>0</td>\n",
              "      <td>0</td>\n",
              "      <td>0</td>\n",
              "      <td>0</td>\n",
              "      <td>0.0</td>\n",
              "      <td>1</td>\n",
              "      <td>Alberta</td>\n",
              "    </tr>\n",
              "    <tr>\n",
              "      <th>2767</th>\n",
              "      <td>0</td>\n",
              "      <td>995a</td>\n",
              "      <td>Edited title: Snow Blindness ...— Alaska, Moun...</td>\n",
              "      <td>2000</td>\n",
              "      <td>Alaska, Mount McKinley\\nOn June 15, both a Sou...</td>\n",
              "      <td>Descent, Alpine/Mountaineering, Ascent Illness...</td>\n",
              "      <td>4</td>\n",
              "      <td>0.0</td>\n",
              "      <td>0.0</td>\n",
              "      <td>0.0</td>\n",
              "      <td>...</td>\n",
              "      <td>0</td>\n",
              "      <td>0</td>\n",
              "      <td>1</td>\n",
              "      <td>0</td>\n",
              "      <td>0</td>\n",
              "      <td>0</td>\n",
              "      <td>0</td>\n",
              "      <td>0.0</td>\n",
              "      <td>0</td>\n",
              "      <td>Alaska</td>\n",
              "    </tr>\n",
              "    <tr>\n",
              "      <th>2768</th>\n",
              "      <td>0</td>\n",
              "      <td>995b</td>\n",
              "      <td>Edited title:  Acute Mountain Sickness — Alask...</td>\n",
              "      <td>2000</td>\n",
              "      <td>Alaska, Mount McKinley\\nOn June 15, both a Sou...</td>\n",
              "      <td>Serious, Descent, Alpine/Mountaineering, Ascen...</td>\n",
              "      <td>5</td>\n",
              "      <td>0.0</td>\n",
              "      <td>0.0</td>\n",
              "      <td>0.0</td>\n",
              "      <td>...</td>\n",
              "      <td>0</td>\n",
              "      <td>0</td>\n",
              "      <td>1</td>\n",
              "      <td>0</td>\n",
              "      <td>0</td>\n",
              "      <td>0</td>\n",
              "      <td>0</td>\n",
              "      <td>0.0</td>\n",
              "      <td>0</td>\n",
              "      <td>Alaska</td>\n",
              "    </tr>\n",
              "    <tr>\n",
              "      <th>2769</th>\n",
              "      <td>1</td>\n",
              "      <td>997tt</td>\n",
              "      <td>Stranded — Did Not Check Fixed Ropes, Dehydrat...</td>\n",
              "      <td>2000</td>\n",
              "      <td>California, Yosemite Valley, Lost Arrow Spire\\...</td>\n",
              "      <td>Minor, Roped, Trad Climbing, Alpine/Mountainee...</td>\n",
              "      <td>7</td>\n",
              "      <td>0.0</td>\n",
              "      <td>0.0</td>\n",
              "      <td>2.0</td>\n",
              "      <td>...</td>\n",
              "      <td>0</td>\n",
              "      <td>0</td>\n",
              "      <td>0</td>\n",
              "      <td>0</td>\n",
              "      <td>0</td>\n",
              "      <td>0</td>\n",
              "      <td>0</td>\n",
              "      <td>0.0</td>\n",
              "      <td>1</td>\n",
              "      <td></td>\n",
              "    </tr>\n",
              "  </tbody>\n",
              "</table>\n",
              "<p>2770 rows × 97 columns</p>\n",
              "</div>\n",
              "      <button class=\"colab-df-convert\" onclick=\"convertToInteractive('df-0b254aea-f3a6-4283-8354-606ef78d2100')\"\n",
              "              title=\"Convert this dataframe to an interactive table.\"\n",
              "              style=\"display:none;\">\n",
              "        \n",
              "  <svg xmlns=\"http://www.w3.org/2000/svg\" height=\"24px\"viewBox=\"0 0 24 24\"\n",
              "       width=\"24px\">\n",
              "    <path d=\"M0 0h24v24H0V0z\" fill=\"none\"/>\n",
              "    <path d=\"M18.56 5.44l.94 2.06.94-2.06 2.06-.94-2.06-.94-.94-2.06-.94 2.06-2.06.94zm-11 1L8.5 8.5l.94-2.06 2.06-.94-2.06-.94L8.5 2.5l-.94 2.06-2.06.94zm10 10l.94 2.06.94-2.06 2.06-.94-2.06-.94-.94-2.06-.94 2.06-2.06.94z\"/><path d=\"M17.41 7.96l-1.37-1.37c-.4-.4-.92-.59-1.43-.59-.52 0-1.04.2-1.43.59L10.3 9.45l-7.72 7.72c-.78.78-.78 2.05 0 2.83L4 21.41c.39.39.9.59 1.41.59.51 0 1.02-.2 1.41-.59l7.78-7.78 2.81-2.81c.8-.78.8-2.07 0-2.86zM5.41 20L4 18.59l7.72-7.72 1.47 1.35L5.41 20z\"/>\n",
              "  </svg>\n",
              "      </button>\n",
              "      \n",
              "  <style>\n",
              "    .colab-df-container {\n",
              "      display:flex;\n",
              "      flex-wrap:wrap;\n",
              "      gap: 12px;\n",
              "    }\n",
              "\n",
              "    .colab-df-convert {\n",
              "      background-color: #E8F0FE;\n",
              "      border: none;\n",
              "      border-radius: 50%;\n",
              "      cursor: pointer;\n",
              "      display: none;\n",
              "      fill: #1967D2;\n",
              "      height: 32px;\n",
              "      padding: 0 0 0 0;\n",
              "      width: 32px;\n",
              "    }\n",
              "\n",
              "    .colab-df-convert:hover {\n",
              "      background-color: #E2EBFA;\n",
              "      box-shadow: 0px 1px 2px rgba(60, 64, 67, 0.3), 0px 1px 3px 1px rgba(60, 64, 67, 0.15);\n",
              "      fill: #174EA6;\n",
              "    }\n",
              "\n",
              "    [theme=dark] .colab-df-convert {\n",
              "      background-color: #3B4455;\n",
              "      fill: #D2E3FC;\n",
              "    }\n",
              "\n",
              "    [theme=dark] .colab-df-convert:hover {\n",
              "      background-color: #434B5C;\n",
              "      box-shadow: 0px 1px 3px 1px rgba(0, 0, 0, 0.15);\n",
              "      filter: drop-shadow(0px 1px 2px rgba(0, 0, 0, 0.3));\n",
              "      fill: #FFFFFF;\n",
              "    }\n",
              "  </style>\n",
              "\n",
              "      <script>\n",
              "        const buttonEl =\n",
              "          document.querySelector('#df-0b254aea-f3a6-4283-8354-606ef78d2100 button.colab-df-convert');\n",
              "        buttonEl.style.display =\n",
              "          google.colab.kernel.accessAllowed ? 'block' : 'none';\n",
              "\n",
              "        async function convertToInteractive(key) {\n",
              "          const element = document.querySelector('#df-0b254aea-f3a6-4283-8354-606ef78d2100');\n",
              "          const dataTable =\n",
              "            await google.colab.kernel.invokeFunction('convertToInteractive',\n",
              "                                                     [key], {});\n",
              "          if (!dataTable) return;\n",
              "\n",
              "          const docLinkHtml = 'Like what you see? Visit the ' +\n",
              "            '<a target=\"_blank\" href=https://colab.research.google.com/notebooks/data_table.ipynb>data table notebook</a>'\n",
              "            + ' to learn more about interactive tables.';\n",
              "          element.innerHTML = '';\n",
              "          dataTable['output_type'] = 'display_data';\n",
              "          await google.colab.output.renderOutput(dataTable, element);\n",
              "          const docLink = document.createElement('div');\n",
              "          docLink.innerHTML = docLinkHtml;\n",
              "          element.appendChild(docLink);\n",
              "        }\n",
              "      </script>\n",
              "    </div>\n",
              "  </div>\n",
              "  "
            ],
            "text/plain": [
              "      Search Column\\n\\n     ID  \\\n",
              "0                     0      1   \n",
              "1                     0      2   \n",
              "2                     0      3   \n",
              "3                     0      4   \n",
              "4                     0      5   \n",
              "...                 ...    ...   \n",
              "2765                  0   958a   \n",
              "2766                  0   958b   \n",
              "2767                  0   995a   \n",
              "2768                  0   995b   \n",
              "2769                  1  997tt   \n",
              "\n",
              "                                         Accident Title  Publication Year  \\\n",
              "0     Failure of Rappel Setup (Protection Pulled Out...              1990   \n",
              "1     Failure of Rappel—Failure to Check System, Bri...              1990   \n",
              "2     Fall into Crevasse, Climbing Alone, Inadequate...              1990   \n",
              "3     Fall into Crevasse, Climbing Unroped, British ...              1990   \n",
              "4     Fall Into Crevasse, Unroped, Inadequate Equipm...              1990   \n",
              "...                                                 ...               ...   \n",
              "2765  Fall on Ice, Inadequate Protection, Poor Posit...              2000   \n",
              "2766  Edited Title: Fall on Ice, Inadequate Protecti...              2000   \n",
              "2767  Edited title: Snow Blindness ...— Alaska, Moun...              2000   \n",
              "2768  Edited title:  Acute Mountain Sickness — Alask...              2000   \n",
              "2769  Stranded — Did Not Check Fixed Ropes, Dehydrat...              2000   \n",
              "\n",
              "                                                   Text  \\\n",
              "0     Colorado, Rocky Mountain National Park\\nOn May...   \n",
              "1     British Columbia, Squamish, Smoke Bluffs\\nOn M...   \n",
              "2     Alberta, Rocky Mountains, Crowfoot Mountain\\nO...   \n",
              "3     British Columbia, Bugaboo Mountains, Bugaboo S...   \n",
              "4     On the afternoon of March 29, 1989, four ski t...   \n",
              "...                                                 ...   \n",
              "2765  Alberta, Banff National Park, Cascade Waterfal...   \n",
              "2766  Alberta, Banff National Park, Cascade Waterfal...   \n",
              "2767  Alaska, Mount McKinley\\nOn June 15, both a Sou...   \n",
              "2768  Alaska, Mount McKinley\\nOn June 15, both a Sou...   \n",
              "2769  California, Yosemite Valley, Lost Arrow Spire\\...   \n",
              "\n",
              "                                           Tags Applied  COUNT OF TAGS  <15  \\\n",
              "0     Serious, Head / Brain Injury, Descent, Roped, ...              8  1.0   \n",
              "1     Experienced, Serious, Descent, Roped, Top-Rope...              7  0.0   \n",
              "2     Experienced, Minor, Unroped , Solo, Climbing A...              9  0.0   \n",
              "3     Minor, Unroped , Solo, Alpine/Mountaineering, ...              5  0.0   \n",
              "4     Deadly, Serious, Descent, Unroped , Solo, Non-...             10  0.0   \n",
              "...                                                 ...            ...  ...   \n",
              "2765  No/Little, Deadly, Descent, Unroped , Solo, Ic...              9  0.0   \n",
              "2766  Serious, Descent, Roped, Ice Climbing, Avalanc...              8  0.0   \n",
              "2767  Descent, Alpine/Mountaineering, Ascent Illness...              4  0.0   \n",
              "2768  Serious, Descent, Alpine/Mountaineering, Ascen...              5  0.0   \n",
              "2769  Minor, Roped, Trad Climbing, Alpine/Mountainee...              7  0.0   \n",
              "\n",
              "      15-20  21-25  ...  April  May  June  July  August  September  October  \\\n",
              "0       0.0    0.0  ...      0    1     0     0       0          0        0   \n",
              "1       0.0    0.0  ...      0    1     0     0       0          0        0   \n",
              "2       0.0    0.0  ...      0    0     0     0       1          0        0   \n",
              "3       0.0    0.0  ...      0    0     0     0       0          1        0   \n",
              "4       0.0    0.0  ...      0    0     0     0       0          0        0   \n",
              "...     ...    ...  ...    ...  ...   ...   ...     ...        ...      ...   \n",
              "2765    0.0    1.0  ...      0    0     0     0       0          0        0   \n",
              "2766    0.0    0.0  ...      0    0     0     0       0          0        0   \n",
              "2767    0.0    0.0  ...      0    0     1     0       0          0        0   \n",
              "2768    0.0    0.0  ...      0    0     1     0       0          0        0   \n",
              "2769    0.0    2.0  ...      0    0     0     0       0          0        0   \n",
              "\n",
              "      November  December          Location  \n",
              "0          0.0         0          Colorado  \n",
              "1          0.0         0  British Columbia  \n",
              "2          0.0         0           Alberta  \n",
              "3          0.0         0  British Columbia  \n",
              "4          0.0         0           Alberta  \n",
              "...        ...       ...               ...  \n",
              "2765       0.0         1           Alberta  \n",
              "2766       0.0         1           Alberta  \n",
              "2767       0.0         0            Alaska  \n",
              "2768       0.0         0            Alaska  \n",
              "2769       0.0         1                    \n",
              "\n",
              "[2770 rows x 97 columns]"
            ]
          },
          "execution_count": 21,
          "metadata": {},
          "output_type": "execute_result"
        }
      ],
      "source": [
        "AAC_accidents"
      ]
    },
    {
      "cell_type": "code",
      "execution_count": null,
      "metadata": {
        "colab": {
          "base_uri": "https://localhost:8080/"
        },
        "id": "iHdEdEZTNXJK",
        "outputId": "c94e1365-a382-4790-fddf-e658b1f002fd"
      },
      "outputs": [
        {
          "data": {
            "text/plain": [
              "Index(['Search Column\\n\\n', 'ID', 'Accident Title', 'Publication Year', 'Text',\n",
              "       'Tags Applied', 'COUNT OF TAGS', 'No/Little', 'Moderate', 'Experienced',\n",
              "       'Unknown', 'Deadly', 'Serious', 'Minor', 'Head / Brain Injury',\n",
              "       'Descent', 'Roped', 'Trad Climbing', 'Sport', 'Top-Rope',\n",
              "       'Aid & Big Wall Climbing', 'Pendulum', 'Unroped ', 'Solo',\n",
              "       'Climbing Alone', 'Bouldering', 'Non-climbing', 'Alpine/Mountaineering',\n",
              "       'Piton/Ice Screw', 'Ascent Illness', 'Crampon Issues', 'Ice Climbing',\n",
              "       'Glissading', 'Ski-related ', 'Poor Position',\n",
              "       'Poor Cond/Seasonal Risk', 'Avalanche',\n",
              "       'Cornice / Snow Bridge Collapse', 'Bergschrund',\n",
              "       'Crevasse / Moat / Berschrund', 'Icefall / Serac / Ice Avalanche',\n",
              "       'Exposure', 'Non-Ascent Illness', 'Visibility', 'Severe Weather',\n",
              "       'Wildlife', 'Natural Rockfall', 'Off-route', 'Rushed', 'Run Out',\n",
              "       'Crowds', 'Inadequate Food/Water', 'No Helmet', 'Late in Day',\n",
              "       'Late Start', 'Party Separated', 'Ledge Fall', 'Gym / Artificial',\n",
              "       'Gym Climber', 'Fatigue', 'Large Group', 'Distracted',\n",
              "       'Object Dropped/Dislodged', 'Handhold/Foothold Broke',\n",
              "       'Knot & Tie-in Error', 'No Backup or End Knot', 'Gear Broke',\n",
              "       'Intoxicated', 'Inadequate Equipment', 'Inadequate Protection / Pulled',\n",
              "       'Anchor Failure / Error', 'Stranded / Lost / Overdue', 'Belay Error',\n",
              "       'Rappel Error', 'Lowering Error', 'Miscommunication', 'January',\n",
              "       'February', 'March', 'April', 'May', 'June', 'July', 'August',\n",
              "       'September', 'October', 'November', 'December', 'Location', 'Age',\n",
              "       'value'],\n",
              "      dtype='object')"
            ]
          },
          "execution_count": 9,
          "metadata": {},
          "output_type": "execute_result"
        }
      ],
      "source": [
        "melt_age.columns"
      ]
    },
    {
      "cell_type": "code",
      "execution_count": null,
      "metadata": {
        "colab": {
          "base_uri": "https://localhost:8080/"
        },
        "id": "e2COKtKVf3Js",
        "outputId": "45c4747d-a32f-457e-9dd2-59ae4cc2fa8b"
      },
      "outputs": [
        {
          "name": "stderr",
          "output_type": "stream",
          "text": [
            "/usr/local/lib/python3.7/dist-packages/ipykernel_launcher.py:26: FutureWarning: This dataframe has a column name that matches the 'value_name' column name of the resulting Dataframe. In the future this will raise an error, please set the 'value_name' parameter of DataFrame.melt to a unique name.\n"
          ]
        }
      ],
      "source": [
        "# melt experience\n",
        "melt_experience = melt_age.melt(['Search Column\\n\\n', 'ID', 'Accident Title', 'Publication Year', 'Text',\n",
        "       'Tags Applied', 'COUNT OF TAGS', 'Deadly', 'Serious', 'Minor',\n",
        "       'Head / Brain Injury', 'Descent', 'Roped', 'Trad Climbing', 'Sport',\n",
        "       'Top-Rope', 'Aid & Big Wall Climbing', 'Pendulum', 'Unroped ', 'Solo',\n",
        "       'Climbing Alone', 'Bouldering', 'Non-climbing', 'Alpine/Mountaineering',\n",
        "       'Piton/Ice Screw', 'Ascent Illness', 'Crampon Issues', 'Ice Climbing',\n",
        "       'Glissading', 'Ski-related ', 'Poor Position',\n",
        "       'Poor Cond/Seasonal Risk', 'Avalanche',\n",
        "       'Cornice / Snow Bridge Collapse', 'Bergschrund',\n",
        "       'Crevasse / Moat / Berschrund', 'Icefall / Serac / Ice Avalanche',\n",
        "       'Exposure', 'Non-Ascent Illness', 'Visibility', 'Severe Weather',\n",
        "       'Wildlife', 'Natural Rockfall', 'Off-route', 'Rushed', 'Run Out',\n",
        "       'Crowds', 'Inadequate Food/Water', 'No Helmet', 'Late in Day',\n",
        "       'Late Start', 'Party Separated', 'Ledge Fall', 'Gym / Artificial',\n",
        "       'Gym Climber', 'Fatigue', 'Large Group', 'Distracted',\n",
        "       'Object Dropped/Dislodged', 'Handhold/Foothold Broke',\n",
        "       'Knot & Tie-in Error', 'No Backup or End Knot', 'Gear Broke',\n",
        "       'Intoxicated', 'Inadequate Equipment', 'Inadequate Protection / Pulled',\n",
        "       'Anchor Failure / Error', 'Stranded / Lost / Overdue', 'Belay Error',\n",
        "       'Rappel Error', 'Lowering Error', 'Miscommunication', 'January',\n",
        "       'February', 'March', 'April', 'May', 'June', 'July', 'August',\n",
        "       'September', 'October', 'November', 'December', 'Location', 'Age'], \n",
        "       ['No/Little', 'Moderate',\n",
        "       'Experienced', 'Unknown'],\n",
        "       \"Experience\")"
      ]
    },
    {
      "cell_type": "code",
      "execution_count": null,
      "metadata": {
        "colab": {
          "base_uri": "https://localhost:8080/"
        },
        "id": "r6bmzHxdNcbN",
        "outputId": "2fcfaab0-5323-44d8-f43b-b68779694c7f"
      },
      "outputs": [
        {
          "data": {
            "text/plain": [
              "Index(['Search Column\\n\\n', 'ID', 'Accident Title', 'Publication Year', 'Text',\n",
              "       'Tags Applied', 'COUNT OF TAGS', 'Deadly', 'Serious', 'Minor',\n",
              "       'Head / Brain Injury', 'Descent', 'Roped', 'Trad Climbing', 'Sport',\n",
              "       'Top-Rope', 'Aid & Big Wall Climbing', 'Pendulum', 'Unroped ', 'Solo',\n",
              "       'Climbing Alone', 'Bouldering', 'Non-climbing', 'Alpine/Mountaineering',\n",
              "       'Piton/Ice Screw', 'Ascent Illness', 'Crampon Issues', 'Ice Climbing',\n",
              "       'Glissading', 'Ski-related ', 'Poor Position',\n",
              "       'Poor Cond/Seasonal Risk', 'Avalanche',\n",
              "       'Cornice / Snow Bridge Collapse', 'Bergschrund',\n",
              "       'Crevasse / Moat / Berschrund', 'Icefall / Serac / Ice Avalanche',\n",
              "       'Exposure', 'Non-Ascent Illness', 'Visibility', 'Severe Weather',\n",
              "       'Wildlife', 'Natural Rockfall', 'Off-route', 'Rushed', 'Run Out',\n",
              "       'Crowds', 'Inadequate Food/Water', 'No Helmet', 'Late in Day',\n",
              "       'Late Start', 'Party Separated', 'Ledge Fall', 'Gym / Artificial',\n",
              "       'Gym Climber', 'Fatigue', 'Large Group', 'Distracted',\n",
              "       'Object Dropped/Dislodged', 'Handhold/Foothold Broke',\n",
              "       'Knot & Tie-in Error', 'No Backup or End Knot', 'Gear Broke',\n",
              "       'Intoxicated', 'Inadequate Equipment', 'Inadequate Protection / Pulled',\n",
              "       'Anchor Failure / Error', 'Stranded / Lost / Overdue', 'Belay Error',\n",
              "       'Rappel Error', 'Lowering Error', 'Miscommunication', 'January',\n",
              "       'February', 'March', 'April', 'May', 'June', 'July', 'August',\n",
              "       'September', 'October', 'November', 'December', 'Location', 'Age',\n",
              "       'Experience', 'value'],\n",
              "      dtype='object')"
            ]
          },
          "execution_count": 11,
          "metadata": {},
          "output_type": "execute_result"
        }
      ],
      "source": [
        "melt_experience.columns"
      ]
    },
    {
      "cell_type": "code",
      "execution_count": null,
      "metadata": {
        "colab": {
          "base_uri": "https://localhost:8080/"
        },
        "id": "jpPIBvrbgK4h",
        "outputId": "1bff4aef-9c7f-4b19-ce76-d376a8afeb5c"
      },
      "outputs": [
        {
          "name": "stderr",
          "output_type": "stream",
          "text": [
            "/usr/local/lib/python3.7/dist-packages/ipykernel_launcher.py:25: FutureWarning: This dataframe has a column name that matches the 'value_name' column name of the resulting Dataframe. In the future this will raise an error, please set the 'value_name' parameter of DataFrame.melt to a unique name.\n"
          ]
        }
      ],
      "source": [
        "# melt outcome\n",
        "melt_outcome = melt_experience.melt(['Search Column\\n\\n', 'ID', 'Accident Title', 'Publication Year', 'Text',\n",
        "       'Tags Applied', 'COUNT OF TAGS', 'Descent', 'Roped', 'Trad Climbing', 'Sport',\n",
        "       'Top-Rope', 'Aid & Big Wall Climbing', 'Pendulum', 'Unroped ', 'Solo',\n",
        "       'Climbing Alone', 'Bouldering', 'Non-climbing', 'Alpine/Mountaineering',\n",
        "       'Piton/Ice Screw', 'Ascent Illness', 'Crampon Issues', 'Ice Climbing',\n",
        "       'Glissading', 'Ski-related ', 'Poor Position',\n",
        "       'Poor Cond/Seasonal Risk', 'Avalanche',\n",
        "       'Cornice / Snow Bridge Collapse', 'Bergschrund',\n",
        "       'Crevasse / Moat / Berschrund', 'Icefall / Serac / Ice Avalanche',\n",
        "       'Exposure', 'Non-Ascent Illness', 'Visibility', 'Severe Weather',\n",
        "       'Wildlife', 'Natural Rockfall', 'Off-route', 'Rushed', 'Run Out',\n",
        "       'Crowds', 'Inadequate Food/Water', 'No Helmet', 'Late in Day',\n",
        "       'Late Start', 'Party Separated', 'Ledge Fall', 'Gym / Artificial',\n",
        "       'Gym Climber', 'Fatigue', 'Large Group', 'Distracted',\n",
        "       'Object Dropped/Dislodged', 'Handhold/Foothold Broke',\n",
        "       'Knot & Tie-in Error', 'No Backup or End Knot', 'Gear Broke',\n",
        "       'Intoxicated', 'Inadequate Equipment', 'Inadequate Protection / Pulled',\n",
        "       'Anchor Failure / Error', 'Stranded / Lost / Overdue', 'Belay Error',\n",
        "       'Rappel Error', 'Lowering Error', 'Miscommunication', 'January',\n",
        "       'February', 'March', 'April', 'May', 'June', 'July', 'August',\n",
        "       'September', 'October', 'November', 'December', 'Location', 'Age', 'Experience'], \n",
        "       ['Deadly', 'Serious', 'Minor',\n",
        "       'Head / Brain Injury'],\n",
        "       \"Outcome\")"
      ]
    },
    {
      "cell_type": "code",
      "execution_count": null,
      "metadata": {
        "colab": {
          "base_uri": "https://localhost:8080/"
        },
        "id": "uDOaGmwygYa1",
        "outputId": "67c96036-65af-437a-9adc-3850cbc4c32b"
      },
      "outputs": [
        {
          "name": "stderr",
          "output_type": "stream",
          "text": [
            "/usr/local/lib/python3.7/dist-packages/ipykernel_launcher.py:24: FutureWarning: This dataframe has a column name that matches the 'value_name' column name of the resulting Dataframe. In the future this will raise an error, please set the 'value_name' parameter of DataFrame.melt to a unique name.\n"
          ]
        }
      ],
      "source": [
        "# melt type\n",
        "melt_type = melt_outcome.melt(['Search Column\\n\\n', 'ID', 'Accident Title', 'Publication Year', 'Text',\n",
        "       'Tags Applied', 'COUNT OF TAGS', 'Pendulum', \n",
        "       'Piton/Ice Screw', 'Ascent Illness', 'Crampon Issues',\n",
        "       'Glissading', 'Ski-related ', 'Poor Position',\n",
        "       'Poor Cond/Seasonal Risk', 'Avalanche',\n",
        "       'Cornice / Snow Bridge Collapse', 'Bergschrund',\n",
        "       'Crevasse / Moat / Berschrund', 'Icefall / Serac / Ice Avalanche',\n",
        "       'Exposure', 'Non-Ascent Illness', 'Visibility', 'Severe Weather',\n",
        "       'Wildlife', 'Natural Rockfall', 'Off-route', 'Rushed', 'Run Out',\n",
        "       'Crowds', 'Inadequate Food/Water', 'No Helmet', 'Late in Day',\n",
        "       'Late Start', 'Party Separated', 'Ledge Fall', 'Gym / Artificial',\n",
        "       'Gym Climber', 'Fatigue', 'Large Group', 'Distracted',\n",
        "       'Object Dropped/Dislodged', 'Handhold/Foothold Broke',\n",
        "       'Knot & Tie-in Error', 'No Backup or End Knot', 'Gear Broke',\n",
        "       'Intoxicated', 'Inadequate Equipment', 'Inadequate Protection / Pulled',\n",
        "       'Anchor Failure / Error', 'Stranded / Lost / Overdue', 'Belay Error',\n",
        "       'Rappel Error', 'Lowering Error', 'Miscommunication', 'January',\n",
        "       'February', 'March', 'April', 'May', 'June', 'July', 'August',\n",
        "       'September', 'October', 'November', 'December', 'Location', 'Age', 'Experience', 'Outcome'], \n",
        "       ['Descent', 'Roped', 'Trad Climbing', 'Sport', 'Top-Rope', 'Aid & Big Wall Climbing', \n",
        "        'Unroped ', 'Solo', 'Climbing Alone', 'Bouldering', 'Non-climbing', \n",
        "        'Alpine/Mountaineering', 'Ice Climbing'],\n",
        "       \"Type\")"
      ]
    },
    {
      "cell_type": "code",
      "execution_count": null,
      "metadata": {
        "colab": {
          "base_uri": "https://localhost:8080/",
          "height": 1000
        },
        "id": "Re4LgDpyOOYK",
        "outputId": "b2536691-c78c-4485-d677-883517aff015"
      },
      "outputs": [
        {
          "data": {
            "text/html": [
              "\n",
              "  <div id=\"df-62045d2f-8ecc-46ab-9976-b8272c701a8d\">\n",
              "    <div class=\"colab-df-container\">\n",
              "      <div>\n",
              "<style scoped>\n",
              "    .dataframe tbody tr th:only-of-type {\n",
              "        vertical-align: middle;\n",
              "    }\n",
              "\n",
              "    .dataframe tbody tr th {\n",
              "        vertical-align: top;\n",
              "    }\n",
              "\n",
              "    .dataframe thead th {\n",
              "        text-align: right;\n",
              "    }\n",
              "</style>\n",
              "<table border=\"1\" class=\"dataframe\">\n",
              "  <thead>\n",
              "    <tr style=\"text-align: right;\">\n",
              "      <th></th>\n",
              "      <th>Search Column\\n\\n</th>\n",
              "      <th>ID</th>\n",
              "      <th>Accident Title</th>\n",
              "      <th>Publication Year</th>\n",
              "      <th>Text</th>\n",
              "      <th>Tags Applied</th>\n",
              "      <th>COUNT OF TAGS</th>\n",
              "      <th>Pendulum</th>\n",
              "      <th>Piton/Ice Screw</th>\n",
              "      <th>Ascent Illness</th>\n",
              "      <th>...</th>\n",
              "      <th>September</th>\n",
              "      <th>October</th>\n",
              "      <th>November</th>\n",
              "      <th>December</th>\n",
              "      <th>Location</th>\n",
              "      <th>Age</th>\n",
              "      <th>Experience</th>\n",
              "      <th>Outcome</th>\n",
              "      <th>Type</th>\n",
              "      <th>value</th>\n",
              "    </tr>\n",
              "  </thead>\n",
              "  <tbody>\n",
              "    <tr>\n",
              "      <th>0</th>\n",
              "      <td>0</td>\n",
              "      <td>1</td>\n",
              "      <td>Failure of Rappel Setup (Protection Pulled Out...</td>\n",
              "      <td>1990</td>\n",
              "      <td>Colorado, Rocky Mountain National Park\\nOn May...</td>\n",
              "      <td>Serious, Head / Brain Injury, Descent, Roped, ...</td>\n",
              "      <td>8</td>\n",
              "      <td>0.0</td>\n",
              "      <td>0.0</td>\n",
              "      <td>0.0</td>\n",
              "      <td>...</td>\n",
              "      <td>0</td>\n",
              "      <td>0</td>\n",
              "      <td>0.0</td>\n",
              "      <td>0</td>\n",
              "      <td>Colorado</td>\n",
              "      <td>&lt;15</td>\n",
              "      <td>No/Little</td>\n",
              "      <td>Deadly</td>\n",
              "      <td>Descent</td>\n",
              "      <td>1.0</td>\n",
              "    </tr>\n",
              "    <tr>\n",
              "      <th>1</th>\n",
              "      <td>0</td>\n",
              "      <td>2</td>\n",
              "      <td>Failure of Rappel—Failure to Check System, Bri...</td>\n",
              "      <td>1990</td>\n",
              "      <td>British Columbia, Squamish, Smoke Bluffs\\nOn M...</td>\n",
              "      <td>Experienced, Serious, Descent, Roped, Top-Rope...</td>\n",
              "      <td>7</td>\n",
              "      <td>0.0</td>\n",
              "      <td>0.0</td>\n",
              "      <td>0.0</td>\n",
              "      <td>...</td>\n",
              "      <td>0</td>\n",
              "      <td>0</td>\n",
              "      <td>0.0</td>\n",
              "      <td>0</td>\n",
              "      <td>British Columbia</td>\n",
              "      <td>&lt;15</td>\n",
              "      <td>No/Little</td>\n",
              "      <td>Deadly</td>\n",
              "      <td>Descent</td>\n",
              "      <td>1.0</td>\n",
              "    </tr>\n",
              "    <tr>\n",
              "      <th>2</th>\n",
              "      <td>0</td>\n",
              "      <td>3</td>\n",
              "      <td>Fall into Crevasse, Climbing Alone, Inadequate...</td>\n",
              "      <td>1990</td>\n",
              "      <td>Alberta, Rocky Mountains, Crowfoot Mountain\\nO...</td>\n",
              "      <td>Experienced, Minor, Unroped , Solo, Climbing A...</td>\n",
              "      <td>9</td>\n",
              "      <td>0.0</td>\n",
              "      <td>0.0</td>\n",
              "      <td>0.0</td>\n",
              "      <td>...</td>\n",
              "      <td>0</td>\n",
              "      <td>0</td>\n",
              "      <td>0.0</td>\n",
              "      <td>0</td>\n",
              "      <td>Alberta</td>\n",
              "      <td>&lt;15</td>\n",
              "      <td>No/Little</td>\n",
              "      <td>Deadly</td>\n",
              "      <td>Descent</td>\n",
              "      <td>0.0</td>\n",
              "    </tr>\n",
              "    <tr>\n",
              "      <th>3</th>\n",
              "      <td>0</td>\n",
              "      <td>4</td>\n",
              "      <td>Fall into Crevasse, Climbing Unroped, British ...</td>\n",
              "      <td>1990</td>\n",
              "      <td>British Columbia, Bugaboo Mountains, Bugaboo S...</td>\n",
              "      <td>Minor, Unroped , Solo, Alpine/Mountaineering, ...</td>\n",
              "      <td>5</td>\n",
              "      <td>0.0</td>\n",
              "      <td>0.0</td>\n",
              "      <td>0.0</td>\n",
              "      <td>...</td>\n",
              "      <td>1</td>\n",
              "      <td>0</td>\n",
              "      <td>0.0</td>\n",
              "      <td>0</td>\n",
              "      <td>British Columbia</td>\n",
              "      <td>&lt;15</td>\n",
              "      <td>No/Little</td>\n",
              "      <td>Deadly</td>\n",
              "      <td>Descent</td>\n",
              "      <td>0.0</td>\n",
              "    </tr>\n",
              "    <tr>\n",
              "      <th>4</th>\n",
              "      <td>0</td>\n",
              "      <td>5</td>\n",
              "      <td>Fall Into Crevasse, Unroped, Inadequate Equipm...</td>\n",
              "      <td>1990</td>\n",
              "      <td>On the afternoon of March 29, 1989, four ski t...</td>\n",
              "      <td>Deadly, Serious, Descent, Unroped , Solo, Non-...</td>\n",
              "      <td>10</td>\n",
              "      <td>0.0</td>\n",
              "      <td>0.0</td>\n",
              "      <td>0.0</td>\n",
              "      <td>...</td>\n",
              "      <td>0</td>\n",
              "      <td>0</td>\n",
              "      <td>0.0</td>\n",
              "      <td>0</td>\n",
              "      <td>Alberta</td>\n",
              "      <td>&lt;15</td>\n",
              "      <td>No/Little</td>\n",
              "      <td>Deadly</td>\n",
              "      <td>Descent</td>\n",
              "      <td>1.0</td>\n",
              "    </tr>\n",
              "    <tr>\n",
              "      <th>...</th>\n",
              "      <td>...</td>\n",
              "      <td>...</td>\n",
              "      <td>...</td>\n",
              "      <td>...</td>\n",
              "      <td>...</td>\n",
              "      <td>...</td>\n",
              "      <td>...</td>\n",
              "      <td>...</td>\n",
              "      <td>...</td>\n",
              "      <td>...</td>\n",
              "      <td>...</td>\n",
              "      <td>...</td>\n",
              "      <td>...</td>\n",
              "      <td>...</td>\n",
              "      <td>...</td>\n",
              "      <td>...</td>\n",
              "      <td>...</td>\n",
              "      <td>...</td>\n",
              "      <td>...</td>\n",
              "      <td>...</td>\n",
              "      <td>...</td>\n",
              "    </tr>\n",
              "    <tr>\n",
              "      <th>4609275</th>\n",
              "      <td>0</td>\n",
              "      <td>958a</td>\n",
              "      <td>Fall on Ice, Inadequate Protection, Poor Posit...</td>\n",
              "      <td>2000</td>\n",
              "      <td>Alberta, Banff National Park, Cascade Waterfal...</td>\n",
              "      <td>No/Little, Deadly, Descent, Unroped , Solo, Ic...</td>\n",
              "      <td>9</td>\n",
              "      <td>0.0</td>\n",
              "      <td>0.0</td>\n",
              "      <td>0.0</td>\n",
              "      <td>...</td>\n",
              "      <td>0</td>\n",
              "      <td>0</td>\n",
              "      <td>0.0</td>\n",
              "      <td>1</td>\n",
              "      <td>Alberta</td>\n",
              "      <td>&gt;75</td>\n",
              "      <td>Unknown</td>\n",
              "      <td>Head / Brain Injury</td>\n",
              "      <td>Ice Climbing</td>\n",
              "      <td>1.0</td>\n",
              "    </tr>\n",
              "    <tr>\n",
              "      <th>4609276</th>\n",
              "      <td>0</td>\n",
              "      <td>958b</td>\n",
              "      <td>Edited Title: Fall on Ice, Inadequate Protecti...</td>\n",
              "      <td>2000</td>\n",
              "      <td>Alberta, Banff National Park, Cascade Waterfal...</td>\n",
              "      <td>Serious, Descent, Roped, Ice Climbing, Avalanc...</td>\n",
              "      <td>8</td>\n",
              "      <td>0.0</td>\n",
              "      <td>0.0</td>\n",
              "      <td>0.0</td>\n",
              "      <td>...</td>\n",
              "      <td>0</td>\n",
              "      <td>0</td>\n",
              "      <td>0.0</td>\n",
              "      <td>1</td>\n",
              "      <td>Alberta</td>\n",
              "      <td>&gt;75</td>\n",
              "      <td>Unknown</td>\n",
              "      <td>Head / Brain Injury</td>\n",
              "      <td>Ice Climbing</td>\n",
              "      <td>1.0</td>\n",
              "    </tr>\n",
              "    <tr>\n",
              "      <th>4609277</th>\n",
              "      <td>0</td>\n",
              "      <td>995a</td>\n",
              "      <td>Edited title: Snow Blindness ...— Alaska, Moun...</td>\n",
              "      <td>2000</td>\n",
              "      <td>Alaska, Mount McKinley\\nOn June 15, both a Sou...</td>\n",
              "      <td>Descent, Alpine/Mountaineering, Ascent Illness...</td>\n",
              "      <td>4</td>\n",
              "      <td>0.0</td>\n",
              "      <td>0.0</td>\n",
              "      <td>1.0</td>\n",
              "      <td>...</td>\n",
              "      <td>0</td>\n",
              "      <td>0</td>\n",
              "      <td>0.0</td>\n",
              "      <td>0</td>\n",
              "      <td>Alaska</td>\n",
              "      <td>&gt;75</td>\n",
              "      <td>Unknown</td>\n",
              "      <td>Head / Brain Injury</td>\n",
              "      <td>Ice Climbing</td>\n",
              "      <td>0.0</td>\n",
              "    </tr>\n",
              "    <tr>\n",
              "      <th>4609278</th>\n",
              "      <td>0</td>\n",
              "      <td>995b</td>\n",
              "      <td>Edited title:  Acute Mountain Sickness — Alask...</td>\n",
              "      <td>2000</td>\n",
              "      <td>Alaska, Mount McKinley\\nOn June 15, both a Sou...</td>\n",
              "      <td>Serious, Descent, Alpine/Mountaineering, Ascen...</td>\n",
              "      <td>5</td>\n",
              "      <td>0.0</td>\n",
              "      <td>0.0</td>\n",
              "      <td>1.0</td>\n",
              "      <td>...</td>\n",
              "      <td>0</td>\n",
              "      <td>0</td>\n",
              "      <td>0.0</td>\n",
              "      <td>0</td>\n",
              "      <td>Alaska</td>\n",
              "      <td>&gt;75</td>\n",
              "      <td>Unknown</td>\n",
              "      <td>Head / Brain Injury</td>\n",
              "      <td>Ice Climbing</td>\n",
              "      <td>0.0</td>\n",
              "    </tr>\n",
              "    <tr>\n",
              "      <th>4609279</th>\n",
              "      <td>1</td>\n",
              "      <td>997tt</td>\n",
              "      <td>Stranded — Did Not Check Fixed Ropes, Dehydrat...</td>\n",
              "      <td>2000</td>\n",
              "      <td>California, Yosemite Valley, Lost Arrow Spire\\...</td>\n",
              "      <td>Minor, Roped, Trad Climbing, Alpine/Mountainee...</td>\n",
              "      <td>7</td>\n",
              "      <td>0.0</td>\n",
              "      <td>0.0</td>\n",
              "      <td>0.0</td>\n",
              "      <td>...</td>\n",
              "      <td>0</td>\n",
              "      <td>0</td>\n",
              "      <td>0.0</td>\n",
              "      <td>1</td>\n",
              "      <td></td>\n",
              "      <td>&gt;75</td>\n",
              "      <td>Unknown</td>\n",
              "      <td>Head / Brain Injury</td>\n",
              "      <td>Ice Climbing</td>\n",
              "      <td>0.0</td>\n",
              "    </tr>\n",
              "  </tbody>\n",
              "</table>\n",
              "<p>4609280 rows × 73 columns</p>\n",
              "</div>\n",
              "      <button class=\"colab-df-convert\" onclick=\"convertToInteractive('df-62045d2f-8ecc-46ab-9976-b8272c701a8d')\"\n",
              "              title=\"Convert this dataframe to an interactive table.\"\n",
              "              style=\"display:none;\">\n",
              "        \n",
              "  <svg xmlns=\"http://www.w3.org/2000/svg\" height=\"24px\"viewBox=\"0 0 24 24\"\n",
              "       width=\"24px\">\n",
              "    <path d=\"M0 0h24v24H0V0z\" fill=\"none\"/>\n",
              "    <path d=\"M18.56 5.44l.94 2.06.94-2.06 2.06-.94-2.06-.94-.94-2.06-.94 2.06-2.06.94zm-11 1L8.5 8.5l.94-2.06 2.06-.94-2.06-.94L8.5 2.5l-.94 2.06-2.06.94zm10 10l.94 2.06.94-2.06 2.06-.94-2.06-.94-.94-2.06-.94 2.06-2.06.94z\"/><path d=\"M17.41 7.96l-1.37-1.37c-.4-.4-.92-.59-1.43-.59-.52 0-1.04.2-1.43.59L10.3 9.45l-7.72 7.72c-.78.78-.78 2.05 0 2.83L4 21.41c.39.39.9.59 1.41.59.51 0 1.02-.2 1.41-.59l7.78-7.78 2.81-2.81c.8-.78.8-2.07 0-2.86zM5.41 20L4 18.59l7.72-7.72 1.47 1.35L5.41 20z\"/>\n",
              "  </svg>\n",
              "      </button>\n",
              "      \n",
              "  <style>\n",
              "    .colab-df-container {\n",
              "      display:flex;\n",
              "      flex-wrap:wrap;\n",
              "      gap: 12px;\n",
              "    }\n",
              "\n",
              "    .colab-df-convert {\n",
              "      background-color: #E8F0FE;\n",
              "      border: none;\n",
              "      border-radius: 50%;\n",
              "      cursor: pointer;\n",
              "      display: none;\n",
              "      fill: #1967D2;\n",
              "      height: 32px;\n",
              "      padding: 0 0 0 0;\n",
              "      width: 32px;\n",
              "    }\n",
              "\n",
              "    .colab-df-convert:hover {\n",
              "      background-color: #E2EBFA;\n",
              "      box-shadow: 0px 1px 2px rgba(60, 64, 67, 0.3), 0px 1px 3px 1px rgba(60, 64, 67, 0.15);\n",
              "      fill: #174EA6;\n",
              "    }\n",
              "\n",
              "    [theme=dark] .colab-df-convert {\n",
              "      background-color: #3B4455;\n",
              "      fill: #D2E3FC;\n",
              "    }\n",
              "\n",
              "    [theme=dark] .colab-df-convert:hover {\n",
              "      background-color: #434B5C;\n",
              "      box-shadow: 0px 1px 3px 1px rgba(0, 0, 0, 0.15);\n",
              "      filter: drop-shadow(0px 1px 2px rgba(0, 0, 0, 0.3));\n",
              "      fill: #FFFFFF;\n",
              "    }\n",
              "  </style>\n",
              "\n",
              "      <script>\n",
              "        const buttonEl =\n",
              "          document.querySelector('#df-62045d2f-8ecc-46ab-9976-b8272c701a8d button.colab-df-convert');\n",
              "        buttonEl.style.display =\n",
              "          google.colab.kernel.accessAllowed ? 'block' : 'none';\n",
              "\n",
              "        async function convertToInteractive(key) {\n",
              "          const element = document.querySelector('#df-62045d2f-8ecc-46ab-9976-b8272c701a8d');\n",
              "          const dataTable =\n",
              "            await google.colab.kernel.invokeFunction('convertToInteractive',\n",
              "                                                     [key], {});\n",
              "          if (!dataTable) return;\n",
              "\n",
              "          const docLinkHtml = 'Like what you see? Visit the ' +\n",
              "            '<a target=\"_blank\" href=https://colab.research.google.com/notebooks/data_table.ipynb>data table notebook</a>'\n",
              "            + ' to learn more about interactive tables.';\n",
              "          element.innerHTML = '';\n",
              "          dataTable['output_type'] = 'display_data';\n",
              "          await google.colab.output.renderOutput(dataTable, element);\n",
              "          const docLink = document.createElement('div');\n",
              "          docLink.innerHTML = docLinkHtml;\n",
              "          element.appendChild(docLink);\n",
              "        }\n",
              "      </script>\n",
              "    </div>\n",
              "  </div>\n",
              "  "
            ],
            "text/plain": [
              "         Search Column\\n\\n     ID  \\\n",
              "0                        0      1   \n",
              "1                        0      2   \n",
              "2                        0      3   \n",
              "3                        0      4   \n",
              "4                        0      5   \n",
              "...                    ...    ...   \n",
              "4609275                  0   958a   \n",
              "4609276                  0   958b   \n",
              "4609277                  0   995a   \n",
              "4609278                  0   995b   \n",
              "4609279                  1  997tt   \n",
              "\n",
              "                                            Accident Title  Publication Year  \\\n",
              "0        Failure of Rappel Setup (Protection Pulled Out...              1990   \n",
              "1        Failure of Rappel—Failure to Check System, Bri...              1990   \n",
              "2        Fall into Crevasse, Climbing Alone, Inadequate...              1990   \n",
              "3        Fall into Crevasse, Climbing Unroped, British ...              1990   \n",
              "4        Fall Into Crevasse, Unroped, Inadequate Equipm...              1990   \n",
              "...                                                    ...               ...   \n",
              "4609275  Fall on Ice, Inadequate Protection, Poor Posit...              2000   \n",
              "4609276  Edited Title: Fall on Ice, Inadequate Protecti...              2000   \n",
              "4609277  Edited title: Snow Blindness ...— Alaska, Moun...              2000   \n",
              "4609278  Edited title:  Acute Mountain Sickness — Alask...              2000   \n",
              "4609279  Stranded — Did Not Check Fixed Ropes, Dehydrat...              2000   \n",
              "\n",
              "                                                      Text  \\\n",
              "0        Colorado, Rocky Mountain National Park\\nOn May...   \n",
              "1        British Columbia, Squamish, Smoke Bluffs\\nOn M...   \n",
              "2        Alberta, Rocky Mountains, Crowfoot Mountain\\nO...   \n",
              "3        British Columbia, Bugaboo Mountains, Bugaboo S...   \n",
              "4        On the afternoon of March 29, 1989, four ski t...   \n",
              "...                                                    ...   \n",
              "4609275  Alberta, Banff National Park, Cascade Waterfal...   \n",
              "4609276  Alberta, Banff National Park, Cascade Waterfal...   \n",
              "4609277  Alaska, Mount McKinley\\nOn June 15, both a Sou...   \n",
              "4609278  Alaska, Mount McKinley\\nOn June 15, both a Sou...   \n",
              "4609279  California, Yosemite Valley, Lost Arrow Spire\\...   \n",
              "\n",
              "                                              Tags Applied  COUNT OF TAGS  \\\n",
              "0        Serious, Head / Brain Injury, Descent, Roped, ...              8   \n",
              "1        Experienced, Serious, Descent, Roped, Top-Rope...              7   \n",
              "2        Experienced, Minor, Unroped , Solo, Climbing A...              9   \n",
              "3        Minor, Unroped , Solo, Alpine/Mountaineering, ...              5   \n",
              "4        Deadly, Serious, Descent, Unroped , Solo, Non-...             10   \n",
              "...                                                    ...            ...   \n",
              "4609275  No/Little, Deadly, Descent, Unroped , Solo, Ic...              9   \n",
              "4609276  Serious, Descent, Roped, Ice Climbing, Avalanc...              8   \n",
              "4609277  Descent, Alpine/Mountaineering, Ascent Illness...              4   \n",
              "4609278  Serious, Descent, Alpine/Mountaineering, Ascen...              5   \n",
              "4609279  Minor, Roped, Trad Climbing, Alpine/Mountainee...              7   \n",
              "\n",
              "         Pendulum  Piton/Ice Screw  Ascent Illness  ...  September  October  \\\n",
              "0             0.0              0.0             0.0  ...          0        0   \n",
              "1             0.0              0.0             0.0  ...          0        0   \n",
              "2             0.0              0.0             0.0  ...          0        0   \n",
              "3             0.0              0.0             0.0  ...          1        0   \n",
              "4             0.0              0.0             0.0  ...          0        0   \n",
              "...           ...              ...             ...  ...        ...      ...   \n",
              "4609275       0.0              0.0             0.0  ...          0        0   \n",
              "4609276       0.0              0.0             0.0  ...          0        0   \n",
              "4609277       0.0              0.0             1.0  ...          0        0   \n",
              "4609278       0.0              0.0             1.0  ...          0        0   \n",
              "4609279       0.0              0.0             0.0  ...          0        0   \n",
              "\n",
              "         November  December          Location  Age  Experience  \\\n",
              "0             0.0         0          Colorado  <15   No/Little   \n",
              "1             0.0         0  British Columbia  <15   No/Little   \n",
              "2             0.0         0           Alberta  <15   No/Little   \n",
              "3             0.0         0  British Columbia  <15   No/Little   \n",
              "4             0.0         0           Alberta  <15   No/Little   \n",
              "...           ...       ...               ...  ...         ...   \n",
              "4609275       0.0         1           Alberta  >75     Unknown   \n",
              "4609276       0.0         1           Alberta  >75     Unknown   \n",
              "4609277       0.0         0            Alaska  >75     Unknown   \n",
              "4609278       0.0         0            Alaska  >75     Unknown   \n",
              "4609279       0.0         1                    >75     Unknown   \n",
              "\n",
              "                     Outcome          Type  value  \n",
              "0                     Deadly       Descent    1.0  \n",
              "1                     Deadly       Descent    1.0  \n",
              "2                     Deadly       Descent    0.0  \n",
              "3                     Deadly       Descent    0.0  \n",
              "4                     Deadly       Descent    1.0  \n",
              "...                      ...           ...    ...  \n",
              "4609275  Head / Brain Injury  Ice Climbing    1.0  \n",
              "4609276  Head / Brain Injury  Ice Climbing    1.0  \n",
              "4609277  Head / Brain Injury  Ice Climbing    0.0  \n",
              "4609278  Head / Brain Injury  Ice Climbing    0.0  \n",
              "4609279  Head / Brain Injury  Ice Climbing    0.0  \n",
              "\n",
              "[4609280 rows x 73 columns]"
            ]
          },
          "execution_count": 19,
          "metadata": {},
          "output_type": "execute_result"
        }
      ],
      "source": [
        "melt_type"
      ]
    },
    {
      "cell_type": "code",
      "execution_count": null,
      "metadata": {
        "id": "U2tRTdb2NPJ2"
      },
      "outputs": [],
      "source": [
        "# melt ice\n",
        "# subset data\n",
        "ice = melt_type[['Piton/Ice Screw', 'Ascent Illness', 'Crampon Issues',\n",
        "       'Glissading', 'Ski-related ', 'Poor Position']]"
      ]
    },
    {
      "cell_type": "code",
      "execution_count": null,
      "metadata": {
        "colab": {
          "base_uri": "https://localhost:8080/",
          "height": 424
        },
        "id": "BGMIiZlcOJUg",
        "outputId": "443f431c-b118-41f9-f29a-e6809268b916"
      },
      "outputs": [
        {
          "data": {
            "text/html": [
              "\n",
              "  <div id=\"df-059df95b-28c6-4c73-a637-852058d515bb\">\n",
              "    <div class=\"colab-df-container\">\n",
              "      <div>\n",
              "<style scoped>\n",
              "    .dataframe tbody tr th:only-of-type {\n",
              "        vertical-align: middle;\n",
              "    }\n",
              "\n",
              "    .dataframe tbody tr th {\n",
              "        vertical-align: top;\n",
              "    }\n",
              "\n",
              "    .dataframe thead th {\n",
              "        text-align: right;\n",
              "    }\n",
              "</style>\n",
              "<table border=\"1\" class=\"dataframe\">\n",
              "  <thead>\n",
              "    <tr style=\"text-align: right;\">\n",
              "      <th></th>\n",
              "      <th>Piton/Ice Screw</th>\n",
              "      <th>Ascent Illness</th>\n",
              "      <th>Crampon Issues</th>\n",
              "      <th>Glissading</th>\n",
              "      <th>Ski-related</th>\n",
              "      <th>Poor Position</th>\n",
              "    </tr>\n",
              "  </thead>\n",
              "  <tbody>\n",
              "    <tr>\n",
              "      <th>0</th>\n",
              "      <td>0.0</td>\n",
              "      <td>0.0</td>\n",
              "      <td>0.0</td>\n",
              "      <td>0.0</td>\n",
              "      <td>0.0</td>\n",
              "      <td>0.0</td>\n",
              "    </tr>\n",
              "    <tr>\n",
              "      <th>1</th>\n",
              "      <td>0.0</td>\n",
              "      <td>0.0</td>\n",
              "      <td>0.0</td>\n",
              "      <td>0.0</td>\n",
              "      <td>0.0</td>\n",
              "      <td>0.0</td>\n",
              "    </tr>\n",
              "    <tr>\n",
              "      <th>2</th>\n",
              "      <td>0.0</td>\n",
              "      <td>0.0</td>\n",
              "      <td>0.0</td>\n",
              "      <td>0.0</td>\n",
              "      <td>0.0</td>\n",
              "      <td>0.0</td>\n",
              "    </tr>\n",
              "    <tr>\n",
              "      <th>3</th>\n",
              "      <td>0.0</td>\n",
              "      <td>0.0</td>\n",
              "      <td>0.0</td>\n",
              "      <td>0.0</td>\n",
              "      <td>0.0</td>\n",
              "      <td>0.0</td>\n",
              "    </tr>\n",
              "    <tr>\n",
              "      <th>4</th>\n",
              "      <td>0.0</td>\n",
              "      <td>0.0</td>\n",
              "      <td>0.0</td>\n",
              "      <td>0.0</td>\n",
              "      <td>1.0</td>\n",
              "      <td>0.0</td>\n",
              "    </tr>\n",
              "    <tr>\n",
              "      <th>...</th>\n",
              "      <td>...</td>\n",
              "      <td>...</td>\n",
              "      <td>...</td>\n",
              "      <td>...</td>\n",
              "      <td>...</td>\n",
              "      <td>...</td>\n",
              "    </tr>\n",
              "    <tr>\n",
              "      <th>4609275</th>\n",
              "      <td>0.0</td>\n",
              "      <td>0.0</td>\n",
              "      <td>0.0</td>\n",
              "      <td>0.0</td>\n",
              "      <td>0.0</td>\n",
              "      <td>1.0</td>\n",
              "    </tr>\n",
              "    <tr>\n",
              "      <th>4609276</th>\n",
              "      <td>0.0</td>\n",
              "      <td>0.0</td>\n",
              "      <td>0.0</td>\n",
              "      <td>0.0</td>\n",
              "      <td>0.0</td>\n",
              "      <td>0.0</td>\n",
              "    </tr>\n",
              "    <tr>\n",
              "      <th>4609277</th>\n",
              "      <td>0.0</td>\n",
              "      <td>1.0</td>\n",
              "      <td>0.0</td>\n",
              "      <td>0.0</td>\n",
              "      <td>0.0</td>\n",
              "      <td>0.0</td>\n",
              "    </tr>\n",
              "    <tr>\n",
              "      <th>4609278</th>\n",
              "      <td>0.0</td>\n",
              "      <td>1.0</td>\n",
              "      <td>0.0</td>\n",
              "      <td>0.0</td>\n",
              "      <td>0.0</td>\n",
              "      <td>0.0</td>\n",
              "    </tr>\n",
              "    <tr>\n",
              "      <th>4609279</th>\n",
              "      <td>0.0</td>\n",
              "      <td>0.0</td>\n",
              "      <td>0.0</td>\n",
              "      <td>0.0</td>\n",
              "      <td>0.0</td>\n",
              "      <td>0.0</td>\n",
              "    </tr>\n",
              "  </tbody>\n",
              "</table>\n",
              "<p>4609280 rows × 6 columns</p>\n",
              "</div>\n",
              "      <button class=\"colab-df-convert\" onclick=\"convertToInteractive('df-059df95b-28c6-4c73-a637-852058d515bb')\"\n",
              "              title=\"Convert this dataframe to an interactive table.\"\n",
              "              style=\"display:none;\">\n",
              "        \n",
              "  <svg xmlns=\"http://www.w3.org/2000/svg\" height=\"24px\"viewBox=\"0 0 24 24\"\n",
              "       width=\"24px\">\n",
              "    <path d=\"M0 0h24v24H0V0z\" fill=\"none\"/>\n",
              "    <path d=\"M18.56 5.44l.94 2.06.94-2.06 2.06-.94-2.06-.94-.94-2.06-.94 2.06-2.06.94zm-11 1L8.5 8.5l.94-2.06 2.06-.94-2.06-.94L8.5 2.5l-.94 2.06-2.06.94zm10 10l.94 2.06.94-2.06 2.06-.94-2.06-.94-.94-2.06-.94 2.06-2.06.94z\"/><path d=\"M17.41 7.96l-1.37-1.37c-.4-.4-.92-.59-1.43-.59-.52 0-1.04.2-1.43.59L10.3 9.45l-7.72 7.72c-.78.78-.78 2.05 0 2.83L4 21.41c.39.39.9.59 1.41.59.51 0 1.02-.2 1.41-.59l7.78-7.78 2.81-2.81c.8-.78.8-2.07 0-2.86zM5.41 20L4 18.59l7.72-7.72 1.47 1.35L5.41 20z\"/>\n",
              "  </svg>\n",
              "      </button>\n",
              "      \n",
              "  <style>\n",
              "    .colab-df-container {\n",
              "      display:flex;\n",
              "      flex-wrap:wrap;\n",
              "      gap: 12px;\n",
              "    }\n",
              "\n",
              "    .colab-df-convert {\n",
              "      background-color: #E8F0FE;\n",
              "      border: none;\n",
              "      border-radius: 50%;\n",
              "      cursor: pointer;\n",
              "      display: none;\n",
              "      fill: #1967D2;\n",
              "      height: 32px;\n",
              "      padding: 0 0 0 0;\n",
              "      width: 32px;\n",
              "    }\n",
              "\n",
              "    .colab-df-convert:hover {\n",
              "      background-color: #E2EBFA;\n",
              "      box-shadow: 0px 1px 2px rgba(60, 64, 67, 0.3), 0px 1px 3px 1px rgba(60, 64, 67, 0.15);\n",
              "      fill: #174EA6;\n",
              "    }\n",
              "\n",
              "    [theme=dark] .colab-df-convert {\n",
              "      background-color: #3B4455;\n",
              "      fill: #D2E3FC;\n",
              "    }\n",
              "\n",
              "    [theme=dark] .colab-df-convert:hover {\n",
              "      background-color: #434B5C;\n",
              "      box-shadow: 0px 1px 3px 1px rgba(0, 0, 0, 0.15);\n",
              "      filter: drop-shadow(0px 1px 2px rgba(0, 0, 0, 0.3));\n",
              "      fill: #FFFFFF;\n",
              "    }\n",
              "  </style>\n",
              "\n",
              "      <script>\n",
              "        const buttonEl =\n",
              "          document.querySelector('#df-059df95b-28c6-4c73-a637-852058d515bb button.colab-df-convert');\n",
              "        buttonEl.style.display =\n",
              "          google.colab.kernel.accessAllowed ? 'block' : 'none';\n",
              "\n",
              "        async function convertToInteractive(key) {\n",
              "          const element = document.querySelector('#df-059df95b-28c6-4c73-a637-852058d515bb');\n",
              "          const dataTable =\n",
              "            await google.colab.kernel.invokeFunction('convertToInteractive',\n",
              "                                                     [key], {});\n",
              "          if (!dataTable) return;\n",
              "\n",
              "          const docLinkHtml = 'Like what you see? Visit the ' +\n",
              "            '<a target=\"_blank\" href=https://colab.research.google.com/notebooks/data_table.ipynb>data table notebook</a>'\n",
              "            + ' to learn more about interactive tables.';\n",
              "          element.innerHTML = '';\n",
              "          dataTable['output_type'] = 'display_data';\n",
              "          await google.colab.output.renderOutput(dataTable, element);\n",
              "          const docLink = document.createElement('div');\n",
              "          docLink.innerHTML = docLinkHtml;\n",
              "          element.appendChild(docLink);\n",
              "        }\n",
              "      </script>\n",
              "    </div>\n",
              "  </div>\n",
              "  "
            ],
            "text/plain": [
              "         Piton/Ice Screw  Ascent Illness  Crampon Issues  Glissading  \\\n",
              "0                    0.0             0.0             0.0         0.0   \n",
              "1                    0.0             0.0             0.0         0.0   \n",
              "2                    0.0             0.0             0.0         0.0   \n",
              "3                    0.0             0.0             0.0         0.0   \n",
              "4                    0.0             0.0             0.0         0.0   \n",
              "...                  ...             ...             ...         ...   \n",
              "4609275              0.0             0.0             0.0         0.0   \n",
              "4609276              0.0             0.0             0.0         0.0   \n",
              "4609277              0.0             1.0             0.0         0.0   \n",
              "4609278              0.0             1.0             0.0         0.0   \n",
              "4609279              0.0             0.0             0.0         0.0   \n",
              "\n",
              "         Ski-related   Poor Position  \n",
              "0                 0.0            0.0  \n",
              "1                 0.0            0.0  \n",
              "2                 0.0            0.0  \n",
              "3                 0.0            0.0  \n",
              "4                 1.0            0.0  \n",
              "...               ...            ...  \n",
              "4609275           0.0            1.0  \n",
              "4609276           0.0            0.0  \n",
              "4609277           0.0            0.0  \n",
              "4609278           0.0            0.0  \n",
              "4609279           0.0            0.0  \n",
              "\n",
              "[4609280 rows x 6 columns]"
            ]
          },
          "execution_count": 18,
          "metadata": {},
          "output_type": "execute_result"
        }
      ],
      "source": [
        "ice"
      ]
    },
    {
      "cell_type": "code",
      "execution_count": null,
      "metadata": {
        "colab": {
          "base_uri": "https://localhost:8080/",
          "height": 353
        },
        "id": "9tifPes3N8Md",
        "outputId": "112e7785-1ac9-4d3b-e35c-c9a79681f260"
      },
      "outputs": [
        {
          "ename": "ValueError",
          "evalue": "ignored",
          "output_type": "error",
          "traceback": [
            "\u001b[0;31m---------------------------------------------------------------------------\u001b[0m",
            "\u001b[0;31mValueError\u001b[0m                                Traceback (most recent call last)",
            "\u001b[0;32m<ipython-input-17-186039d64884>\u001b[0m in \u001b[0;36m<module>\u001b[0;34m()\u001b[0m\n\u001b[1;32m      1\u001b[0m melt_ice = ice.melt(['Piton/Ice Screw', 'Ascent Illness', 'Crampon Issues',\n\u001b[1;32m      2\u001b[0m        'Glissading', 'Ski-related ', 'Poor Position'],\n\u001b[0;32m----> 3\u001b[0;31m        \"Ice\")\n\u001b[0m",
            "\u001b[0;32m/usr/local/lib/python3.7/dist-packages/pandas/core/frame.py\u001b[0m in \u001b[0;36mmelt\u001b[0;34m(self, id_vars, value_vars, var_name, value_name, col_level, ignore_index)\u001b[0m\n\u001b[1;32m   8344\u001b[0m             \u001b[0mvalue_name\u001b[0m\u001b[0;34m=\u001b[0m\u001b[0mvalue_name\u001b[0m\u001b[0;34m,\u001b[0m\u001b[0;34m\u001b[0m\u001b[0;34m\u001b[0m\u001b[0m\n\u001b[1;32m   8345\u001b[0m             \u001b[0mcol_level\u001b[0m\u001b[0;34m=\u001b[0m\u001b[0mcol_level\u001b[0m\u001b[0;34m,\u001b[0m\u001b[0;34m\u001b[0m\u001b[0;34m\u001b[0m\u001b[0m\n\u001b[0;32m-> 8346\u001b[0;31m             \u001b[0mignore_index\u001b[0m\u001b[0;34m=\u001b[0m\u001b[0mignore_index\u001b[0m\u001b[0;34m,\u001b[0m\u001b[0;34m\u001b[0m\u001b[0;34m\u001b[0m\u001b[0m\n\u001b[0m\u001b[1;32m   8347\u001b[0m         )\n\u001b[1;32m   8348\u001b[0m \u001b[0;34m\u001b[0m\u001b[0m\n",
            "\u001b[0;32m/usr/local/lib/python3.7/dist-packages/pandas/core/reshape/melt.py\u001b[0m in \u001b[0;36mmelt\u001b[0;34m(frame, id_vars, value_vars, var_name, value_name, col_level, ignore_index)\u001b[0m\n\u001b[1;32m    156\u001b[0m         ).repeat(N)\n\u001b[1;32m    157\u001b[0m \u001b[0;34m\u001b[0m\u001b[0m\n\u001b[0;32m--> 158\u001b[0;31m     \u001b[0mresult\u001b[0m \u001b[0;34m=\u001b[0m \u001b[0mframe\u001b[0m\u001b[0;34m.\u001b[0m\u001b[0m_constructor\u001b[0m\u001b[0;34m(\u001b[0m\u001b[0mmdata\u001b[0m\u001b[0;34m,\u001b[0m \u001b[0mcolumns\u001b[0m\u001b[0;34m=\u001b[0m\u001b[0mmcolumns\u001b[0m\u001b[0;34m)\u001b[0m\u001b[0;34m\u001b[0m\u001b[0;34m\u001b[0m\u001b[0m\n\u001b[0m\u001b[1;32m    159\u001b[0m \u001b[0;34m\u001b[0m\u001b[0m\n\u001b[1;32m    160\u001b[0m     \u001b[0;32mif\u001b[0m \u001b[0;32mnot\u001b[0m \u001b[0mignore_index\u001b[0m\u001b[0;34m:\u001b[0m\u001b[0;34m\u001b[0m\u001b[0;34m\u001b[0m\u001b[0m\n",
            "\u001b[0;32m/usr/local/lib/python3.7/dist-packages/pandas/core/frame.py\u001b[0m in \u001b[0;36m__init__\u001b[0;34m(self, data, index, columns, dtype, copy)\u001b[0m\n\u001b[1;32m    612\u001b[0m         \u001b[0;32melif\u001b[0m \u001b[0misinstance\u001b[0m\u001b[0;34m(\u001b[0m\u001b[0mdata\u001b[0m\u001b[0;34m,\u001b[0m \u001b[0mdict\u001b[0m\u001b[0;34m)\u001b[0m\u001b[0;34m:\u001b[0m\u001b[0;34m\u001b[0m\u001b[0;34m\u001b[0m\u001b[0m\n\u001b[1;32m    613\u001b[0m             \u001b[0;31m# GH#38939 de facto copy defaults to False only in non-dict cases\u001b[0m\u001b[0;34m\u001b[0m\u001b[0;34m\u001b[0m\u001b[0;34m\u001b[0m\u001b[0m\n\u001b[0;32m--> 614\u001b[0;31m             \u001b[0mmgr\u001b[0m \u001b[0;34m=\u001b[0m \u001b[0mdict_to_mgr\u001b[0m\u001b[0;34m(\u001b[0m\u001b[0mdata\u001b[0m\u001b[0;34m,\u001b[0m \u001b[0mindex\u001b[0m\u001b[0;34m,\u001b[0m \u001b[0mcolumns\u001b[0m\u001b[0;34m,\u001b[0m \u001b[0mdtype\u001b[0m\u001b[0;34m=\u001b[0m\u001b[0mdtype\u001b[0m\u001b[0;34m,\u001b[0m \u001b[0mcopy\u001b[0m\u001b[0;34m=\u001b[0m\u001b[0mcopy\u001b[0m\u001b[0;34m,\u001b[0m \u001b[0mtyp\u001b[0m\u001b[0;34m=\u001b[0m\u001b[0mmanager\u001b[0m\u001b[0;34m)\u001b[0m\u001b[0;34m\u001b[0m\u001b[0;34m\u001b[0m\u001b[0m\n\u001b[0m\u001b[1;32m    615\u001b[0m         \u001b[0;32melif\u001b[0m \u001b[0misinstance\u001b[0m\u001b[0;34m(\u001b[0m\u001b[0mdata\u001b[0m\u001b[0;34m,\u001b[0m \u001b[0mma\u001b[0m\u001b[0;34m.\u001b[0m\u001b[0mMaskedArray\u001b[0m\u001b[0;34m)\u001b[0m\u001b[0;34m:\u001b[0m\u001b[0;34m\u001b[0m\u001b[0;34m\u001b[0m\u001b[0m\n\u001b[1;32m    616\u001b[0m             \u001b[0;32mimport\u001b[0m \u001b[0mnumpy\u001b[0m\u001b[0;34m.\u001b[0m\u001b[0mma\u001b[0m\u001b[0;34m.\u001b[0m\u001b[0mmrecords\u001b[0m \u001b[0;32mas\u001b[0m \u001b[0mmrecords\u001b[0m\u001b[0;34m\u001b[0m\u001b[0;34m\u001b[0m\u001b[0m\n",
            "\u001b[0;32m/usr/local/lib/python3.7/dist-packages/pandas/core/internals/construction.py\u001b[0m in \u001b[0;36mdict_to_mgr\u001b[0;34m(data, index, columns, dtype, typ, copy)\u001b[0m\n\u001b[1;32m    420\u001b[0m             \u001b[0;31m# GH10856\u001b[0m\u001b[0;34m\u001b[0m\u001b[0;34m\u001b[0m\u001b[0;34m\u001b[0m\u001b[0m\n\u001b[1;32m    421\u001b[0m             \u001b[0;31m# raise ValueError if only scalars in dict\u001b[0m\u001b[0;34m\u001b[0m\u001b[0;34m\u001b[0m\u001b[0;34m\u001b[0m\u001b[0m\n\u001b[0;32m--> 422\u001b[0;31m             \u001b[0mindex\u001b[0m \u001b[0;34m=\u001b[0m \u001b[0m_extract_index\u001b[0m\u001b[0;34m(\u001b[0m\u001b[0marrays\u001b[0m\u001b[0;34m[\u001b[0m\u001b[0;34m~\u001b[0m\u001b[0mmissing\u001b[0m\u001b[0;34m]\u001b[0m\u001b[0;34m)\u001b[0m\u001b[0;34m\u001b[0m\u001b[0;34m\u001b[0m\u001b[0m\n\u001b[0m\u001b[1;32m    423\u001b[0m         \u001b[0;32melse\u001b[0m\u001b[0;34m:\u001b[0m\u001b[0;34m\u001b[0m\u001b[0;34m\u001b[0m\u001b[0m\n\u001b[1;32m    424\u001b[0m             \u001b[0mindex\u001b[0m \u001b[0;34m=\u001b[0m \u001b[0mensure_index\u001b[0m\u001b[0;34m(\u001b[0m\u001b[0mindex\u001b[0m\u001b[0;34m)\u001b[0m\u001b[0;34m\u001b[0m\u001b[0;34m\u001b[0m\u001b[0m\n",
            "\u001b[0;32m/usr/local/lib/python3.7/dist-packages/pandas/core/internals/construction.py\u001b[0m in \u001b[0;36m_extract_index\u001b[0;34m(data)\u001b[0m\n\u001b[1;32m    633\u001b[0m             \u001b[0mlengths\u001b[0m \u001b[0;34m=\u001b[0m \u001b[0mlist\u001b[0m\u001b[0;34m(\u001b[0m\u001b[0mset\u001b[0m\u001b[0;34m(\u001b[0m\u001b[0mraw_lengths\u001b[0m\u001b[0;34m)\u001b[0m\u001b[0;34m)\u001b[0m\u001b[0;34m\u001b[0m\u001b[0;34m\u001b[0m\u001b[0m\n\u001b[1;32m    634\u001b[0m             \u001b[0;32mif\u001b[0m \u001b[0mlen\u001b[0m\u001b[0;34m(\u001b[0m\u001b[0mlengths\u001b[0m\u001b[0;34m)\u001b[0m \u001b[0;34m>\u001b[0m \u001b[0;36m1\u001b[0m\u001b[0;34m:\u001b[0m\u001b[0;34m\u001b[0m\u001b[0;34m\u001b[0m\u001b[0m\n\u001b[0;32m--> 635\u001b[0;31m                 \u001b[0;32mraise\u001b[0m \u001b[0mValueError\u001b[0m\u001b[0;34m(\u001b[0m\u001b[0;34m\"All arrays must be of the same length\"\u001b[0m\u001b[0;34m)\u001b[0m\u001b[0;34m\u001b[0m\u001b[0;34m\u001b[0m\u001b[0m\n\u001b[0m\u001b[1;32m    636\u001b[0m \u001b[0;34m\u001b[0m\u001b[0m\n\u001b[1;32m    637\u001b[0m             \u001b[0;32mif\u001b[0m \u001b[0mhave_dicts\u001b[0m\u001b[0;34m:\u001b[0m\u001b[0;34m\u001b[0m\u001b[0;34m\u001b[0m\u001b[0m\n",
            "\u001b[0;31mValueError\u001b[0m: All arrays must be of the same length"
          ]
        }
      ],
      "source": [
        "melt_ice = ice.melt(['Piton/Ice Screw', 'Ascent Illness', 'Crampon Issues',\n",
        "       'Glissading', 'Ski-related ', 'Poor Position'],\n",
        "       \"Ice\")"
      ]
    },
    {
      "cell_type": "code",
      "execution_count": null,
      "metadata": {
        "colab": {
          "base_uri": "https://localhost:8080/"
        },
        "id": "26a9bAQUMkSn",
        "outputId": "1f4a0755-d111-4e15-a1c7-1a8b5d0668b7"
      },
      "outputs": [
        {
          "name": "stderr",
          "output_type": "stream",
          "text": [
            "/usr/local/lib/python3.7/dist-packages/ipykernel_launcher.py:22: FutureWarning: This dataframe has a column name that matches the 'value_name' column name of the resulting Dataframe. In the future this will raise an error, please set the 'value_name' parameter of DataFrame.melt to a unique name.\n"
          ]
        }
      ],
      "source": [
        "# melt type\n",
        "melt_month = melt_type.melt(['Search Column\\n\\n', 'ID', 'Accident Title', 'Publication Year', 'Text',\n",
        "       'Tags Applied', 'COUNT OF TAGS', 'Pendulum', \n",
        "       'Piton/Ice Screw', 'Ascent Illness', 'Crampon Issues',\n",
        "       'Glissading', 'Ski-related ', 'Poor Position',\n",
        "       'Poor Cond/Seasonal Risk', 'Avalanche',\n",
        "       'Cornice / Snow Bridge Collapse', 'Bergschrund',\n",
        "       'Crevasse / Moat / Berschrund', 'Icefall / Serac / Ice Avalanche',\n",
        "       'Exposure', 'Non-Ascent Illness', 'Visibility', 'Severe Weather',\n",
        "       'Wildlife', 'Natural Rockfall', 'Off-route', 'Rushed', 'Run Out',\n",
        "       'Crowds', 'Inadequate Food/Water', 'No Helmet', 'Late in Day',\n",
        "       'Late Start', 'Party Separated', 'Ledge Fall', 'Gym / Artificial',\n",
        "       'Gym Climber', 'Fatigue', 'Large Group', 'Distracted',\n",
        "       'Object Dropped/Dislodged', 'Handhold/Foothold Broke',\n",
        "       'Knot & Tie-in Error', 'No Backup or End Knot', 'Gear Broke',\n",
        "       'Intoxicated', 'Inadequate Equipment', 'Inadequate Protection / Pulled',\n",
        "       'Anchor Failure / Error', 'Stranded / Lost / Overdue', 'Belay Error',\n",
        "       'Rappel Error', 'Lowering Error', 'Miscommunication', 'Location', 'Age', 'Experience', 'Outcome', 'Type'], \n",
        "        ['January',\n",
        "       'February', 'March', 'April', 'May', 'June', 'July', 'August',\n",
        "       'September', 'October', 'November', 'December'],\n",
        "       \"Month\")"
      ]
    },
    {
      "cell_type": "code",
      "execution_count": null,
      "metadata": {
        "colab": {
          "base_uri": "https://localhost:8080/"
        },
        "id": "eP8y0wL9kERA",
        "outputId": "26b64a2c-933e-4c59-e63f-179463892450"
      },
      "outputs": [
        {
          "data": {
            "text/plain": [
              "Index(['Search Column\\n\\n', 'ID', 'Accident Title', 'Publication Year', 'Text',\n",
              "       'Tags Applied', 'COUNT OF TAGS', 'Pendulum', 'Piton/Ice Screw',\n",
              "       'Ascent Illness', 'Crampon Issues', 'Glissading', 'Ski-related ',\n",
              "       'Poor Position', 'Poor Cond/Seasonal Risk', 'Avalanche',\n",
              "       'Cornice / Snow Bridge Collapse', 'Bergschrund',\n",
              "       'Crevasse / Moat / Berschrund', 'Icefall / Serac / Ice Avalanche',\n",
              "       'Exposure', 'Non-Ascent Illness', 'Visibility', 'Severe Weather',\n",
              "       'Wildlife', 'Natural Rockfall', 'Off-route', 'Rushed', 'Run Out',\n",
              "       'Crowds', 'Inadequate Food/Water', 'No Helmet', 'Late in Day',\n",
              "       'Late Start', 'Party Separated', 'Ledge Fall', 'Gym / Artificial',\n",
              "       'Gym Climber', 'Fatigue', 'Large Group', 'Distracted',\n",
              "       'Object Dropped/Dislodged', 'Handhold/Foothold Broke',\n",
              "       'Knot & Tie-in Error', 'No Backup or End Knot', 'Gear Broke',\n",
              "       'Intoxicated', 'Inadequate Equipment', 'Inadequate Protection / Pulled',\n",
              "       'Anchor Failure / Error', 'Stranded / Lost / Overdue', 'Belay Error',\n",
              "       'Rappel Error', 'Lowering Error', 'Miscommunication', 'January',\n",
              "       'February', 'March', 'April', 'May', 'June', 'July', 'August',\n",
              "       'September', 'October', 'November', 'December', 'Location', 'Age',\n",
              "       'Experience', 'Outcome', 'Type', 'value'],\n",
              "      dtype='object')"
            ]
          },
          "execution_count": 15,
          "metadata": {},
          "output_type": "execute_result"
        }
      ],
      "source": [
        "melt_AAC.columns"
      ]
    },
    {
      "cell_type": "markdown",
      "metadata": {
        "id": "U0ZtdX55pYTD"
      },
      "source": [
        "# not working"
      ]
    },
    {
      "cell_type": "code",
      "execution_count": null,
      "metadata": {
        "colab": {
          "base_uri": "https://localhost:8080/"
        },
        "id": "dG4Ewn7qg4B2",
        "outputId": "841f1d59-e60c-403b-80ad-44a870e199fd"
      },
      "outputs": [
        {
          "name": "stderr",
          "output_type": "stream",
          "text": [
            "/usr/local/lib/python3.7/dist-packages/ipykernel_launcher.py:22: FutureWarning: This dataframe has a column name that matches the 'value_name' column name of the resulting Dataframe. In the future this will raise an error, please set the 'value_name' parameter of DataFrame.melt to a unique name.\n"
          ]
        }
      ],
      "source": [
        "# melt ice\n",
        "melt_AAC = melt_AAC.melt(['Search Column\\n\\n', 'ID', 'Accident Title', 'Publication Year', 'Text',\n",
        "       'Tags Applied', 'COUNT OF TAGS', 'Pendulum',\n",
        "       'Poor Cond/Seasonal Risk', 'Avalanche',\n",
        "       'Cornice / Snow Bridge Collapse', 'Bergschrund',\n",
        "       'Crevasse / Moat / Berschrund', 'Icefall / Serac / Ice Avalanche',\n",
        "       'Exposure', 'Non-Ascent Illness', 'Visibility', 'Severe Weather',\n",
        "       'Wildlife', 'Natural Rockfall', 'Off-route', 'Rushed', 'Run Out',\n",
        "       'Crowds', 'Inadequate Food/Water', 'No Helmet', 'Late in Day',\n",
        "       'Late Start', 'Party Separated', 'Ledge Fall', 'Gym / Artificial',\n",
        "       'Gym Climber', 'Fatigue', 'Large Group', 'Distracted',\n",
        "       'Object Dropped/Dislodged', 'Handhold/Foothold Broke',\n",
        "       'Knot & Tie-in Error', 'No Backup or End Knot', 'Gear Broke',\n",
        "       'Intoxicated', 'Inadequate Equipment', 'Inadequate Protection / Pulled',\n",
        "       'Anchor Failure / Error', 'Stranded / Lost / Overdue', 'Belay Error',\n",
        "       'Rappel Error', 'Lowering Error', 'Miscommunication', 'January',\n",
        "       'February', 'March', 'April', 'May', 'June', 'July', 'August',\n",
        "       'September', 'October', 'November', 'December', 'Location', 'Age', 'Experience', 'Outcome', \n",
        "       'Type'], \n",
        "       ['Piton/Ice Screw', 'Ascent Illness', 'Crampon Issues',\n",
        "       'Glissading', 'Ski-related ', 'Poor Position'],\n",
        "       \"Ice\")"
      ]
    },
    {
      "cell_type": "code",
      "execution_count": null,
      "metadata": {
        "colab": {
          "base_uri": "https://localhost:8080/"
        },
        "id": "WCI86cCkhixt",
        "outputId": "47b5a7a4-ef97-4da4-eb4d-6987a0c2897c"
      },
      "outputs": [
        {
          "name": "stderr",
          "output_type": "stream",
          "text": [
            "/usr/local/lib/python3.7/dist-packages/ipykernel_launcher.py:21: FutureWarning: This dataframe has a column name that matches the 'value_name' column name of the resulting Dataframe. In the future this will raise an error, please set the 'value_name' parameter of DataFrame.melt to a unique name.\n"
          ]
        }
      ],
      "source": [
        "# melt nature\n",
        "melt_nature = melt_type.melt(['Search Column\\n\\n', 'ID', 'Accident Title', 'Publication Year', 'Text',\n",
        "       'Tags Applied', 'COUNT OF TAGS', 'Pendulum', \n",
        "       'Poor Cond/Seasonal Risk', 'Avalanche',\n",
        "       'Cornice / Snow Bridge Collapse', 'Bergschrund',\n",
        "       'Crevasse / Moat / Berschrund', 'Icefall / Serac / Ice Avalanche',\n",
        "       'Exposure', 'Non-Ascent Illness', 'Off-route', 'Rushed', 'Run Out',\n",
        "       'Crowds', 'Inadequate Food/Water', 'No Helmet', 'Late in Day',\n",
        "       'Late Start', 'Party Separated', 'Ledge Fall', 'Gym / Artificial',\n",
        "       'Gym Climber', 'Fatigue', 'Large Group', 'Distracted',\n",
        "       'Object Dropped/Dislodged', 'Handhold/Foothold Broke',\n",
        "       'Knot & Tie-in Error', 'No Backup or End Knot', 'Gear Broke',\n",
        "       'Intoxicated', 'Inadequate Equipment', 'Inadequate Protection / Pulled',\n",
        "       'Anchor Failure / Error', 'Stranded / Lost / Overdue', 'Belay Error',\n",
        "       'Rappel Error', 'Lowering Error', 'Miscommunication', 'January',\n",
        "       'February', 'March', 'April', 'May', 'June', 'July', 'August',\n",
        "       'September', 'October', 'November', 'December', 'Location', 'Age', 'Experience', 'Outcome', \n",
        "       \"Type\"], \n",
        "       [ 'Visibility', 'Severe Weather',\n",
        "       'Wildlife', 'Natural Rockfall'],\n",
        "       \"Nature\")"
      ]
    },
    {
      "cell_type": "code",
      "execution_count": null,
      "metadata": {
        "id": "l-XQhA7oqPTG"
      },
      "outputs": [],
      "source": [
        "# melt nature\n",
        "melt_AAC = melt_AAC.melt(['Search Column\\n\\n', 'ID', 'Accident Title', 'Publication Year', 'Text',\n",
        "       'Tags Applied', 'COUNT OF TAGS', 'Pendulum', \n",
        "       'Poor Cond/Seasonal Risk', 'Avalanche',\n",
        "       'Cornice / Snow Bridge Collapse', 'Bergschrund',\n",
        "       'Crevasse / Moat / Berschrund', 'Icefall / Serac / Ice Avalanche',\n",
        "       'Exposure', 'Non-Ascent Illness', 'Off-route', 'Rushed', 'Run Out',\n",
        "       'Crowds', 'Inadequate Food/Water', 'No Helmet', 'Late in Day',\n",
        "       'Late Start', 'Party Separated', 'Ledge Fall', 'Gym / Artificial',\n",
        "       'Gym Climber', 'Fatigue', 'Large Group', 'Distracted',\n",
        "       'Object Dropped/Dislodged', 'Handhold/Foothold Broke',\n",
        "       'Knot & Tie-in Error', 'No Backup or End Knot', 'Gear Broke',\n",
        "       'Intoxicated', 'Inadequate Equipment', 'Inadequate Protection / Pulled',\n",
        "       'Anchor Failure / Error', 'Stranded / Lost / Overdue', 'Belay Error',\n",
        "       'Rappel Error', 'Lowering Error', 'Miscommunication', 'January',\n",
        "       'February', 'March', 'April', 'May', 'June', 'July', 'August',\n",
        "       'September', 'October', 'November', 'December', 'Location', 'Age', 'Experience', 'Outcome', \n",
        "       \"Type\", \"Ice\"], \n",
        "       [ 'Visibility', 'Severe Weather',\n",
        "       'Wildlife', 'Natural Rockfall'],\n",
        "       \"Nature\")"
      ]
    },
    {
      "cell_type": "code",
      "execution_count": null,
      "metadata": {
        "colab": {
          "base_uri": "https://localhost:8080/",
          "height": 428
        },
        "id": "VJyOaP3eW2Kt",
        "outputId": "a54dd6a8-6713-45c4-a57f-2694cbc5d75d"
      },
      "outputs": [
        {
          "data": {
            "text/html": [
              "\n",
              "  <div id=\"df-f0dc0cbe-1c36-4586-85b7-e4b2273d10f2\">\n",
              "    <div class=\"colab-df-container\">\n",
              "      <div>\n",
              "<style scoped>\n",
              "    .dataframe tbody tr th:only-of-type {\n",
              "        vertical-align: middle;\n",
              "    }\n",
              "\n",
              "    .dataframe tbody tr th {\n",
              "        vertical-align: top;\n",
              "    }\n",
              "\n",
              "    .dataframe thead th {\n",
              "        text-align: right;\n",
              "    }\n",
              "</style>\n",
              "<table border=\"1\" class=\"dataframe\">\n",
              "  <thead>\n",
              "    <tr style=\"text-align: right;\">\n",
              "      <th></th>\n",
              "      <th>Search Column\\n\\n</th>\n",
              "      <th>Publication Year</th>\n",
              "      <th>COUNT OF TAGS</th>\n",
              "      <th>&lt;15</th>\n",
              "      <th>15-20</th>\n",
              "      <th>21-25</th>\n",
              "      <th>26-30</th>\n",
              "      <th>31-35</th>\n",
              "      <th>36-50</th>\n",
              "      <th>51-75</th>\n",
              "      <th>...</th>\n",
              "      <th>Inadequate Equipment</th>\n",
              "      <th>Inadequate Protection / Pulled</th>\n",
              "      <th>Anchor Failure / Error</th>\n",
              "      <th>Stranded / Lost / Overdue</th>\n",
              "      <th>Belay Error</th>\n",
              "      <th>Rappel Error</th>\n",
              "      <th>Lowering Error</th>\n",
              "      <th>Miscommunication</th>\n",
              "      <th>January</th>\n",
              "      <th>November</th>\n",
              "    </tr>\n",
              "  </thead>\n",
              "  <tbody>\n",
              "    <tr>\n",
              "      <th>count</th>\n",
              "      <td>2770.000000</td>\n",
              "      <td>2770.000000</td>\n",
              "      <td>2770.000000</td>\n",
              "      <td>2770.000000</td>\n",
              "      <td>2770.000000</td>\n",
              "      <td>2770.000000</td>\n",
              "      <td>2770.000000</td>\n",
              "      <td>2770.000000</td>\n",
              "      <td>2770.000000</td>\n",
              "      <td>2770.000000</td>\n",
              "      <td>...</td>\n",
              "      <td>2770.000000</td>\n",
              "      <td>2770.000000</td>\n",
              "      <td>2770.000000</td>\n",
              "      <td>2770.000000</td>\n",
              "      <td>2770.000000</td>\n",
              "      <td>2770.000000</td>\n",
              "      <td>2770.000000</td>\n",
              "      <td>2770.000000</td>\n",
              "      <td>2770.000000</td>\n",
              "      <td>2770.000000</td>\n",
              "    </tr>\n",
              "    <tr>\n",
              "      <th>mean</th>\n",
              "      <td>0.050181</td>\n",
              "      <td>2003.824549</td>\n",
              "      <td>6.089170</td>\n",
              "      <td>0.006137</td>\n",
              "      <td>0.099278</td>\n",
              "      <td>0.210469</td>\n",
              "      <td>0.221300</td>\n",
              "      <td>0.158845</td>\n",
              "      <td>0.278339</td>\n",
              "      <td>0.099639</td>\n",
              "      <td>...</td>\n",
              "      <td>0.088448</td>\n",
              "      <td>0.218773</td>\n",
              "      <td>0.049097</td>\n",
              "      <td>0.117329</td>\n",
              "      <td>0.045848</td>\n",
              "      <td>0.092058</td>\n",
              "      <td>0.028520</td>\n",
              "      <td>0.025271</td>\n",
              "      <td>0.035740</td>\n",
              "      <td>0.033574</td>\n",
              "    </tr>\n",
              "    <tr>\n",
              "      <th>std</th>\n",
              "      <td>0.221640</td>\n",
              "      <td>39.070894</td>\n",
              "      <td>2.144557</td>\n",
              "      <td>0.082608</td>\n",
              "      <td>0.593603</td>\n",
              "      <td>0.516362</td>\n",
              "      <td>0.525047</td>\n",
              "      <td>0.417264</td>\n",
              "      <td>0.585857</td>\n",
              "      <td>0.349637</td>\n",
              "      <td>...</td>\n",
              "      <td>0.283996</td>\n",
              "      <td>0.413489</td>\n",
              "      <td>0.216111</td>\n",
              "      <td>0.321869</td>\n",
              "      <td>0.209194</td>\n",
              "      <td>0.289160</td>\n",
              "      <td>0.166483</td>\n",
              "      <td>0.156975</td>\n",
              "      <td>0.185675</td>\n",
              "      <td>0.180162</td>\n",
              "    </tr>\n",
              "    <tr>\n",
              "      <th>min</th>\n",
              "      <td>0.000000</td>\n",
              "      <td>0.000000</td>\n",
              "      <td>1.000000</td>\n",
              "      <td>0.000000</td>\n",
              "      <td>0.000000</td>\n",
              "      <td>0.000000</td>\n",
              "      <td>0.000000</td>\n",
              "      <td>0.000000</td>\n",
              "      <td>0.000000</td>\n",
              "      <td>0.000000</td>\n",
              "      <td>...</td>\n",
              "      <td>0.000000</td>\n",
              "      <td>0.000000</td>\n",
              "      <td>0.000000</td>\n",
              "      <td>0.000000</td>\n",
              "      <td>0.000000</td>\n",
              "      <td>0.000000</td>\n",
              "      <td>0.000000</td>\n",
              "      <td>0.000000</td>\n",
              "      <td>0.000000</td>\n",
              "      <td>0.000000</td>\n",
              "    </tr>\n",
              "    <tr>\n",
              "      <th>25%</th>\n",
              "      <td>0.000000</td>\n",
              "      <td>1997.000000</td>\n",
              "      <td>5.000000</td>\n",
              "      <td>0.000000</td>\n",
              "      <td>0.000000</td>\n",
              "      <td>0.000000</td>\n",
              "      <td>0.000000</td>\n",
              "      <td>0.000000</td>\n",
              "      <td>0.000000</td>\n",
              "      <td>0.000000</td>\n",
              "      <td>...</td>\n",
              "      <td>0.000000</td>\n",
              "      <td>0.000000</td>\n",
              "      <td>0.000000</td>\n",
              "      <td>0.000000</td>\n",
              "      <td>0.000000</td>\n",
              "      <td>0.000000</td>\n",
              "      <td>0.000000</td>\n",
              "      <td>0.000000</td>\n",
              "      <td>0.000000</td>\n",
              "      <td>0.000000</td>\n",
              "    </tr>\n",
              "    <tr>\n",
              "      <th>50%</th>\n",
              "      <td>0.000000</td>\n",
              "      <td>2004.000000</td>\n",
              "      <td>6.000000</td>\n",
              "      <td>0.000000</td>\n",
              "      <td>0.000000</td>\n",
              "      <td>0.000000</td>\n",
              "      <td>0.000000</td>\n",
              "      <td>0.000000</td>\n",
              "      <td>0.000000</td>\n",
              "      <td>0.000000</td>\n",
              "      <td>...</td>\n",
              "      <td>0.000000</td>\n",
              "      <td>0.000000</td>\n",
              "      <td>0.000000</td>\n",
              "      <td>0.000000</td>\n",
              "      <td>0.000000</td>\n",
              "      <td>0.000000</td>\n",
              "      <td>0.000000</td>\n",
              "      <td>0.000000</td>\n",
              "      <td>0.000000</td>\n",
              "      <td>0.000000</td>\n",
              "    </tr>\n",
              "    <tr>\n",
              "      <th>75%</th>\n",
              "      <td>0.000000</td>\n",
              "      <td>2013.000000</td>\n",
              "      <td>7.000000</td>\n",
              "      <td>0.000000</td>\n",
              "      <td>0.000000</td>\n",
              "      <td>0.000000</td>\n",
              "      <td>0.000000</td>\n",
              "      <td>0.000000</td>\n",
              "      <td>0.000000</td>\n",
              "      <td>0.000000</td>\n",
              "      <td>...</td>\n",
              "      <td>0.000000</td>\n",
              "      <td>0.000000</td>\n",
              "      <td>0.000000</td>\n",
              "      <td>0.000000</td>\n",
              "      <td>0.000000</td>\n",
              "      <td>0.000000</td>\n",
              "      <td>0.000000</td>\n",
              "      <td>0.000000</td>\n",
              "      <td>0.000000</td>\n",
              "      <td>0.000000</td>\n",
              "    </tr>\n",
              "    <tr>\n",
              "      <th>max</th>\n",
              "      <td>2.000000</td>\n",
              "      <td>2019.000000</td>\n",
              "      <td>17.000000</td>\n",
              "      <td>2.000000</td>\n",
              "      <td>25.000000</td>\n",
              "      <td>4.000000</td>\n",
              "      <td>5.000000</td>\n",
              "      <td>3.000000</td>\n",
              "      <td>6.000000</td>\n",
              "      <td>4.000000</td>\n",
              "      <td>...</td>\n",
              "      <td>1.000000</td>\n",
              "      <td>1.000000</td>\n",
              "      <td>1.000000</td>\n",
              "      <td>1.000000</td>\n",
              "      <td>1.000000</td>\n",
              "      <td>1.000000</td>\n",
              "      <td>1.000000</td>\n",
              "      <td>1.000000</td>\n",
              "      <td>1.000000</td>\n",
              "      <td>1.000000</td>\n",
              "    </tr>\n",
              "  </tbody>\n",
              "</table>\n",
              "<p>8 rows × 82 columns</p>\n",
              "</div>\n",
              "      <button class=\"colab-df-convert\" onclick=\"convertToInteractive('df-f0dc0cbe-1c36-4586-85b7-e4b2273d10f2')\"\n",
              "              title=\"Convert this dataframe to an interactive table.\"\n",
              "              style=\"display:none;\">\n",
              "        \n",
              "  <svg xmlns=\"http://www.w3.org/2000/svg\" height=\"24px\"viewBox=\"0 0 24 24\"\n",
              "       width=\"24px\">\n",
              "    <path d=\"M0 0h24v24H0V0z\" fill=\"none\"/>\n",
              "    <path d=\"M18.56 5.44l.94 2.06.94-2.06 2.06-.94-2.06-.94-.94-2.06-.94 2.06-2.06.94zm-11 1L8.5 8.5l.94-2.06 2.06-.94-2.06-.94L8.5 2.5l-.94 2.06-2.06.94zm10 10l.94 2.06.94-2.06 2.06-.94-2.06-.94-.94-2.06-.94 2.06-2.06.94z\"/><path d=\"M17.41 7.96l-1.37-1.37c-.4-.4-.92-.59-1.43-.59-.52 0-1.04.2-1.43.59L10.3 9.45l-7.72 7.72c-.78.78-.78 2.05 0 2.83L4 21.41c.39.39.9.59 1.41.59.51 0 1.02-.2 1.41-.59l7.78-7.78 2.81-2.81c.8-.78.8-2.07 0-2.86zM5.41 20L4 18.59l7.72-7.72 1.47 1.35L5.41 20z\"/>\n",
              "  </svg>\n",
              "      </button>\n",
              "      \n",
              "  <style>\n",
              "    .colab-df-container {\n",
              "      display:flex;\n",
              "      flex-wrap:wrap;\n",
              "      gap: 12px;\n",
              "    }\n",
              "\n",
              "    .colab-df-convert {\n",
              "      background-color: #E8F0FE;\n",
              "      border: none;\n",
              "      border-radius: 50%;\n",
              "      cursor: pointer;\n",
              "      display: none;\n",
              "      fill: #1967D2;\n",
              "      height: 32px;\n",
              "      padding: 0 0 0 0;\n",
              "      width: 32px;\n",
              "    }\n",
              "\n",
              "    .colab-df-convert:hover {\n",
              "      background-color: #E2EBFA;\n",
              "      box-shadow: 0px 1px 2px rgba(60, 64, 67, 0.3), 0px 1px 3px 1px rgba(60, 64, 67, 0.15);\n",
              "      fill: #174EA6;\n",
              "    }\n",
              "\n",
              "    [theme=dark] .colab-df-convert {\n",
              "      background-color: #3B4455;\n",
              "      fill: #D2E3FC;\n",
              "    }\n",
              "\n",
              "    [theme=dark] .colab-df-convert:hover {\n",
              "      background-color: #434B5C;\n",
              "      box-shadow: 0px 1px 3px 1px rgba(0, 0, 0, 0.15);\n",
              "      filter: drop-shadow(0px 1px 2px rgba(0, 0, 0, 0.3));\n",
              "      fill: #FFFFFF;\n",
              "    }\n",
              "  </style>\n",
              "\n",
              "      <script>\n",
              "        const buttonEl =\n",
              "          document.querySelector('#df-f0dc0cbe-1c36-4586-85b7-e4b2273d10f2 button.colab-df-convert');\n",
              "        buttonEl.style.display =\n",
              "          google.colab.kernel.accessAllowed ? 'block' : 'none';\n",
              "\n",
              "        async function convertToInteractive(key) {\n",
              "          const element = document.querySelector('#df-f0dc0cbe-1c36-4586-85b7-e4b2273d10f2');\n",
              "          const dataTable =\n",
              "            await google.colab.kernel.invokeFunction('convertToInteractive',\n",
              "                                                     [key], {});\n",
              "          if (!dataTable) return;\n",
              "\n",
              "          const docLinkHtml = 'Like what you see? Visit the ' +\n",
              "            '<a target=\"_blank\" href=https://colab.research.google.com/notebooks/data_table.ipynb>data table notebook</a>'\n",
              "            + ' to learn more about interactive tables.';\n",
              "          element.innerHTML = '';\n",
              "          dataTable['output_type'] = 'display_data';\n",
              "          await google.colab.output.renderOutput(dataTable, element);\n",
              "          const docLink = document.createElement('div');\n",
              "          docLink.innerHTML = docLinkHtml;\n",
              "          element.appendChild(docLink);\n",
              "        }\n",
              "      </script>\n",
              "    </div>\n",
              "  </div>\n",
              "  "
            ],
            "text/plain": [
              "       Search Column\\n\\n  Publication Year  COUNT OF TAGS          <15  \\\n",
              "count        2770.000000       2770.000000    2770.000000  2770.000000   \n",
              "mean            0.050181       2003.824549       6.089170     0.006137   \n",
              "std             0.221640         39.070894       2.144557     0.082608   \n",
              "min             0.000000          0.000000       1.000000     0.000000   \n",
              "25%             0.000000       1997.000000       5.000000     0.000000   \n",
              "50%             0.000000       2004.000000       6.000000     0.000000   \n",
              "75%             0.000000       2013.000000       7.000000     0.000000   \n",
              "max             2.000000       2019.000000      17.000000     2.000000   \n",
              "\n",
              "             15-20        21-25        26-30        31-35        36-50  \\\n",
              "count  2770.000000  2770.000000  2770.000000  2770.000000  2770.000000   \n",
              "mean      0.099278     0.210469     0.221300     0.158845     0.278339   \n",
              "std       0.593603     0.516362     0.525047     0.417264     0.585857   \n",
              "min       0.000000     0.000000     0.000000     0.000000     0.000000   \n",
              "25%       0.000000     0.000000     0.000000     0.000000     0.000000   \n",
              "50%       0.000000     0.000000     0.000000     0.000000     0.000000   \n",
              "75%       0.000000     0.000000     0.000000     0.000000     0.000000   \n",
              "max      25.000000     4.000000     5.000000     3.000000     6.000000   \n",
              "\n",
              "             51-75  ...  Inadequate Equipment  Inadequate Protection / Pulled  \\\n",
              "count  2770.000000  ...           2770.000000                     2770.000000   \n",
              "mean      0.099639  ...              0.088448                        0.218773   \n",
              "std       0.349637  ...              0.283996                        0.413489   \n",
              "min       0.000000  ...              0.000000                        0.000000   \n",
              "25%       0.000000  ...              0.000000                        0.000000   \n",
              "50%       0.000000  ...              0.000000                        0.000000   \n",
              "75%       0.000000  ...              0.000000                        0.000000   \n",
              "max       4.000000  ...              1.000000                        1.000000   \n",
              "\n",
              "       Anchor Failure / Error  Stranded / Lost / Overdue  Belay Error  \\\n",
              "count             2770.000000                2770.000000  2770.000000   \n",
              "mean                 0.049097                   0.117329     0.045848   \n",
              "std                  0.216111                   0.321869     0.209194   \n",
              "min                  0.000000                   0.000000     0.000000   \n",
              "25%                  0.000000                   0.000000     0.000000   \n",
              "50%                  0.000000                   0.000000     0.000000   \n",
              "75%                  0.000000                   0.000000     0.000000   \n",
              "max                  1.000000                   1.000000     1.000000   \n",
              "\n",
              "       Rappel Error  Lowering Error  Miscommunication      January  \\\n",
              "count   2770.000000     2770.000000       2770.000000  2770.000000   \n",
              "mean       0.092058        0.028520          0.025271     0.035740   \n",
              "std        0.289160        0.166483          0.156975     0.185675   \n",
              "min        0.000000        0.000000          0.000000     0.000000   \n",
              "25%        0.000000        0.000000          0.000000     0.000000   \n",
              "50%        0.000000        0.000000          0.000000     0.000000   \n",
              "75%        0.000000        0.000000          0.000000     0.000000   \n",
              "max        1.000000        1.000000          1.000000     1.000000   \n",
              "\n",
              "          November  \n",
              "count  2770.000000  \n",
              "mean      0.033574  \n",
              "std       0.180162  \n",
              "min       0.000000  \n",
              "25%       0.000000  \n",
              "50%       0.000000  \n",
              "75%       0.000000  \n",
              "max       1.000000  \n",
              "\n",
              "[8 rows x 82 columns]"
            ]
          },
          "execution_count": 12,
          "metadata": {},
          "output_type": "execute_result"
        }
      ],
      "source": [
        "full_data_summary = AAC_accidents.describe()\n",
        "full_data_summary"
      ]
    },
    {
      "cell_type": "markdown",
      "metadata": {
        "id": "TAR7fsKJW17t"
      },
      "source": [
        ""
      ]
    }
  ],
  "metadata": {
    "colab": {
      "collapsed_sections": [],
      "name": "AACaccidentsjupyter.ipynb",
      "toc_visible": true,
      "provenance": [],
      "include_colab_link": true
    },
    "gpuClass": "standard",
    "kernelspec": {
      "display_name": "Python 3",
      "name": "python3"
    },
    "language_info": {
      "name": "python"
    }
  },
  "nbformat": 4,
  "nbformat_minor": 0
}