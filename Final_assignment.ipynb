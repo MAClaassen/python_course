{
  "cells": [
    {
      "cell_type": "markdown",
      "metadata": {
        "id": "view-in-github",
        "colab_type": "text"
      },
      "source": [
        "<a href=\"https://colab.research.google.com/github/MAClaassen/python_course/blob/main/Final_assignment.ipynb\" target=\"_parent\"><img src=\"https://colab.research.google.com/assets/colab-badge.svg\" alt=\"Open In Colab\"/></a>"
      ]
    },
    {
      "cell_type": "markdown",
      "metadata": {
        "id": "IqY_BUzpUiCB"
      },
      "source": [
        "## 0.0.0 Start"
      ]
    },
    {
      "cell_type": "code",
      "execution_count": 725,
      "metadata": {
        "id": "aHRcOo_7UyiB"
      },
      "outputs": [],
      "source": [
        "import numpy as np\n",
        "import pandas as pd\n",
        "import seaborn as sns\n",
        "import matplotlib.pyplot as plt\n",
        "import matplotlib\n",
        "get_ipython().run_line_magic('matplotlib', 'inline')\n",
        "import datetime as dt\n",
        "import plotly.express as px\n",
        "import plotly.graph_objects as go\n",
        "import prince\n",
        "import matplotlib.colors as colors\n",
        "from scipy import stats # for crosstabs\n",
        "import kaleido # for saving html objects\n",
        "import plotly\n"
      ]
    },
    {
      "cell_type": "code",
      "execution_count": 726,
      "metadata": {
        "id": "v9Od8-dp_Sur"
      },
      "outputs": [],
      "source": [
        "from urllib.request import urlopen\n",
        "import json\n",
        "with urlopen('https://raw.githubusercontent.com/plotly/datasets/master/geojson-counties-fips.json') as response:\n",
        "    counties = json.load(response)"
      ]
    },
    {
      "cell_type": "code",
      "execution_count": 727,
      "metadata": {
        "colab": {
          "base_uri": "https://localhost:8080/",
          "height": 0
        },
        "id": "CrMxjOWyU0Cw",
        "outputId": "95614be0-41bf-4062-9250-fbcc3d7603b3"
      },
      "outputs": [
        {
          "output_type": "stream",
          "name": "stdout",
          "text": [
            "Mounted at /content/drive/\n"
          ]
        }
      ],
      "source": [
        "from google.colab import drive\n",
        "\n",
        "drive.mount('/content/drive/', force_remount=True)\n",
        "\n",
        "data_path='/content/drive/MyDrive/My_project/'\n",
        "\n",
        "results_path='/content/drive/My Drive/My_project/'"
      ]
    },
    {
      "cell_type": "markdown",
      "metadata": {
        "id": "PbddB6oPLplF"
      },
      "source": [
        "### Load data"
      ]
    },
    {
      "cell_type": "code",
      "execution_count": 728,
      "metadata": {
        "id": "wHgpw8TWVIFc",
        "colab": {
          "base_uri": "https://localhost:8080/",
          "height": 1217
        },
        "outputId": "c7780ad7-4d8c-4212-8363-d7ac6cb46cec"
      },
      "outputs": [
        {
          "output_type": "execute_result",
          "data": {
            "text/plain": [
              "      Search Column\\n\\n     ID  \\\n",
              "0                     0      1   \n",
              "1                     0      2   \n",
              "2                     0      3   \n",
              "3                     0      4   \n",
              "4                     0      5   \n",
              "...                 ...    ...   \n",
              "2765                  0   958a   \n",
              "2766                  0   958b   \n",
              "2767                  0   995a   \n",
              "2768                  0   995b   \n",
              "2769                  1  997tt   \n",
              "\n",
              "                                         Accident Title  Publication Year  \\\n",
              "0     Failure of Rappel Setup (Protection Pulled Out...            1990.0   \n",
              "1     Failure of Rappel—Failure to Check System, Bri...            1990.0   \n",
              "2     Fall into Crevasse, Climbing Alone, Inadequate...            1990.0   \n",
              "3     Fall into Crevasse, Climbing Unroped, British ...            1990.0   \n",
              "4     Fall Into Crevasse, Unroped, Inadequate Equipm...            1990.0   \n",
              "...                                                 ...               ...   \n",
              "2765  Fall on Ice, Inadequate Protection, Poor Posit...            2000.0   \n",
              "2766  Edited Title: Fall on Ice, Inadequate Protecti...            2000.0   \n",
              "2767  Edited title: Snow Blindness ...— Alaska, Moun...            2000.0   \n",
              "2768  Edited title:  Acute Mountain Sickness — Alask...            2000.0   \n",
              "2769  Stranded — Did Not Check Fixed Ropes, Dehydrat...            2000.0   \n",
              "\n",
              "                                                   Text  \\\n",
              "0     Colorado, Rocky Mountain National Park\\nOn May...   \n",
              "1     British Columbia, Squamish, Smoke Bluffs\\nOn M...   \n",
              "2     Alberta, Rocky Mountains, Crowfoot Mountain\\nO...   \n",
              "3     British Columbia, Bugaboo Mountains, Bugaboo S...   \n",
              "4     On the afternoon of March 29, 1989, four ski t...   \n",
              "...                                                 ...   \n",
              "2765  Alberta, Banff National Park, Cascade Waterfal...   \n",
              "2766  Alberta, Banff National Park, Cascade Waterfal...   \n",
              "2767  Alaska, Mount McKinley\\nOn June 15, both a Sou...   \n",
              "2768  Alaska, Mount McKinley\\nOn June 15, both a Sou...   \n",
              "2769  California, Yosemite Valley, Lost Arrow Spire\\...   \n",
              "\n",
              "                                           Tags Applied  COUNT OF TAGS  <15  \\\n",
              "0     Serious, Head / Brain Injury, Descent, Roped, ...              8  1.0   \n",
              "1     Experienced, Serious, Descent, Roped, Top-Rope...              7  NaN   \n",
              "2     Experienced, Minor, Unroped , Solo, Climbing A...              9  NaN   \n",
              "3     Minor, Unroped , Solo, Alpine/Mountaineering, ...              5  NaN   \n",
              "4     Deadly, Serious, Descent, Unroped , Solo, Non-...             10  NaN   \n",
              "...                                                 ...            ...  ...   \n",
              "2765  No/Little, Deadly, Descent, Unroped , Solo, Ic...              9  NaN   \n",
              "2766  Serious, Descent, Roped, Ice Climbing, Avalanc...              8  NaN   \n",
              "2767  Descent, Alpine/Mountaineering, Ascent Illness...              4  NaN   \n",
              "2768  Serious, Descent, Alpine/Mountaineering, Ascen...              5  NaN   \n",
              "2769  Minor, Roped, Trad Climbing, Alpine/Mountainee...              7  NaN   \n",
              "\n",
              "      15-20  21-25  ...  March  April  May  June  July  August  September  \\\n",
              "0       NaN    NaN  ...    NaN    NaN    1   NaN   NaN     NaN        NaN   \n",
              "1       NaN    NaN  ...    NaN    NaN    1   NaN   NaN     NaN        NaN   \n",
              "2       NaN    NaN  ...    NaN    NaN  NaN   NaN   NaN       1        NaN   \n",
              "3       NaN    NaN  ...    NaN    NaN  NaN   NaN   NaN     NaN          1   \n",
              "4       NaN    NaN  ...      1    NaN  NaN   NaN   NaN     NaN        NaN   \n",
              "...     ...    ...  ...    ...    ...  ...   ...   ...     ...        ...   \n",
              "2765    NaN    1.0  ...    NaN    NaN  NaN   NaN   NaN     NaN        NaN   \n",
              "2766    NaN    NaN  ...    NaN    NaN  NaN   NaN   NaN     NaN        NaN   \n",
              "2767    NaN    NaN  ...    NaN    NaN  NaN     1   NaN     NaN        NaN   \n",
              "2768    NaN    NaN  ...    NaN    NaN  NaN     1   NaN     NaN        NaN   \n",
              "2769    NaN    2.0  ...    NaN    NaN  NaN   NaN   NaN     NaN        NaN   \n",
              "\n",
              "      October  November  December  \n",
              "0         NaN       NaN       NaN  \n",
              "1         NaN       NaN       NaN  \n",
              "2         NaN       NaN       NaN  \n",
              "3         NaN       NaN       NaN  \n",
              "4         NaN       NaN       NaN  \n",
              "...       ...       ...       ...  \n",
              "2765      NaN       NaN         1  \n",
              "2766      NaN       NaN         1  \n",
              "2767      NaN       NaN       NaN  \n",
              "2768      NaN       NaN       NaN  \n",
              "2769      NaN       NaN         1  \n",
              "\n",
              "[2770 rows x 96 columns]"
            ],
            "text/html": [
              "\n",
              "  <div id=\"df-543d4402-1df8-4c4a-a179-31cac9c31d67\">\n",
              "    <div class=\"colab-df-container\">\n",
              "      <div>\n",
              "<style scoped>\n",
              "    .dataframe tbody tr th:only-of-type {\n",
              "        vertical-align: middle;\n",
              "    }\n",
              "\n",
              "    .dataframe tbody tr th {\n",
              "        vertical-align: top;\n",
              "    }\n",
              "\n",
              "    .dataframe thead th {\n",
              "        text-align: right;\n",
              "    }\n",
              "</style>\n",
              "<table border=\"1\" class=\"dataframe\">\n",
              "  <thead>\n",
              "    <tr style=\"text-align: right;\">\n",
              "      <th></th>\n",
              "      <th>Search Column\\n\\n</th>\n",
              "      <th>ID</th>\n",
              "      <th>Accident Title</th>\n",
              "      <th>Publication Year</th>\n",
              "      <th>Text</th>\n",
              "      <th>Tags Applied</th>\n",
              "      <th>COUNT OF TAGS</th>\n",
              "      <th>&lt;15</th>\n",
              "      <th>15-20</th>\n",
              "      <th>21-25</th>\n",
              "      <th>...</th>\n",
              "      <th>March</th>\n",
              "      <th>April</th>\n",
              "      <th>May</th>\n",
              "      <th>June</th>\n",
              "      <th>July</th>\n",
              "      <th>August</th>\n",
              "      <th>September</th>\n",
              "      <th>October</th>\n",
              "      <th>November</th>\n",
              "      <th>December</th>\n",
              "    </tr>\n",
              "  </thead>\n",
              "  <tbody>\n",
              "    <tr>\n",
              "      <th>0</th>\n",
              "      <td>0</td>\n",
              "      <td>1</td>\n",
              "      <td>Failure of Rappel Setup (Protection Pulled Out...</td>\n",
              "      <td>1990.0</td>\n",
              "      <td>Colorado, Rocky Mountain National Park\\nOn May...</td>\n",
              "      <td>Serious, Head / Brain Injury, Descent, Roped, ...</td>\n",
              "      <td>8</td>\n",
              "      <td>1.0</td>\n",
              "      <td>NaN</td>\n",
              "      <td>NaN</td>\n",
              "      <td>...</td>\n",
              "      <td>NaN</td>\n",
              "      <td>NaN</td>\n",
              "      <td>1</td>\n",
              "      <td>NaN</td>\n",
              "      <td>NaN</td>\n",
              "      <td>NaN</td>\n",
              "      <td>NaN</td>\n",
              "      <td>NaN</td>\n",
              "      <td>NaN</td>\n",
              "      <td>NaN</td>\n",
              "    </tr>\n",
              "    <tr>\n",
              "      <th>1</th>\n",
              "      <td>0</td>\n",
              "      <td>2</td>\n",
              "      <td>Failure of Rappel—Failure to Check System, Bri...</td>\n",
              "      <td>1990.0</td>\n",
              "      <td>British Columbia, Squamish, Smoke Bluffs\\nOn M...</td>\n",
              "      <td>Experienced, Serious, Descent, Roped, Top-Rope...</td>\n",
              "      <td>7</td>\n",
              "      <td>NaN</td>\n",
              "      <td>NaN</td>\n",
              "      <td>NaN</td>\n",
              "      <td>...</td>\n",
              "      <td>NaN</td>\n",
              "      <td>NaN</td>\n",
              "      <td>1</td>\n",
              "      <td>NaN</td>\n",
              "      <td>NaN</td>\n",
              "      <td>NaN</td>\n",
              "      <td>NaN</td>\n",
              "      <td>NaN</td>\n",
              "      <td>NaN</td>\n",
              "      <td>NaN</td>\n",
              "    </tr>\n",
              "    <tr>\n",
              "      <th>2</th>\n",
              "      <td>0</td>\n",
              "      <td>3</td>\n",
              "      <td>Fall into Crevasse, Climbing Alone, Inadequate...</td>\n",
              "      <td>1990.0</td>\n",
              "      <td>Alberta, Rocky Mountains, Crowfoot Mountain\\nO...</td>\n",
              "      <td>Experienced, Minor, Unroped , Solo, Climbing A...</td>\n",
              "      <td>9</td>\n",
              "      <td>NaN</td>\n",
              "      <td>NaN</td>\n",
              "      <td>NaN</td>\n",
              "      <td>...</td>\n",
              "      <td>NaN</td>\n",
              "      <td>NaN</td>\n",
              "      <td>NaN</td>\n",
              "      <td>NaN</td>\n",
              "      <td>NaN</td>\n",
              "      <td>1</td>\n",
              "      <td>NaN</td>\n",
              "      <td>NaN</td>\n",
              "      <td>NaN</td>\n",
              "      <td>NaN</td>\n",
              "    </tr>\n",
              "    <tr>\n",
              "      <th>3</th>\n",
              "      <td>0</td>\n",
              "      <td>4</td>\n",
              "      <td>Fall into Crevasse, Climbing Unroped, British ...</td>\n",
              "      <td>1990.0</td>\n",
              "      <td>British Columbia, Bugaboo Mountains, Bugaboo S...</td>\n",
              "      <td>Minor, Unroped , Solo, Alpine/Mountaineering, ...</td>\n",
              "      <td>5</td>\n",
              "      <td>NaN</td>\n",
              "      <td>NaN</td>\n",
              "      <td>NaN</td>\n",
              "      <td>...</td>\n",
              "      <td>NaN</td>\n",
              "      <td>NaN</td>\n",
              "      <td>NaN</td>\n",
              "      <td>NaN</td>\n",
              "      <td>NaN</td>\n",
              "      <td>NaN</td>\n",
              "      <td>1</td>\n",
              "      <td>NaN</td>\n",
              "      <td>NaN</td>\n",
              "      <td>NaN</td>\n",
              "    </tr>\n",
              "    <tr>\n",
              "      <th>4</th>\n",
              "      <td>0</td>\n",
              "      <td>5</td>\n",
              "      <td>Fall Into Crevasse, Unroped, Inadequate Equipm...</td>\n",
              "      <td>1990.0</td>\n",
              "      <td>On the afternoon of March 29, 1989, four ski t...</td>\n",
              "      <td>Deadly, Serious, Descent, Unroped , Solo, Non-...</td>\n",
              "      <td>10</td>\n",
              "      <td>NaN</td>\n",
              "      <td>NaN</td>\n",
              "      <td>NaN</td>\n",
              "      <td>...</td>\n",
              "      <td>1</td>\n",
              "      <td>NaN</td>\n",
              "      <td>NaN</td>\n",
              "      <td>NaN</td>\n",
              "      <td>NaN</td>\n",
              "      <td>NaN</td>\n",
              "      <td>NaN</td>\n",
              "      <td>NaN</td>\n",
              "      <td>NaN</td>\n",
              "      <td>NaN</td>\n",
              "    </tr>\n",
              "    <tr>\n",
              "      <th>...</th>\n",
              "      <td>...</td>\n",
              "      <td>...</td>\n",
              "      <td>...</td>\n",
              "      <td>...</td>\n",
              "      <td>...</td>\n",
              "      <td>...</td>\n",
              "      <td>...</td>\n",
              "      <td>...</td>\n",
              "      <td>...</td>\n",
              "      <td>...</td>\n",
              "      <td>...</td>\n",
              "      <td>...</td>\n",
              "      <td>...</td>\n",
              "      <td>...</td>\n",
              "      <td>...</td>\n",
              "      <td>...</td>\n",
              "      <td>...</td>\n",
              "      <td>...</td>\n",
              "      <td>...</td>\n",
              "      <td>...</td>\n",
              "      <td>...</td>\n",
              "    </tr>\n",
              "    <tr>\n",
              "      <th>2765</th>\n",
              "      <td>0</td>\n",
              "      <td>958a</td>\n",
              "      <td>Fall on Ice, Inadequate Protection, Poor Posit...</td>\n",
              "      <td>2000.0</td>\n",
              "      <td>Alberta, Banff National Park, Cascade Waterfal...</td>\n",
              "      <td>No/Little, Deadly, Descent, Unroped , Solo, Ic...</td>\n",
              "      <td>9</td>\n",
              "      <td>NaN</td>\n",
              "      <td>NaN</td>\n",
              "      <td>1.0</td>\n",
              "      <td>...</td>\n",
              "      <td>NaN</td>\n",
              "      <td>NaN</td>\n",
              "      <td>NaN</td>\n",
              "      <td>NaN</td>\n",
              "      <td>NaN</td>\n",
              "      <td>NaN</td>\n",
              "      <td>NaN</td>\n",
              "      <td>NaN</td>\n",
              "      <td>NaN</td>\n",
              "      <td>1</td>\n",
              "    </tr>\n",
              "    <tr>\n",
              "      <th>2766</th>\n",
              "      <td>0</td>\n",
              "      <td>958b</td>\n",
              "      <td>Edited Title: Fall on Ice, Inadequate Protecti...</td>\n",
              "      <td>2000.0</td>\n",
              "      <td>Alberta, Banff National Park, Cascade Waterfal...</td>\n",
              "      <td>Serious, Descent, Roped, Ice Climbing, Avalanc...</td>\n",
              "      <td>8</td>\n",
              "      <td>NaN</td>\n",
              "      <td>NaN</td>\n",
              "      <td>NaN</td>\n",
              "      <td>...</td>\n",
              "      <td>NaN</td>\n",
              "      <td>NaN</td>\n",
              "      <td>NaN</td>\n",
              "      <td>NaN</td>\n",
              "      <td>NaN</td>\n",
              "      <td>NaN</td>\n",
              "      <td>NaN</td>\n",
              "      <td>NaN</td>\n",
              "      <td>NaN</td>\n",
              "      <td>1</td>\n",
              "    </tr>\n",
              "    <tr>\n",
              "      <th>2767</th>\n",
              "      <td>0</td>\n",
              "      <td>995a</td>\n",
              "      <td>Edited title: Snow Blindness ...— Alaska, Moun...</td>\n",
              "      <td>2000.0</td>\n",
              "      <td>Alaska, Mount McKinley\\nOn June 15, both a Sou...</td>\n",
              "      <td>Descent, Alpine/Mountaineering, Ascent Illness...</td>\n",
              "      <td>4</td>\n",
              "      <td>NaN</td>\n",
              "      <td>NaN</td>\n",
              "      <td>NaN</td>\n",
              "      <td>...</td>\n",
              "      <td>NaN</td>\n",
              "      <td>NaN</td>\n",
              "      <td>NaN</td>\n",
              "      <td>1</td>\n",
              "      <td>NaN</td>\n",
              "      <td>NaN</td>\n",
              "      <td>NaN</td>\n",
              "      <td>NaN</td>\n",
              "      <td>NaN</td>\n",
              "      <td>NaN</td>\n",
              "    </tr>\n",
              "    <tr>\n",
              "      <th>2768</th>\n",
              "      <td>0</td>\n",
              "      <td>995b</td>\n",
              "      <td>Edited title:  Acute Mountain Sickness — Alask...</td>\n",
              "      <td>2000.0</td>\n",
              "      <td>Alaska, Mount McKinley\\nOn June 15, both a Sou...</td>\n",
              "      <td>Serious, Descent, Alpine/Mountaineering, Ascen...</td>\n",
              "      <td>5</td>\n",
              "      <td>NaN</td>\n",
              "      <td>NaN</td>\n",
              "      <td>NaN</td>\n",
              "      <td>...</td>\n",
              "      <td>NaN</td>\n",
              "      <td>NaN</td>\n",
              "      <td>NaN</td>\n",
              "      <td>1</td>\n",
              "      <td>NaN</td>\n",
              "      <td>NaN</td>\n",
              "      <td>NaN</td>\n",
              "      <td>NaN</td>\n",
              "      <td>NaN</td>\n",
              "      <td>NaN</td>\n",
              "    </tr>\n",
              "    <tr>\n",
              "      <th>2769</th>\n",
              "      <td>1</td>\n",
              "      <td>997tt</td>\n",
              "      <td>Stranded — Did Not Check Fixed Ropes, Dehydrat...</td>\n",
              "      <td>2000.0</td>\n",
              "      <td>California, Yosemite Valley, Lost Arrow Spire\\...</td>\n",
              "      <td>Minor, Roped, Trad Climbing, Alpine/Mountainee...</td>\n",
              "      <td>7</td>\n",
              "      <td>NaN</td>\n",
              "      <td>NaN</td>\n",
              "      <td>2.0</td>\n",
              "      <td>...</td>\n",
              "      <td>NaN</td>\n",
              "      <td>NaN</td>\n",
              "      <td>NaN</td>\n",
              "      <td>NaN</td>\n",
              "      <td>NaN</td>\n",
              "      <td>NaN</td>\n",
              "      <td>NaN</td>\n",
              "      <td>NaN</td>\n",
              "      <td>NaN</td>\n",
              "      <td>1</td>\n",
              "    </tr>\n",
              "  </tbody>\n",
              "</table>\n",
              "<p>2770 rows × 96 columns</p>\n",
              "</div>\n",
              "      <button class=\"colab-df-convert\" onclick=\"convertToInteractive('df-543d4402-1df8-4c4a-a179-31cac9c31d67')\"\n",
              "              title=\"Convert this dataframe to an interactive table.\"\n",
              "              style=\"display:none;\">\n",
              "        \n",
              "  <svg xmlns=\"http://www.w3.org/2000/svg\" height=\"24px\"viewBox=\"0 0 24 24\"\n",
              "       width=\"24px\">\n",
              "    <path d=\"M0 0h24v24H0V0z\" fill=\"none\"/>\n",
              "    <path d=\"M18.56 5.44l.94 2.06.94-2.06 2.06-.94-2.06-.94-.94-2.06-.94 2.06-2.06.94zm-11 1L8.5 8.5l.94-2.06 2.06-.94-2.06-.94L8.5 2.5l-.94 2.06-2.06.94zm10 10l.94 2.06.94-2.06 2.06-.94-2.06-.94-.94-2.06-.94 2.06-2.06.94z\"/><path d=\"M17.41 7.96l-1.37-1.37c-.4-.4-.92-.59-1.43-.59-.52 0-1.04.2-1.43.59L10.3 9.45l-7.72 7.72c-.78.78-.78 2.05 0 2.83L4 21.41c.39.39.9.59 1.41.59.51 0 1.02-.2 1.41-.59l7.78-7.78 2.81-2.81c.8-.78.8-2.07 0-2.86zM5.41 20L4 18.59l7.72-7.72 1.47 1.35L5.41 20z\"/>\n",
              "  </svg>\n",
              "      </button>\n",
              "      \n",
              "  <style>\n",
              "    .colab-df-container {\n",
              "      display:flex;\n",
              "      flex-wrap:wrap;\n",
              "      gap: 12px;\n",
              "    }\n",
              "\n",
              "    .colab-df-convert {\n",
              "      background-color: #E8F0FE;\n",
              "      border: none;\n",
              "      border-radius: 50%;\n",
              "      cursor: pointer;\n",
              "      display: none;\n",
              "      fill: #1967D2;\n",
              "      height: 32px;\n",
              "      padding: 0 0 0 0;\n",
              "      width: 32px;\n",
              "    }\n",
              "\n",
              "    .colab-df-convert:hover {\n",
              "      background-color: #E2EBFA;\n",
              "      box-shadow: 0px 1px 2px rgba(60, 64, 67, 0.3), 0px 1px 3px 1px rgba(60, 64, 67, 0.15);\n",
              "      fill: #174EA6;\n",
              "    }\n",
              "\n",
              "    [theme=dark] .colab-df-convert {\n",
              "      background-color: #3B4455;\n",
              "      fill: #D2E3FC;\n",
              "    }\n",
              "\n",
              "    [theme=dark] .colab-df-convert:hover {\n",
              "      background-color: #434B5C;\n",
              "      box-shadow: 0px 1px 3px 1px rgba(0, 0, 0, 0.15);\n",
              "      filter: drop-shadow(0px 1px 2px rgba(0, 0, 0, 0.3));\n",
              "      fill: #FFFFFF;\n",
              "    }\n",
              "  </style>\n",
              "\n",
              "      <script>\n",
              "        const buttonEl =\n",
              "          document.querySelector('#df-543d4402-1df8-4c4a-a179-31cac9c31d67 button.colab-df-convert');\n",
              "        buttonEl.style.display =\n",
              "          google.colab.kernel.accessAllowed ? 'block' : 'none';\n",
              "\n",
              "        async function convertToInteractive(key) {\n",
              "          const element = document.querySelector('#df-543d4402-1df8-4c4a-a179-31cac9c31d67');\n",
              "          const dataTable =\n",
              "            await google.colab.kernel.invokeFunction('convertToInteractive',\n",
              "                                                     [key], {});\n",
              "          if (!dataTable) return;\n",
              "\n",
              "          const docLinkHtml = 'Like what you see? Visit the ' +\n",
              "            '<a target=\"_blank\" href=https://colab.research.google.com/notebooks/data_table.ipynb>data table notebook</a>'\n",
              "            + ' to learn more about interactive tables.';\n",
              "          element.innerHTML = '';\n",
              "          dataTable['output_type'] = 'display_data';\n",
              "          await google.colab.output.renderOutput(dataTable, element);\n",
              "          const docLink = document.createElement('div');\n",
              "          docLink.innerHTML = docLinkHtml;\n",
              "          element.appendChild(docLink);\n",
              "        }\n",
              "      </script>\n",
              "    </div>\n",
              "  </div>\n",
              "  "
            ]
          },
          "metadata": {},
          "execution_count": 728
        }
      ],
      "source": [
        "# load data\n",
        "AAC_accidents = pd.read_csv(data_path + '_github-AAC_accidents_tagged_data.csv')\n",
        "AAC_accidents"
      ]
    },
    {
      "cell_type": "markdown",
      "source": [
        "The below code comes from the source and recodes some first variables. "
      ],
      "metadata": {
        "id": "wVKRhbt_0O8w"
      }
    },
    {
      "cell_type": "code",
      "execution_count": 729,
      "metadata": {
        "id": "qBEwuXfDUSEN",
        "colab": {
          "base_uri": "https://localhost:8080/",
          "height": 0
        },
        "outputId": "332b5717-7e63-4674-e9f0-f5a0f83bee33"
      },
      "outputs": [
        {
          "output_type": "stream",
          "name": "stderr",
          "text": [
            "/usr/local/lib/python3.7/dist-packages/pandas/core/indexing.py:1732: SettingWithCopyWarning:\n",
            "\n",
            "\n",
            "A value is trying to be set on a copy of a slice from a DataFrame\n",
            "\n",
            "See the caveats in the documentation: https://pandas.pydata.org/pandas-docs/stable/user_guide/indexing.html#returning-a-view-versus-a-copy\n",
            "\n"
          ]
        },
        {
          "output_type": "stream",
          "name": "stdout",
          "text": [
            "Avalanche, Fall on Snow and Ice, Pueblo, El Pico de Orizaba\n",
            "\n",
            "Rappel Error—Misuse of Grigri, Baffin Island, Stewart Valley\n",
            "\n",
            "Fall on Rock - Lost Balance, Protection Pulled Out \n",
            "Crowders Mountain State Park, Two-Pitch Wall\n",
            "\n",
            "Fall on Rock, Falling Rock - Failure to Test Holds, Inadequate Belay \n",
            "Humphrey's Ledge, Tree Keys\n",
            "\n",
            "Fall On Rock – Inadequate Belay \n",
            "Roosevelt National Forest, Dream Canyon\n",
            "\n",
            "Rockfall – Poor Position \n",
            "Canada, Yamnuska, Missionary's Crack\n",
            "\n",
            "Slip On Rock, Rappel Error – Alcohol, Poor Position \n",
            "San Bernadino Mountains, Lucerne Valley\n",
            "\n",
            "Illness \n",
            "Canada, Yokon, Kluane National Park and Reserve, Mt. Logan, East Ridge\n",
            "\n",
            "Anchor Failure – Off-Route \n",
            "Wind River Range, Pingora Peak\n",
            "\n",
            "Fall on Rock – Incomplete Tie-In Knot \n",
            "Canada, Québec, Racine, Lac Larouche\n",
            "\n",
            "HAPE \n",
            "Denali, West Buttress\n",
            "\n",
            "Fall on Rock, Stranded – Off-Route, Inadequate Gear \n",
            "Grand Teton National Park, Teewinot\n",
            "\n",
            "An Untimely Slip \n",
            "New River Gorge, Meadow River\n",
            "\n",
            "Rappel Error — Damaging Pendulum Swing \n",
            "Yosemite Valley, Royal Arches Area\n",
            "\n",
            "Deadly Rockfall \n",
            "Yosemite Valley, El Capitan\n",
            "\n",
            "LEADER FALL ON ICE Denali National Park, West Kahiltna Peak \n",
            "\n",
            "AVALANCHE Denali National Park, Mt. Hunter, Mini-Moonflower \n",
            "\n",
            "SEVERE ALTITUDE ILLNESS | First of Two Contrasting Cases Denali National Park, Denali, West Buttress Route \n",
            "\n",
            "SEVERE ALTITUDE ILLNESS | Second of Two Contrasting Cases Denali National Park, Denali, West Buttress Route\n",
            "\n",
            "SEVERE ALTITUDE ILLNESS | HAPE and HACE Denali National Park, Denali, West Buttress Route \n",
            "\n",
            "ALTITUDE-RELATED EVACUATION AT 17,200 FEET\n",
            "\n",
            "FALL ON SKIS | Skiing With Loaded Sled Denali National Park, Kahiltna Glacier \n",
            "\n",
            "CARBON MONOXIDE POISONING Denali National Park, Denali, West Buttress Route \n",
            "\n",
            "FATAL FALL DURING DESCENT Juneau Icefield, Mendenhall Towers \n",
            "\n",
            "LEDGE FALL | Failure to Clip Bolt, Inexperience Flagstaff Area, The Pit \n",
            "\n",
            "GROUND FALL | Inadequate Equipment, Inexperience Flagstaff Area, The Pit \n",
            "\n",
            "RAPPEL ERROR | Uneven Ropes, No Stopper Knots Flagstaff Area, Oak Creek Overlook \n",
            "\n",
            "FALL FROM ANCHOR | Inadequate Anchor Flagstaff Area, Oak Creek Overlook \n",
            "\n",
            "GROUND FALL | Protection Pulled Out McDowell Mountains, Tom’s Thumb \n",
            "\n",
            "#1 MT. SHASTA ANNUAL SUMMARY Mt. Shasta and Castle Crags Wilderness  - Dropped Object, Distracted\n",
            "\n",
            "#2 MT. SHASTA ANNUAL SUMMARY Mt. Shasta and Castle Crags Wilderness : Head Injury, No Helmet, Descending\n",
            "\n",
            "#3 MT. SHASTA ANNUAL SUMMARY Mt. Shasta and Castle Crags Wilderness:  Glissading with Crampons\n",
            "\n",
            "#4 MT. SHASTA ANNUAL SUMMARY Mt. Shasta and Castle Crags Wilderness:  Off-route fall\n",
            "\n",
            "#5 MT. SHASTA ANNUAL SUMMARY Mt. Shasta and Castle Crags Wilderness: Rockfall and self-rescue\n",
            "\n",
            "#6 MT. SHASTA ANNUAL SUMMARY Mt. Shasta and Castle Crags Wilderness: Fall while descending\n",
            "\n",
            "LEDGE FALL | Inadequate Protection, Speed Climbing Yosemite National Park, El Capitan, The Nose \n",
            "\n",
            "LOWERING ERROR | Inexperience, No Stopper Knot Yosemite Valley, Reed’s Pinnacle \n",
            "\n",
            "STRANDED ON DESCENT | Off-Route, Fatigue Yosemite Valley, El Capitan, East Ledges , Part 1\n",
            "\n",
            "STRANDED ON DESCENT | Off-Route, Fatigue Yosemite Valley, El Capitan, East Ledges , Part 2\n",
            "\n",
            "GROUND FALLS | Inadequate Protection, Rope Severed Yosemite Valley, El Capitan \n",
            "\n",
            "LOWERING ERROR | Miscommunication Bishop, Pine Creek Canyon, Gateway Slabs \n",
            "\n",
            "LEADER FALL ON ROCK | Loose Rock, Inadequate Protection Sierra National Forest, Windy Cliff \n",
            "\n",
            "LOWERING ERROR | No Stopper Knot Clear Creek Canyon, Creekside \n",
            "\n",
            "STRANDED | Stuck Rappel Ropes Clear Creek Canyon, Creekside \n",
            "\n",
            "LEADER FALL ON ROCK | Off-Route Eldorado Canyon, Redgarden Wall \n",
            "\n",
            "LEAD FALL ONTO LEDGE | Protection Pulled Out Ragged Mountain, Main Cliff \n",
            "\n",
            "FALL ON ROCK | Huge Loose Block Red River Gorge, Miller Fork, Camelot \n",
            "\n",
            "FALL FROM TOP OF CLIFF | Inadequate Protection Taylor’s Falls \n",
            "\n",
            "STRANDED | Knee Stuck In Wide Crack Sandstone, Robinson Park \n",
            "\n",
            "GROUND FALL | Detached Flake Red Rock, Moderate Mecca \n",
            "\n",
            "LEADER FALL ON ICE | Inadequate Protection, Fatigue Crawford Notch, Mt. Willard \n",
            "\n",
            "ROCKFALL ON RAPPEL | Darkness, Haste Organ Mountains, Pyramid of the South Rabbit Ear \n",
            "\n",
            "LEADER FALL ON ICE | Inadequate protection, Poor Position Adirondacks, Pitchoff Mountain, North Face \n",
            "\n",
            "NEAR MISS | Unclipped from Anchor Shawangunks, Trapps \n",
            "\n",
            "SHAWANGUNKS ANNUAL SUMMARY Mohonk Preserve #1 Top-rope set with Inadequate Equipment\n",
            "\n",
            "SHAWANGUNKS ANNUAL SUMMARY Mohonk Preserve #2: Protection Pulled, Brain Injury\n",
            "\n",
            "SHAWANGUNKS ANNUAL SUMMARY Mohonk Preserve #3: Fall while preparing anchor\n",
            "\n",
            "SHAWANGUNKS ANNUAL SUMMARY Mohonk Preserve #4:  Fatal free solo\n",
            "\n",
            "SHAWANGUNKS ANNUAL SUMMARY Mohonk Preserve #5: Top-rope Belayed Lowering Error\n",
            "\n",
            "SHAWANGUNKS ANNUAL SUMMARY Mohonk Preserve #6: TBI after fall on Third Pitch of Anguish\n",
            "\n",
            "SHAWANGUNKS ANNUAL SUMMARY Mohonk Preserve #7: Run out fall leads to pendulum\n",
            "\n",
            "GROUND FALL | Inexperience, Inadequate Belay Pilot Mountain State Park, The Parking Lot \n",
            "\n",
            "FALL ON ROCK | Inexperience, No Helmet Pilot Mountain State Park, Black Rain Wall \n",
            "\n",
            "FALL ON ROCK | Protection Pulled, Impact on Ledge Pisgah National Forest, Looking Glass Rock \n",
            "\n",
            "GROUND FALL | Inadequate Protection Hanging Rock State Park, Moore’s Wall \n",
            "\n",
            "FALL ON ROCK | Inexperience, Inadequate Protection Linville Gorge Wilderness, The Daddy \n",
            "\n",
            "FATAL FALL | Failure to Self-Arrest, Inadequate Equipment Mt. Hood, South Side \n",
            "\n",
            " Fall on Rock, Inadequate Protection\n",
            "\n",
            "Fatal Ground Fall: Rope Likely Cut Over Edge\n",
            "\n"
          ]
        }
      ],
      "source": [
        "{\n",
        "    \"tags\": [\n",
        "        \"remove-output\"\n",
        "    ]\n",
        "}\n",
        "# 2. Ensured Date was in DateTime format\n",
        "\n",
        "\n",
        "AAC_accidents['Publication Year'] = pd.to_datetime(AAC_accidents['Publication Year'], yearfirst=True, format = '%Y')\n",
        "AAC_accidents['Publication Year'] = pd.DatetimeIndex(AAC_accidents['Publication Year']).year\n",
        "AAC_accidents['Publication Year'] = AAC_accidents['Publication Year'].fillna(0)\n",
        "AAC_accidents['Publication Year'] = AAC_accidents['Publication Year'].astype(int)\n",
        "\n",
        "\n",
        "# 3. Replaced NaN for 0\n",
        "\n",
        "\n",
        "AAC_accidents= AAC_accidents.fillna(0)\n",
        "\n",
        "\n",
        "# 4. I wanted to create a new column with the location of the accident. This would involve matching the Text and accident columns to a list containing Canadian Provinces and US States\n",
        "\n",
        "\n",
        "Provinces_States = ['Alabama', 'Alaska', 'American Samoa', 'Arizona', 'Arkansas', 'California',\n",
        "             'Colorado', 'Connecticut', 'Delaware', 'District of Columbia', 'Florida', 'Georgia',\n",
        "             'Guam', 'Hawaii', 'Idaho', 'Illinois', 'Indiana', 'Iowa', 'Kansas', 'Kentucky',\n",
        "             'Louisiana', 'Maine', 'Maryland', 'Massachusetts', 'Michigan', 'Minnesota',\n",
        "             'Minor Outlying Islands', 'Mississippi', 'Missouri', 'Montana', 'Nebraska', 'Nevada',\n",
        "             'New Hampshire', 'New Jersey', 'New Mexico', 'New York', 'North Carolina', 'North Dakota',\n",
        "             'Northern Mariana Islands', 'Ohio', 'Oklahoma', 'Oregon', 'Pennsylvania', 'Puerto Rico',\n",
        "             'Rhode Island', 'South Carolina', 'South Dakota', 'Tennessee', 'Texas', 'U.S. Virgin Islands',\n",
        "             'Utah', 'Vermont', 'Virginia', 'Washington',\n",
        "             'West Virginia', 'Wisconsin', 'Wyoming','Alberta', 'British Columbia', 'Manitoba','New Brunswick', 'Newfoundland and Labrador',\n",
        "                 'Northwest Territories', 'Nova Scotia','Nunavut', 'Ontario', 'Prince Edward Island' , 'PEI',\n",
        "                 'Quebec','Saskatchewan', 'Yukon']\n",
        "\n",
        "#5. Created a new Location Column\n",
        "AAC_accidents['Location'] = ''\n",
        "\n",
        "\n",
        "for i in range(AAC_accidents.shape[0] - 1):\n",
        "    title = AAC_accidents['Accident Title'].iloc[i]\n",
        "    text = AAC_accidents['Text'].iloc[i]\n",
        "    location = None\n",
        "    for place in Provinces_States:\n",
        "        if place in title:\n",
        "            location = place\n",
        "            break\n",
        "        elif place in text:\n",
        "            location = place\n",
        "            break\n",
        "    if location == None:\n",
        "        print(title)\n",
        "\n",
        "        print()\n",
        "\n",
        "    AAC_accidents['Location'].iloc[i]=location\n",
        "\n",
        "#AAC_accidents['Location'].isna().sum()\n"
      ]
    },
    {
      "cell_type": "code",
      "execution_count": 730,
      "metadata": {
        "colab": {
          "base_uri": "https://localhost:8080/",
          "height": 0
        },
        "id": "Tb7YqxukUSET",
        "outputId": "60a0dbc3-9173-42c3-8bcf-8848f78a718d"
      },
      "outputs": [
        {
          "output_type": "execute_result",
          "data": {
            "text/plain": [
              "Index(['Search Column\\n\\n', 'ID', 'Accident Title', 'Publication Year', 'Text',\n",
              "       'Tags Applied', 'COUNT OF TAGS', '<15', '15-20', '21-25', '26-30',\n",
              "       '31-35', '36-50', '51-75', '>75', 'No/Little', 'Moderate',\n",
              "       'Experienced', 'Unknown', 'Deadly', 'Serious', 'Minor',\n",
              "       'Head / Brain Injury', 'Descent', 'Roped', 'Trad Climbing', 'Sport',\n",
              "       'Top-Rope', 'Aid & Big Wall Climbing', 'Pendulum', 'Unroped ', 'Solo',\n",
              "       'Climbing Alone', 'Bouldering', 'Non-climbing', 'Alpine/Mountaineering',\n",
              "       'Piton/Ice Screw', 'Ascent Illness', 'Crampon Issues', 'Ice Climbing',\n",
              "       'Glissading', 'Ski-related ', 'Poor Position',\n",
              "       'Poor Cond/Seasonal Risk', 'Avalanche',\n",
              "       'Cornice / Snow Bridge Collapse', 'Bergschrund',\n",
              "       'Crevasse / Moat / Berschrund', 'Icefall / Serac / Ice Avalanche',\n",
              "       'Exposure', 'Non-Ascent Illness', 'Visibility', 'Severe Weather',\n",
              "       'Wildlife', 'Natural Rockfall', 'Off-route', 'Rushed', 'Run Out',\n",
              "       'Crowds', 'Inadequate Food/Water', 'No Helmet', 'Late in Day',\n",
              "       'Late Start', 'Party Separated', 'Ledge Fall', 'Gym / Artificial',\n",
              "       'Gym Climber', 'Fatigue', 'Large Group', 'Distracted',\n",
              "       'Object Dropped/Dislodged', 'Handhold/Foothold Broke',\n",
              "       'Knot & Tie-in Error', 'No Backup or End Knot', 'Gear Broke',\n",
              "       'Intoxicated', 'Inadequate Equipment', 'Inadequate Protection / Pulled',\n",
              "       'Anchor Failure / Error', 'Stranded / Lost / Overdue', 'Belay Error',\n",
              "       'Rappel Error', 'Lowering Error', 'Miscommunication', 'January',\n",
              "       'February', 'March', 'April', 'May', 'June', 'July', 'August',\n",
              "       'September', 'October', 'November', 'December', 'Location'],\n",
              "      dtype='object')"
            ]
          },
          "metadata": {},
          "execution_count": 730
        }
      ],
      "source": [
        "# check what variables are in the data\n",
        "AAC_accidents.columns"
      ]
    },
    {
      "cell_type": "markdown",
      "metadata": {
        "id": "GW9KEPkRXbxX"
      },
      "source": [
        "It is clear from the list above that I will need to melt a lot of columns into factors. "
      ]
    },
    {
      "cell_type": "code",
      "execution_count": 731,
      "metadata": {
        "id": "GR_K2leTBEQD"
      },
      "outputs": [],
      "source": [
        "# remove some columns\n",
        "AAC_accidents = AAC_accidents.drop(columns=['Search Column\\n\\n', 'Tags Applied', 'COUNT OF TAGS'])"
      ]
    },
    {
      "cell_type": "markdown",
      "source": [
        "# Descriptives"
      ],
      "metadata": {
        "id": "AeWKjZfcnQuN"
      }
    },
    {
      "cell_type": "markdown",
      "source": [
        "## Plotting geo location - total amounts"
      ],
      "metadata": {
        "id": "X9SOrPEULGkk"
      }
    },
    {
      "cell_type": "code",
      "execution_count": 732,
      "metadata": {
        "id": "i9OuSzLTUN2b"
      },
      "outputs": [],
      "source": [
        "# load geographic information to join to the data set\n",
        "geo_location = pd.read_csv(data_path + 'geo_location.csv')\n",
        "geo_location['Location'] = geo_location['name']\n",
        "AAC_accidents_geo = pd.merge(AAC_accidents, geo_location, how = 'left', on = 'Location')"
      ]
    },
    {
      "cell_type": "code",
      "source": [
        "# keep only the relevant columns\n",
        "AAC_accidents_geo_select = AAC_accidents_geo[['Location', 'latitude', 'longitude']]\n",
        "AAC_accidents_geo_select"
      ],
      "metadata": {
        "colab": {
          "base_uri": "https://localhost:8080/",
          "height": 424
        },
        "id": "_GmJv5GxAuMf",
        "outputId": "e8b1250f-b1b3-41d6-ffa5-4e023d2d0c31"
      },
      "execution_count": 733,
      "outputs": [
        {
          "output_type": "execute_result",
          "data": {
            "text/plain": [
              "              Location   latitude   longitude\n",
              "0             Colorado  39.550051 -105.782067\n",
              "1     British Columbia  53.726669 -127.647621\n",
              "2              Alberta  36.855200  -77.893700\n",
              "3     British Columbia  53.726669 -127.647621\n",
              "4              Alberta  36.855200  -77.893700\n",
              "...                ...        ...         ...\n",
              "2765           Alberta  36.855200  -77.893700\n",
              "2766           Alberta  36.855200  -77.893700\n",
              "2767            Alaska  63.588753 -154.493062\n",
              "2768            Alaska  63.588753 -154.493062\n",
              "2769                          NaN         NaN\n",
              "\n",
              "[2770 rows x 3 columns]"
            ],
            "text/html": [
              "\n",
              "  <div id=\"df-1e1f4cfd-75bd-4011-b38b-b30222d17825\">\n",
              "    <div class=\"colab-df-container\">\n",
              "      <div>\n",
              "<style scoped>\n",
              "    .dataframe tbody tr th:only-of-type {\n",
              "        vertical-align: middle;\n",
              "    }\n",
              "\n",
              "    .dataframe tbody tr th {\n",
              "        vertical-align: top;\n",
              "    }\n",
              "\n",
              "    .dataframe thead th {\n",
              "        text-align: right;\n",
              "    }\n",
              "</style>\n",
              "<table border=\"1\" class=\"dataframe\">\n",
              "  <thead>\n",
              "    <tr style=\"text-align: right;\">\n",
              "      <th></th>\n",
              "      <th>Location</th>\n",
              "      <th>latitude</th>\n",
              "      <th>longitude</th>\n",
              "    </tr>\n",
              "  </thead>\n",
              "  <tbody>\n",
              "    <tr>\n",
              "      <th>0</th>\n",
              "      <td>Colorado</td>\n",
              "      <td>39.550051</td>\n",
              "      <td>-105.782067</td>\n",
              "    </tr>\n",
              "    <tr>\n",
              "      <th>1</th>\n",
              "      <td>British Columbia</td>\n",
              "      <td>53.726669</td>\n",
              "      <td>-127.647621</td>\n",
              "    </tr>\n",
              "    <tr>\n",
              "      <th>2</th>\n",
              "      <td>Alberta</td>\n",
              "      <td>36.855200</td>\n",
              "      <td>-77.893700</td>\n",
              "    </tr>\n",
              "    <tr>\n",
              "      <th>3</th>\n",
              "      <td>British Columbia</td>\n",
              "      <td>53.726669</td>\n",
              "      <td>-127.647621</td>\n",
              "    </tr>\n",
              "    <tr>\n",
              "      <th>4</th>\n",
              "      <td>Alberta</td>\n",
              "      <td>36.855200</td>\n",
              "      <td>-77.893700</td>\n",
              "    </tr>\n",
              "    <tr>\n",
              "      <th>...</th>\n",
              "      <td>...</td>\n",
              "      <td>...</td>\n",
              "      <td>...</td>\n",
              "    </tr>\n",
              "    <tr>\n",
              "      <th>2765</th>\n",
              "      <td>Alberta</td>\n",
              "      <td>36.855200</td>\n",
              "      <td>-77.893700</td>\n",
              "    </tr>\n",
              "    <tr>\n",
              "      <th>2766</th>\n",
              "      <td>Alberta</td>\n",
              "      <td>36.855200</td>\n",
              "      <td>-77.893700</td>\n",
              "    </tr>\n",
              "    <tr>\n",
              "      <th>2767</th>\n",
              "      <td>Alaska</td>\n",
              "      <td>63.588753</td>\n",
              "      <td>-154.493062</td>\n",
              "    </tr>\n",
              "    <tr>\n",
              "      <th>2768</th>\n",
              "      <td>Alaska</td>\n",
              "      <td>63.588753</td>\n",
              "      <td>-154.493062</td>\n",
              "    </tr>\n",
              "    <tr>\n",
              "      <th>2769</th>\n",
              "      <td></td>\n",
              "      <td>NaN</td>\n",
              "      <td>NaN</td>\n",
              "    </tr>\n",
              "  </tbody>\n",
              "</table>\n",
              "<p>2770 rows × 3 columns</p>\n",
              "</div>\n",
              "      <button class=\"colab-df-convert\" onclick=\"convertToInteractive('df-1e1f4cfd-75bd-4011-b38b-b30222d17825')\"\n",
              "              title=\"Convert this dataframe to an interactive table.\"\n",
              "              style=\"display:none;\">\n",
              "        \n",
              "  <svg xmlns=\"http://www.w3.org/2000/svg\" height=\"24px\"viewBox=\"0 0 24 24\"\n",
              "       width=\"24px\">\n",
              "    <path d=\"M0 0h24v24H0V0z\" fill=\"none\"/>\n",
              "    <path d=\"M18.56 5.44l.94 2.06.94-2.06 2.06-.94-2.06-.94-.94-2.06-.94 2.06-2.06.94zm-11 1L8.5 8.5l.94-2.06 2.06-.94-2.06-.94L8.5 2.5l-.94 2.06-2.06.94zm10 10l.94 2.06.94-2.06 2.06-.94-2.06-.94-.94-2.06-.94 2.06-2.06.94z\"/><path d=\"M17.41 7.96l-1.37-1.37c-.4-.4-.92-.59-1.43-.59-.52 0-1.04.2-1.43.59L10.3 9.45l-7.72 7.72c-.78.78-.78 2.05 0 2.83L4 21.41c.39.39.9.59 1.41.59.51 0 1.02-.2 1.41-.59l7.78-7.78 2.81-2.81c.8-.78.8-2.07 0-2.86zM5.41 20L4 18.59l7.72-7.72 1.47 1.35L5.41 20z\"/>\n",
              "  </svg>\n",
              "      </button>\n",
              "      \n",
              "  <style>\n",
              "    .colab-df-container {\n",
              "      display:flex;\n",
              "      flex-wrap:wrap;\n",
              "      gap: 12px;\n",
              "    }\n",
              "\n",
              "    .colab-df-convert {\n",
              "      background-color: #E8F0FE;\n",
              "      border: none;\n",
              "      border-radius: 50%;\n",
              "      cursor: pointer;\n",
              "      display: none;\n",
              "      fill: #1967D2;\n",
              "      height: 32px;\n",
              "      padding: 0 0 0 0;\n",
              "      width: 32px;\n",
              "    }\n",
              "\n",
              "    .colab-df-convert:hover {\n",
              "      background-color: #E2EBFA;\n",
              "      box-shadow: 0px 1px 2px rgba(60, 64, 67, 0.3), 0px 1px 3px 1px rgba(60, 64, 67, 0.15);\n",
              "      fill: #174EA6;\n",
              "    }\n",
              "\n",
              "    [theme=dark] .colab-df-convert {\n",
              "      background-color: #3B4455;\n",
              "      fill: #D2E3FC;\n",
              "    }\n",
              "\n",
              "    [theme=dark] .colab-df-convert:hover {\n",
              "      background-color: #434B5C;\n",
              "      box-shadow: 0px 1px 3px 1px rgba(0, 0, 0, 0.15);\n",
              "      filter: drop-shadow(0px 1px 2px rgba(0, 0, 0, 0.3));\n",
              "      fill: #FFFFFF;\n",
              "    }\n",
              "  </style>\n",
              "\n",
              "      <script>\n",
              "        const buttonEl =\n",
              "          document.querySelector('#df-1e1f4cfd-75bd-4011-b38b-b30222d17825 button.colab-df-convert');\n",
              "        buttonEl.style.display =\n",
              "          google.colab.kernel.accessAllowed ? 'block' : 'none';\n",
              "\n",
              "        async function convertToInteractive(key) {\n",
              "          const element = document.querySelector('#df-1e1f4cfd-75bd-4011-b38b-b30222d17825');\n",
              "          const dataTable =\n",
              "            await google.colab.kernel.invokeFunction('convertToInteractive',\n",
              "                                                     [key], {});\n",
              "          if (!dataTable) return;\n",
              "\n",
              "          const docLinkHtml = 'Like what you see? Visit the ' +\n",
              "            '<a target=\"_blank\" href=https://colab.research.google.com/notebooks/data_table.ipynb>data table notebook</a>'\n",
              "            + ' to learn more about interactive tables.';\n",
              "          element.innerHTML = '';\n",
              "          dataTable['output_type'] = 'display_data';\n",
              "          await google.colab.output.renderOutput(dataTable, element);\n",
              "          const docLink = document.createElement('div');\n",
              "          docLink.innerHTML = docLinkHtml;\n",
              "          element.appendChild(docLink);\n",
              "        }\n",
              "      </script>\n",
              "    </div>\n",
              "  </div>\n",
              "  "
            ]
          },
          "metadata": {},
          "execution_count": 733
        }
      ]
    },
    {
      "cell_type": "code",
      "source": [
        "# give each observation a value such that they can be summed up with pivot_table \n",
        "AAC_accidents_geo_select['amount'] = '1'"
      ],
      "metadata": {
        "colab": {
          "base_uri": "https://localhost:8080/",
          "height": 0
        },
        "id": "itQOP5WIExDZ",
        "outputId": "02a1f20d-baa3-4c7d-b315-206378ac383d"
      },
      "execution_count": 734,
      "outputs": [
        {
          "output_type": "stream",
          "name": "stderr",
          "text": [
            "/usr/local/lib/python3.7/dist-packages/ipykernel_launcher.py:2: SettingWithCopyWarning:\n",
            "\n",
            "\n",
            "A value is trying to be set on a copy of a slice from a DataFrame.\n",
            "Try using .loc[row_indexer,col_indexer] = value instead\n",
            "\n",
            "See the caveats in the documentation: https://pandas.pydata.org/pandas-docs/stable/user_guide/indexing.html#returning-a-view-versus-a-copy\n",
            "\n"
          ]
        }
      ]
    },
    {
      "cell_type": "code",
      "source": [
        "# use pivot_table to reshape long data into wide data: 1 row per location\n",
        "AAC_accidents_geo_amount = AAC_accidents_geo_select.pivot_table(index=['Location', 'latitude', 'longitude'], \n",
        "                       values='amount', \n",
        "                       aggfunc='count', fill_value=0)"
      ],
      "metadata": {
        "id": "3rDDLeuGBWyK"
      },
      "execution_count": 735,
      "outputs": []
    },
    {
      "cell_type": "code",
      "source": [
        "# remove index from columns such that they can be plotted\n",
        "AAC_accidents_geo = AAC_accidents_geo_amount.rename_axis(['Location', 'latitude', 'longitude']).reset_index()"
      ],
      "metadata": {
        "id": "mb7NONEHBf24"
      },
      "execution_count": 736,
      "outputs": []
    },
    {
      "cell_type": "markdown",
      "source": [
        "## Figure 1"
      ],
      "metadata": {
        "id": "N0VvSodq7JLq"
      }
    },
    {
      "cell_type": "code",
      "source": [
        "fig = go.Figure(data = go.Scattergeo(\n",
        "        #locationmode = 'USA-states',\n",
        "        lon = AAC_accidents_geo['longitude'],\n",
        "        lat = AAC_accidents_geo['latitude'],\n",
        "        text = AAC_accidents_geo[['Location', 'amount']],\n",
        "        marker = dict(\n",
        "            size = AAC_accidents_geo['amount'],\n",
        "            color = AAC_accidents_geo['amount'],\n",
        "                colorscale ='viridis',\n",
        "                showscale = True,\n",
        "            line_color='white',\n",
        "            line_width=0.5,\n",
        "            sizemode = 'area'\n",
        "        )))\n",
        "\n",
        "fig.update_layout(\n",
        "        title_text = 'Number of accidents per location',\n",
        "        showlegend = False,\n",
        "        geo = dict(\n",
        "            scope = 'north america',\n",
        "            landcolor = 'rgb(217, 217, 217)',\n",
        "        )\n",
        "    )\n",
        "\n",
        "fig.show()\n",
        "\n",
        "# save figure as html\n",
        "#fig.write_html(\"/content/drive/MyDrive/My_project/location.html\")"
      ],
      "metadata": {
        "colab": {
          "base_uri": "https://localhost:8080/",
          "height": 542
        },
        "id": "V_Z946inGnWm",
        "outputId": "762ca529-0035-4220-d216-3bcf5cd54f41"
      },
      "execution_count": 737,
      "outputs": [
        {
          "output_type": "display_data",
          "data": {
            "text/html": [
              "<html>\n",
              "<head><meta charset=\"utf-8\" /></head>\n",
              "<body>\n",
              "    <div>            <script src=\"https://cdnjs.cloudflare.com/ajax/libs/mathjax/2.7.5/MathJax.js?config=TeX-AMS-MML_SVG\"></script><script type=\"text/javascript\">if (window.MathJax) {MathJax.Hub.Config({SVG: {font: \"STIX-Web\"}});}</script>                <script type=\"text/javascript\">window.PlotlyConfig = {MathJaxConfig: 'local'};</script>\n",
              "        <script src=\"https://cdn.plot.ly/plotly-2.8.3.min.js\"></script>                <div id=\"ea81ae98-ba3a-4278-a925-075cb03fd01e\" class=\"plotly-graph-div\" style=\"height:525px; width:100%;\"></div>            <script type=\"text/javascript\">                                    window.PLOTLYENV=window.PLOTLYENV || {};                                    if (document.getElementById(\"ea81ae98-ba3a-4278-a925-075cb03fd01e\")) {                    Plotly.newPlot(                        \"ea81ae98-ba3a-4278-a925-075cb03fd01e\",                        [{\"lat\":[32.318231,63.588753,36.8552,34.048928,35.20105,53.726669,38.2969,39.550051,41.603221,38.910832,32.157435,44.068202,40.633125,41.878003,39.011902,37.839333,45.253783,39.045755,42.407211,44.314844,46.729553,37.964253,46.879682,41.492537,38.80261,-66.159668,43.193852,34.97273,43.299428,35.759573,-63.0,70.453262,35.007752,34.0393,43.804133,41.203322,43.969515,35.517491,31.968599,39.32098,44.558803,37.431573,47.751074,43.78444,43.075968,35.5201],\"lon\":[-86.902298,-154.493062,-77.8937,-111.093731,-91.831833,-127.647621,-76.4949,-105.782067,-73.087749,-75.52767,-82.907123,-114.742041,-89.398528,-93.097702,-98.484246,-84.270018,-69.445469,-76.641271,-71.382437,-85.602364,-94.6859,-91.831833,-110.362566,-99.901813,-116.419389,46.49839,-71.572395,-105.032363,-74.217933,-79.0193,45.0,-86.798981,-97.092877,-117.6064,-120.554201,-77.194525,-99.901813,-86.580447,-99.901813,-111.093731,-72.577841,-78.656894,-120.740139,-88.787868,-107.290284,-97.7639],\"marker\":{\"color\":[1,309,311,38,5,113,422,366,7,10,3,38,6,1,1,35,12,2,4,2,5,4,16,1,23,1,105,15,52,78,2,1,1,10,142,6,3,8,5,79,6,48,213,13,155,7],\"colorscale\":[[0.0,\"#440154\"],[0.1111111111111111,\"#482878\"],[0.2222222222222222,\"#3e4989\"],[0.3333333333333333,\"#31688e\"],[0.4444444444444444,\"#26828e\"],[0.5555555555555556,\"#1f9e89\"],[0.6666666666666666,\"#35b779\"],[0.7777777777777778,\"#6ece58\"],[0.8888888888888888,\"#b5de2b\"],[1.0,\"#fde725\"]],\"line\":{\"color\":\"white\",\"width\":0.5},\"showscale\":true,\"size\":[1,309,311,38,5,113,422,366,7,10,3,38,6,1,1,35,12,2,4,2,5,4,16,1,23,1,105,15,52,78,2,1,1,10,142,6,3,8,5,79,6,48,213,13,155,7],\"sizemode\":\"area\"},\"text\":[[\"Alabama\",1],[\"Alaska\",309],[\"Alberta\",311],[\"Arizona\",38],[\"Arkansas\",5],[\"British Columbia\",113],[\"California\",422],[\"Colorado\",366],[\"Connecticut\",7],[\"Delaware\",10],[\"Georgia\",3],[\"Idaho\",38],[\"Illinois\",6],[\"Iowa\",1],[\"Kansas\",1],[\"Kentucky\",35],[\"Maine\",12],[\"Maryland\",2],[\"Massachusetts\",4],[\"Michigan\",2],[\"Minnesota\",5],[\"Missouri\",4],[\"Montana\",16],[\"Nebraska\",1],[\"Nevada\",23],[\"New Brunswick\",1],[\"New Hampshire\",105],[\"New Mexico\",15],[\"New York\",52],[\"North Carolina\",78],[\"Nova Scotia\",2],[\"Nunavut\",1],[\"Oklahoma\",1],[\"Ontario\",10],[\"Oregon\",142],[\"Pennsylvania\",6],[\"South Dakota\",3],[\"Tennessee\",8],[\"Texas\",5],[\"Utah\",79],[\"Vermont\",6],[\"Virginia\",48],[\"Washington\",213],[\"Wisconsin\",13],[\"Wyoming\",155],[\"Yukon\",7]],\"type\":\"scattergeo\"}],                        {\"template\":{\"data\":{\"bar\":[{\"error_x\":{\"color\":\"#2a3f5f\"},\"error_y\":{\"color\":\"#2a3f5f\"},\"marker\":{\"line\":{\"color\":\"#E5ECF6\",\"width\":0.5},\"pattern\":{\"fillmode\":\"overlay\",\"size\":10,\"solidity\":0.2}},\"type\":\"bar\"}],\"barpolar\":[{\"marker\":{\"line\":{\"color\":\"#E5ECF6\",\"width\":0.5},\"pattern\":{\"fillmode\":\"overlay\",\"size\":10,\"solidity\":0.2}},\"type\":\"barpolar\"}],\"carpet\":[{\"aaxis\":{\"endlinecolor\":\"#2a3f5f\",\"gridcolor\":\"white\",\"linecolor\":\"white\",\"minorgridcolor\":\"white\",\"startlinecolor\":\"#2a3f5f\"},\"baxis\":{\"endlinecolor\":\"#2a3f5f\",\"gridcolor\":\"white\",\"linecolor\":\"white\",\"minorgridcolor\":\"white\",\"startlinecolor\":\"#2a3f5f\"},\"type\":\"carpet\"}],\"choropleth\":[{\"colorbar\":{\"outlinewidth\":0,\"ticks\":\"\"},\"type\":\"choropleth\"}],\"contour\":[{\"colorbar\":{\"outlinewidth\":0,\"ticks\":\"\"},\"colorscale\":[[0.0,\"#0d0887\"],[0.1111111111111111,\"#46039f\"],[0.2222222222222222,\"#7201a8\"],[0.3333333333333333,\"#9c179e\"],[0.4444444444444444,\"#bd3786\"],[0.5555555555555556,\"#d8576b\"],[0.6666666666666666,\"#ed7953\"],[0.7777777777777778,\"#fb9f3a\"],[0.8888888888888888,\"#fdca26\"],[1.0,\"#f0f921\"]],\"type\":\"contour\"}],\"contourcarpet\":[{\"colorbar\":{\"outlinewidth\":0,\"ticks\":\"\"},\"type\":\"contourcarpet\"}],\"heatmap\":[{\"colorbar\":{\"outlinewidth\":0,\"ticks\":\"\"},\"colorscale\":[[0.0,\"#0d0887\"],[0.1111111111111111,\"#46039f\"],[0.2222222222222222,\"#7201a8\"],[0.3333333333333333,\"#9c179e\"],[0.4444444444444444,\"#bd3786\"],[0.5555555555555556,\"#d8576b\"],[0.6666666666666666,\"#ed7953\"],[0.7777777777777778,\"#fb9f3a\"],[0.8888888888888888,\"#fdca26\"],[1.0,\"#f0f921\"]],\"type\":\"heatmap\"}],\"heatmapgl\":[{\"colorbar\":{\"outlinewidth\":0,\"ticks\":\"\"},\"colorscale\":[[0.0,\"#0d0887\"],[0.1111111111111111,\"#46039f\"],[0.2222222222222222,\"#7201a8\"],[0.3333333333333333,\"#9c179e\"],[0.4444444444444444,\"#bd3786\"],[0.5555555555555556,\"#d8576b\"],[0.6666666666666666,\"#ed7953\"],[0.7777777777777778,\"#fb9f3a\"],[0.8888888888888888,\"#fdca26\"],[1.0,\"#f0f921\"]],\"type\":\"heatmapgl\"}],\"histogram\":[{\"marker\":{\"pattern\":{\"fillmode\":\"overlay\",\"size\":10,\"solidity\":0.2}},\"type\":\"histogram\"}],\"histogram2d\":[{\"colorbar\":{\"outlinewidth\":0,\"ticks\":\"\"},\"colorscale\":[[0.0,\"#0d0887\"],[0.1111111111111111,\"#46039f\"],[0.2222222222222222,\"#7201a8\"],[0.3333333333333333,\"#9c179e\"],[0.4444444444444444,\"#bd3786\"],[0.5555555555555556,\"#d8576b\"],[0.6666666666666666,\"#ed7953\"],[0.7777777777777778,\"#fb9f3a\"],[0.8888888888888888,\"#fdca26\"],[1.0,\"#f0f921\"]],\"type\":\"histogram2d\"}],\"histogram2dcontour\":[{\"colorbar\":{\"outlinewidth\":0,\"ticks\":\"\"},\"colorscale\":[[0.0,\"#0d0887\"],[0.1111111111111111,\"#46039f\"],[0.2222222222222222,\"#7201a8\"],[0.3333333333333333,\"#9c179e\"],[0.4444444444444444,\"#bd3786\"],[0.5555555555555556,\"#d8576b\"],[0.6666666666666666,\"#ed7953\"],[0.7777777777777778,\"#fb9f3a\"],[0.8888888888888888,\"#fdca26\"],[1.0,\"#f0f921\"]],\"type\":\"histogram2dcontour\"}],\"mesh3d\":[{\"colorbar\":{\"outlinewidth\":0,\"ticks\":\"\"},\"type\":\"mesh3d\"}],\"parcoords\":[{\"line\":{\"colorbar\":{\"outlinewidth\":0,\"ticks\":\"\"}},\"type\":\"parcoords\"}],\"pie\":[{\"automargin\":true,\"type\":\"pie\"}],\"scatter\":[{\"marker\":{\"colorbar\":{\"outlinewidth\":0,\"ticks\":\"\"}},\"type\":\"scatter\"}],\"scatter3d\":[{\"line\":{\"colorbar\":{\"outlinewidth\":0,\"ticks\":\"\"}},\"marker\":{\"colorbar\":{\"outlinewidth\":0,\"ticks\":\"\"}},\"type\":\"scatter3d\"}],\"scattercarpet\":[{\"marker\":{\"colorbar\":{\"outlinewidth\":0,\"ticks\":\"\"}},\"type\":\"scattercarpet\"}],\"scattergeo\":[{\"marker\":{\"colorbar\":{\"outlinewidth\":0,\"ticks\":\"\"}},\"type\":\"scattergeo\"}],\"scattergl\":[{\"marker\":{\"colorbar\":{\"outlinewidth\":0,\"ticks\":\"\"}},\"type\":\"scattergl\"}],\"scattermapbox\":[{\"marker\":{\"colorbar\":{\"outlinewidth\":0,\"ticks\":\"\"}},\"type\":\"scattermapbox\"}],\"scatterpolar\":[{\"marker\":{\"colorbar\":{\"outlinewidth\":0,\"ticks\":\"\"}},\"type\":\"scatterpolar\"}],\"scatterpolargl\":[{\"marker\":{\"colorbar\":{\"outlinewidth\":0,\"ticks\":\"\"}},\"type\":\"scatterpolargl\"}],\"scatterternary\":[{\"marker\":{\"colorbar\":{\"outlinewidth\":0,\"ticks\":\"\"}},\"type\":\"scatterternary\"}],\"surface\":[{\"colorbar\":{\"outlinewidth\":0,\"ticks\":\"\"},\"colorscale\":[[0.0,\"#0d0887\"],[0.1111111111111111,\"#46039f\"],[0.2222222222222222,\"#7201a8\"],[0.3333333333333333,\"#9c179e\"],[0.4444444444444444,\"#bd3786\"],[0.5555555555555556,\"#d8576b\"],[0.6666666666666666,\"#ed7953\"],[0.7777777777777778,\"#fb9f3a\"],[0.8888888888888888,\"#fdca26\"],[1.0,\"#f0f921\"]],\"type\":\"surface\"}],\"table\":[{\"cells\":{\"fill\":{\"color\":\"#EBF0F8\"},\"line\":{\"color\":\"white\"}},\"header\":{\"fill\":{\"color\":\"#C8D4E3\"},\"line\":{\"color\":\"white\"}},\"type\":\"table\"}]},\"layout\":{\"annotationdefaults\":{\"arrowcolor\":\"#2a3f5f\",\"arrowhead\":0,\"arrowwidth\":1},\"autotypenumbers\":\"strict\",\"coloraxis\":{\"colorbar\":{\"outlinewidth\":0,\"ticks\":\"\"}},\"colorscale\":{\"diverging\":[[0,\"#8e0152\"],[0.1,\"#c51b7d\"],[0.2,\"#de77ae\"],[0.3,\"#f1b6da\"],[0.4,\"#fde0ef\"],[0.5,\"#f7f7f7\"],[0.6,\"#e6f5d0\"],[0.7,\"#b8e186\"],[0.8,\"#7fbc41\"],[0.9,\"#4d9221\"],[1,\"#276419\"]],\"sequential\":[[0.0,\"#0d0887\"],[0.1111111111111111,\"#46039f\"],[0.2222222222222222,\"#7201a8\"],[0.3333333333333333,\"#9c179e\"],[0.4444444444444444,\"#bd3786\"],[0.5555555555555556,\"#d8576b\"],[0.6666666666666666,\"#ed7953\"],[0.7777777777777778,\"#fb9f3a\"],[0.8888888888888888,\"#fdca26\"],[1.0,\"#f0f921\"]],\"sequentialminus\":[[0.0,\"#0d0887\"],[0.1111111111111111,\"#46039f\"],[0.2222222222222222,\"#7201a8\"],[0.3333333333333333,\"#9c179e\"],[0.4444444444444444,\"#bd3786\"],[0.5555555555555556,\"#d8576b\"],[0.6666666666666666,\"#ed7953\"],[0.7777777777777778,\"#fb9f3a\"],[0.8888888888888888,\"#fdca26\"],[1.0,\"#f0f921\"]]},\"colorway\":[\"#636efa\",\"#EF553B\",\"#00cc96\",\"#ab63fa\",\"#FFA15A\",\"#19d3f3\",\"#FF6692\",\"#B6E880\",\"#FF97FF\",\"#FECB52\"],\"font\":{\"color\":\"#2a3f5f\"},\"geo\":{\"bgcolor\":\"white\",\"lakecolor\":\"white\",\"landcolor\":\"#E5ECF6\",\"showlakes\":true,\"showland\":true,\"subunitcolor\":\"white\"},\"hoverlabel\":{\"align\":\"left\"},\"hovermode\":\"closest\",\"mapbox\":{\"style\":\"light\"},\"paper_bgcolor\":\"white\",\"plot_bgcolor\":\"#E5ECF6\",\"polar\":{\"angularaxis\":{\"gridcolor\":\"white\",\"linecolor\":\"white\",\"ticks\":\"\"},\"bgcolor\":\"#E5ECF6\",\"radialaxis\":{\"gridcolor\":\"white\",\"linecolor\":\"white\",\"ticks\":\"\"}},\"scene\":{\"xaxis\":{\"backgroundcolor\":\"#E5ECF6\",\"gridcolor\":\"white\",\"gridwidth\":2,\"linecolor\":\"white\",\"showbackground\":true,\"ticks\":\"\",\"zerolinecolor\":\"white\"},\"yaxis\":{\"backgroundcolor\":\"#E5ECF6\",\"gridcolor\":\"white\",\"gridwidth\":2,\"linecolor\":\"white\",\"showbackground\":true,\"ticks\":\"\",\"zerolinecolor\":\"white\"},\"zaxis\":{\"backgroundcolor\":\"#E5ECF6\",\"gridcolor\":\"white\",\"gridwidth\":2,\"linecolor\":\"white\",\"showbackground\":true,\"ticks\":\"\",\"zerolinecolor\":\"white\"}},\"shapedefaults\":{\"line\":{\"color\":\"#2a3f5f\"}},\"ternary\":{\"aaxis\":{\"gridcolor\":\"white\",\"linecolor\":\"white\",\"ticks\":\"\"},\"baxis\":{\"gridcolor\":\"white\",\"linecolor\":\"white\",\"ticks\":\"\"},\"bgcolor\":\"#E5ECF6\",\"caxis\":{\"gridcolor\":\"white\",\"linecolor\":\"white\",\"ticks\":\"\"}},\"title\":{\"x\":0.05},\"xaxis\":{\"automargin\":true,\"gridcolor\":\"white\",\"linecolor\":\"white\",\"ticks\":\"\",\"title\":{\"standoff\":15},\"zerolinecolor\":\"white\",\"zerolinewidth\":2},\"yaxis\":{\"automargin\":true,\"gridcolor\":\"white\",\"linecolor\":\"white\",\"ticks\":\"\",\"title\":{\"standoff\":15},\"zerolinecolor\":\"white\",\"zerolinewidth\":2}}},\"title\":{\"text\":\"Number of accidents per location\"},\"geo\":{\"scope\":\"north america\",\"landcolor\":\"rgb(217, 217, 217)\"},\"showlegend\":false},                        {\"responsive\": true}                    ).then(function(){\n",
              "                            \n",
              "var gd = document.getElementById('ea81ae98-ba3a-4278-a925-075cb03fd01e');\n",
              "var x = new MutationObserver(function (mutations, observer) {{\n",
              "        var display = window.getComputedStyle(gd).display;\n",
              "        if (!display || display === 'none') {{\n",
              "            console.log([gd, 'removed!']);\n",
              "            Plotly.purge(gd);\n",
              "            observer.disconnect();\n",
              "        }}\n",
              "}});\n",
              "\n",
              "// Listen for the removal of the full notebook cells\n",
              "var notebookContainer = gd.closest('#notebook-container');\n",
              "if (notebookContainer) {{\n",
              "    x.observe(notebookContainer, {childList: true});\n",
              "}}\n",
              "\n",
              "// Listen for the clearing of the current output cell\n",
              "var outputEl = gd.closest('.output');\n",
              "if (outputEl) {{\n",
              "    x.observe(outputEl, {childList: true});\n",
              "}}\n",
              "\n",
              "                        })                };                            </script>        </div>\n",
              "</body>\n",
              "</html>"
            ]
          },
          "metadata": {}
        }
      ]
    },
    {
      "cell_type": "markdown",
      "metadata": {
        "id": "lBGJ3u_Z1KSt"
      },
      "source": [
        "# Recode categorical variables\n",
        "\n",
        "In this section I am recoding the variables in the dataframe using the 'melt' function. This turns a wide dataframe into a long dataframe. More concretely, I am creating factor variables with different levels from a set of columns in the dataframe that each represent 1 particular level of the category. "
      ]
    },
    {
      "cell_type": "markdown",
      "source": [
        "## Seriousness of accident\n",
        "\n",
        "I am only selecting accidents tagged as deadly, serious, and minor. The tag 'Head/Brain injury' overlaps with, for instance, the tag 'serious\". "
      ],
      "metadata": {
        "id": "VLT4h_wAzv2N"
      }
    },
    {
      "cell_type": "code",
      "source": [
        "# seriousness of accident\n",
        "melt_serious = AAC_accidents.melt(id_vars=['ID', 'Accident Title'],\n",
        "                              value_vars=['Deadly', 'Serious', 'Minor'],\n",
        "       var_name = 'Seriousness')\n",
        "\n",
        "melt_serious = melt_serious.loc[(melt_serious['value'] != 0)] #remove rows with no observations\n",
        "\n",
        "melt_serious = melt_serious.drop('value', 1) #drop the value column\n",
        "\n",
        "melt_serious #view df"
      ],
      "metadata": {
        "id": "43cUo5I4yHud",
        "colab": {
          "base_uri": "https://localhost:8080/",
          "height": 493
        },
        "outputId": "71b1e3a1-733d-466b-cbee-360886c7db92"
      },
      "execution_count": 738,
      "outputs": [
        {
          "output_type": "stream",
          "name": "stderr",
          "text": [
            "/usr/local/lib/python3.7/dist-packages/ipykernel_launcher.py:8: FutureWarning:\n",
            "\n",
            "In a future version of pandas all arguments of DataFrame.drop except for the argument 'labels' will be keyword-only\n",
            "\n"
          ]
        },
        {
          "output_type": "execute_result",
          "data": {
            "text/plain": [
              "         ID                                     Accident Title Seriousness\n",
              "4         5  Fall Into Crevasse, Unroped, Inadequate Equipm...      Deadly\n",
              "5         6  Fall into Moat, Descending Unroped, Poor Posit...      Deadly\n",
              "11       12  Fall on Rock, Climbing Solo, No Hard Hat, Inex...      Deadly\n",
              "12       13  Fall on Rock, Climbing Solo, No Hard Hat, Queb...      Deadly\n",
              "19       20  Fall on Snow, Inadequate Equipment, California...      Deadly\n",
              "...     ...                                                ...         ...\n",
              "8275   619t  Fall on Ice, Inadequate Protection, Montana, H...       Minor\n",
              "8277   660a  Stranded, Inexperience, Inadequate Equipment, ...       Minor\n",
              "8288   744a  Faulty Use of Crampons—Glissading, New Hampshi...       Minor\n",
              "8290   750t  Stranded, Failure to Follow Route, Climbing Al...       Minor\n",
              "8309  997tt  Stranded — Did Not Check Fixed Ropes, Dehydrat...       Minor\n",
              "\n",
              "[2704 rows x 3 columns]"
            ],
            "text/html": [
              "\n",
              "  <div id=\"df-a3e8c682-0aed-46c6-a1b6-1db36bdbdee1\">\n",
              "    <div class=\"colab-df-container\">\n",
              "      <div>\n",
              "<style scoped>\n",
              "    .dataframe tbody tr th:only-of-type {\n",
              "        vertical-align: middle;\n",
              "    }\n",
              "\n",
              "    .dataframe tbody tr th {\n",
              "        vertical-align: top;\n",
              "    }\n",
              "\n",
              "    .dataframe thead th {\n",
              "        text-align: right;\n",
              "    }\n",
              "</style>\n",
              "<table border=\"1\" class=\"dataframe\">\n",
              "  <thead>\n",
              "    <tr style=\"text-align: right;\">\n",
              "      <th></th>\n",
              "      <th>ID</th>\n",
              "      <th>Accident Title</th>\n",
              "      <th>Seriousness</th>\n",
              "    </tr>\n",
              "  </thead>\n",
              "  <tbody>\n",
              "    <tr>\n",
              "      <th>4</th>\n",
              "      <td>5</td>\n",
              "      <td>Fall Into Crevasse, Unroped, Inadequate Equipm...</td>\n",
              "      <td>Deadly</td>\n",
              "    </tr>\n",
              "    <tr>\n",
              "      <th>5</th>\n",
              "      <td>6</td>\n",
              "      <td>Fall into Moat, Descending Unroped, Poor Posit...</td>\n",
              "      <td>Deadly</td>\n",
              "    </tr>\n",
              "    <tr>\n",
              "      <th>11</th>\n",
              "      <td>12</td>\n",
              "      <td>Fall on Rock, Climbing Solo, No Hard Hat, Inex...</td>\n",
              "      <td>Deadly</td>\n",
              "    </tr>\n",
              "    <tr>\n",
              "      <th>12</th>\n",
              "      <td>13</td>\n",
              "      <td>Fall on Rock, Climbing Solo, No Hard Hat, Queb...</td>\n",
              "      <td>Deadly</td>\n",
              "    </tr>\n",
              "    <tr>\n",
              "      <th>19</th>\n",
              "      <td>20</td>\n",
              "      <td>Fall on Snow, Inadequate Equipment, California...</td>\n",
              "      <td>Deadly</td>\n",
              "    </tr>\n",
              "    <tr>\n",
              "      <th>...</th>\n",
              "      <td>...</td>\n",
              "      <td>...</td>\n",
              "      <td>...</td>\n",
              "    </tr>\n",
              "    <tr>\n",
              "      <th>8275</th>\n",
              "      <td>619t</td>\n",
              "      <td>Fall on Ice, Inadequate Protection, Montana, H...</td>\n",
              "      <td>Minor</td>\n",
              "    </tr>\n",
              "    <tr>\n",
              "      <th>8277</th>\n",
              "      <td>660a</td>\n",
              "      <td>Stranded, Inexperience, Inadequate Equipment, ...</td>\n",
              "      <td>Minor</td>\n",
              "    </tr>\n",
              "    <tr>\n",
              "      <th>8288</th>\n",
              "      <td>744a</td>\n",
              "      <td>Faulty Use of Crampons—Glissading, New Hampshi...</td>\n",
              "      <td>Minor</td>\n",
              "    </tr>\n",
              "    <tr>\n",
              "      <th>8290</th>\n",
              "      <td>750t</td>\n",
              "      <td>Stranded, Failure to Follow Route, Climbing Al...</td>\n",
              "      <td>Minor</td>\n",
              "    </tr>\n",
              "    <tr>\n",
              "      <th>8309</th>\n",
              "      <td>997tt</td>\n",
              "      <td>Stranded — Did Not Check Fixed Ropes, Dehydrat...</td>\n",
              "      <td>Minor</td>\n",
              "    </tr>\n",
              "  </tbody>\n",
              "</table>\n",
              "<p>2704 rows × 3 columns</p>\n",
              "</div>\n",
              "      <button class=\"colab-df-convert\" onclick=\"convertToInteractive('df-a3e8c682-0aed-46c6-a1b6-1db36bdbdee1')\"\n",
              "              title=\"Convert this dataframe to an interactive table.\"\n",
              "              style=\"display:none;\">\n",
              "        \n",
              "  <svg xmlns=\"http://www.w3.org/2000/svg\" height=\"24px\"viewBox=\"0 0 24 24\"\n",
              "       width=\"24px\">\n",
              "    <path d=\"M0 0h24v24H0V0z\" fill=\"none\"/>\n",
              "    <path d=\"M18.56 5.44l.94 2.06.94-2.06 2.06-.94-2.06-.94-.94-2.06-.94 2.06-2.06.94zm-11 1L8.5 8.5l.94-2.06 2.06-.94-2.06-.94L8.5 2.5l-.94 2.06-2.06.94zm10 10l.94 2.06.94-2.06 2.06-.94-2.06-.94-.94-2.06-.94 2.06-2.06.94z\"/><path d=\"M17.41 7.96l-1.37-1.37c-.4-.4-.92-.59-1.43-.59-.52 0-1.04.2-1.43.59L10.3 9.45l-7.72 7.72c-.78.78-.78 2.05 0 2.83L4 21.41c.39.39.9.59 1.41.59.51 0 1.02-.2 1.41-.59l7.78-7.78 2.81-2.81c.8-.78.8-2.07 0-2.86zM5.41 20L4 18.59l7.72-7.72 1.47 1.35L5.41 20z\"/>\n",
              "  </svg>\n",
              "      </button>\n",
              "      \n",
              "  <style>\n",
              "    .colab-df-container {\n",
              "      display:flex;\n",
              "      flex-wrap:wrap;\n",
              "      gap: 12px;\n",
              "    }\n",
              "\n",
              "    .colab-df-convert {\n",
              "      background-color: #E8F0FE;\n",
              "      border: none;\n",
              "      border-radius: 50%;\n",
              "      cursor: pointer;\n",
              "      display: none;\n",
              "      fill: #1967D2;\n",
              "      height: 32px;\n",
              "      padding: 0 0 0 0;\n",
              "      width: 32px;\n",
              "    }\n",
              "\n",
              "    .colab-df-convert:hover {\n",
              "      background-color: #E2EBFA;\n",
              "      box-shadow: 0px 1px 2px rgba(60, 64, 67, 0.3), 0px 1px 3px 1px rgba(60, 64, 67, 0.15);\n",
              "      fill: #174EA6;\n",
              "    }\n",
              "\n",
              "    [theme=dark] .colab-df-convert {\n",
              "      background-color: #3B4455;\n",
              "      fill: #D2E3FC;\n",
              "    }\n",
              "\n",
              "    [theme=dark] .colab-df-convert:hover {\n",
              "      background-color: #434B5C;\n",
              "      box-shadow: 0px 1px 3px 1px rgba(0, 0, 0, 0.15);\n",
              "      filter: drop-shadow(0px 1px 2px rgba(0, 0, 0, 0.3));\n",
              "      fill: #FFFFFF;\n",
              "    }\n",
              "  </style>\n",
              "\n",
              "      <script>\n",
              "        const buttonEl =\n",
              "          document.querySelector('#df-a3e8c682-0aed-46c6-a1b6-1db36bdbdee1 button.colab-df-convert');\n",
              "        buttonEl.style.display =\n",
              "          google.colab.kernel.accessAllowed ? 'block' : 'none';\n",
              "\n",
              "        async function convertToInteractive(key) {\n",
              "          const element = document.querySelector('#df-a3e8c682-0aed-46c6-a1b6-1db36bdbdee1');\n",
              "          const dataTable =\n",
              "            await google.colab.kernel.invokeFunction('convertToInteractive',\n",
              "                                                     [key], {});\n",
              "          if (!dataTable) return;\n",
              "\n",
              "          const docLinkHtml = 'Like what you see? Visit the ' +\n",
              "            '<a target=\"_blank\" href=https://colab.research.google.com/notebooks/data_table.ipynb>data table notebook</a>'\n",
              "            + ' to learn more about interactive tables.';\n",
              "          element.innerHTML = '';\n",
              "          dataTable['output_type'] = 'display_data';\n",
              "          await google.colab.output.renderOutput(dataTable, element);\n",
              "          const docLink = document.createElement('div');\n",
              "          docLink.innerHTML = docLinkHtml;\n",
              "          element.appendChild(docLink);\n",
              "        }\n",
              "      </script>\n",
              "    </div>\n",
              "  </div>\n",
              "  "
            ]
          },
          "metadata": {},
          "execution_count": 738
        }
      ]
    },
    {
      "cell_type": "code",
      "source": [
        "# reorder factor levels of variable such that there is a logical order of the seriousness of the accidents\n",
        "melt_serious['Seriousness'] = melt_serious['Seriousness'].astype('category')\n",
        "melt_serious['Seriousness'] = melt_serious['Seriousness'].cat.reorder_categories(['Minor', 'Serious', 'Deadly'])"
      ],
      "metadata": {
        "id": "zSEvlwXmwh3A"
      },
      "execution_count": 739,
      "outputs": []
    },
    {
      "cell_type": "markdown",
      "source": [
        "### Figure 2a - Seriousness of accident"
      ],
      "metadata": {
        "id": "SP4RkeSs9ok6"
      }
    },
    {
      "cell_type": "code",
      "source": [
        "# set some colors\n",
        "import plotly.express as px\n",
        "print(px.colors.qualitative.Plotly)"
      ],
      "metadata": {
        "colab": {
          "base_uri": "https://localhost:8080/",
          "height": 0
        },
        "id": "4r78dWBB198X",
        "outputId": "3dee0b41-35c2-40c1-a288-736015e94434"
      },
      "execution_count": 740,
      "outputs": [
        {
          "output_type": "stream",
          "name": "stdout",
          "text": [
            "['#636EFA', '#EF553B', '#00CC96', '#AB63FA', '#FFA15A', '#19D3F3', '#FF6692', '#B6E880', '#FF97FF', '#FECB52']\n"
          ]
        }
      ]
    },
    {
      "cell_type": "code",
      "source": [
        "fig, axs = plt.subplots(1,2,figsize=(10, 5)) # define subplots rows, columns, and size\n",
        "\n",
        "seriousness_count = melt_serious['Seriousness'].value_counts().sort_index() #sort_index() to get the right order set for this category\n",
        "colours = ['#636EFA', '#EF553B', '#00CC96'] \n",
        "labels = melt_serious['Seriousness'].cat.categories.tolist()\n",
        "\n",
        "axs[0].bar(labels, seriousness_count, color = colours) # makebar plot\n",
        "\n",
        "sizes = seriousness_count\n",
        "axs[1].pie(sizes, labels = labels, colors = colours, autopct='%1.1f%%') #make pie plot\n",
        "plt.axis('equal')\n",
        "plt.xlabel('% of accidents', fontsize=12)\n",
        "\n",
        "fig.suptitle(\"Seriousness of Accidents\") #common title\n",
        "fig.text(0.04, 0.5, 'Number of Accidents', va='center', rotation='vertical') #common y-axis\n",
        "\n",
        "# rotate axes \n",
        "for ax in fig.axes:\n",
        "    matplotlib.pyplot.sca(ax)\n",
        "    plt.xticks(rotation=45)\n",
        "\n",
        "fig.savefig(data_path +'seriousness.jpg', bbox_inches='tight', dpi = 600)"
      ],
      "metadata": {
        "colab": {
          "base_uri": "https://localhost:8080/",
          "height": 379
        },
        "id": "4vCU_RbFpU59",
        "outputId": "934d3b6c-6102-4dd2-e871-bb52bad4a0ba"
      },
      "execution_count": 741,
      "outputs": [
        {
          "output_type": "display_data",
          "data": {
            "text/plain": [
              "<Figure size 720x360 with 2 Axes>"
            ],
            "image/png": "[encoded data removed]"
          },
          "metadata": {
            "needs_background": "light"
          }
        }
      ]
    },
    {
      "cell_type": "code",
      "source": [
        "# attach new variable to main dataframe\n",
        "AAC_serious = melt_serious.merge(AAC_accidents, how = 'right', on = ['ID', 'Accident Title'])"
      ],
      "metadata": {
        "id": "qYOBz5bZBVc-"
      },
      "execution_count": 742,
      "outputs": []
    },
    {
      "cell_type": "markdown",
      "source": [
        "## Type of climbing\n",
        "\n",
        "As a first analysis of this dataset, I will focus on the climbing categories trad climbing, sport, bouldering and solo (roped; unroped refers mostly to hikes). It is outside the scope of this analysis to include aid & big wall climbing, ice climbing, alpine-mountaineering, given that they are non-exlusive (e.g., big wall climbing may involve trad or sport climbing). "
      ],
      "metadata": {
        "id": "gFurpSZay76Q"
      }
    },
    {
      "cell_type": "code",
      "execution_count": 743,
      "metadata": {
        "id": "D4dZ9-tTCvC0",
        "colab": {
          "base_uri": "https://localhost:8080/",
          "height": 493
        },
        "outputId": "dc73cf2b-8f6f-48f7-b92b-f447168e22bf"
      },
      "outputs": [
        {
          "output_type": "stream",
          "name": "stderr",
          "text": [
            "/usr/local/lib/python3.7/dist-packages/ipykernel_launcher.py:8: FutureWarning:\n",
            "\n",
            "In a future version of pandas all arguments of DataFrame.drop except for the argument 'labels' will be keyword-only\n",
            "\n"
          ]
        },
        {
          "output_type": "execute_result",
          "data": {
            "text/plain": [
              "         ID                                     Accident Title  Type_climbing\n",
              "0         1  Failure of Rappel Setup (Protection Pulled Out...  Trad Climbing\n",
              "9        10  Fall on Rock, Chocks Pulled Out, Quebec, Gatin...  Trad Climbing\n",
              "14       15  Fall on Rock, Inadequate Protection, Alberta, ...  Trad Climbing\n",
              "15       16  Fall on Rock, Inadequate Protection, Ontario, ...  Trad Climbing\n",
              "16       17  Fall on Rock, No Helmet, Quebec, Gatineau Park...  Trad Climbing\n",
              "...     ...                                                ...            ...\n",
              "11065  835t  Fall on Snow, Failure to Follow Route, Inadequ...           Solo\n",
              "11068  853t  Fall on Rock, Climbing Alone, Inadequate Cloth...           Solo\n",
              "11070  885t  Fall on Snow, Unable to Self-Arrest, Fall into...           Solo\n",
              "11072   93t  Fall on Ice, Climbing Unroped, Party Separated...           Solo\n",
              "11075  958a  Fall on Ice, Inadequate Protection, Poor Posit...           Solo\n",
              "\n",
              "[1626 rows x 3 columns]"
            ],
            "text/html": [
              "\n",
              "  <div id=\"df-76fec427-0619-438a-8054-ebbe025b7461\">\n",
              "    <div class=\"colab-df-container\">\n",
              "      <div>\n",
              "<style scoped>\n",
              "    .dataframe tbody tr th:only-of-type {\n",
              "        vertical-align: middle;\n",
              "    }\n",
              "\n",
              "    .dataframe tbody tr th {\n",
              "        vertical-align: top;\n",
              "    }\n",
              "\n",
              "    .dataframe thead th {\n",
              "        text-align: right;\n",
              "    }\n",
              "</style>\n",
              "<table border=\"1\" class=\"dataframe\">\n",
              "  <thead>\n",
              "    <tr style=\"text-align: right;\">\n",
              "      <th></th>\n",
              "      <th>ID</th>\n",
              "      <th>Accident Title</th>\n",
              "      <th>Type_climbing</th>\n",
              "    </tr>\n",
              "  </thead>\n",
              "  <tbody>\n",
              "    <tr>\n",
              "      <th>0</th>\n",
              "      <td>1</td>\n",
              "      <td>Failure of Rappel Setup (Protection Pulled Out...</td>\n",
              "      <td>Trad Climbing</td>\n",
              "    </tr>\n",
              "    <tr>\n",
              "      <th>9</th>\n",
              "      <td>10</td>\n",
              "      <td>Fall on Rock, Chocks Pulled Out, Quebec, Gatin...</td>\n",
              "      <td>Trad Climbing</td>\n",
              "    </tr>\n",
              "    <tr>\n",
              "      <th>14</th>\n",
              "      <td>15</td>\n",
              "      <td>Fall on Rock, Inadequate Protection, Alberta, ...</td>\n",
              "      <td>Trad Climbing</td>\n",
              "    </tr>\n",
              "    <tr>\n",
              "      <th>15</th>\n",
              "      <td>16</td>\n",
              "      <td>Fall on Rock, Inadequate Protection, Ontario, ...</td>\n",
              "      <td>Trad Climbing</td>\n",
              "    </tr>\n",
              "    <tr>\n",
              "      <th>16</th>\n",
              "      <td>17</td>\n",
              "      <td>Fall on Rock, No Helmet, Quebec, Gatineau Park...</td>\n",
              "      <td>Trad Climbing</td>\n",
              "    </tr>\n",
              "    <tr>\n",
              "      <th>...</th>\n",
              "      <td>...</td>\n",
              "      <td>...</td>\n",
              "      <td>...</td>\n",
              "    </tr>\n",
              "    <tr>\n",
              "      <th>11065</th>\n",
              "      <td>835t</td>\n",
              "      <td>Fall on Snow, Failure to Follow Route, Inadequ...</td>\n",
              "      <td>Solo</td>\n",
              "    </tr>\n",
              "    <tr>\n",
              "      <th>11068</th>\n",
              "      <td>853t</td>\n",
              "      <td>Fall on Rock, Climbing Alone, Inadequate Cloth...</td>\n",
              "      <td>Solo</td>\n",
              "    </tr>\n",
              "    <tr>\n",
              "      <th>11070</th>\n",
              "      <td>885t</td>\n",
              "      <td>Fall on Snow, Unable to Self-Arrest, Fall into...</td>\n",
              "      <td>Solo</td>\n",
              "    </tr>\n",
              "    <tr>\n",
              "      <th>11072</th>\n",
              "      <td>93t</td>\n",
              "      <td>Fall on Ice, Climbing Unroped, Party Separated...</td>\n",
              "      <td>Solo</td>\n",
              "    </tr>\n",
              "    <tr>\n",
              "      <th>11075</th>\n",
              "      <td>958a</td>\n",
              "      <td>Fall on Ice, Inadequate Protection, Poor Posit...</td>\n",
              "      <td>Solo</td>\n",
              "    </tr>\n",
              "  </tbody>\n",
              "</table>\n",
              "<p>1626 rows × 3 columns</p>\n",
              "</div>\n",
              "      <button class=\"colab-df-convert\" onclick=\"convertToInteractive('df-76fec427-0619-438a-8054-ebbe025b7461')\"\n",
              "              title=\"Convert this dataframe to an interactive table.\"\n",
              "              style=\"display:none;\">\n",
              "        \n",
              "  <svg xmlns=\"http://www.w3.org/2000/svg\" height=\"24px\"viewBox=\"0 0 24 24\"\n",
              "       width=\"24px\">\n",
              "    <path d=\"M0 0h24v24H0V0z\" fill=\"none\"/>\n",
              "    <path d=\"M18.56 5.44l.94 2.06.94-2.06 2.06-.94-2.06-.94-.94-2.06-.94 2.06-2.06.94zm-11 1L8.5 8.5l.94-2.06 2.06-.94-2.06-.94L8.5 2.5l-.94 2.06-2.06.94zm10 10l.94 2.06.94-2.06 2.06-.94-2.06-.94-.94-2.06-.94 2.06-2.06.94z\"/><path d=\"M17.41 7.96l-1.37-1.37c-.4-.4-.92-.59-1.43-.59-.52 0-1.04.2-1.43.59L10.3 9.45l-7.72 7.72c-.78.78-.78 2.05 0 2.83L4 21.41c.39.39.9.59 1.41.59.51 0 1.02-.2 1.41-.59l7.78-7.78 2.81-2.81c.8-.78.8-2.07 0-2.86zM5.41 20L4 18.59l7.72-7.72 1.47 1.35L5.41 20z\"/>\n",
              "  </svg>\n",
              "      </button>\n",
              "      \n",
              "  <style>\n",
              "    .colab-df-container {\n",
              "      display:flex;\n",
              "      flex-wrap:wrap;\n",
              "      gap: 12px;\n",
              "    }\n",
              "\n",
              "    .colab-df-convert {\n",
              "      background-color: #E8F0FE;\n",
              "      border: none;\n",
              "      border-radius: 50%;\n",
              "      cursor: pointer;\n",
              "      display: none;\n",
              "      fill: #1967D2;\n",
              "      height: 32px;\n",
              "      padding: 0 0 0 0;\n",
              "      width: 32px;\n",
              "    }\n",
              "\n",
              "    .colab-df-convert:hover {\n",
              "      background-color: #E2EBFA;\n",
              "      box-shadow: 0px 1px 2px rgba(60, 64, 67, 0.3), 0px 1px 3px 1px rgba(60, 64, 67, 0.15);\n",
              "      fill: #174EA6;\n",
              "    }\n",
              "\n",
              "    [theme=dark] .colab-df-convert {\n",
              "      background-color: #3B4455;\n",
              "      fill: #D2E3FC;\n",
              "    }\n",
              "\n",
              "    [theme=dark] .colab-df-convert:hover {\n",
              "      background-color: #434B5C;\n",
              "      box-shadow: 0px 1px 3px 1px rgba(0, 0, 0, 0.15);\n",
              "      filter: drop-shadow(0px 1px 2px rgba(0, 0, 0, 0.3));\n",
              "      fill: #FFFFFF;\n",
              "    }\n",
              "  </style>\n",
              "\n",
              "      <script>\n",
              "        const buttonEl =\n",
              "          document.querySelector('#df-76fec427-0619-438a-8054-ebbe025b7461 button.colab-df-convert');\n",
              "        buttonEl.style.display =\n",
              "          google.colab.kernel.accessAllowed ? 'block' : 'none';\n",
              "\n",
              "        async function convertToInteractive(key) {\n",
              "          const element = document.querySelector('#df-76fec427-0619-438a-8054-ebbe025b7461');\n",
              "          const dataTable =\n",
              "            await google.colab.kernel.invokeFunction('convertToInteractive',\n",
              "                                                     [key], {});\n",
              "          if (!dataTable) return;\n",
              "\n",
              "          const docLinkHtml = 'Like what you see? Visit the ' +\n",
              "            '<a target=\"_blank\" href=https://colab.research.google.com/notebooks/data_table.ipynb>data table notebook</a>'\n",
              "            + ' to learn more about interactive tables.';\n",
              "          element.innerHTML = '';\n",
              "          dataTable['output_type'] = 'display_data';\n",
              "          await google.colab.output.renderOutput(dataTable, element);\n",
              "          const docLink = document.createElement('div');\n",
              "          docLink.innerHTML = docLinkHtml;\n",
              "          element.appendChild(docLink);\n",
              "        }\n",
              "      </script>\n",
              "    </div>\n",
              "  </div>\n",
              "  "
            ]
          },
          "metadata": {},
          "execution_count": 743
        }
      ],
      "source": [
        "# type of climb\n",
        "melt_type = AAC_accidents.melt(id_vars=['ID', 'Accident Title'],\n",
        "                              value_vars=['Trad Climbing', 'Sport', 'Bouldering', 'Solo'],\n",
        "       var_name = 'Type_climbing')\n",
        "\n",
        "melt_type = melt_type.loc[(melt_type['value'] != 0)]\n",
        "\n",
        "melt_type = melt_type.drop('value', 1)\n",
        "\n",
        "melt_type"
      ]
    },
    {
      "cell_type": "code",
      "source": [
        "# percentage of accidents involving these three types of climbing\n",
        "len(melt_type)/len(AAC_accidents)*100"
      ],
      "metadata": {
        "colab": {
          "base_uri": "https://localhost:8080/",
          "height": 0
        },
        "id": "rMN3kZWFpX12",
        "outputId": "9da4d9c4-ab7e-4de0-abce-1dd2df645190"
      },
      "execution_count": 744,
      "outputs": [
        {
          "output_type": "execute_result",
          "data": {
            "text/plain": [
              "58.70036101083033"
            ]
          },
          "metadata": {},
          "execution_count": 744
        }
      ]
    },
    {
      "cell_type": "markdown",
      "source": [
        "### Figure 2b - Type of climbing"
      ],
      "metadata": {
        "id": "I9SodmhRGxIi"
      }
    },
    {
      "cell_type": "code",
      "source": [
        "fig, axs = plt.subplots(1,2,figsize=(10, 5)) # define subplots rows, columns, and size\n",
        "\n",
        "type_count = melt_type['Type_climbing'].value_counts()\n",
        "colours = ['#636EFA', '#EF553B', '#00CC96', '#AB63FA'] \n",
        "melt_type['Type_climbing'] = melt_type['Type_climbing'].astype('category')\n",
        "labels = melt_type['Type_climbing'].cat.categories.tolist()\n",
        "\n",
        "axs[0].bar(labels, type_count, color = colours) # makebar plot\n",
        "\n",
        "sizes = type_count\n",
        "axs[1].pie(sizes, labels = labels, colors = colours, autopct='%1.1f%%') #make pie plot\n",
        "plt.axis('equal')\n",
        "plt.xlabel('% of accidents', fontsize=12)\n",
        "\n",
        "fig.suptitle(\"Type of Climbing\") #common title\n",
        "fig.text(0.04, 0.5, 'Number of Accidents', va='center', rotation='vertical') #common y-axis\n",
        "\n",
        "# rotate axes \n",
        "for ax in fig.axes:\n",
        "    matplotlib.pyplot.sca(ax)\n",
        "    plt.xticks(rotation=45)\n",
        "\n",
        "fig.savefig(data_path +'type.jpg', bbox_inches='tight', dpi = 600)"
      ],
      "metadata": {
        "colab": {
          "base_uri": "https://localhost:8080/",
          "height": 401
        },
        "id": "xpsnWwAJpAPl",
        "outputId": "e2cb6f2a-da6e-4a1d-bbb8-38db1d0674df"
      },
      "execution_count": 745,
      "outputs": [
        {
          "output_type": "display_data",
          "data": {
            "text/plain": [
              "<Figure size 720x360 with 2 Axes>"
            ],
            "image/png": "[encoded data removed]"
          },
          "metadata": {
            "needs_background": "light"
          }
        }
      ]
    },
    {
      "cell_type": "code",
      "source": [
        "# attach new variable to main dataframe\n",
        "AAC_serious_type = melt_type.merge(AAC_serious, how = 'right', on = ['ID', 'Accident Title'])"
      ],
      "metadata": {
        "id": "DjCSx5yV-oI0"
      },
      "execution_count": 746,
      "outputs": []
    },
    {
      "cell_type": "markdown",
      "source": [
        "## Experience\n",
        "\n",
        "This category deals with how experienced the person involved in the accident is. "
      ],
      "metadata": {
        "id": "o4rKUTTy0WfK"
      }
    },
    {
      "cell_type": "code",
      "source": [
        "# melt experience\n",
        "melt_experience = AAC_accidents.melt(id_vars=['ID', 'Accident Title'],\n",
        "                                     value_vars =   ['No/Little', 'Moderate',\n",
        "       'Experienced', 'Unknown'],\n",
        "       var_name = 'Experience')\n",
        "\n",
        "melt_experience = melt_experience.loc[(melt_experience['value'] != 0)]\n",
        "melt_experience = melt_experience.drop('value', 1)\n",
        "melt_experience"
      ],
      "metadata": {
        "colab": {
          "base_uri": "https://localhost:8080/",
          "height": 493
        },
        "id": "I2sDqTJn0YrT",
        "outputId": "0920720d-5ede-4f61-962d-60742d3a5d5f"
      },
      "execution_count": 747,
      "outputs": [
        {
          "output_type": "stream",
          "name": "stderr",
          "text": [
            "/usr/local/lib/python3.7/dist-packages/ipykernel_launcher.py:8: FutureWarning:\n",
            "\n",
            "In a future version of pandas all arguments of DataFrame.drop except for the argument 'labels' will be keyword-only\n",
            "\n"
          ]
        },
        {
          "output_type": "execute_result",
          "data": {
            "text/plain": [
              "          ID                                     Accident Title Experience\n",
              "10        11  Fall on Rock, Climbing Solo, Inadequate Equipm...  No/Little\n",
              "11        12  Fall on Rock, Climbing Solo, No Hard Hat, Inex...  No/Little\n",
              "13        14  Fall on Rock, Free-Solo, Exceeding Abilities, ...  No/Little\n",
              "20        21  Fall on Snow, Inadequate Protection, No Hard H...  No/Little\n",
              "26        28  Falling Rock, Fall on Ice, Faulty Use of Cramp...  No/Little\n",
              "...      ...                                                ...        ...\n",
              "10882  1670t  Jumped into Crevasse, and then Later Fell in C...    Unknown\n",
              "10908  1959a  HAPE and ..., Washington, Mount Rainier, Camp ...    Unknown\n",
              "10909  1959b     ... HACE, Washington, Mount Rainier, Camp Muir    Unknown\n",
              "10919  2065a            Illness ...), Washington, Mount Rainier    Unknown\n",
              "10920  2065b            Frostbite..., Washington, Mount Rainier    Unknown\n",
              "\n",
              "[1326 rows x 3 columns]"
            ],
            "text/html": [
              "\n",
              "  <div id=\"df-61a39bf5-f347-4c8a-ba6f-e288e6a612fb\">\n",
              "    <div class=\"colab-df-container\">\n",
              "      <div>\n",
              "<style scoped>\n",
              "    .dataframe tbody tr th:only-of-type {\n",
              "        vertical-align: middle;\n",
              "    }\n",
              "\n",
              "    .dataframe tbody tr th {\n",
              "        vertical-align: top;\n",
              "    }\n",
              "\n",
              "    .dataframe thead th {\n",
              "        text-align: right;\n",
              "    }\n",
              "</style>\n",
              "<table border=\"1\" class=\"dataframe\">\n",
              "  <thead>\n",
              "    <tr style=\"text-align: right;\">\n",
              "      <th></th>\n",
              "      <th>ID</th>\n",
              "      <th>Accident Title</th>\n",
              "      <th>Experience</th>\n",
              "    </tr>\n",
              "  </thead>\n",
              "  <tbody>\n",
              "    <tr>\n",
              "      <th>10</th>\n",
              "      <td>11</td>\n",
              "      <td>Fall on Rock, Climbing Solo, Inadequate Equipm...</td>\n",
              "      <td>No/Little</td>\n",
              "    </tr>\n",
              "    <tr>\n",
              "      <th>11</th>\n",
              "      <td>12</td>\n",
              "      <td>Fall on Rock, Climbing Solo, No Hard Hat, Inex...</td>\n",
              "      <td>No/Little</td>\n",
              "    </tr>\n",
              "    <tr>\n",
              "      <th>13</th>\n",
              "      <td>14</td>\n",
              "      <td>Fall on Rock, Free-Solo, Exceeding Abilities, ...</td>\n",
              "      <td>No/Little</td>\n",
              "    </tr>\n",
              "    <tr>\n",
              "      <th>20</th>\n",
              "      <td>21</td>\n",
              "      <td>Fall on Snow, Inadequate Protection, No Hard H...</td>\n",
              "      <td>No/Little</td>\n",
              "    </tr>\n",
              "    <tr>\n",
              "      <th>26</th>\n",
              "      <td>28</td>\n",
              "      <td>Falling Rock, Fall on Ice, Faulty Use of Cramp...</td>\n",
              "      <td>No/Little</td>\n",
              "    </tr>\n",
              "    <tr>\n",
              "      <th>...</th>\n",
              "      <td>...</td>\n",
              "      <td>...</td>\n",
              "      <td>...</td>\n",
              "    </tr>\n",
              "    <tr>\n",
              "      <th>10882</th>\n",
              "      <td>1670t</td>\n",
              "      <td>Jumped into Crevasse, and then Later Fell in C...</td>\n",
              "      <td>Unknown</td>\n",
              "    </tr>\n",
              "    <tr>\n",
              "      <th>10908</th>\n",
              "      <td>1959a</td>\n",
              "      <td>HAPE and ..., Washington, Mount Rainier, Camp ...</td>\n",
              "      <td>Unknown</td>\n",
              "    </tr>\n",
              "    <tr>\n",
              "      <th>10909</th>\n",
              "      <td>1959b</td>\n",
              "      <td>... HACE, Washington, Mount Rainier, Camp Muir</td>\n",
              "      <td>Unknown</td>\n",
              "    </tr>\n",
              "    <tr>\n",
              "      <th>10919</th>\n",
              "      <td>2065a</td>\n",
              "      <td>Illness ...), Washington, Mount Rainier</td>\n",
              "      <td>Unknown</td>\n",
              "    </tr>\n",
              "    <tr>\n",
              "      <th>10920</th>\n",
              "      <td>2065b</td>\n",
              "      <td>Frostbite..., Washington, Mount Rainier</td>\n",
              "      <td>Unknown</td>\n",
              "    </tr>\n",
              "  </tbody>\n",
              "</table>\n",
              "<p>1326 rows × 3 columns</p>\n",
              "</div>\n",
              "      <button class=\"colab-df-convert\" onclick=\"convertToInteractive('df-61a39bf5-f347-4c8a-ba6f-e288e6a612fb')\"\n",
              "              title=\"Convert this dataframe to an interactive table.\"\n",
              "              style=\"display:none;\">\n",
              "        \n",
              "  <svg xmlns=\"http://www.w3.org/2000/svg\" height=\"24px\"viewBox=\"0 0 24 24\"\n",
              "       width=\"24px\">\n",
              "    <path d=\"M0 0h24v24H0V0z\" fill=\"none\"/>\n",
              "    <path d=\"M18.56 5.44l.94 2.06.94-2.06 2.06-.94-2.06-.94-.94-2.06-.94 2.06-2.06.94zm-11 1L8.5 8.5l.94-2.06 2.06-.94-2.06-.94L8.5 2.5l-.94 2.06-2.06.94zm10 10l.94 2.06.94-2.06 2.06-.94-2.06-.94-.94-2.06-.94 2.06-2.06.94z\"/><path d=\"M17.41 7.96l-1.37-1.37c-.4-.4-.92-.59-1.43-.59-.52 0-1.04.2-1.43.59L10.3 9.45l-7.72 7.72c-.78.78-.78 2.05 0 2.83L4 21.41c.39.39.9.59 1.41.59.51 0 1.02-.2 1.41-.59l7.78-7.78 2.81-2.81c.8-.78.8-2.07 0-2.86zM5.41 20L4 18.59l7.72-7.72 1.47 1.35L5.41 20z\"/>\n",
              "  </svg>\n",
              "      </button>\n",
              "      \n",
              "  <style>\n",
              "    .colab-df-container {\n",
              "      display:flex;\n",
              "      flex-wrap:wrap;\n",
              "      gap: 12px;\n",
              "    }\n",
              "\n",
              "    .colab-df-convert {\n",
              "      background-color: #E8F0FE;\n",
              "      border: none;\n",
              "      border-radius: 50%;\n",
              "      cursor: pointer;\n",
              "      display: none;\n",
              "      fill: #1967D2;\n",
              "      height: 32px;\n",
              "      padding: 0 0 0 0;\n",
              "      width: 32px;\n",
              "    }\n",
              "\n",
              "    .colab-df-convert:hover {\n",
              "      background-color: #E2EBFA;\n",
              "      box-shadow: 0px 1px 2px rgba(60, 64, 67, 0.3), 0px 1px 3px 1px rgba(60, 64, 67, 0.15);\n",
              "      fill: #174EA6;\n",
              "    }\n",
              "\n",
              "    [theme=dark] .colab-df-convert {\n",
              "      background-color: #3B4455;\n",
              "      fill: #D2E3FC;\n",
              "    }\n",
              "\n",
              "    [theme=dark] .colab-df-convert:hover {\n",
              "      background-color: #434B5C;\n",
              "      box-shadow: 0px 1px 3px 1px rgba(0, 0, 0, 0.15);\n",
              "      filter: drop-shadow(0px 1px 2px rgba(0, 0, 0, 0.3));\n",
              "      fill: #FFFFFF;\n",
              "    }\n",
              "  </style>\n",
              "\n",
              "      <script>\n",
              "        const buttonEl =\n",
              "          document.querySelector('#df-61a39bf5-f347-4c8a-ba6f-e288e6a612fb button.colab-df-convert');\n",
              "        buttonEl.style.display =\n",
              "          google.colab.kernel.accessAllowed ? 'block' : 'none';\n",
              "\n",
              "        async function convertToInteractive(key) {\n",
              "          const element = document.querySelector('#df-61a39bf5-f347-4c8a-ba6f-e288e6a612fb');\n",
              "          const dataTable =\n",
              "            await google.colab.kernel.invokeFunction('convertToInteractive',\n",
              "                                                     [key], {});\n",
              "          if (!dataTable) return;\n",
              "\n",
              "          const docLinkHtml = 'Like what you see? Visit the ' +\n",
              "            '<a target=\"_blank\" href=https://colab.research.google.com/notebooks/data_table.ipynb>data table notebook</a>'\n",
              "            + ' to learn more about interactive tables.';\n",
              "          element.innerHTML = '';\n",
              "          dataTable['output_type'] = 'display_data';\n",
              "          await google.colab.output.renderOutput(dataTable, element);\n",
              "          const docLink = document.createElement('div');\n",
              "          docLink.innerHTML = docLinkHtml;\n",
              "          element.appendChild(docLink);\n",
              "        }\n",
              "      </script>\n",
              "    </div>\n",
              "  </div>\n",
              "  "
            ]
          },
          "metadata": {},
          "execution_count": 747
        }
      ]
    },
    {
      "cell_type": "code",
      "source": [
        "# change factor levels of variable\n",
        "melt_experience['Experience'] = melt_experience['Experience'].astype('category')\n",
        "melt_experience['Experience'] = melt_experience['Experience'].cat.reorder_categories(['No/Little', 'Moderate', 'Experienced', 'Unknown'])"
      ],
      "metadata": {
        "id": "3CaWhCuC4c25"
      },
      "execution_count": 748,
      "outputs": []
    },
    {
      "cell_type": "markdown",
      "source": [
        "### Figure 2c - Experience\n",
        "\n",
        "Here I look at the number of accidents for every level of experience that the person involved had. I select 'unkwown' for these descritives, but this category will be removed later from further analysis. "
      ],
      "metadata": {
        "id": "87XU81-gZqJz"
      }
    },
    {
      "cell_type": "code",
      "source": [
        "fig, axs = plt.subplots(1,2,figsize=(10, 5)) # define subplots rows, columns, and size\n",
        "\n",
        "experience_count = melt_experience['Experience'].value_counts().sort_index() #sort_index() to get the right order set for this category\n",
        "colours = ['#636EFA', '#EF553B', '#00CC96', '#AB63FA']\n",
        "labels = melt_experience['Experience'].cat.categories.tolist()\n",
        "\n",
        "axs[0].bar(labels, experience_count, color = colours) # makebar plot\n",
        "\n",
        "sizes = experience_count\n",
        "axs[1].pie(sizes, labels = labels, colors = colours, autopct='%1.1f%%') #make pie plot\n",
        "plt.axis('equal')\n",
        "plt.xlabel('% of accidents', fontsize=12)\n",
        "\n",
        "fig.suptitle(\"Experience of person involved in accident\") #common title\n",
        "fig.text(0.04, 0.5, 'Number of Accidents', va='center', rotation='vertical') #common y-axis\n",
        "\n",
        "# rotate axes \n",
        "for ax in fig.axes:\n",
        "    matplotlib.pyplot.sca(ax)\n",
        "    plt.xticks(rotation=45)\n",
        "\n",
        "fig.savefig(data_path +'experience.jpg', bbox_inches='tight', dpi = 600)"
      ],
      "metadata": {
        "colab": {
          "base_uri": "https://localhost:8080/",
          "height": 397
        },
        "id": "DF2Ayt1xokGr",
        "outputId": "303b8228-4f38-4154-878e-9ffde6f03568"
      },
      "execution_count": 749,
      "outputs": [
        {
          "output_type": "display_data",
          "data": {
            "text/plain": [
              "<Figure size 720x360 with 2 Axes>"
            ],
            "image/png": "[encoded data removed]"
          },
          "metadata": {
            "needs_background": "light"
          }
        }
      ]
    },
    {
      "cell_type": "code",
      "source": [
        "# remove 'unknown' category\n",
        "melt_experience['Experience'] = melt_experience['Experience'].cat.remove_categories('Unknown')"
      ],
      "metadata": {
        "id": "wV7EUtdh9Csg"
      },
      "execution_count": 750,
      "outputs": []
    },
    {
      "cell_type": "code",
      "source": [
        "# attach new variable to main dataframe\n",
        "AAC_serious_type_experience = melt_experience.merge(AAC_serious_type, how = 'right', on = ['ID', 'Accident Title'])"
      ],
      "metadata": {
        "id": "JFxaVnxi8fDo"
      },
      "execution_count": 751,
      "outputs": []
    },
    {
      "cell_type": "markdown",
      "source": [
        "## Age"
      ],
      "metadata": {
        "id": "eKBMBRrs0pbG"
      }
    },
    {
      "cell_type": "code",
      "source": [
        "# age\n",
        "melt_age = AAC_accidents.melt(id_vars=['ID', 'Accident Title'],\n",
        "                              value_vars=['<15', '15-20', '21-25', '26-30', '31-35', '36-50', '51-75', '>75'],\n",
        "                              var_name = 'Age')\n",
        "\n",
        "melt_age = melt_age.loc[(melt_age['value'] != 0)]\n",
        "melt_age = melt_age.drop('value', 1)\n",
        "melt_age"
      ],
      "metadata": {
        "id": "GzJqgyus0pbG",
        "colab": {
          "base_uri": "https://localhost:8080/",
          "height": 493
        },
        "outputId": "cd1e3966-5c77-4005-f6bc-3407711639f3"
      },
      "execution_count": 752,
      "outputs": [
        {
          "output_type": "stream",
          "name": "stderr",
          "text": [
            "/usr/local/lib/python3.7/dist-packages/ipykernel_launcher.py:7: FutureWarning:\n",
            "\n",
            "In a future version of pandas all arguments of DataFrame.drop except for the argument 'labels' will be keyword-only\n",
            "\n"
          ]
        },
        {
          "output_type": "execute_result",
          "data": {
            "text/plain": [
              "          ID                                     Accident Title    Age\n",
              "0          1  Failure of Rappel Setup (Protection Pulled Out...    <15\n",
              "80        91  Fall into Crevasse, Unroped, Public on Glacier...    <15\n",
              "147      162  Lightning, Maine, Mount Katahdin, Baxter State...    <15\n",
              "148      163  Loss of Control—Voluntary Glissade, Fall into ...    <15\n",
              "306      338  Fall on Rock, Placed Inadequate Protection, Ou...    <15\n",
              "...      ...                                                ...    ...\n",
              "19320  2684a  Tahquitz Rock Fatalities \\nCalifornia, Tahquit...  51-75\n",
              "19355   619t  Fall on Ice, Inadequate Protection, Montana, H...  51-75\n",
              "19382    93t  Fall on Ice, Climbing Unroped, Party Separated...  51-75\n",
              "19928    590  Fall on Rock, Unroped, No Hard Hat, Alberta, R...    >75\n",
              "22056  2515b  Edited Title: Fall From Red Banks – Failure to...    >75\n",
              "\n",
              "[2413 rows x 3 columns]"
            ],
            "text/html": [
              "\n",
              "  <div id=\"df-ad7a9982-e997-473c-b771-646f5c230130\">\n",
              "    <div class=\"colab-df-container\">\n",
              "      <div>\n",
              "<style scoped>\n",
              "    .dataframe tbody tr th:only-of-type {\n",
              "        vertical-align: middle;\n",
              "    }\n",
              "\n",
              "    .dataframe tbody tr th {\n",
              "        vertical-align: top;\n",
              "    }\n",
              "\n",
              "    .dataframe thead th {\n",
              "        text-align: right;\n",
              "    }\n",
              "</style>\n",
              "<table border=\"1\" class=\"dataframe\">\n",
              "  <thead>\n",
              "    <tr style=\"text-align: right;\">\n",
              "      <th></th>\n",
              "      <th>ID</th>\n",
              "      <th>Accident Title</th>\n",
              "      <th>Age</th>\n",
              "    </tr>\n",
              "  </thead>\n",
              "  <tbody>\n",
              "    <tr>\n",
              "      <th>0</th>\n",
              "      <td>1</td>\n",
              "      <td>Failure of Rappel Setup (Protection Pulled Out...</td>\n",
              "      <td>&lt;15</td>\n",
              "    </tr>\n",
              "    <tr>\n",
              "      <th>80</th>\n",
              "      <td>91</td>\n",
              "      <td>Fall into Crevasse, Unroped, Public on Glacier...</td>\n",
              "      <td>&lt;15</td>\n",
              "    </tr>\n",
              "    <tr>\n",
              "      <th>147</th>\n",
              "      <td>162</td>\n",
              "      <td>Lightning, Maine, Mount Katahdin, Baxter State...</td>\n",
              "      <td>&lt;15</td>\n",
              "    </tr>\n",
              "    <tr>\n",
              "      <th>148</th>\n",
              "      <td>163</td>\n",
              "      <td>Loss of Control—Voluntary Glissade, Fall into ...</td>\n",
              "      <td>&lt;15</td>\n",
              "    </tr>\n",
              "    <tr>\n",
              "      <th>306</th>\n",
              "      <td>338</td>\n",
              "      <td>Fall on Rock, Placed Inadequate Protection, Ou...</td>\n",
              "      <td>&lt;15</td>\n",
              "    </tr>\n",
              "    <tr>\n",
              "      <th>...</th>\n",
              "      <td>...</td>\n",
              "      <td>...</td>\n",
              "      <td>...</td>\n",
              "    </tr>\n",
              "    <tr>\n",
              "      <th>19320</th>\n",
              "      <td>2684a</td>\n",
              "      <td>Tahquitz Rock Fatalities \\nCalifornia, Tahquit...</td>\n",
              "      <td>51-75</td>\n",
              "    </tr>\n",
              "    <tr>\n",
              "      <th>19355</th>\n",
              "      <td>619t</td>\n",
              "      <td>Fall on Ice, Inadequate Protection, Montana, H...</td>\n",
              "      <td>51-75</td>\n",
              "    </tr>\n",
              "    <tr>\n",
              "      <th>19382</th>\n",
              "      <td>93t</td>\n",
              "      <td>Fall on Ice, Climbing Unroped, Party Separated...</td>\n",
              "      <td>51-75</td>\n",
              "    </tr>\n",
              "    <tr>\n",
              "      <th>19928</th>\n",
              "      <td>590</td>\n",
              "      <td>Fall on Rock, Unroped, No Hard Hat, Alberta, R...</td>\n",
              "      <td>&gt;75</td>\n",
              "    </tr>\n",
              "    <tr>\n",
              "      <th>22056</th>\n",
              "      <td>2515b</td>\n",
              "      <td>Edited Title: Fall From Red Banks – Failure to...</td>\n",
              "      <td>&gt;75</td>\n",
              "    </tr>\n",
              "  </tbody>\n",
              "</table>\n",
              "<p>2413 rows × 3 columns</p>\n",
              "</div>\n",
              "      <button class=\"colab-df-convert\" onclick=\"convertToInteractive('df-ad7a9982-e997-473c-b771-646f5c230130')\"\n",
              "              title=\"Convert this dataframe to an interactive table.\"\n",
              "              style=\"display:none;\">\n",
              "        \n",
              "  <svg xmlns=\"http://www.w3.org/2000/svg\" height=\"24px\"viewBox=\"0 0 24 24\"\n",
              "       width=\"24px\">\n",
              "    <path d=\"M0 0h24v24H0V0z\" fill=\"none\"/>\n",
              "    <path d=\"M18.56 5.44l.94 2.06.94-2.06 2.06-.94-2.06-.94-.94-2.06-.94 2.06-2.06.94zm-11 1L8.5 8.5l.94-2.06 2.06-.94-2.06-.94L8.5 2.5l-.94 2.06-2.06.94zm10 10l.94 2.06.94-2.06 2.06-.94-2.06-.94-.94-2.06-.94 2.06-2.06.94z\"/><path d=\"M17.41 7.96l-1.37-1.37c-.4-.4-.92-.59-1.43-.59-.52 0-1.04.2-1.43.59L10.3 9.45l-7.72 7.72c-.78.78-.78 2.05 0 2.83L4 21.41c.39.39.9.59 1.41.59.51 0 1.02-.2 1.41-.59l7.78-7.78 2.81-2.81c.8-.78.8-2.07 0-2.86zM5.41 20L4 18.59l7.72-7.72 1.47 1.35L5.41 20z\"/>\n",
              "  </svg>\n",
              "      </button>\n",
              "      \n",
              "  <style>\n",
              "    .colab-df-container {\n",
              "      display:flex;\n",
              "      flex-wrap:wrap;\n",
              "      gap: 12px;\n",
              "    }\n",
              "\n",
              "    .colab-df-convert {\n",
              "      background-color: #E8F0FE;\n",
              "      border: none;\n",
              "      border-radius: 50%;\n",
              "      cursor: pointer;\n",
              "      display: none;\n",
              "      fill: #1967D2;\n",
              "      height: 32px;\n",
              "      padding: 0 0 0 0;\n",
              "      width: 32px;\n",
              "    }\n",
              "\n",
              "    .colab-df-convert:hover {\n",
              "      background-color: #E2EBFA;\n",
              "      box-shadow: 0px 1px 2px rgba(60, 64, 67, 0.3), 0px 1px 3px 1px rgba(60, 64, 67, 0.15);\n",
              "      fill: #174EA6;\n",
              "    }\n",
              "\n",
              "    [theme=dark] .colab-df-convert {\n",
              "      background-color: #3B4455;\n",
              "      fill: #D2E3FC;\n",
              "    }\n",
              "\n",
              "    [theme=dark] .colab-df-convert:hover {\n",
              "      background-color: #434B5C;\n",
              "      box-shadow: 0px 1px 3px 1px rgba(0, 0, 0, 0.15);\n",
              "      filter: drop-shadow(0px 1px 2px rgba(0, 0, 0, 0.3));\n",
              "      fill: #FFFFFF;\n",
              "    }\n",
              "  </style>\n",
              "\n",
              "      <script>\n",
              "        const buttonEl =\n",
              "          document.querySelector('#df-ad7a9982-e997-473c-b771-646f5c230130 button.colab-df-convert');\n",
              "        buttonEl.style.display =\n",
              "          google.colab.kernel.accessAllowed ? 'block' : 'none';\n",
              "\n",
              "        async function convertToInteractive(key) {\n",
              "          const element = document.querySelector('#df-ad7a9982-e997-473c-b771-646f5c230130');\n",
              "          const dataTable =\n",
              "            await google.colab.kernel.invokeFunction('convertToInteractive',\n",
              "                                                     [key], {});\n",
              "          if (!dataTable) return;\n",
              "\n",
              "          const docLinkHtml = 'Like what you see? Visit the ' +\n",
              "            '<a target=\"_blank\" href=https://colab.research.google.com/notebooks/data_table.ipynb>data table notebook</a>'\n",
              "            + ' to learn more about interactive tables.';\n",
              "          element.innerHTML = '';\n",
              "          dataTable['output_type'] = 'display_data';\n",
              "          await google.colab.output.renderOutput(dataTable, element);\n",
              "          const docLink = document.createElement('div');\n",
              "          docLink.innerHTML = docLinkHtml;\n",
              "          element.appendChild(docLink);\n",
              "        }\n",
              "      </script>\n",
              "    </div>\n",
              "  </div>\n",
              "  "
            ]
          },
          "metadata": {},
          "execution_count": 752
        }
      ]
    },
    {
      "cell_type": "code",
      "source": [
        "# change factor levels of variable\n",
        "melt_age['Age'] = melt_age['Age'].astype('category')\n",
        "melt_age['Age'] = melt_age['Age'].cat.reorder_categories(['<15', '15-20', '21-25', '26-30', '31-35', '36-50', '51-75', '>75'])"
      ],
      "metadata": {
        "id": "PmoLTWiM5bTz"
      },
      "execution_count": 753,
      "outputs": []
    },
    {
      "cell_type": "markdown",
      "source": [
        "### Figure 2d - Age"
      ],
      "metadata": {
        "id": "p-kYr6PPbNPK"
      }
    },
    {
      "cell_type": "code",
      "source": [
        "fig, axs = plt.subplots(1,2,figsize=(10, 5)) # define subplots rows, columns, and size\n",
        "\n",
        "age_count = melt_age['Age'].value_counts().sort_index() #sort_index() to get the right order set for this category\n",
        "colours = ['#636EFA', '#EF553B', '#00CC96', '#AB63FA', '#FFA15A', '#19D3F3', '#FF6692', '#B6E880']\n",
        "labels = melt_age['Age'].cat.categories.tolist()\n",
        "\n",
        "axs[0].bar(labels, age_count, color = colours) # makebar plot\n",
        "\n",
        "sizes = age_count\n",
        "axs[1].pie(sizes, labels = labels, colors = colours, autopct='%1.1f%%') #make pie plot\n",
        "plt.axis('equal')\n",
        "plt.xlabel('% of accidents', fontsize=12)\n",
        "\n",
        "fig.suptitle(\"Age of person involved in accident\") #common title\n",
        "fig.text(0.04, 0.5, 'Number of Accidents', va='center', rotation='vertical') #common y-axis\n",
        "\n",
        "# rotate axes \n",
        "for ax in fig.axes:\n",
        "    matplotlib.pyplot.sca(ax)\n",
        "    plt.xticks(rotation=45)\n",
        "\n",
        "fig.savefig(data_path +'age.jpg', bbox_inches='tight', dpi = 600)"
      ],
      "metadata": {
        "colab": {
          "base_uri": "https://localhost:8080/",
          "height": 373
        },
        "id": "ssZ85ZypoJti",
        "outputId": "83ef3196-23b6-45d9-f330-8561438239e3"
      },
      "execution_count": 754,
      "outputs": [
        {
          "output_type": "display_data",
          "data": {
            "text/plain": [
              "<Figure size 720x360 with 2 Axes>"
            ],
            "image/png": "[encoded data removed]"
          },
          "metadata": {
            "needs_background": "light"
          }
        }
      ]
    },
    {
      "cell_type": "code",
      "source": [
        "# attach new variable to main dataframe\n",
        "AAC_serious_type_experience_age = melt_age.merge(AAC_serious_type_experience, how = 'right', on = ['ID', 'Accident Title'])"
      ],
      "metadata": {
        "id": "0_wNPBDvErbB"
      },
      "execution_count": 755,
      "outputs": []
    },
    {
      "cell_type": "markdown",
      "source": [
        "## REMOVE Nature"
      ],
      "metadata": {
        "id": "a-k91_a1NGpF"
      }
    },
    {
      "cell_type": "code",
      "source": [
        "# nature\n",
        "melt_nature = AAC_accidents.melt(id_vars=['ID', 'Accident Title'],\n",
        "                              value_vars=['Visibility', 'Severe Weather',\n",
        "       'Wildlife', 'Natural Rockfall'],\n",
        "                              var_name = 'Nature')\n",
        "\n",
        "melt_nature = melt_nature.loc[(melt_nature['value'] != 0)]\n",
        "melt_nature = melt_nature.drop('value', 1)\n",
        "melt_nature"
      ],
      "metadata": {
        "colab": {
          "base_uri": "https://localhost:8080/",
          "height": 493
        },
        "id": "topUT3uvNIdF",
        "outputId": "ddc1dd9c-d82b-46d2-ec74-348ec64ca953"
      },
      "execution_count": 756,
      "outputs": [
        {
          "output_type": "stream",
          "name": "stderr",
          "text": [
            "/usr/local/lib/python3.7/dist-packages/ipykernel_launcher.py:8: FutureWarning:\n",
            "\n",
            "In a future version of pandas all arguments of DataFrame.drop except for the argument 'labels' will be keyword-only\n",
            "\n"
          ]
        },
        {
          "output_type": "execute_result",
          "data": {
            "text/plain": [
              "          ID                                     Accident Title  \\\n",
              "43        47  Weather, Fall on Snow, Exposure, Alaska, Mount...   \n",
              "73        83  Weather, Fatigue, Failure to Follow Route, Fal...   \n",
              "79        90  Fall into Crevasse, Unroped, Alberta, Rocky Mo...   \n",
              "109      121  HAPE, Frostbite, Party Seperated, Inexperience...   \n",
              "155      171  Stranded, Darkness, Falled to Follow Direction...   \n",
              "...      ...                                                ...   \n",
              "10943  2364f  Fall on Rock – Suspected Rockfall, Climbing Al...   \n",
              "10963  2479b            Rockfall \\nOregon, Mt. Hood, South Side   \n",
              "11003  2649c  Mt. Shasta rockfall\\nCalifornia, Mt. Shasta an...   \n",
              "11009  2682b  Rocky Mountain National Park, Rockfall \\nColor...   \n",
              "11011  2684b  Tahquitz Rock Fatalities \\nCalifornia, Tahquit...   \n",
              "\n",
              "                 Nature  \n",
              "43           Visibility  \n",
              "73           Visibility  \n",
              "79           Visibility  \n",
              "109          Visibility  \n",
              "155          Visibility  \n",
              "...                 ...  \n",
              "10943  Natural Rockfall  \n",
              "10963  Natural Rockfall  \n",
              "11003  Natural Rockfall  \n",
              "11009  Natural Rockfall  \n",
              "11011  Natural Rockfall  \n",
              "\n",
              "[579 rows x 3 columns]"
            ],
            "text/html": [
              "\n",
              "  <div id=\"df-78117907-033b-4907-ae54-5930fcb7de36\">\n",
              "    <div class=\"colab-df-container\">\n",
              "      <div>\n",
              "<style scoped>\n",
              "    .dataframe tbody tr th:only-of-type {\n",
              "        vertical-align: middle;\n",
              "    }\n",
              "\n",
              "    .dataframe tbody tr th {\n",
              "        vertical-align: top;\n",
              "    }\n",
              "\n",
              "    .dataframe thead th {\n",
              "        text-align: right;\n",
              "    }\n",
              "</style>\n",
              "<table border=\"1\" class=\"dataframe\">\n",
              "  <thead>\n",
              "    <tr style=\"text-align: right;\">\n",
              "      <th></th>\n",
              "      <th>ID</th>\n",
              "      <th>Accident Title</th>\n",
              "      <th>Nature</th>\n",
              "    </tr>\n",
              "  </thead>\n",
              "  <tbody>\n",
              "    <tr>\n",
              "      <th>43</th>\n",
              "      <td>47</td>\n",
              "      <td>Weather, Fall on Snow, Exposure, Alaska, Mount...</td>\n",
              "      <td>Visibility</td>\n",
              "    </tr>\n",
              "    <tr>\n",
              "      <th>73</th>\n",
              "      <td>83</td>\n",
              "      <td>Weather, Fatigue, Failure to Follow Route, Fal...</td>\n",
              "      <td>Visibility</td>\n",
              "    </tr>\n",
              "    <tr>\n",
              "      <th>79</th>\n",
              "      <td>90</td>\n",
              "      <td>Fall into Crevasse, Unroped, Alberta, Rocky Mo...</td>\n",
              "      <td>Visibility</td>\n",
              "    </tr>\n",
              "    <tr>\n",
              "      <th>109</th>\n",
              "      <td>121</td>\n",
              "      <td>HAPE, Frostbite, Party Seperated, Inexperience...</td>\n",
              "      <td>Visibility</td>\n",
              "    </tr>\n",
              "    <tr>\n",
              "      <th>155</th>\n",
              "      <td>171</td>\n",
              "      <td>Stranded, Darkness, Falled to Follow Direction...</td>\n",
              "      <td>Visibility</td>\n",
              "    </tr>\n",
              "    <tr>\n",
              "      <th>...</th>\n",
              "      <td>...</td>\n",
              "      <td>...</td>\n",
              "      <td>...</td>\n",
              "    </tr>\n",
              "    <tr>\n",
              "      <th>10943</th>\n",
              "      <td>2364f</td>\n",
              "      <td>Fall on Rock – Suspected Rockfall, Climbing Al...</td>\n",
              "      <td>Natural Rockfall</td>\n",
              "    </tr>\n",
              "    <tr>\n",
              "      <th>10963</th>\n",
              "      <td>2479b</td>\n",
              "      <td>Rockfall \\nOregon, Mt. Hood, South Side</td>\n",
              "      <td>Natural Rockfall</td>\n",
              "    </tr>\n",
              "    <tr>\n",
              "      <th>11003</th>\n",
              "      <td>2649c</td>\n",
              "      <td>Mt. Shasta rockfall\\nCalifornia, Mt. Shasta an...</td>\n",
              "      <td>Natural Rockfall</td>\n",
              "    </tr>\n",
              "    <tr>\n",
              "      <th>11009</th>\n",
              "      <td>2682b</td>\n",
              "      <td>Rocky Mountain National Park, Rockfall \\nColor...</td>\n",
              "      <td>Natural Rockfall</td>\n",
              "    </tr>\n",
              "    <tr>\n",
              "      <th>11011</th>\n",
              "      <td>2684b</td>\n",
              "      <td>Tahquitz Rock Fatalities \\nCalifornia, Tahquit...</td>\n",
              "      <td>Natural Rockfall</td>\n",
              "    </tr>\n",
              "  </tbody>\n",
              "</table>\n",
              "<p>579 rows × 3 columns</p>\n",
              "</div>\n",
              "      <button class=\"colab-df-convert\" onclick=\"convertToInteractive('df-78117907-033b-4907-ae54-5930fcb7de36')\"\n",
              "              title=\"Convert this dataframe to an interactive table.\"\n",
              "              style=\"display:none;\">\n",
              "        \n",
              "  <svg xmlns=\"http://www.w3.org/2000/svg\" height=\"24px\"viewBox=\"0 0 24 24\"\n",
              "       width=\"24px\">\n",
              "    <path d=\"M0 0h24v24H0V0z\" fill=\"none\"/>\n",
              "    <path d=\"M18.56 5.44l.94 2.06.94-2.06 2.06-.94-2.06-.94-.94-2.06-.94 2.06-2.06.94zm-11 1L8.5 8.5l.94-2.06 2.06-.94-2.06-.94L8.5 2.5l-.94 2.06-2.06.94zm10 10l.94 2.06.94-2.06 2.06-.94-2.06-.94-.94-2.06-.94 2.06-2.06.94z\"/><path d=\"M17.41 7.96l-1.37-1.37c-.4-.4-.92-.59-1.43-.59-.52 0-1.04.2-1.43.59L10.3 9.45l-7.72 7.72c-.78.78-.78 2.05 0 2.83L4 21.41c.39.39.9.59 1.41.59.51 0 1.02-.2 1.41-.59l7.78-7.78 2.81-2.81c.8-.78.8-2.07 0-2.86zM5.41 20L4 18.59l7.72-7.72 1.47 1.35L5.41 20z\"/>\n",
              "  </svg>\n",
              "      </button>\n",
              "      \n",
              "  <style>\n",
              "    .colab-df-container {\n",
              "      display:flex;\n",
              "      flex-wrap:wrap;\n",
              "      gap: 12px;\n",
              "    }\n",
              "\n",
              "    .colab-df-convert {\n",
              "      background-color: #E8F0FE;\n",
              "      border: none;\n",
              "      border-radius: 50%;\n",
              "      cursor: pointer;\n",
              "      display: none;\n",
              "      fill: #1967D2;\n",
              "      height: 32px;\n",
              "      padding: 0 0 0 0;\n",
              "      width: 32px;\n",
              "    }\n",
              "\n",
              "    .colab-df-convert:hover {\n",
              "      background-color: #E2EBFA;\n",
              "      box-shadow: 0px 1px 2px rgba(60, 64, 67, 0.3), 0px 1px 3px 1px rgba(60, 64, 67, 0.15);\n",
              "      fill: #174EA6;\n",
              "    }\n",
              "\n",
              "    [theme=dark] .colab-df-convert {\n",
              "      background-color: #3B4455;\n",
              "      fill: #D2E3FC;\n",
              "    }\n",
              "\n",
              "    [theme=dark] .colab-df-convert:hover {\n",
              "      background-color: #434B5C;\n",
              "      box-shadow: 0px 1px 3px 1px rgba(0, 0, 0, 0.15);\n",
              "      filter: drop-shadow(0px 1px 2px rgba(0, 0, 0, 0.3));\n",
              "      fill: #FFFFFF;\n",
              "    }\n",
              "  </style>\n",
              "\n",
              "      <script>\n",
              "        const buttonEl =\n",
              "          document.querySelector('#df-78117907-033b-4907-ae54-5930fcb7de36 button.colab-df-convert');\n",
              "        buttonEl.style.display =\n",
              "          google.colab.kernel.accessAllowed ? 'block' : 'none';\n",
              "\n",
              "        async function convertToInteractive(key) {\n",
              "          const element = document.querySelector('#df-78117907-033b-4907-ae54-5930fcb7de36');\n",
              "          const dataTable =\n",
              "            await google.colab.kernel.invokeFunction('convertToInteractive',\n",
              "                                                     [key], {});\n",
              "          if (!dataTable) return;\n",
              "\n",
              "          const docLinkHtml = 'Like what you see? Visit the ' +\n",
              "            '<a target=\"_blank\" href=https://colab.research.google.com/notebooks/data_table.ipynb>data table notebook</a>'\n",
              "            + ' to learn more about interactive tables.';\n",
              "          element.innerHTML = '';\n",
              "          dataTable['output_type'] = 'display_data';\n",
              "          await google.colab.output.renderOutput(dataTable, element);\n",
              "          const docLink = document.createElement('div');\n",
              "          docLink.innerHTML = docLinkHtml;\n",
              "          element.appendChild(docLink);\n",
              "        }\n",
              "      </script>\n",
              "    </div>\n",
              "  </div>\n",
              "  "
            ]
          },
          "metadata": {},
          "execution_count": 756
        }
      ]
    },
    {
      "cell_type": "markdown",
      "source": [
        "### Figure 2e - Nature"
      ],
      "metadata": {
        "id": "D1A3dMW-ehkm"
      }
    },
    {
      "cell_type": "code",
      "source": [
        "fig, axs = plt.subplots(1,2,figsize=(10, 5)) # define subplots rows, columns, and size\n",
        "\n",
        "nature_count = melt_nature['Nature'].value_counts()\n",
        "colours = ['#636EFA', '#EF553B', '#00CC96', '#AB63FA']\n",
        "melt_nature['Nature'] = melt_nature['Nature'].astype('category')\n",
        "labels = melt_nature['Nature'].cat.categories.tolist()\n",
        "\n",
        "axs[0].bar(labels, nature_count, color = colours) # makebar plot\n",
        "\n",
        "sizes = nature_count\n",
        "axs[1].pie(sizes, labels = labels, colors = colours, autopct='%1.1f%%') #make pie plot\n",
        "plt.axis('equal')\n",
        "plt.xlabel('% of accidents', fontsize=12)\n",
        "\n",
        "fig.suptitle(\"Natural event related to accident\") #common title\n",
        "fig.text(0.04, 0.5, 'Number of Accidents', va='center', rotation='vertical') #common y-axis\n",
        "\n",
        "# rotate axes \n",
        "for ax in fig.axes:\n",
        "    matplotlib.pyplot.sca(ax)\n",
        "    plt.xticks(rotation=45)\n",
        "\n",
        "fig.savefig(data_path +'nature.jpg', bbox_inches='tight', dpi = 600)"
      ],
      "metadata": {
        "colab": {
          "base_uri": "https://localhost:8080/",
          "height": 409
        },
        "id": "rZXGWKTNbSwd",
        "outputId": "556b3d1c-b71b-4293-f23a-ad7e0530df3b"
      },
      "execution_count": 757,
      "outputs": [
        {
          "output_type": "display_data",
          "data": {
            "text/plain": [
              "<Figure size 720x360 with 2 Axes>"
            ],
            "image/png": "[encoded data removed]"
          },
          "metadata": {
            "needs_background": "light"
          }
        }
      ]
    },
    {
      "cell_type": "code",
      "source": [
        "# attach new variable to main dataframe\n",
        "AAC_serious_type_experience_age_nature = melt_nature.merge(AAC_serious_type_experience_age, how = 'right', on = ['ID', 'Accident Title'])"
      ],
      "metadata": {
        "id": "pOl67czGDsxA"
      },
      "execution_count": 758,
      "outputs": []
    },
    {
      "cell_type": "markdown",
      "source": [
        "## Human causes"
      ],
      "metadata": {
        "id": "4-uT_hkPd8Fc"
      }
    },
    {
      "cell_type": "code",
      "source": [
        "#causes\n",
        "melt_causes = AAC_accidents.melt(id_vars=['ID', 'Accident Title'],\n",
        "                              value_vars=['Non-Ascent Illness', 'Off-route', 'Rushed', 'Run Out',\n",
        "       'Crowds', 'Inadequate Food/Water', 'No Helmet', 'Late in Day',\n",
        "       'Late Start', 'Party Separated', 'Ledge Fall', 'Gym / Artificial',\n",
        "       'Gym Climber', 'Fatigue', 'Large Group', 'Distracted',\n",
        "       'Object Dropped/Dislodged', 'Handhold/Foothold Broke',\n",
        "       'Knot & Tie-in Error', 'No Backup or End Knot', 'Gear Broke',\n",
        "       'Intoxicated', 'Inadequate Equipment', 'Inadequate Protection / Pulled',\n",
        "       'Anchor Failure / Error', 'Stranded / Lost / Overdue', 'Belay Error',\n",
        "       'Rappel Error', 'Lowering Error', 'Miscommunication'],\n",
        "                              var_name = 'Causes')\n",
        "\n",
        "melt_causes = melt_causes.loc[(melt_causes['value'] != 0)]\n",
        "melt_causes = melt_causes.drop('value', 1)\n",
        "melt_causes"
      ],
      "metadata": {
        "colab": {
          "base_uri": "https://localhost:8080/",
          "height": 493
        },
        "id": "D8v5taNtUbQD",
        "outputId": "14c1a83e-999b-4772-911a-d46317f37fce"
      },
      "execution_count": 759,
      "outputs": [
        {
          "output_type": "stream",
          "name": "stderr",
          "text": [
            "/usr/local/lib/python3.7/dist-packages/ipykernel_launcher.py:15: FutureWarning:\n",
            "\n",
            "In a future version of pandas all arguments of DataFrame.drop except for the argument 'labels' will be keyword-only\n",
            "\n"
          ]
        },
        {
          "output_type": "execute_result",
          "data": {
            "text/plain": [
              "          ID                                     Accident Title  \\\n",
              "164      183  Failure to Communicate, Illness, Alaska, Mount...   \n",
              "443      488         Grand Mal Seizures, Alaska, Mount McKinley   \n",
              "512      564  Acute Abdomen, Alaska, Mount McKinley, West Bu...   \n",
              "513      565  Atrial Fibrillation, Alaska, Mount McKinley, W...   \n",
              "618      680  Appendicitis, Alaska, Mount McKinley, Muldrow ...   \n",
              "...      ...                                                ...   \n",
              "82881  1481t  Fall on Rock—Lowering Error, Communication Pro...   \n",
              "82898  1604t  Fall on Rock—Dislocated Knee, Fall on Snow—Una...   \n",
              "82925   189t  Fall on Rock while Rappelling, Miscommunicatio...   \n",
              "82954  2247t  Fall on Rock, Lowering Error \\nMaine, Acadia N...   \n",
              "82957  2269f  Rappel Error - Ropes Uneven and No Knots in En...   \n",
              "\n",
              "                   Causes  \n",
              "164    Non-Ascent Illness  \n",
              "443    Non-Ascent Illness  \n",
              "512    Non-Ascent Illness  \n",
              "513    Non-Ascent Illness  \n",
              "618    Non-Ascent Illness  \n",
              "...                   ...  \n",
              "82881    Miscommunication  \n",
              "82898    Miscommunication  \n",
              "82925    Miscommunication  \n",
              "82954    Miscommunication  \n",
              "82957    Miscommunication  \n",
              "\n",
              "[3907 rows x 3 columns]"
            ],
            "text/html": [
              "\n",
              "  <div id=\"df-f2d3b420-3279-4f67-a37d-60f1f03f43a8\">\n",
              "    <div class=\"colab-df-container\">\n",
              "      <div>\n",
              "<style scoped>\n",
              "    .dataframe tbody tr th:only-of-type {\n",
              "        vertical-align: middle;\n",
              "    }\n",
              "\n",
              "    .dataframe tbody tr th {\n",
              "        vertical-align: top;\n",
              "    }\n",
              "\n",
              "    .dataframe thead th {\n",
              "        text-align: right;\n",
              "    }\n",
              "</style>\n",
              "<table border=\"1\" class=\"dataframe\">\n",
              "  <thead>\n",
              "    <tr style=\"text-align: right;\">\n",
              "      <th></th>\n",
              "      <th>ID</th>\n",
              "      <th>Accident Title</th>\n",
              "      <th>Causes</th>\n",
              "    </tr>\n",
              "  </thead>\n",
              "  <tbody>\n",
              "    <tr>\n",
              "      <th>164</th>\n",
              "      <td>183</td>\n",
              "      <td>Failure to Communicate, Illness, Alaska, Mount...</td>\n",
              "      <td>Non-Ascent Illness</td>\n",
              "    </tr>\n",
              "    <tr>\n",
              "      <th>443</th>\n",
              "      <td>488</td>\n",
              "      <td>Grand Mal Seizures, Alaska, Mount McKinley</td>\n",
              "      <td>Non-Ascent Illness</td>\n",
              "    </tr>\n",
              "    <tr>\n",
              "      <th>512</th>\n",
              "      <td>564</td>\n",
              "      <td>Acute Abdomen, Alaska, Mount McKinley, West Bu...</td>\n",
              "      <td>Non-Ascent Illness</td>\n",
              "    </tr>\n",
              "    <tr>\n",
              "      <th>513</th>\n",
              "      <td>565</td>\n",
              "      <td>Atrial Fibrillation, Alaska, Mount McKinley, W...</td>\n",
              "      <td>Non-Ascent Illness</td>\n",
              "    </tr>\n",
              "    <tr>\n",
              "      <th>618</th>\n",
              "      <td>680</td>\n",
              "      <td>Appendicitis, Alaska, Mount McKinley, Muldrow ...</td>\n",
              "      <td>Non-Ascent Illness</td>\n",
              "    </tr>\n",
              "    <tr>\n",
              "      <th>...</th>\n",
              "      <td>...</td>\n",
              "      <td>...</td>\n",
              "      <td>...</td>\n",
              "    </tr>\n",
              "    <tr>\n",
              "      <th>82881</th>\n",
              "      <td>1481t</td>\n",
              "      <td>Fall on Rock—Lowering Error, Communication Pro...</td>\n",
              "      <td>Miscommunication</td>\n",
              "    </tr>\n",
              "    <tr>\n",
              "      <th>82898</th>\n",
              "      <td>1604t</td>\n",
              "      <td>Fall on Rock—Dislocated Knee, Fall on Snow—Una...</td>\n",
              "      <td>Miscommunication</td>\n",
              "    </tr>\n",
              "    <tr>\n",
              "      <th>82925</th>\n",
              "      <td>189t</td>\n",
              "      <td>Fall on Rock while Rappelling, Miscommunicatio...</td>\n",
              "      <td>Miscommunication</td>\n",
              "    </tr>\n",
              "    <tr>\n",
              "      <th>82954</th>\n",
              "      <td>2247t</td>\n",
              "      <td>Fall on Rock, Lowering Error \\nMaine, Acadia N...</td>\n",
              "      <td>Miscommunication</td>\n",
              "    </tr>\n",
              "    <tr>\n",
              "      <th>82957</th>\n",
              "      <td>2269f</td>\n",
              "      <td>Rappel Error - Ropes Uneven and No Knots in En...</td>\n",
              "      <td>Miscommunication</td>\n",
              "    </tr>\n",
              "  </tbody>\n",
              "</table>\n",
              "<p>3907 rows × 3 columns</p>\n",
              "</div>\n",
              "      <button class=\"colab-df-convert\" onclick=\"convertToInteractive('df-f2d3b420-3279-4f67-a37d-60f1f03f43a8')\"\n",
              "              title=\"Convert this dataframe to an interactive table.\"\n",
              "              style=\"display:none;\">\n",
              "        \n",
              "  <svg xmlns=\"http://www.w3.org/2000/svg\" height=\"24px\"viewBox=\"0 0 24 24\"\n",
              "       width=\"24px\">\n",
              "    <path d=\"M0 0h24v24H0V0z\" fill=\"none\"/>\n",
              "    <path d=\"M18.56 5.44l.94 2.06.94-2.06 2.06-.94-2.06-.94-.94-2.06-.94 2.06-2.06.94zm-11 1L8.5 8.5l.94-2.06 2.06-.94-2.06-.94L8.5 2.5l-.94 2.06-2.06.94zm10 10l.94 2.06.94-2.06 2.06-.94-2.06-.94-.94-2.06-.94 2.06-2.06.94z\"/><path d=\"M17.41 7.96l-1.37-1.37c-.4-.4-.92-.59-1.43-.59-.52 0-1.04.2-1.43.59L10.3 9.45l-7.72 7.72c-.78.78-.78 2.05 0 2.83L4 21.41c.39.39.9.59 1.41.59.51 0 1.02-.2 1.41-.59l7.78-7.78 2.81-2.81c.8-.78.8-2.07 0-2.86zM5.41 20L4 18.59l7.72-7.72 1.47 1.35L5.41 20z\"/>\n",
              "  </svg>\n",
              "      </button>\n",
              "      \n",
              "  <style>\n",
              "    .colab-df-container {\n",
              "      display:flex;\n",
              "      flex-wrap:wrap;\n",
              "      gap: 12px;\n",
              "    }\n",
              "\n",
              "    .colab-df-convert {\n",
              "      background-color: #E8F0FE;\n",
              "      border: none;\n",
              "      border-radius: 50%;\n",
              "      cursor: pointer;\n",
              "      display: none;\n",
              "      fill: #1967D2;\n",
              "      height: 32px;\n",
              "      padding: 0 0 0 0;\n",
              "      width: 32px;\n",
              "    }\n",
              "\n",
              "    .colab-df-convert:hover {\n",
              "      background-color: #E2EBFA;\n",
              "      box-shadow: 0px 1px 2px rgba(60, 64, 67, 0.3), 0px 1px 3px 1px rgba(60, 64, 67, 0.15);\n",
              "      fill: #174EA6;\n",
              "    }\n",
              "\n",
              "    [theme=dark] .colab-df-convert {\n",
              "      background-color: #3B4455;\n",
              "      fill: #D2E3FC;\n",
              "    }\n",
              "\n",
              "    [theme=dark] .colab-df-convert:hover {\n",
              "      background-color: #434B5C;\n",
              "      box-shadow: 0px 1px 3px 1px rgba(0, 0, 0, 0.15);\n",
              "      filter: drop-shadow(0px 1px 2px rgba(0, 0, 0, 0.3));\n",
              "      fill: #FFFFFF;\n",
              "    }\n",
              "  </style>\n",
              "\n",
              "      <script>\n",
              "        const buttonEl =\n",
              "          document.querySelector('#df-f2d3b420-3279-4f67-a37d-60f1f03f43a8 button.colab-df-convert');\n",
              "        buttonEl.style.display =\n",
              "          google.colab.kernel.accessAllowed ? 'block' : 'none';\n",
              "\n",
              "        async function convertToInteractive(key) {\n",
              "          const element = document.querySelector('#df-f2d3b420-3279-4f67-a37d-60f1f03f43a8');\n",
              "          const dataTable =\n",
              "            await google.colab.kernel.invokeFunction('convertToInteractive',\n",
              "                                                     [key], {});\n",
              "          if (!dataTable) return;\n",
              "\n",
              "          const docLinkHtml = 'Like what you see? Visit the ' +\n",
              "            '<a target=\"_blank\" href=https://colab.research.google.com/notebooks/data_table.ipynb>data table notebook</a>'\n",
              "            + ' to learn more about interactive tables.';\n",
              "          element.innerHTML = '';\n",
              "          dataTable['output_type'] = 'display_data';\n",
              "          await google.colab.output.renderOutput(dataTable, element);\n",
              "          const docLink = document.createElement('div');\n",
              "          docLink.innerHTML = docLinkHtml;\n",
              "          element.appendChild(docLink);\n",
              "        }\n",
              "      </script>\n",
              "    </div>\n",
              "  </div>\n",
              "  "
            ]
          },
          "metadata": {},
          "execution_count": 759
        }
      ]
    },
    {
      "cell_type": "markdown",
      "source": [
        "### Figure 2f - Human causes"
      ],
      "metadata": {
        "id": "369mRmGpnSPI"
      }
    },
    {
      "cell_type": "code",
      "source": [
        "causes_count = melt_causes['Causes'].value_counts()\n",
        "colours = ['#636EFA', '#EF553B', '#00CC96', '#AB63FA', '#FFA15A', '#19D3F3', '#FF6692', '#B6E880', '#FF97FF', '#FECB52', '#636EFA', '#EF553B', '#00CC96', '#AB63FA', '#FFA15A', '#19D3F3', '#FF6692', '#B6E880', '#FF97FF', '#FECB52']\n",
        "\n",
        "plt.figure(figsize=(10,5))\n",
        "plt.bar(causes_count.index, causes_count.values, alpha=1, color = colours)\n",
        "plt.ylabel('Number of Accidents', fontsize=12)\n",
        "plt.xlabel('Human causes', fontsize=12)\n",
        "plt.xticks(rotation = 90)\n",
        "\n",
        "plt.show()\n",
        "\n",
        "fig.savefig(data_path +'causes.jpg', bbox_inches='tight', dpi = 600)"
      ],
      "metadata": {
        "colab": {
          "base_uri": "https://localhost:8080/",
          "height": 477
        },
        "id": "DeSAblBbm0vm",
        "outputId": "6681a314-69ee-479b-8ef9-b02f2222daa6"
      },
      "execution_count": 760,
      "outputs": [
        {
          "output_type": "display_data",
          "data": {
            "text/plain": [
              "<Figure size 720x360 with 1 Axes>"
            ],
            "image/png": "[encoded data removed]"
          },
          "metadata": {
            "needs_background": "light"
          }
        }
      ]
    },
    {
      "cell_type": "code",
      "source": [
        "# attach new variable to main dataframe\n",
        "AAC_serious_type_experience_age_nature_causes = melt_causes.merge(AAC_serious_type_experience_age_nature, how = 'right', on = ['ID', 'Accident Title'])"
      ],
      "metadata": {
        "id": "4G_vvfpeeETV"
      },
      "execution_count": 761,
      "outputs": []
    },
    {
      "cell_type": "markdown",
      "source": [
        "# MCA - individual variables\n",
        "\n",
        "As a first step, I will conduct an MCA on the entire dataset in order to identify underlying patterns. \n",
        "\n"
      ],
      "metadata": {
        "id": "VA33ZQHS317w"
      }
    },
    {
      "cell_type": "code",
      "source": [
        "# not including age because it is not a 0/1 variable\n",
        "MCA_all = AAC_accidents[['No/Little',\n",
        "       'Moderate', 'Experienced', 'Unknown', 'Deadly', 'Serious', 'Minor',\n",
        "       'Head / Brain Injury', 'Descent', 'Roped', 'Trad Climbing', 'Sport',\n",
        "       'Top-Rope', 'Aid & Big Wall Climbing', 'Pendulum', 'Unroped ', 'Solo',\n",
        "       'Climbing Alone', 'Bouldering', 'Non-climbing', 'Alpine/Mountaineering',\n",
        "       'Piton/Ice Screw', 'Ascent Illness', 'Crampon Issues', 'Ice Climbing',\n",
        "       'Glissading', 'Ski-related ', 'Poor Position',\n",
        "       'Poor Cond/Seasonal Risk', 'Avalanche',\n",
        "       'Cornice / Snow Bridge Collapse', 'Bergschrund',\n",
        "       'Crevasse / Moat / Berschrund', 'Icefall / Serac / Ice Avalanche',\n",
        "       'Exposure', 'Non-Ascent Illness', 'Visibility', 'Severe Weather',\n",
        "       'Wildlife', 'Natural Rockfall', 'Off-route', 'Rushed', 'Run Out',\n",
        "       'Crowds', 'Inadequate Food/Water', 'No Helmet', 'Late in Day',\n",
        "       'Late Start', 'Party Separated', 'Ledge Fall', 'Gym / Artificial',\n",
        "       'Gym Climber', 'Fatigue', 'Large Group', 'Distracted',\n",
        "       'Object Dropped/Dislodged', 'Handhold/Foothold Broke',\n",
        "       'Knot & Tie-in Error', 'No Backup or End Knot', 'Gear Broke',\n",
        "       'Intoxicated', 'Inadequate Equipment', 'Inadequate Protection / Pulled',\n",
        "       'Anchor Failure / Error', 'Stranded / Lost / Overdue', 'Belay Error',\n",
        "       'Rappel Error', 'Lowering Error', 'Miscommunication']]\n"
      ],
      "metadata": {
        "id": "i5Hqh35-343Y"
      },
      "execution_count": 762,
      "outputs": []
    },
    {
      "cell_type": "code",
      "source": [
        "MCA_all = MCA_all.dropna() #drop na"
      ],
      "metadata": {
        "id": "OssRZyYPBEtd"
      },
      "execution_count": 763,
      "outputs": []
    },
    {
      "cell_type": "code",
      "source": [
        "MCA_all"
      ],
      "metadata": {
        "colab": {
          "base_uri": "https://localhost:8080/",
          "height": 522
        },
        "id": "fF2pcWHgEYDO",
        "outputId": "a4514698-1f37-49ca-baef-a6eb0ab08dee"
      },
      "execution_count": 764,
      "outputs": [
        {
          "output_type": "execute_result",
          "data": {
            "text/plain": [
              "      No/Little  Moderate  Experienced  Unknown  Deadly  Serious  Minor  \\\n",
              "0           0.0       0.0          0.0      0.0     0.0      1.0    0.0   \n",
              "1           0.0       0.0          1.0      0.0     0.0      1.0    0.0   \n",
              "2           0.0       0.0          1.0      0.0     0.0      0.0    1.0   \n",
              "3           0.0       0.0          0.0      0.0     0.0      0.0    1.0   \n",
              "4           0.0       0.0          0.0      0.0     1.0      1.0    0.0   \n",
              "...         ...       ...          ...      ...     ...      ...    ...   \n",
              "2765        1.0       0.0          0.0      0.0     1.0      0.0    0.0   \n",
              "2766        0.0       0.0          0.0      0.0     0.0      1.0    0.0   \n",
              "2767        0.0       0.0          0.0      0.0     0.0      0.0    0.0   \n",
              "2768        0.0       0.0          0.0      0.0     0.0      1.0    0.0   \n",
              "2769        0.0       0.0          0.0      0.0     0.0      0.0    1.0   \n",
              "\n",
              "      Head / Brain Injury  Descent  Roped  ...  Gear Broke  Intoxicated  \\\n",
              "0                     1.0      1.0    1.0  ...         0.0          0.0   \n",
              "1                     0.0      1.0    1.0  ...         0.0          0.0   \n",
              "2                     0.0      0.0    0.0  ...         0.0          0.0   \n",
              "3                     0.0      0.0    0.0  ...         0.0          0.0   \n",
              "4                     0.0      1.0    0.0  ...         0.0          0.0   \n",
              "...                   ...      ...    ...  ...         ...          ...   \n",
              "2765                  0.0      1.0    0.0  ...         0.0          0.0   \n",
              "2766                  0.0      1.0    1.0  ...         0.0          0.0   \n",
              "2767                  0.0      1.0    0.0  ...         0.0          0.0   \n",
              "2768                  0.0      1.0    0.0  ...         0.0          0.0   \n",
              "2769                  0.0      0.0    1.0  ...         0.0          0.0   \n",
              "\n",
              "      Inadequate Equipment  Inadequate Protection / Pulled  \\\n",
              "0                      1.0                             1.0   \n",
              "1                      0.0                             0.0   \n",
              "2                      1.0                             0.0   \n",
              "3                      0.0                             0.0   \n",
              "4                      1.0                             0.0   \n",
              "...                    ...                             ...   \n",
              "2765                   0.0                             1.0   \n",
              "2766                   0.0                             1.0   \n",
              "2767                   0.0                             0.0   \n",
              "2768                   0.0                             0.0   \n",
              "2769                   0.0                             0.0   \n",
              "\n",
              "      Anchor Failure / Error  Stranded / Lost / Overdue  Belay Error  \\\n",
              "0                        0.0                        0.0          0.0   \n",
              "1                        0.0                        0.0          0.0   \n",
              "2                        0.0                        0.0          0.0   \n",
              "3                        0.0                        0.0          0.0   \n",
              "4                        0.0                        0.0          0.0   \n",
              "...                      ...                        ...          ...   \n",
              "2765                     0.0                        0.0          0.0   \n",
              "2766                     0.0                        0.0          0.0   \n",
              "2767                     0.0                        0.0          0.0   \n",
              "2768                     0.0                        0.0          0.0   \n",
              "2769                     0.0                        1.0          0.0   \n",
              "\n",
              "      Rappel Error  Lowering Error  Miscommunication  \n",
              "0              1.0             0.0               0.0  \n",
              "1              1.0             0.0               0.0  \n",
              "2              0.0             0.0               0.0  \n",
              "3              0.0             0.0               0.0  \n",
              "4              0.0             0.0               0.0  \n",
              "...            ...             ...               ...  \n",
              "2765           0.0             0.0               0.0  \n",
              "2766           0.0             0.0               0.0  \n",
              "2767           0.0             0.0               0.0  \n",
              "2768           0.0             0.0               0.0  \n",
              "2769           0.0             0.0               0.0  \n",
              "\n",
              "[2770 rows x 69 columns]"
            ],
            "text/html": [
              "\n",
              "  <div id=\"df-bd4d37b1-1ac3-408f-82cf-5f15851f82d6\">\n",
              "    <div class=\"colab-df-container\">\n",
              "      <div>\n",
              "<style scoped>\n",
              "    .dataframe tbody tr th:only-of-type {\n",
              "        vertical-align: middle;\n",
              "    }\n",
              "\n",
              "    .dataframe tbody tr th {\n",
              "        vertical-align: top;\n",
              "    }\n",
              "\n",
              "    .dataframe thead th {\n",
              "        text-align: right;\n",
              "    }\n",
              "</style>\n",
              "<table border=\"1\" class=\"dataframe\">\n",
              "  <thead>\n",
              "    <tr style=\"text-align: right;\">\n",
              "      <th></th>\n",
              "      <th>No/Little</th>\n",
              "      <th>Moderate</th>\n",
              "      <th>Experienced</th>\n",
              "      <th>Unknown</th>\n",
              "      <th>Deadly</th>\n",
              "      <th>Serious</th>\n",
              "      <th>Minor</th>\n",
              "      <th>Head / Brain Injury</th>\n",
              "      <th>Descent</th>\n",
              "      <th>Roped</th>\n",
              "      <th>...</th>\n",
              "      <th>Gear Broke</th>\n",
              "      <th>Intoxicated</th>\n",
              "      <th>Inadequate Equipment</th>\n",
              "      <th>Inadequate Protection / Pulled</th>\n",
              "      <th>Anchor Failure / Error</th>\n",
              "      <th>Stranded / Lost / Overdue</th>\n",
              "      <th>Belay Error</th>\n",
              "      <th>Rappel Error</th>\n",
              "      <th>Lowering Error</th>\n",
              "      <th>Miscommunication</th>\n",
              "    </tr>\n",
              "  </thead>\n",
              "  <tbody>\n",
              "    <tr>\n",
              "      <th>0</th>\n",
              "      <td>0.0</td>\n",
              "      <td>0.0</td>\n",
              "      <td>0.0</td>\n",
              "      <td>0.0</td>\n",
              "      <td>0.0</td>\n",
              "      <td>1.0</td>\n",
              "      <td>0.0</td>\n",
              "      <td>1.0</td>\n",
              "      <td>1.0</td>\n",
              "      <td>1.0</td>\n",
              "      <td>...</td>\n",
              "      <td>0.0</td>\n",
              "      <td>0.0</td>\n",
              "      <td>1.0</td>\n",
              "      <td>1.0</td>\n",
              "      <td>0.0</td>\n",
              "      <td>0.0</td>\n",
              "      <td>0.0</td>\n",
              "      <td>1.0</td>\n",
              "      <td>0.0</td>\n",
              "      <td>0.0</td>\n",
              "    </tr>\n",
              "    <tr>\n",
              "      <th>1</th>\n",
              "      <td>0.0</td>\n",
              "      <td>0.0</td>\n",
              "      <td>1.0</td>\n",
              "      <td>0.0</td>\n",
              "      <td>0.0</td>\n",
              "      <td>1.0</td>\n",
              "      <td>0.0</td>\n",
              "      <td>0.0</td>\n",
              "      <td>1.0</td>\n",
              "      <td>1.0</td>\n",
              "      <td>...</td>\n",
              "      <td>0.0</td>\n",
              "      <td>0.0</td>\n",
              "      <td>0.0</td>\n",
              "      <td>0.0</td>\n",
              "      <td>0.0</td>\n",
              "      <td>0.0</td>\n",
              "      <td>0.0</td>\n",
              "      <td>1.0</td>\n",
              "      <td>0.0</td>\n",
              "      <td>0.0</td>\n",
              "    </tr>\n",
              "    <tr>\n",
              "      <th>2</th>\n",
              "      <td>0.0</td>\n",
              "      <td>0.0</td>\n",
              "      <td>1.0</td>\n",
              "      <td>0.0</td>\n",
              "      <td>0.0</td>\n",
              "      <td>0.0</td>\n",
              "      <td>1.0</td>\n",
              "      <td>0.0</td>\n",
              "      <td>0.0</td>\n",
              "      <td>0.0</td>\n",
              "      <td>...</td>\n",
              "      <td>0.0</td>\n",
              "      <td>0.0</td>\n",
              "      <td>1.0</td>\n",
              "      <td>0.0</td>\n",
              "      <td>0.0</td>\n",
              "      <td>0.0</td>\n",
              "      <td>0.0</td>\n",
              "      <td>0.0</td>\n",
              "      <td>0.0</td>\n",
              "      <td>0.0</td>\n",
              "    </tr>\n",
              "    <tr>\n",
              "      <th>3</th>\n",
              "      <td>0.0</td>\n",
              "      <td>0.0</td>\n",
              "      <td>0.0</td>\n",
              "      <td>0.0</td>\n",
              "      <td>0.0</td>\n",
              "      <td>0.0</td>\n",
              "      <td>1.0</td>\n",
              "      <td>0.0</td>\n",
              "      <td>0.0</td>\n",
              "      <td>0.0</td>\n",
              "      <td>...</td>\n",
              "      <td>0.0</td>\n",
              "      <td>0.0</td>\n",
              "      <td>0.0</td>\n",
              "      <td>0.0</td>\n",
              "      <td>0.0</td>\n",
              "      <td>0.0</td>\n",
              "      <td>0.0</td>\n",
              "      <td>0.0</td>\n",
              "      <td>0.0</td>\n",
              "      <td>0.0</td>\n",
              "    </tr>\n",
              "    <tr>\n",
              "      <th>4</th>\n",
              "      <td>0.0</td>\n",
              "      <td>0.0</td>\n",
              "      <td>0.0</td>\n",
              "      <td>0.0</td>\n",
              "      <td>1.0</td>\n",
              "      <td>1.0</td>\n",
              "      <td>0.0</td>\n",
              "      <td>0.0</td>\n",
              "      <td>1.0</td>\n",
              "      <td>0.0</td>\n",
              "      <td>...</td>\n",
              "      <td>0.0</td>\n",
              "      <td>0.0</td>\n",
              "      <td>1.0</td>\n",
              "      <td>0.0</td>\n",
              "      <td>0.0</td>\n",
              "      <td>0.0</td>\n",
              "      <td>0.0</td>\n",
              "      <td>0.0</td>\n",
              "      <td>0.0</td>\n",
              "      <td>0.0</td>\n",
              "    </tr>\n",
              "    <tr>\n",
              "      <th>...</th>\n",
              "      <td>...</td>\n",
              "      <td>...</td>\n",
              "      <td>...</td>\n",
              "      <td>...</td>\n",
              "      <td>...</td>\n",
              "      <td>...</td>\n",
              "      <td>...</td>\n",
              "      <td>...</td>\n",
              "      <td>...</td>\n",
              "      <td>...</td>\n",
              "      <td>...</td>\n",
              "      <td>...</td>\n",
              "      <td>...</td>\n",
              "      <td>...</td>\n",
              "      <td>...</td>\n",
              "      <td>...</td>\n",
              "      <td>...</td>\n",
              "      <td>...</td>\n",
              "      <td>...</td>\n",
              "      <td>...</td>\n",
              "      <td>...</td>\n",
              "    </tr>\n",
              "    <tr>\n",
              "      <th>2765</th>\n",
              "      <td>1.0</td>\n",
              "      <td>0.0</td>\n",
              "      <td>0.0</td>\n",
              "      <td>0.0</td>\n",
              "      <td>1.0</td>\n",
              "      <td>0.0</td>\n",
              "      <td>0.0</td>\n",
              "      <td>0.0</td>\n",
              "      <td>1.0</td>\n",
              "      <td>0.0</td>\n",
              "      <td>...</td>\n",
              "      <td>0.0</td>\n",
              "      <td>0.0</td>\n",
              "      <td>0.0</td>\n",
              "      <td>1.0</td>\n",
              "      <td>0.0</td>\n",
              "      <td>0.0</td>\n",
              "      <td>0.0</td>\n",
              "      <td>0.0</td>\n",
              "      <td>0.0</td>\n",
              "      <td>0.0</td>\n",
              "    </tr>\n",
              "    <tr>\n",
              "      <th>2766</th>\n",
              "      <td>0.0</td>\n",
              "      <td>0.0</td>\n",
              "      <td>0.0</td>\n",
              "      <td>0.0</td>\n",
              "      <td>0.0</td>\n",
              "      <td>1.0</td>\n",
              "      <td>0.0</td>\n",
              "      <td>0.0</td>\n",
              "      <td>1.0</td>\n",
              "      <td>1.0</td>\n",
              "      <td>...</td>\n",
              "      <td>0.0</td>\n",
              "      <td>0.0</td>\n",
              "      <td>0.0</td>\n",
              "      <td>1.0</td>\n",
              "      <td>0.0</td>\n",
              "      <td>0.0</td>\n",
              "      <td>0.0</td>\n",
              "      <td>0.0</td>\n",
              "      <td>0.0</td>\n",
              "      <td>0.0</td>\n",
              "    </tr>\n",
              "    <tr>\n",
              "      <th>2767</th>\n",
              "      <td>0.0</td>\n",
              "      <td>0.0</td>\n",
              "      <td>0.0</td>\n",
              "      <td>0.0</td>\n",
              "      <td>0.0</td>\n",
              "      <td>0.0</td>\n",
              "      <td>0.0</td>\n",
              "      <td>0.0</td>\n",
              "      <td>1.0</td>\n",
              "      <td>0.0</td>\n",
              "      <td>...</td>\n",
              "      <td>0.0</td>\n",
              "      <td>0.0</td>\n",
              "      <td>0.0</td>\n",
              "      <td>0.0</td>\n",
              "      <td>0.0</td>\n",
              "      <td>0.0</td>\n",
              "      <td>0.0</td>\n",
              "      <td>0.0</td>\n",
              "      <td>0.0</td>\n",
              "      <td>0.0</td>\n",
              "    </tr>\n",
              "    <tr>\n",
              "      <th>2768</th>\n",
              "      <td>0.0</td>\n",
              "      <td>0.0</td>\n",
              "      <td>0.0</td>\n",
              "      <td>0.0</td>\n",
              "      <td>0.0</td>\n",
              "      <td>1.0</td>\n",
              "      <td>0.0</td>\n",
              "      <td>0.0</td>\n",
              "      <td>1.0</td>\n",
              "      <td>0.0</td>\n",
              "      <td>...</td>\n",
              "      <td>0.0</td>\n",
              "      <td>0.0</td>\n",
              "      <td>0.0</td>\n",
              "      <td>0.0</td>\n",
              "      <td>0.0</td>\n",
              "      <td>0.0</td>\n",
              "      <td>0.0</td>\n",
              "      <td>0.0</td>\n",
              "      <td>0.0</td>\n",
              "      <td>0.0</td>\n",
              "    </tr>\n",
              "    <tr>\n",
              "      <th>2769</th>\n",
              "      <td>0.0</td>\n",
              "      <td>0.0</td>\n",
              "      <td>0.0</td>\n",
              "      <td>0.0</td>\n",
              "      <td>0.0</td>\n",
              "      <td>0.0</td>\n",
              "      <td>1.0</td>\n",
              "      <td>0.0</td>\n",
              "      <td>0.0</td>\n",
              "      <td>1.0</td>\n",
              "      <td>...</td>\n",
              "      <td>0.0</td>\n",
              "      <td>0.0</td>\n",
              "      <td>0.0</td>\n",
              "      <td>0.0</td>\n",
              "      <td>0.0</td>\n",
              "      <td>1.0</td>\n",
              "      <td>0.0</td>\n",
              "      <td>0.0</td>\n",
              "      <td>0.0</td>\n",
              "      <td>0.0</td>\n",
              "    </tr>\n",
              "  </tbody>\n",
              "</table>\n",
              "<p>2770 rows × 69 columns</p>\n",
              "</div>\n",
              "      <button class=\"colab-df-convert\" onclick=\"convertToInteractive('df-bd4d37b1-1ac3-408f-82cf-5f15851f82d6')\"\n",
              "              title=\"Convert this dataframe to an interactive table.\"\n",
              "              style=\"display:none;\">\n",
              "        \n",
              "  <svg xmlns=\"http://www.w3.org/2000/svg\" height=\"24px\"viewBox=\"0 0 24 24\"\n",
              "       width=\"24px\">\n",
              "    <path d=\"M0 0h24v24H0V0z\" fill=\"none\"/>\n",
              "    <path d=\"M18.56 5.44l.94 2.06.94-2.06 2.06-.94-2.06-.94-.94-2.06-.94 2.06-2.06.94zm-11 1L8.5 8.5l.94-2.06 2.06-.94-2.06-.94L8.5 2.5l-.94 2.06-2.06.94zm10 10l.94 2.06.94-2.06 2.06-.94-2.06-.94-.94-2.06-.94 2.06-2.06.94z\"/><path d=\"M17.41 7.96l-1.37-1.37c-.4-.4-.92-.59-1.43-.59-.52 0-1.04.2-1.43.59L10.3 9.45l-7.72 7.72c-.78.78-.78 2.05 0 2.83L4 21.41c.39.39.9.59 1.41.59.51 0 1.02-.2 1.41-.59l7.78-7.78 2.81-2.81c.8-.78.8-2.07 0-2.86zM5.41 20L4 18.59l7.72-7.72 1.47 1.35L5.41 20z\"/>\n",
              "  </svg>\n",
              "      </button>\n",
              "      \n",
              "  <style>\n",
              "    .colab-df-container {\n",
              "      display:flex;\n",
              "      flex-wrap:wrap;\n",
              "      gap: 12px;\n",
              "    }\n",
              "\n",
              "    .colab-df-convert {\n",
              "      background-color: #E8F0FE;\n",
              "      border: none;\n",
              "      border-radius: 50%;\n",
              "      cursor: pointer;\n",
              "      display: none;\n",
              "      fill: #1967D2;\n",
              "      height: 32px;\n",
              "      padding: 0 0 0 0;\n",
              "      width: 32px;\n",
              "    }\n",
              "\n",
              "    .colab-df-convert:hover {\n",
              "      background-color: #E2EBFA;\n",
              "      box-shadow: 0px 1px 2px rgba(60, 64, 67, 0.3), 0px 1px 3px 1px rgba(60, 64, 67, 0.15);\n",
              "      fill: #174EA6;\n",
              "    }\n",
              "\n",
              "    [theme=dark] .colab-df-convert {\n",
              "      background-color: #3B4455;\n",
              "      fill: #D2E3FC;\n",
              "    }\n",
              "\n",
              "    [theme=dark] .colab-df-convert:hover {\n",
              "      background-color: #434B5C;\n",
              "      box-shadow: 0px 1px 3px 1px rgba(0, 0, 0, 0.15);\n",
              "      filter: drop-shadow(0px 1px 2px rgba(0, 0, 0, 0.3));\n",
              "      fill: #FFFFFF;\n",
              "    }\n",
              "  </style>\n",
              "\n",
              "      <script>\n",
              "        const buttonEl =\n",
              "          document.querySelector('#df-bd4d37b1-1ac3-408f-82cf-5f15851f82d6 button.colab-df-convert');\n",
              "        buttonEl.style.display =\n",
              "          google.colab.kernel.accessAllowed ? 'block' : 'none';\n",
              "\n",
              "        async function convertToInteractive(key) {\n",
              "          const element = document.querySelector('#df-bd4d37b1-1ac3-408f-82cf-5f15851f82d6');\n",
              "          const dataTable =\n",
              "            await google.colab.kernel.invokeFunction('convertToInteractive',\n",
              "                                                     [key], {});\n",
              "          if (!dataTable) return;\n",
              "\n",
              "          const docLinkHtml = 'Like what you see? Visit the ' +\n",
              "            '<a target=\"_blank\" href=https://colab.research.google.com/notebooks/data_table.ipynb>data table notebook</a>'\n",
              "            + ' to learn more about interactive tables.';\n",
              "          element.innerHTML = '';\n",
              "          dataTable['output_type'] = 'display_data';\n",
              "          await google.colab.output.renderOutput(dataTable, element);\n",
              "          const docLink = document.createElement('div');\n",
              "          docLink.innerHTML = docLinkHtml;\n",
              "          element.appendChild(docLink);\n",
              "        }\n",
              "      </script>\n",
              "    </div>\n",
              "  </div>\n",
              "  "
            ]
          },
          "metadata": {},
          "execution_count": 764
        }
      ]
    },
    {
      "cell_type": "code",
      "source": [
        "MCA_all.loc[~(MCA_all==0).all(axis=1)] #drop rows that include only zeroes"
      ],
      "metadata": {
        "colab": {
          "base_uri": "https://localhost:8080/",
          "height": 522
        },
        "id": "1h8Rv_UABDxE",
        "outputId": "8348d11a-bed2-4263-ec24-2ed5d1ed9f19"
      },
      "execution_count": 765,
      "outputs": [
        {
          "output_type": "execute_result",
          "data": {
            "text/plain": [
              "      No/Little  Moderate  Experienced  Unknown  Deadly  Serious  Minor  \\\n",
              "0           0.0       0.0          0.0      0.0     0.0      1.0    0.0   \n",
              "1           0.0       0.0          1.0      0.0     0.0      1.0    0.0   \n",
              "2           0.0       0.0          1.0      0.0     0.0      0.0    1.0   \n",
              "3           0.0       0.0          0.0      0.0     0.0      0.0    1.0   \n",
              "4           0.0       0.0          0.0      0.0     1.0      1.0    0.0   \n",
              "...         ...       ...          ...      ...     ...      ...    ...   \n",
              "2765        1.0       0.0          0.0      0.0     1.0      0.0    0.0   \n",
              "2766        0.0       0.0          0.0      0.0     0.0      1.0    0.0   \n",
              "2767        0.0       0.0          0.0      0.0     0.0      0.0    0.0   \n",
              "2768        0.0       0.0          0.0      0.0     0.0      1.0    0.0   \n",
              "2769        0.0       0.0          0.0      0.0     0.0      0.0    1.0   \n",
              "\n",
              "      Head / Brain Injury  Descent  Roped  ...  Gear Broke  Intoxicated  \\\n",
              "0                     1.0      1.0    1.0  ...         0.0          0.0   \n",
              "1                     0.0      1.0    1.0  ...         0.0          0.0   \n",
              "2                     0.0      0.0    0.0  ...         0.0          0.0   \n",
              "3                     0.0      0.0    0.0  ...         0.0          0.0   \n",
              "4                     0.0      1.0    0.0  ...         0.0          0.0   \n",
              "...                   ...      ...    ...  ...         ...          ...   \n",
              "2765                  0.0      1.0    0.0  ...         0.0          0.0   \n",
              "2766                  0.0      1.0    1.0  ...         0.0          0.0   \n",
              "2767                  0.0      1.0    0.0  ...         0.0          0.0   \n",
              "2768                  0.0      1.0    0.0  ...         0.0          0.0   \n",
              "2769                  0.0      0.0    1.0  ...         0.0          0.0   \n",
              "\n",
              "      Inadequate Equipment  Inadequate Protection / Pulled  \\\n",
              "0                      1.0                             1.0   \n",
              "1                      0.0                             0.0   \n",
              "2                      1.0                             0.0   \n",
              "3                      0.0                             0.0   \n",
              "4                      1.0                             0.0   \n",
              "...                    ...                             ...   \n",
              "2765                   0.0                             1.0   \n",
              "2766                   0.0                             1.0   \n",
              "2767                   0.0                             0.0   \n",
              "2768                   0.0                             0.0   \n",
              "2769                   0.0                             0.0   \n",
              "\n",
              "      Anchor Failure / Error  Stranded / Lost / Overdue  Belay Error  \\\n",
              "0                        0.0                        0.0          0.0   \n",
              "1                        0.0                        0.0          0.0   \n",
              "2                        0.0                        0.0          0.0   \n",
              "3                        0.0                        0.0          0.0   \n",
              "4                        0.0                        0.0          0.0   \n",
              "...                      ...                        ...          ...   \n",
              "2765                     0.0                        0.0          0.0   \n",
              "2766                     0.0                        0.0          0.0   \n",
              "2767                     0.0                        0.0          0.0   \n",
              "2768                     0.0                        0.0          0.0   \n",
              "2769                     0.0                        1.0          0.0   \n",
              "\n",
              "      Rappel Error  Lowering Error  Miscommunication  \n",
              "0              1.0             0.0               0.0  \n",
              "1              1.0             0.0               0.0  \n",
              "2              0.0             0.0               0.0  \n",
              "3              0.0             0.0               0.0  \n",
              "4              0.0             0.0               0.0  \n",
              "...            ...             ...               ...  \n",
              "2765           0.0             0.0               0.0  \n",
              "2766           0.0             0.0               0.0  \n",
              "2767           0.0             0.0               0.0  \n",
              "2768           0.0             0.0               0.0  \n",
              "2769           0.0             0.0               0.0  \n",
              "\n",
              "[2770 rows x 69 columns]"
            ],
            "text/html": [
              "\n",
              "  <div id=\"df-5e5ababc-6f4f-4a45-800e-1797f4727e0d\">\n",
              "    <div class=\"colab-df-container\">\n",
              "      <div>\n",
              "<style scoped>\n",
              "    .dataframe tbody tr th:only-of-type {\n",
              "        vertical-align: middle;\n",
              "    }\n",
              "\n",
              "    .dataframe tbody tr th {\n",
              "        vertical-align: top;\n",
              "    }\n",
              "\n",
              "    .dataframe thead th {\n",
              "        text-align: right;\n",
              "    }\n",
              "</style>\n",
              "<table border=\"1\" class=\"dataframe\">\n",
              "  <thead>\n",
              "    <tr style=\"text-align: right;\">\n",
              "      <th></th>\n",
              "      <th>No/Little</th>\n",
              "      <th>Moderate</th>\n",
              "      <th>Experienced</th>\n",
              "      <th>Unknown</th>\n",
              "      <th>Deadly</th>\n",
              "      <th>Serious</th>\n",
              "      <th>Minor</th>\n",
              "      <th>Head / Brain Injury</th>\n",
              "      <th>Descent</th>\n",
              "      <th>Roped</th>\n",
              "      <th>...</th>\n",
              "      <th>Gear Broke</th>\n",
              "      <th>Intoxicated</th>\n",
              "      <th>Inadequate Equipment</th>\n",
              "      <th>Inadequate Protection / Pulled</th>\n",
              "      <th>Anchor Failure / Error</th>\n",
              "      <th>Stranded / Lost / Overdue</th>\n",
              "      <th>Belay Error</th>\n",
              "      <th>Rappel Error</th>\n",
              "      <th>Lowering Error</th>\n",
              "      <th>Miscommunication</th>\n",
              "    </tr>\n",
              "  </thead>\n",
              "  <tbody>\n",
              "    <tr>\n",
              "      <th>0</th>\n",
              "      <td>0.0</td>\n",
              "      <td>0.0</td>\n",
              "      <td>0.0</td>\n",
              "      <td>0.0</td>\n",
              "      <td>0.0</td>\n",
              "      <td>1.0</td>\n",
              "      <td>0.0</td>\n",
              "      <td>1.0</td>\n",
              "      <td>1.0</td>\n",
              "      <td>1.0</td>\n",
              "      <td>...</td>\n",
              "      <td>0.0</td>\n",
              "      <td>0.0</td>\n",
              "      <td>1.0</td>\n",
              "      <td>1.0</td>\n",
              "      <td>0.0</td>\n",
              "      <td>0.0</td>\n",
              "      <td>0.0</td>\n",
              "      <td>1.0</td>\n",
              "      <td>0.0</td>\n",
              "      <td>0.0</td>\n",
              "    </tr>\n",
              "    <tr>\n",
              "      <th>1</th>\n",
              "      <td>0.0</td>\n",
              "      <td>0.0</td>\n",
              "      <td>1.0</td>\n",
              "      <td>0.0</td>\n",
              "      <td>0.0</td>\n",
              "      <td>1.0</td>\n",
              "      <td>0.0</td>\n",
              "      <td>0.0</td>\n",
              "      <td>1.0</td>\n",
              "      <td>1.0</td>\n",
              "      <td>...</td>\n",
              "      <td>0.0</td>\n",
              "      <td>0.0</td>\n",
              "      <td>0.0</td>\n",
              "      <td>0.0</td>\n",
              "      <td>0.0</td>\n",
              "      <td>0.0</td>\n",
              "      <td>0.0</td>\n",
              "      <td>1.0</td>\n",
              "      <td>0.0</td>\n",
              "      <td>0.0</td>\n",
              "    </tr>\n",
              "    <tr>\n",
              "      <th>2</th>\n",
              "      <td>0.0</td>\n",
              "      <td>0.0</td>\n",
              "      <td>1.0</td>\n",
              "      <td>0.0</td>\n",
              "      <td>0.0</td>\n",
              "      <td>0.0</td>\n",
              "      <td>1.0</td>\n",
              "      <td>0.0</td>\n",
              "      <td>0.0</td>\n",
              "      <td>0.0</td>\n",
              "      <td>...</td>\n",
              "      <td>0.0</td>\n",
              "      <td>0.0</td>\n",
              "      <td>1.0</td>\n",
              "      <td>0.0</td>\n",
              "      <td>0.0</td>\n",
              "      <td>0.0</td>\n",
              "      <td>0.0</td>\n",
              "      <td>0.0</td>\n",
              "      <td>0.0</td>\n",
              "      <td>0.0</td>\n",
              "    </tr>\n",
              "    <tr>\n",
              "      <th>3</th>\n",
              "      <td>0.0</td>\n",
              "      <td>0.0</td>\n",
              "      <td>0.0</td>\n",
              "      <td>0.0</td>\n",
              "      <td>0.0</td>\n",
              "      <td>0.0</td>\n",
              "      <td>1.0</td>\n",
              "      <td>0.0</td>\n",
              "      <td>0.0</td>\n",
              "      <td>0.0</td>\n",
              "      <td>...</td>\n",
              "      <td>0.0</td>\n",
              "      <td>0.0</td>\n",
              "      <td>0.0</td>\n",
              "      <td>0.0</td>\n",
              "      <td>0.0</td>\n",
              "      <td>0.0</td>\n",
              "      <td>0.0</td>\n",
              "      <td>0.0</td>\n",
              "      <td>0.0</td>\n",
              "      <td>0.0</td>\n",
              "    </tr>\n",
              "    <tr>\n",
              "      <th>4</th>\n",
              "      <td>0.0</td>\n",
              "      <td>0.0</td>\n",
              "      <td>0.0</td>\n",
              "      <td>0.0</td>\n",
              "      <td>1.0</td>\n",
              "      <td>1.0</td>\n",
              "      <td>0.0</td>\n",
              "      <td>0.0</td>\n",
              "      <td>1.0</td>\n",
              "      <td>0.0</td>\n",
              "      <td>...</td>\n",
              "      <td>0.0</td>\n",
              "      <td>0.0</td>\n",
              "      <td>1.0</td>\n",
              "      <td>0.0</td>\n",
              "      <td>0.0</td>\n",
              "      <td>0.0</td>\n",
              "      <td>0.0</td>\n",
              "      <td>0.0</td>\n",
              "      <td>0.0</td>\n",
              "      <td>0.0</td>\n",
              "    </tr>\n",
              "    <tr>\n",
              "      <th>...</th>\n",
              "      <td>...</td>\n",
              "      <td>...</td>\n",
              "      <td>...</td>\n",
              "      <td>...</td>\n",
              "      <td>...</td>\n",
              "      <td>...</td>\n",
              "      <td>...</td>\n",
              "      <td>...</td>\n",
              "      <td>...</td>\n",
              "      <td>...</td>\n",
              "      <td>...</td>\n",
              "      <td>...</td>\n",
              "      <td>...</td>\n",
              "      <td>...</td>\n",
              "      <td>...</td>\n",
              "      <td>...</td>\n",
              "      <td>...</td>\n",
              "      <td>...</td>\n",
              "      <td>...</td>\n",
              "      <td>...</td>\n",
              "      <td>...</td>\n",
              "    </tr>\n",
              "    <tr>\n",
              "      <th>2765</th>\n",
              "      <td>1.0</td>\n",
              "      <td>0.0</td>\n",
              "      <td>0.0</td>\n",
              "      <td>0.0</td>\n",
              "      <td>1.0</td>\n",
              "      <td>0.0</td>\n",
              "      <td>0.0</td>\n",
              "      <td>0.0</td>\n",
              "      <td>1.0</td>\n",
              "      <td>0.0</td>\n",
              "      <td>...</td>\n",
              "      <td>0.0</td>\n",
              "      <td>0.0</td>\n",
              "      <td>0.0</td>\n",
              "      <td>1.0</td>\n",
              "      <td>0.0</td>\n",
              "      <td>0.0</td>\n",
              "      <td>0.0</td>\n",
              "      <td>0.0</td>\n",
              "      <td>0.0</td>\n",
              "      <td>0.0</td>\n",
              "    </tr>\n",
              "    <tr>\n",
              "      <th>2766</th>\n",
              "      <td>0.0</td>\n",
              "      <td>0.0</td>\n",
              "      <td>0.0</td>\n",
              "      <td>0.0</td>\n",
              "      <td>0.0</td>\n",
              "      <td>1.0</td>\n",
              "      <td>0.0</td>\n",
              "      <td>0.0</td>\n",
              "      <td>1.0</td>\n",
              "      <td>1.0</td>\n",
              "      <td>...</td>\n",
              "      <td>0.0</td>\n",
              "      <td>0.0</td>\n",
              "      <td>0.0</td>\n",
              "      <td>1.0</td>\n",
              "      <td>0.0</td>\n",
              "      <td>0.0</td>\n",
              "      <td>0.0</td>\n",
              "      <td>0.0</td>\n",
              "      <td>0.0</td>\n",
              "      <td>0.0</td>\n",
              "    </tr>\n",
              "    <tr>\n",
              "      <th>2767</th>\n",
              "      <td>0.0</td>\n",
              "      <td>0.0</td>\n",
              "      <td>0.0</td>\n",
              "      <td>0.0</td>\n",
              "      <td>0.0</td>\n",
              "      <td>0.0</td>\n",
              "      <td>0.0</td>\n",
              "      <td>0.0</td>\n",
              "      <td>1.0</td>\n",
              "      <td>0.0</td>\n",
              "      <td>...</td>\n",
              "      <td>0.0</td>\n",
              "      <td>0.0</td>\n",
              "      <td>0.0</td>\n",
              "      <td>0.0</td>\n",
              "      <td>0.0</td>\n",
              "      <td>0.0</td>\n",
              "      <td>0.0</td>\n",
              "      <td>0.0</td>\n",
              "      <td>0.0</td>\n",
              "      <td>0.0</td>\n",
              "    </tr>\n",
              "    <tr>\n",
              "      <th>2768</th>\n",
              "      <td>0.0</td>\n",
              "      <td>0.0</td>\n",
              "      <td>0.0</td>\n",
              "      <td>0.0</td>\n",
              "      <td>0.0</td>\n",
              "      <td>1.0</td>\n",
              "      <td>0.0</td>\n",
              "      <td>0.0</td>\n",
              "      <td>1.0</td>\n",
              "      <td>0.0</td>\n",
              "      <td>...</td>\n",
              "      <td>0.0</td>\n",
              "      <td>0.0</td>\n",
              "      <td>0.0</td>\n",
              "      <td>0.0</td>\n",
              "      <td>0.0</td>\n",
              "      <td>0.0</td>\n",
              "      <td>0.0</td>\n",
              "      <td>0.0</td>\n",
              "      <td>0.0</td>\n",
              "      <td>0.0</td>\n",
              "    </tr>\n",
              "    <tr>\n",
              "      <th>2769</th>\n",
              "      <td>0.0</td>\n",
              "      <td>0.0</td>\n",
              "      <td>0.0</td>\n",
              "      <td>0.0</td>\n",
              "      <td>0.0</td>\n",
              "      <td>0.0</td>\n",
              "      <td>1.0</td>\n",
              "      <td>0.0</td>\n",
              "      <td>0.0</td>\n",
              "      <td>1.0</td>\n",
              "      <td>...</td>\n",
              "      <td>0.0</td>\n",
              "      <td>0.0</td>\n",
              "      <td>0.0</td>\n",
              "      <td>0.0</td>\n",
              "      <td>0.0</td>\n",
              "      <td>1.0</td>\n",
              "      <td>0.0</td>\n",
              "      <td>0.0</td>\n",
              "      <td>0.0</td>\n",
              "      <td>0.0</td>\n",
              "    </tr>\n",
              "  </tbody>\n",
              "</table>\n",
              "<p>2770 rows × 69 columns</p>\n",
              "</div>\n",
              "      <button class=\"colab-df-convert\" onclick=\"convertToInteractive('df-5e5ababc-6f4f-4a45-800e-1797f4727e0d')\"\n",
              "              title=\"Convert this dataframe to an interactive table.\"\n",
              "              style=\"display:none;\">\n",
              "        \n",
              "  <svg xmlns=\"http://www.w3.org/2000/svg\" height=\"24px\"viewBox=\"0 0 24 24\"\n",
              "       width=\"24px\">\n",
              "    <path d=\"M0 0h24v24H0V0z\" fill=\"none\"/>\n",
              "    <path d=\"M18.56 5.44l.94 2.06.94-2.06 2.06-.94-2.06-.94-.94-2.06-.94 2.06-2.06.94zm-11 1L8.5 8.5l.94-2.06 2.06-.94-2.06-.94L8.5 2.5l-.94 2.06-2.06.94zm10 10l.94 2.06.94-2.06 2.06-.94-2.06-.94-.94-2.06-.94 2.06-2.06.94z\"/><path d=\"M17.41 7.96l-1.37-1.37c-.4-.4-.92-.59-1.43-.59-.52 0-1.04.2-1.43.59L10.3 9.45l-7.72 7.72c-.78.78-.78 2.05 0 2.83L4 21.41c.39.39.9.59 1.41.59.51 0 1.02-.2 1.41-.59l7.78-7.78 2.81-2.81c.8-.78.8-2.07 0-2.86zM5.41 20L4 18.59l7.72-7.72 1.47 1.35L5.41 20z\"/>\n",
              "  </svg>\n",
              "      </button>\n",
              "      \n",
              "  <style>\n",
              "    .colab-df-container {\n",
              "      display:flex;\n",
              "      flex-wrap:wrap;\n",
              "      gap: 12px;\n",
              "    }\n",
              "\n",
              "    .colab-df-convert {\n",
              "      background-color: #E8F0FE;\n",
              "      border: none;\n",
              "      border-radius: 50%;\n",
              "      cursor: pointer;\n",
              "      display: none;\n",
              "      fill: #1967D2;\n",
              "      height: 32px;\n",
              "      padding: 0 0 0 0;\n",
              "      width: 32px;\n",
              "    }\n",
              "\n",
              "    .colab-df-convert:hover {\n",
              "      background-color: #E2EBFA;\n",
              "      box-shadow: 0px 1px 2px rgba(60, 64, 67, 0.3), 0px 1px 3px 1px rgba(60, 64, 67, 0.15);\n",
              "      fill: #174EA6;\n",
              "    }\n",
              "\n",
              "    [theme=dark] .colab-df-convert {\n",
              "      background-color: #3B4455;\n",
              "      fill: #D2E3FC;\n",
              "    }\n",
              "\n",
              "    [theme=dark] .colab-df-convert:hover {\n",
              "      background-color: #434B5C;\n",
              "      box-shadow: 0px 1px 3px 1px rgba(0, 0, 0, 0.15);\n",
              "      filter: drop-shadow(0px 1px 2px rgba(0, 0, 0, 0.3));\n",
              "      fill: #FFFFFF;\n",
              "    }\n",
              "  </style>\n",
              "\n",
              "      <script>\n",
              "        const buttonEl =\n",
              "          document.querySelector('#df-5e5ababc-6f4f-4a45-800e-1797f4727e0d button.colab-df-convert');\n",
              "        buttonEl.style.display =\n",
              "          google.colab.kernel.accessAllowed ? 'block' : 'none';\n",
              "\n",
              "        async function convertToInteractive(key) {\n",
              "          const element = document.querySelector('#df-5e5ababc-6f4f-4a45-800e-1797f4727e0d');\n",
              "          const dataTable =\n",
              "            await google.colab.kernel.invokeFunction('convertToInteractive',\n",
              "                                                     [key], {});\n",
              "          if (!dataTable) return;\n",
              "\n",
              "          const docLinkHtml = 'Like what you see? Visit the ' +\n",
              "            '<a target=\"_blank\" href=https://colab.research.google.com/notebooks/data_table.ipynb>data table notebook</a>'\n",
              "            + ' to learn more about interactive tables.';\n",
              "          element.innerHTML = '';\n",
              "          dataTable['output_type'] = 'display_data';\n",
              "          await google.colab.output.renderOutput(dataTable, element);\n",
              "          const docLink = document.createElement('div');\n",
              "          docLink.innerHTML = docLinkHtml;\n",
              "          element.appendChild(docLink);\n",
              "        }\n",
              "      </script>\n",
              "    </div>\n",
              "  </div>\n",
              "  "
            ]
          },
          "metadata": {},
          "execution_count": 765
        }
      ]
    },
    {
      "cell_type": "code",
      "source": [
        "# change values to strings, otherwise MCA does not like it\n",
        "MCA_all.replace({0: \"False\", 1: \"True\"}, inplace = True)"
      ],
      "metadata": {
        "id": "K9i4DKhAEwCp"
      },
      "execution_count": 766,
      "outputs": []
    },
    {
      "cell_type": "code",
      "source": [
        "mca = prince.MCA(n_components = 8) #looking at a model with 8 components"
      ],
      "metadata": {
        "id": "RT-zw9FR343Y"
      },
      "execution_count": 767,
      "outputs": []
    },
    {
      "cell_type": "code",
      "source": [
        "mca = mca.fit(MCA_all)\n",
        "mca = mca.transform(MCA_all) #to print the values\n",
        "print(mca)"
      ],
      "metadata": {
        "colab": {
          "base_uri": "https://localhost:8080/",
          "height": 0
        },
        "id": "oJGXDFlP343Y",
        "outputId": "604456e4-c63a-471c-b88b-266c0a22499d"
      },
      "execution_count": 768,
      "outputs": [
        {
          "output_type": "stream",
          "name": "stdout",
          "text": [
            "             0         1         2         3         4         5         6  \\\n",
            "0    -0.260142  0.107438  0.061538  0.029978 -0.060336  0.221141 -0.104700   \n",
            "1    -0.252190  0.074211  0.523070 -0.062884  0.152856  0.032392 -0.222614   \n",
            "2     0.597204 -0.019056  0.050638  0.265253  0.215825  0.109333  0.356567   \n",
            "3     0.375565 -0.068881  0.035966  0.105975  0.070680 -0.047928  0.059225   \n",
            "4     0.577395 -0.097376  0.160003  0.025370  0.151561  0.035137  0.027060   \n",
            "...        ...       ...       ...       ...       ...       ...       ...   \n",
            "2765  0.264550 -0.107991  0.072464  0.130646  0.249404  0.100752  0.103716   \n",
            "2766 -0.095976 -0.179739 -0.100466 -0.273033  0.465936  0.043481  0.208586   \n",
            "2767  0.190638 -0.088156  0.038662 -0.341883 -0.113898 -0.260683 -0.367366   \n",
            "2768  0.161255 -0.138996 -0.003828 -0.410366 -0.195639 -0.199624 -0.356558   \n",
            "2769  0.025881  0.385126 -0.167269 -0.029504  0.044070 -0.181421 -0.058286   \n",
            "\n",
            "             7  \n",
            "0    -0.057477  \n",
            "1     0.207369  \n",
            "2    -0.121650  \n",
            "3    -0.004471  \n",
            "4    -0.228935  \n",
            "...        ...  \n",
            "2765  0.184921  \n",
            "2766  0.206608  \n",
            "2767  0.067911  \n",
            "2768  0.066143  \n",
            "2769 -0.042664  \n",
            "\n",
            "[2770 rows x 8 columns]\n"
          ]
        }
      ]
    },
    {
      "cell_type": "code",
      "source": [
        "mca = prince.MCA(n_components = 8)\n",
        "mca = mca.fit(MCA_all)"
      ],
      "metadata": {
        "id": "tYuRes4hDg6S"
      },
      "execution_count": 769,
      "outputs": []
    },
    {
      "cell_type": "code",
      "source": [
        "mca.total_inertia_"
      ],
      "metadata": {
        "colab": {
          "base_uri": "https://localhost:8080/",
          "height": 0
        },
        "id": "TmlUC8XtEAxn",
        "outputId": "802500c5-7ef3-4696-cb02-858d903e000b"
      },
      "execution_count": 770,
      "outputs": [
        {
          "output_type": "execute_result",
          "data": {
            "text/plain": [
              "1.0"
            ]
          },
          "metadata": {},
          "execution_count": 770
        }
      ]
    },
    {
      "cell_type": "code",
      "source": [
        "mca.explained_inertia_ #inclusion of MCA dimensions with inertia above 0.2 ()"
      ],
      "metadata": {
        "colab": {
          "base_uri": "https://localhost:8080/",
          "height": 0
        },
        "id": "1Aj8Wqm5DYS1",
        "outputId": "e8784a90-805b-497e-9eb6-5306d19387bc"
      },
      "execution_count": 771,
      "outputs": [
        {
          "output_type": "execute_result",
          "data": {
            "text/plain": [
              "[0.059740958145521654,\n",
              " 0.03887265055883502,\n",
              " 0.033620668648077494,\n",
              " 0.028651994287686552,\n",
              " 0.02593196738800967,\n",
              " 0.023702842770757477,\n",
              " 0.02262349183613576,\n",
              " 0.02116952799010356]"
            ]
          },
          "metadata": {},
          "execution_count": 771
        }
      ]
    },
    {
      "cell_type": "code",
      "source": [
        "# create a plot of this"
      ],
      "metadata": {
        "id": "p9iS9xnpEKMz"
      },
      "execution_count": 772,
      "outputs": []
    },
    {
      "cell_type": "code",
      "source": [
        "mca.eigenvalues_ #same values as explained inertia (strange?)"
      ],
      "metadata": {
        "colab": {
          "base_uri": "https://localhost:8080/",
          "height": 0
        },
        "id": "1lfpdunsPUQl",
        "outputId": "80e856db-4dc6-4a33-8554-743b5ec0b97a"
      },
      "execution_count": 773,
      "outputs": [
        {
          "output_type": "execute_result",
          "data": {
            "text/plain": [
              "[0.059740958145521654,\n",
              " 0.03887265055883502,\n",
              " 0.033620668648077494,\n",
              " 0.028651994287686552,\n",
              " 0.02593196738800967,\n",
              " 0.023702842770757477,\n",
              " 0.02262349183613576,\n",
              " 0.02116952799010356]"
            ]
          },
          "metadata": {},
          "execution_count": 773
        }
      ]
    },
    {
      "cell_type": "code",
      "source": [
        "# rerunning MCA fit in order to plot\n",
        "mca = prince.MCA(n_components = 8)\n",
        "mca = mca.fit(MCA_all) "
      ],
      "metadata": {
        "id": "2XEngWmo343Y"
      },
      "execution_count": 774,
      "outputs": []
    },
    {
      "cell_type": "markdown",
      "source": [
        "Just plotting this to have a peek but not very useful: a bit too much information. (Removing the legend gives an error but makes it much easier to look at the plot!)\n",
        "\n",
        "We can see some distance between points pertaining to human climbing errors (e.g., lowering error, knot&tie error) on the left and more external 'errors' (e.g., avalanche and party separated) on the right."
      ],
      "metadata": {
        "id": "NL7-F9uXK88Y"
      }
    },
    {
      "cell_type": "code",
      "source": [
        "ax = mca.plot_coordinates(\n",
        "     X=MCA_all,\n",
        "     ax=None,\n",
        "     figsize=(15, 15),\n",
        "     show_row_points=False,\n",
        "     row_points_size=10,\n",
        "     show_row_labels=False,\n",
        "     show_column_points=True,\n",
        "     column_points_size=100,\n",
        "     show_column_labels=True,\n",
        "     legend_n_cols=1, #legend_n_cols=False makes it possible to see the plot\n",
        "     )"
      ],
      "metadata": {
        "colab": {
          "base_uri": "https://localhost:8080/",
          "height": 1000
        },
        "id": "08uclrTj71aK",
        "outputId": "558c3019-5c89-4339-b4f0-b943f895977b"
      },
      "execution_count": 775,
      "outputs": [
        {
          "output_type": "display_data",
          "data": {
            "text/plain": [
              "<Figure size 1080x1080 with 1 Axes>"
            ],
            "image/png": "[encoded data removed]"
          },
          "metadata": {
            "needs_background": "light"
          }
        }
      ]
    },
    {
      "cell_type": "markdown",
      "source": [
        "**Anyway, we need to select some more specific variabels to get a more clear pictures. What can also help aid interpretation, is to include the variables grouped into their categories instead of as individual dummy variables.**"
      ],
      "metadata": {
        "id": "y3V5NEOeShyk"
      }
    },
    {
      "cell_type": "markdown",
      "source": [
        "# MCA - grouped variables"
      ],
      "metadata": {
        "id": "K15_T37SQnQ_"
      }
    },
    {
      "cell_type": "markdown",
      "source": [
        "## MCA seriousness, type of climbing, experience, causes"
      ],
      "metadata": {
        "id": "d3OU-rqJbkrW"
      }
    },
    {
      "cell_type": "code",
      "source": [
        "# select columns to be included in MCA\n",
        "MCA_causes = AAC_serious_type_experience_age_nature_causes[['Seriousness', 'Type_climbing', 'Experience', 'Causes']]"
      ],
      "metadata": {
        "id": "PuUR4_Sfbc5Q"
      },
      "execution_count": 776,
      "outputs": []
    },
    {
      "cell_type": "code",
      "source": [
        "# drop NA because MCA does not take NA: only 2008 accidents left\n",
        "MCA_causes = MCA_causes.dropna()"
      ],
      "metadata": {
        "id": "1-Y7xYI3bc5R"
      },
      "execution_count": 777,
      "outputs": []
    },
    {
      "cell_type": "code",
      "source": [
        "MCA_causes"
      ],
      "metadata": {
        "colab": {
          "base_uri": "https://localhost:8080/",
          "height": 424
        },
        "id": "ZTOhsOXpFluF",
        "outputId": "47dce50b-5235-4b1c-e7ad-e35202553bf8"
      },
      "execution_count": 778,
      "outputs": [
        {
          "output_type": "execute_result",
          "data": {
            "text/plain": [
              "     Seriousness Type_climbing   Experience                          Causes\n",
              "5          Minor          Solo  Experienced            Inadequate Equipment\n",
              "16       Serious          Solo    No/Little            Inadequate Equipment\n",
              "17       Serious          Solo    No/Little            Inadequate Equipment\n",
              "18       Serious          Solo    No/Little            Inadequate Equipment\n",
              "19        Deadly          Solo    No/Little                       No Helmet\n",
              "...          ...           ...          ...                             ...\n",
              "6743      Deadly          Solo    No/Little                       Off-route\n",
              "6744      Deadly          Solo    No/Little            Inadequate Equipment\n",
              "6748      Deadly          Solo    No/Little            Inadequate Equipment\n",
              "6757      Deadly          Solo    No/Little                     Large Group\n",
              "6758      Deadly          Solo    No/Little  Inadequate Protection / Pulled\n",
              "\n",
              "[2008 rows x 4 columns]"
            ],
            "text/html": [
              "\n",
              "  <div id=\"df-9f994819-9703-485c-a164-c60fab4e49e5\">\n",
              "    <div class=\"colab-df-container\">\n",
              "      <div>\n",
              "<style scoped>\n",
              "    .dataframe tbody tr th:only-of-type {\n",
              "        vertical-align: middle;\n",
              "    }\n",
              "\n",
              "    .dataframe tbody tr th {\n",
              "        vertical-align: top;\n",
              "    }\n",
              "\n",
              "    .dataframe thead th {\n",
              "        text-align: right;\n",
              "    }\n",
              "</style>\n",
              "<table border=\"1\" class=\"dataframe\">\n",
              "  <thead>\n",
              "    <tr style=\"text-align: right;\">\n",
              "      <th></th>\n",
              "      <th>Seriousness</th>\n",
              "      <th>Type_climbing</th>\n",
              "      <th>Experience</th>\n",
              "      <th>Causes</th>\n",
              "    </tr>\n",
              "  </thead>\n",
              "  <tbody>\n",
              "    <tr>\n",
              "      <th>5</th>\n",
              "      <td>Minor</td>\n",
              "      <td>Solo</td>\n",
              "      <td>Experienced</td>\n",
              "      <td>Inadequate Equipment</td>\n",
              "    </tr>\n",
              "    <tr>\n",
              "      <th>16</th>\n",
              "      <td>Serious</td>\n",
              "      <td>Solo</td>\n",
              "      <td>No/Little</td>\n",
              "      <td>Inadequate Equipment</td>\n",
              "    </tr>\n",
              "    <tr>\n",
              "      <th>17</th>\n",
              "      <td>Serious</td>\n",
              "      <td>Solo</td>\n",
              "      <td>No/Little</td>\n",
              "      <td>Inadequate Equipment</td>\n",
              "    </tr>\n",
              "    <tr>\n",
              "      <th>18</th>\n",
              "      <td>Serious</td>\n",
              "      <td>Solo</td>\n",
              "      <td>No/Little</td>\n",
              "      <td>Inadequate Equipment</td>\n",
              "    </tr>\n",
              "    <tr>\n",
              "      <th>19</th>\n",
              "      <td>Deadly</td>\n",
              "      <td>Solo</td>\n",
              "      <td>No/Little</td>\n",
              "      <td>No Helmet</td>\n",
              "    </tr>\n",
              "    <tr>\n",
              "      <th>...</th>\n",
              "      <td>...</td>\n",
              "      <td>...</td>\n",
              "      <td>...</td>\n",
              "      <td>...</td>\n",
              "    </tr>\n",
              "    <tr>\n",
              "      <th>6743</th>\n",
              "      <td>Deadly</td>\n",
              "      <td>Solo</td>\n",
              "      <td>No/Little</td>\n",
              "      <td>Off-route</td>\n",
              "    </tr>\n",
              "    <tr>\n",
              "      <th>6744</th>\n",
              "      <td>Deadly</td>\n",
              "      <td>Solo</td>\n",
              "      <td>No/Little</td>\n",
              "      <td>Inadequate Equipment</td>\n",
              "    </tr>\n",
              "    <tr>\n",
              "      <th>6748</th>\n",
              "      <td>Deadly</td>\n",
              "      <td>Solo</td>\n",
              "      <td>No/Little</td>\n",
              "      <td>Inadequate Equipment</td>\n",
              "    </tr>\n",
              "    <tr>\n",
              "      <th>6757</th>\n",
              "      <td>Deadly</td>\n",
              "      <td>Solo</td>\n",
              "      <td>No/Little</td>\n",
              "      <td>Large Group</td>\n",
              "    </tr>\n",
              "    <tr>\n",
              "      <th>6758</th>\n",
              "      <td>Deadly</td>\n",
              "      <td>Solo</td>\n",
              "      <td>No/Little</td>\n",
              "      <td>Inadequate Protection / Pulled</td>\n",
              "    </tr>\n",
              "  </tbody>\n",
              "</table>\n",
              "<p>2008 rows × 4 columns</p>\n",
              "</div>\n",
              "      <button class=\"colab-df-convert\" onclick=\"convertToInteractive('df-9f994819-9703-485c-a164-c60fab4e49e5')\"\n",
              "              title=\"Convert this dataframe to an interactive table.\"\n",
              "              style=\"display:none;\">\n",
              "        \n",
              "  <svg xmlns=\"http://www.w3.org/2000/svg\" height=\"24px\"viewBox=\"0 0 24 24\"\n",
              "       width=\"24px\">\n",
              "    <path d=\"M0 0h24v24H0V0z\" fill=\"none\"/>\n",
              "    <path d=\"M18.56 5.44l.94 2.06.94-2.06 2.06-.94-2.06-.94-.94-2.06-.94 2.06-2.06.94zm-11 1L8.5 8.5l.94-2.06 2.06-.94-2.06-.94L8.5 2.5l-.94 2.06-2.06.94zm10 10l.94 2.06.94-2.06 2.06-.94-2.06-.94-.94-2.06-.94 2.06-2.06.94z\"/><path d=\"M17.41 7.96l-1.37-1.37c-.4-.4-.92-.59-1.43-.59-.52 0-1.04.2-1.43.59L10.3 9.45l-7.72 7.72c-.78.78-.78 2.05 0 2.83L4 21.41c.39.39.9.59 1.41.59.51 0 1.02-.2 1.41-.59l7.78-7.78 2.81-2.81c.8-.78.8-2.07 0-2.86zM5.41 20L4 18.59l7.72-7.72 1.47 1.35L5.41 20z\"/>\n",
              "  </svg>\n",
              "      </button>\n",
              "      \n",
              "  <style>\n",
              "    .colab-df-container {\n",
              "      display:flex;\n",
              "      flex-wrap:wrap;\n",
              "      gap: 12px;\n",
              "    }\n",
              "\n",
              "    .colab-df-convert {\n",
              "      background-color: #E8F0FE;\n",
              "      border: none;\n",
              "      border-radius: 50%;\n",
              "      cursor: pointer;\n",
              "      display: none;\n",
              "      fill: #1967D2;\n",
              "      height: 32px;\n",
              "      padding: 0 0 0 0;\n",
              "      width: 32px;\n",
              "    }\n",
              "\n",
              "    .colab-df-convert:hover {\n",
              "      background-color: #E2EBFA;\n",
              "      box-shadow: 0px 1px 2px rgba(60, 64, 67, 0.3), 0px 1px 3px 1px rgba(60, 64, 67, 0.15);\n",
              "      fill: #174EA6;\n",
              "    }\n",
              "\n",
              "    [theme=dark] .colab-df-convert {\n",
              "      background-color: #3B4455;\n",
              "      fill: #D2E3FC;\n",
              "    }\n",
              "\n",
              "    [theme=dark] .colab-df-convert:hover {\n",
              "      background-color: #434B5C;\n",
              "      box-shadow: 0px 1px 3px 1px rgba(0, 0, 0, 0.15);\n",
              "      filter: drop-shadow(0px 1px 2px rgba(0, 0, 0, 0.3));\n",
              "      fill: #FFFFFF;\n",
              "    }\n",
              "  </style>\n",
              "\n",
              "      <script>\n",
              "        const buttonEl =\n",
              "          document.querySelector('#df-9f994819-9703-485c-a164-c60fab4e49e5 button.colab-df-convert');\n",
              "        buttonEl.style.display =\n",
              "          google.colab.kernel.accessAllowed ? 'block' : 'none';\n",
              "\n",
              "        async function convertToInteractive(key) {\n",
              "          const element = document.querySelector('#df-9f994819-9703-485c-a164-c60fab4e49e5');\n",
              "          const dataTable =\n",
              "            await google.colab.kernel.invokeFunction('convertToInteractive',\n",
              "                                                     [key], {});\n",
              "          if (!dataTable) return;\n",
              "\n",
              "          const docLinkHtml = 'Like what you see? Visit the ' +\n",
              "            '<a target=\"_blank\" href=https://colab.research.google.com/notebooks/data_table.ipynb>data table notebook</a>'\n",
              "            + ' to learn more about interactive tables.';\n",
              "          element.innerHTML = '';\n",
              "          dataTable['output_type'] = 'display_data';\n",
              "          await google.colab.output.renderOutput(dataTable, element);\n",
              "          const docLink = document.createElement('div');\n",
              "          docLink.innerHTML = docLinkHtml;\n",
              "          element.appendChild(docLink);\n",
              "        }\n",
              "      </script>\n",
              "    </div>\n",
              "  </div>\n",
              "  "
            ]
          },
          "metadata": {},
          "execution_count": 778
        }
      ]
    },
    {
      "cell_type": "markdown",
      "source": [
        "Adding more components to our MCA model does not seem to explain more variance. All dimensions explain more or less 3-4.7%."
      ],
      "metadata": {
        "id": "rY-B1-fMj0NV"
      }
    },
    {
      "cell_type": "code",
      "source": [
        "mca = prince.MCA(n_components = 8)\n",
        "mca = mca.fit(MCA_causes)\n",
        "mca.explained_inertia_ #inertia per dimension"
      ],
      "metadata": {
        "id": "-fKLCajObc5R",
        "colab": {
          "base_uri": "https://localhost:8080/",
          "height": 0
        },
        "outputId": "8b6dd519-3f67-484a-a73c-985d8ad6efcb"
      },
      "execution_count": 779,
      "outputs": [
        {
          "output_type": "execute_result",
          "data": {
            "text/plain": [
              "[0.04737453274815709,\n",
              " 0.04198747620978219,\n",
              " 0.03613953125991768,\n",
              " 0.03461527957833703,\n",
              " 0.03261970844556255,\n",
              " 0.03118337974208936,\n",
              " 0.029676033283185337,\n",
              " 0.028571428571428584]"
            ]
          },
          "metadata": {},
          "execution_count": 779
        }
      ]
    },
    {
      "cell_type": "code",
      "source": [
        "mca.total_inertia_ #total inertia"
      ],
      "metadata": {
        "colab": {
          "base_uri": "https://localhost:8080/",
          "height": 0
        },
        "id": "r6r0CHj7kVlB",
        "outputId": "bb10dba2-b196-4a6b-8365-05f954772f2a"
      },
      "execution_count": 780,
      "outputs": [
        {
          "output_type": "execute_result",
          "data": {
            "text/plain": [
              "8.75"
            ]
          },
          "metadata": {},
          "execution_count": 780
        }
      ]
    },
    {
      "cell_type": "code",
      "source": [
        "mca = prince.MCA(n_components = 4)\n",
        "mca = mca.fit(MCA_causes)\n",
        "mca.explained_inertia_"
      ],
      "metadata": {
        "colab": {
          "base_uri": "https://localhost:8080/",
          "height": 0
        },
        "id": "LAwLtsf2jqX-",
        "outputId": "ad71823d-9051-43fa-d872-a6e1d97a1f11"
      },
      "execution_count": 781,
      "outputs": [
        {
          "output_type": "execute_result",
          "data": {
            "text/plain": [
              "[0.04737364607870076,\n",
              " 0.04198147473203521,\n",
              " 0.036120186583935524,\n",
              " 0.03460977500731967]"
            ]
          },
          "metadata": {},
          "execution_count": 781
        }
      ]
    },
    {
      "cell_type": "code",
      "source": [
        "mca.total_inertia_ #total inertia"
      ],
      "metadata": {
        "colab": {
          "base_uri": "https://localhost:8080/",
          "height": 0
        },
        "id": "lbtHPw1ZkabS",
        "outputId": "e6186dda-acbf-49be-df0a-74c76d82c573"
      },
      "execution_count": 782,
      "outputs": [
        {
          "output_type": "execute_result",
          "data": {
            "text/plain": [
              "8.75"
            ]
          },
          "metadata": {},
          "execution_count": 782
        }
      ]
    },
    {
      "cell_type": "markdown",
      "source": [
        "Printing those for 2 dimensions that will be plotted"
      ],
      "metadata": {
        "id": "ms2KDszdkbw0"
      }
    },
    {
      "cell_type": "code",
      "source": [
        "mca = prince.MCA(n_components = 2)\n",
        "mca = mca.fit(MCA_causes)\n",
        "mca = mca.transform(MCA_causes)\n",
        "print(mca)"
      ],
      "metadata": {
        "colab": {
          "base_uri": "https://localhost:8080/",
          "height": 0
        },
        "outputId": "50cb58f7-2cda-451d-f17e-75ee7f6da3ee",
        "id": "omxtrqV1bc5R"
      },
      "execution_count": 783,
      "outputs": [
        {
          "output_type": "stream",
          "name": "stdout",
          "text": [
            "             0         1\n",
            "5    -1.076795 -0.005847\n",
            "16   -0.944715 -0.371724\n",
            "17   -0.944715 -0.371724\n",
            "18   -0.944715 -0.371724\n",
            "19   -0.978501 -0.908777\n",
            "...        ...       ...\n",
            "6743 -1.280348 -0.652476\n",
            "6744 -1.439159 -0.596125\n",
            "6748 -1.439159 -0.596125\n",
            "6757 -1.157481 -1.090145\n",
            "6758 -0.762117 -0.549587\n",
            "\n",
            "[2008 rows x 2 columns]\n"
          ]
        }
      ]
    },
    {
      "cell_type": "code",
      "source": [
        "mca = prince.MCA(n_components = 2)\n",
        "mca = mca.fit(MCA_causes) #rerun for plotting"
      ],
      "metadata": {
        "id": "NFovqF2Qbc5R"
      },
      "execution_count": 784,
      "outputs": []
    },
    {
      "cell_type": "code",
      "source": [
        "mca.total_inertia_"
      ],
      "metadata": {
        "colab": {
          "base_uri": "https://localhost:8080/",
          "height": 0
        },
        "outputId": "ab3a7599-2da9-445e-fe1a-bc7eefa964c6",
        "id": "u4E_q3ElV5cq"
      },
      "execution_count": 785,
      "outputs": [
        {
          "output_type": "execute_result",
          "data": {
            "text/plain": [
              "8.75"
            ]
          },
          "metadata": {},
          "execution_count": 785
        }
      ]
    },
    {
      "cell_type": "code",
      "source": [
        "mca.explained_inertia_ #inclusion of MCA dimensions with inertia above 0.2 ()"
      ],
      "metadata": {
        "colab": {
          "base_uri": "https://localhost:8080/",
          "height": 0
        },
        "outputId": "76644cf7-b6fb-4c49-9383-f996986adcc1",
        "id": "r46Epl-qV5cr"
      },
      "execution_count": 786,
      "outputs": [
        {
          "output_type": "execute_result",
          "data": {
            "text/plain": [
              "[0.04737291918217758, 0.04197998596882203]"
            ]
          },
          "metadata": {},
          "execution_count": 786
        }
      ]
    },
    {
      "cell_type": "code",
      "source": [
        "mca.eigenvalues_ #same values as explained inertia"
      ],
      "metadata": {
        "colab": {
          "base_uri": "https://localhost:8080/",
          "height": 0
        },
        "outputId": "39de56d1-7c4c-4f46-fcc7-ecff95f6471d",
        "id": "r3f16HcEV5cr"
      },
      "execution_count": 787,
      "outputs": [
        {
          "output_type": "execute_result",
          "data": {
            "text/plain": [
              "[0.4145130428440538, 0.36732487722719276]"
            ]
          },
          "metadata": {},
          "execution_count": 787
        }
      ]
    },
    {
      "cell_type": "markdown",
      "source": [
        "In the plot we can see that "
      ],
      "metadata": {
        "id": "BxtJm7EKh0pU"
      }
    },
    {
      "cell_type": "code",
      "source": [
        "ax = mca.plot_coordinates(\n",
        "     X=MCA_causes,\n",
        "     ax=None,\n",
        "     figsize=(15, 15),\n",
        "     show_row_points=False,\n",
        "     row_points_size=10,\n",
        "     show_row_labels=False,\n",
        "     show_column_points=True,\n",
        "     column_points_size=100,\n",
        "     show_column_labels=True,\n",
        "     legend_n_cols=1\n",
        "     )"
      ],
      "metadata": {
        "colab": {
          "base_uri": "https://localhost:8080/",
          "height": 893
        },
        "outputId": "7c14810e-3f10-4220-adba-4f2e0a683af6",
        "id": "XWox5Ibibc5R"
      },
      "execution_count": 788,
      "outputs": [
        {
          "output_type": "display_data",
          "data": {
            "text/plain": [
              "<Figure size 1080x1080 with 1 Axes>"
            ],
            "image/png": "[encoded data removed]"
          },
          "metadata": {
            "needs_background": "light"
          }
        }
      ]
    },
    {
      "cell_type": "markdown",
      "source": [
        "# Crosstabs"
      ],
      "metadata": {
        "id": "iRwy7fQtF6bB"
      }
    },
    {
      "cell_type": "markdown",
      "source": [
        "## Seriousness by type of climbing"
      ],
      "metadata": {
        "id": "Ubu78D1B2ZHx"
      }
    },
    {
      "cell_type": "code",
      "source": [
        "pd.crosstab(AAC_serious_type_experience_age.Seriousness, AAC_serious_type_experience_age.Type_climbing, margins=True, margins_name=\"Total\", \n",
        "            rownames = [\"Seriousness of Accident\"], colnames = [\"Type of Climbing\"])"
      ],
      "metadata": {
        "id": "-Bzt7LkehJVT",
        "colab": {
          "base_uri": "https://localhost:8080/",
          "height": 206
        },
        "outputId": "c04c4059-4a38-4ed1-bfa5-9e5b21e0c481"
      },
      "execution_count": 789,
      "outputs": [
        {
          "output_type": "execute_result",
          "data": {
            "text/plain": [
              "Type of Climbing         Bouldering  Solo  Sport  Trad Climbing  Total\n",
              "Seriousness of Accident                                               \n",
              "Minor                             0    40     17            140    197\n",
              "Serious                          16   321    142            837   1316\n",
              "Deadly                            0   242     17            176    435\n",
              "Total                            16   603    176           1153   1948"
            ],
            "text/html": [
              "\n",
              "  <div id=\"df-98a3fa8f-4ff1-4e3b-94f6-0ef51f8f463f\">\n",
              "    <div class=\"colab-df-container\">\n",
              "      <div>\n",
              "<style scoped>\n",
              "    .dataframe tbody tr th:only-of-type {\n",
              "        vertical-align: middle;\n",
              "    }\n",
              "\n",
              "    .dataframe tbody tr th {\n",
              "        vertical-align: top;\n",
              "    }\n",
              "\n",
              "    .dataframe thead th {\n",
              "        text-align: right;\n",
              "    }\n",
              "</style>\n",
              "<table border=\"1\" class=\"dataframe\">\n",
              "  <thead>\n",
              "    <tr style=\"text-align: right;\">\n",
              "      <th>Type of Climbing</th>\n",
              "      <th>Bouldering</th>\n",
              "      <th>Solo</th>\n",
              "      <th>Sport</th>\n",
              "      <th>Trad Climbing</th>\n",
              "      <th>Total</th>\n",
              "    </tr>\n",
              "    <tr>\n",
              "      <th>Seriousness of Accident</th>\n",
              "      <th></th>\n",
              "      <th></th>\n",
              "      <th></th>\n",
              "      <th></th>\n",
              "      <th></th>\n",
              "    </tr>\n",
              "  </thead>\n",
              "  <tbody>\n",
              "    <tr>\n",
              "      <th>Minor</th>\n",
              "      <td>0</td>\n",
              "      <td>40</td>\n",
              "      <td>17</td>\n",
              "      <td>140</td>\n",
              "      <td>197</td>\n",
              "    </tr>\n",
              "    <tr>\n",
              "      <th>Serious</th>\n",
              "      <td>16</td>\n",
              "      <td>321</td>\n",
              "      <td>142</td>\n",
              "      <td>837</td>\n",
              "      <td>1316</td>\n",
              "    </tr>\n",
              "    <tr>\n",
              "      <th>Deadly</th>\n",
              "      <td>0</td>\n",
              "      <td>242</td>\n",
              "      <td>17</td>\n",
              "      <td>176</td>\n",
              "      <td>435</td>\n",
              "    </tr>\n",
              "    <tr>\n",
              "      <th>Total</th>\n",
              "      <td>16</td>\n",
              "      <td>603</td>\n",
              "      <td>176</td>\n",
              "      <td>1153</td>\n",
              "      <td>1948</td>\n",
              "    </tr>\n",
              "  </tbody>\n",
              "</table>\n",
              "</div>\n",
              "      <button class=\"colab-df-convert\" onclick=\"convertToInteractive('df-98a3fa8f-4ff1-4e3b-94f6-0ef51f8f463f')\"\n",
              "              title=\"Convert this dataframe to an interactive table.\"\n",
              "              style=\"display:none;\">\n",
              "        \n",
              "  <svg xmlns=\"http://www.w3.org/2000/svg\" height=\"24px\"viewBox=\"0 0 24 24\"\n",
              "       width=\"24px\">\n",
              "    <path d=\"M0 0h24v24H0V0z\" fill=\"none\"/>\n",
              "    <path d=\"M18.56 5.44l.94 2.06.94-2.06 2.06-.94-2.06-.94-.94-2.06-.94 2.06-2.06.94zm-11 1L8.5 8.5l.94-2.06 2.06-.94-2.06-.94L8.5 2.5l-.94 2.06-2.06.94zm10 10l.94 2.06.94-2.06 2.06-.94-2.06-.94-.94-2.06-.94 2.06-2.06.94z\"/><path d=\"M17.41 7.96l-1.37-1.37c-.4-.4-.92-.59-1.43-.59-.52 0-1.04.2-1.43.59L10.3 9.45l-7.72 7.72c-.78.78-.78 2.05 0 2.83L4 21.41c.39.39.9.59 1.41.59.51 0 1.02-.2 1.41-.59l7.78-7.78 2.81-2.81c.8-.78.8-2.07 0-2.86zM5.41 20L4 18.59l7.72-7.72 1.47 1.35L5.41 20z\"/>\n",
              "  </svg>\n",
              "      </button>\n",
              "      \n",
              "  <style>\n",
              "    .colab-df-container {\n",
              "      display:flex;\n",
              "      flex-wrap:wrap;\n",
              "      gap: 12px;\n",
              "    }\n",
              "\n",
              "    .colab-df-convert {\n",
              "      background-color: #E8F0FE;\n",
              "      border: none;\n",
              "      border-radius: 50%;\n",
              "      cursor: pointer;\n",
              "      display: none;\n",
              "      fill: #1967D2;\n",
              "      height: 32px;\n",
              "      padding: 0 0 0 0;\n",
              "      width: 32px;\n",
              "    }\n",
              "\n",
              "    .colab-df-convert:hover {\n",
              "      background-color: #E2EBFA;\n",
              "      box-shadow: 0px 1px 2px rgba(60, 64, 67, 0.3), 0px 1px 3px 1px rgba(60, 64, 67, 0.15);\n",
              "      fill: #174EA6;\n",
              "    }\n",
              "\n",
              "    [theme=dark] .colab-df-convert {\n",
              "      background-color: #3B4455;\n",
              "      fill: #D2E3FC;\n",
              "    }\n",
              "\n",
              "    [theme=dark] .colab-df-convert:hover {\n",
              "      background-color: #434B5C;\n",
              "      box-shadow: 0px 1px 3px 1px rgba(0, 0, 0, 0.15);\n",
              "      filter: drop-shadow(0px 1px 2px rgba(0, 0, 0, 0.3));\n",
              "      fill: #FFFFFF;\n",
              "    }\n",
              "  </style>\n",
              "\n",
              "      <script>\n",
              "        const buttonEl =\n",
              "          document.querySelector('#df-98a3fa8f-4ff1-4e3b-94f6-0ef51f8f463f button.colab-df-convert');\n",
              "        buttonEl.style.display =\n",
              "          google.colab.kernel.accessAllowed ? 'block' : 'none';\n",
              "\n",
              "        async function convertToInteractive(key) {\n",
              "          const element = document.querySelector('#df-98a3fa8f-4ff1-4e3b-94f6-0ef51f8f463f');\n",
              "          const dataTable =\n",
              "            await google.colab.kernel.invokeFunction('convertToInteractive',\n",
              "                                                     [key], {});\n",
              "          if (!dataTable) return;\n",
              "\n",
              "          const docLinkHtml = 'Like what you see? Visit the ' +\n",
              "            '<a target=\"_blank\" href=https://colab.research.google.com/notebooks/data_table.ipynb>data table notebook</a>'\n",
              "            + ' to learn more about interactive tables.';\n",
              "          element.innerHTML = '';\n",
              "          dataTable['output_type'] = 'display_data';\n",
              "          await google.colab.output.renderOutput(dataTable, element);\n",
              "          const docLink = document.createElement('div');\n",
              "          docLink.innerHTML = docLinkHtml;\n",
              "          element.appendChild(docLink);\n",
              "        }\n",
              "      </script>\n",
              "    </div>\n",
              "  </div>\n",
              "  "
            ]
          },
          "metadata": {},
          "execution_count": 789
        }
      ]
    },
    {
      "cell_type": "code",
      "source": [
        "# heatmap of crosstab\n",
        "sns.heatmap(pd.crosstab(AAC_serious_type_experience_age.Seriousness, AAC_serious_type_experience_age.Type_climbing),\n",
        "            cmap=\"YlGnBu\", annot=True, fmt = \".3g\", cbar=False)"
      ],
      "metadata": {
        "id": "spCXaFJilyfv",
        "colab": {
          "base_uri": "https://localhost:8080/",
          "height": 297
        },
        "outputId": "ce2b092e-3db8-4a75-8920-7b5d56efc275"
      },
      "execution_count": 790,
      "outputs": [
        {
          "output_type": "execute_result",
          "data": {
            "text/plain": [
              "<matplotlib.axes._subplots.AxesSubplot at 0x7fdbc2d0a650>"
            ]
          },
          "metadata": {},
          "execution_count": 790
        },
        {
          "output_type": "display_data",
          "data": {
            "text/plain": [
              "<Figure size 432x288 with 1 Axes>"
            ],
            "image/png": "[encoded data removed]"
          },
          "metadata": {
            "needs_background": "light"
          }
        }
      ]
    },
    {
      "cell_type": "code",
      "source": [
        "contingency = pd.crosstab(AAC_serious_type_experience_age.Seriousness, AAC_serious_type_experience_age.Type_climbing)\n",
        "# Chi-square test of independence. \n",
        "chi2, p, dof, expected = stats.chi2_contingency(contingency) \n",
        "# Print the p-value\n",
        "print(p)"
      ],
      "metadata": {
        "id": "55QUOdS7OGnb",
        "colab": {
          "base_uri": "https://localhost:8080/",
          "height": 0
        },
        "outputId": "e0e34b55-d3fd-42ef-b15d-81d870f60789"
      },
      "execution_count": 791,
      "outputs": [
        {
          "output_type": "stream",
          "name": "stdout",
          "text": [
            "3.08143804250749e-34\n"
          ]
        }
      ]
    },
    {
      "cell_type": "markdown",
      "source": [
        "## Seriouness by experience"
      ],
      "metadata": {
        "id": "2k6S96Gt3CM8"
      }
    },
    {
      "cell_type": "code",
      "source": [
        "pd.crosstab(AAC_serious_type_experience_age.Seriousness, AAC_serious_type_experience_age.Experience, margins=True, margins_name=\"Total\", \n",
        "            rownames = [\"Seriousness of Accident\"], colnames = [\"Experience\"])"
      ],
      "metadata": {
        "id": "btJprmS63GGF",
        "colab": {
          "base_uri": "https://localhost:8080/",
          "height": 206
        },
        "outputId": "70e12c3f-cbff-4fe9-993e-5a37fc448001"
      },
      "execution_count": 792,
      "outputs": [
        {
          "output_type": "execute_result",
          "data": {
            "text/plain": [
              "Experience               No/Little  Moderate  Experienced  Total\n",
              "Seriousness of Accident                                         \n",
              "Minor                          127        20           72    219\n",
              "Serious                        535        89          477   1101\n",
              "Deadly                         154        44          253    451\n",
              "Total                          816       153          802   1771"
            ],
            "text/html": [
              "\n",
              "  <div id=\"df-27f535e7-ead4-4390-9d2d-0c98b028e935\">\n",
              "    <div class=\"colab-df-container\">\n",
              "      <div>\n",
              "<style scoped>\n",
              "    .dataframe tbody tr th:only-of-type {\n",
              "        vertical-align: middle;\n",
              "    }\n",
              "\n",
              "    .dataframe tbody tr th {\n",
              "        vertical-align: top;\n",
              "    }\n",
              "\n",
              "    .dataframe thead th {\n",
              "        text-align: right;\n",
              "    }\n",
              "</style>\n",
              "<table border=\"1\" class=\"dataframe\">\n",
              "  <thead>\n",
              "    <tr style=\"text-align: right;\">\n",
              "      <th>Experience</th>\n",
              "      <th>No/Little</th>\n",
              "      <th>Moderate</th>\n",
              "      <th>Experienced</th>\n",
              "      <th>Total</th>\n",
              "    </tr>\n",
              "    <tr>\n",
              "      <th>Seriousness of Accident</th>\n",
              "      <th></th>\n",
              "      <th></th>\n",
              "      <th></th>\n",
              "      <th></th>\n",
              "    </tr>\n",
              "  </thead>\n",
              "  <tbody>\n",
              "    <tr>\n",
              "      <th>Minor</th>\n",
              "      <td>127</td>\n",
              "      <td>20</td>\n",
              "      <td>72</td>\n",
              "      <td>219</td>\n",
              "    </tr>\n",
              "    <tr>\n",
              "      <th>Serious</th>\n",
              "      <td>535</td>\n",
              "      <td>89</td>\n",
              "      <td>477</td>\n",
              "      <td>1101</td>\n",
              "    </tr>\n",
              "    <tr>\n",
              "      <th>Deadly</th>\n",
              "      <td>154</td>\n",
              "      <td>44</td>\n",
              "      <td>253</td>\n",
              "      <td>451</td>\n",
              "    </tr>\n",
              "    <tr>\n",
              "      <th>Total</th>\n",
              "      <td>816</td>\n",
              "      <td>153</td>\n",
              "      <td>802</td>\n",
              "      <td>1771</td>\n",
              "    </tr>\n",
              "  </tbody>\n",
              "</table>\n",
              "</div>\n",
              "      <button class=\"colab-df-convert\" onclick=\"convertToInteractive('df-27f535e7-ead4-4390-9d2d-0c98b028e935')\"\n",
              "              title=\"Convert this dataframe to an interactive table.\"\n",
              "              style=\"display:none;\">\n",
              "        \n",
              "  <svg xmlns=\"http://www.w3.org/2000/svg\" height=\"24px\"viewBox=\"0 0 24 24\"\n",
              "       width=\"24px\">\n",
              "    <path d=\"M0 0h24v24H0V0z\" fill=\"none\"/>\n",
              "    <path d=\"M18.56 5.44l.94 2.06.94-2.06 2.06-.94-2.06-.94-.94-2.06-.94 2.06-2.06.94zm-11 1L8.5 8.5l.94-2.06 2.06-.94-2.06-.94L8.5 2.5l-.94 2.06-2.06.94zm10 10l.94 2.06.94-2.06 2.06-.94-2.06-.94-.94-2.06-.94 2.06-2.06.94z\"/><path d=\"M17.41 7.96l-1.37-1.37c-.4-.4-.92-.59-1.43-.59-.52 0-1.04.2-1.43.59L10.3 9.45l-7.72 7.72c-.78.78-.78 2.05 0 2.83L4 21.41c.39.39.9.59 1.41.59.51 0 1.02-.2 1.41-.59l7.78-7.78 2.81-2.81c.8-.78.8-2.07 0-2.86zM5.41 20L4 18.59l7.72-7.72 1.47 1.35L5.41 20z\"/>\n",
              "  </svg>\n",
              "      </button>\n",
              "      \n",
              "  <style>\n",
              "    .colab-df-container {\n",
              "      display:flex;\n",
              "      flex-wrap:wrap;\n",
              "      gap: 12px;\n",
              "    }\n",
              "\n",
              "    .colab-df-convert {\n",
              "      background-color: #E8F0FE;\n",
              "      border: none;\n",
              "      border-radius: 50%;\n",
              "      cursor: pointer;\n",
              "      display: none;\n",
              "      fill: #1967D2;\n",
              "      height: 32px;\n",
              "      padding: 0 0 0 0;\n",
              "      width: 32px;\n",
              "    }\n",
              "\n",
              "    .colab-df-convert:hover {\n",
              "      background-color: #E2EBFA;\n",
              "      box-shadow: 0px 1px 2px rgba(60, 64, 67, 0.3), 0px 1px 3px 1px rgba(60, 64, 67, 0.15);\n",
              "      fill: #174EA6;\n",
              "    }\n",
              "\n",
              "    [theme=dark] .colab-df-convert {\n",
              "      background-color: #3B4455;\n",
              "      fill: #D2E3FC;\n",
              "    }\n",
              "\n",
              "    [theme=dark] .colab-df-convert:hover {\n",
              "      background-color: #434B5C;\n",
              "      box-shadow: 0px 1px 3px 1px rgba(0, 0, 0, 0.15);\n",
              "      filter: drop-shadow(0px 1px 2px rgba(0, 0, 0, 0.3));\n",
              "      fill: #FFFFFF;\n",
              "    }\n",
              "  </style>\n",
              "\n",
              "      <script>\n",
              "        const buttonEl =\n",
              "          document.querySelector('#df-27f535e7-ead4-4390-9d2d-0c98b028e935 button.colab-df-convert');\n",
              "        buttonEl.style.display =\n",
              "          google.colab.kernel.accessAllowed ? 'block' : 'none';\n",
              "\n",
              "        async function convertToInteractive(key) {\n",
              "          const element = document.querySelector('#df-27f535e7-ead4-4390-9d2d-0c98b028e935');\n",
              "          const dataTable =\n",
              "            await google.colab.kernel.invokeFunction('convertToInteractive',\n",
              "                                                     [key], {});\n",
              "          if (!dataTable) return;\n",
              "\n",
              "          const docLinkHtml = 'Like what you see? Visit the ' +\n",
              "            '<a target=\"_blank\" href=https://colab.research.google.com/notebooks/data_table.ipynb>data table notebook</a>'\n",
              "            + ' to learn more about interactive tables.';\n",
              "          element.innerHTML = '';\n",
              "          dataTable['output_type'] = 'display_data';\n",
              "          await google.colab.output.renderOutput(dataTable, element);\n",
              "          const docLink = document.createElement('div');\n",
              "          docLink.innerHTML = docLinkHtml;\n",
              "          element.appendChild(docLink);\n",
              "        }\n",
              "      </script>\n",
              "    </div>\n",
              "  </div>\n",
              "  "
            ]
          },
          "metadata": {},
          "execution_count": 792
        }
      ]
    },
    {
      "cell_type": "code",
      "source": [
        "# heatmap of crosstab\n",
        "sns.heatmap(pd.crosstab(AAC_serious_type_experience_age.Seriousness, AAC_serious_type_experience_age.Experience),\n",
        "            cmap=\"YlGnBu\", annot=True, fmt = \".3g\", cbar=False)"
      ],
      "metadata": {
        "id": "tiU8WIbV3GGF",
        "colab": {
          "base_uri": "https://localhost:8080/",
          "height": 296
        },
        "outputId": "c2b6ce2d-a725-4ae2-9573-cb79e4cc9924"
      },
      "execution_count": 793,
      "outputs": [
        {
          "output_type": "execute_result",
          "data": {
            "text/plain": [
              "<matplotlib.axes._subplots.AxesSubplot at 0x7fdbc2ce7450>"
            ]
          },
          "metadata": {},
          "execution_count": 793
        },
        {
          "output_type": "display_data",
          "data": {
            "text/plain": [
              "<Figure size 432x288 with 1 Axes>"
            ],
            "image/png": "[encoded data removed]"
          },
          "metadata": {
            "needs_background": "light"
          }
        }
      ]
    },
    {
      "cell_type": "code",
      "source": [
        "contingency = pd.crosstab(AAC_serious_type_experience_age.Seriousness, AAC_serious_type_experience_age.Experience)\n",
        "# Chi-square test of independence. \n",
        "chi2, p, dof, expected = stats.chi2_contingency(contingency) "
      ],
      "metadata": {
        "id": "tHs4qNLy3GGG"
      },
      "execution_count": 794,
      "outputs": []
    },
    {
      "cell_type": "code",
      "source": [
        "print(chi2)"
      ],
      "metadata": {
        "colab": {
          "base_uri": "https://localhost:8080/",
          "height": 0
        },
        "id": "uoqCdTxCR2Lx",
        "outputId": "a631ac53-5b4b-49f5-aed5-f5b742f4c562"
      },
      "execution_count": 795,
      "outputs": [
        {
          "output_type": "stream",
          "name": "stdout",
          "text": [
            "43.3210309080954\n"
          ]
        }
      ]
    },
    {
      "cell_type": "code",
      "source": [
        "print(dof)"
      ],
      "metadata": {
        "colab": {
          "base_uri": "https://localhost:8080/",
          "height": 0
        },
        "id": "JmWy--r0RxaA",
        "outputId": "08a0b70b-c08d-4c67-d1c8-776780a24c22"
      },
      "execution_count": 796,
      "outputs": [
        {
          "output_type": "stream",
          "name": "stdout",
          "text": [
            "4\n"
          ]
        }
      ]
    },
    {
      "cell_type": "code",
      "source": [
        "print(p)"
      ],
      "metadata": {
        "colab": {
          "base_uri": "https://localhost:8080/",
          "height": 0
        },
        "id": "_xJj-sq_R7v-",
        "outputId": "d45afebe-386f-4daf-d940-cc8cec82456e"
      },
      "execution_count": 797,
      "outputs": [
        {
          "output_type": "stream",
          "name": "stdout",
          "text": [
            "8.87620752756336e-09\n"
          ]
        }
      ]
    },
    {
      "cell_type": "markdown",
      "source": [
        "## Seriousness by age"
      ],
      "metadata": {
        "id": "2S4m4t1o5MQi"
      }
    },
    {
      "cell_type": "code",
      "source": [
        "pd.crosstab(AAC_serious_type_experience_age.Seriousness, AAC_serious_type_experience_age.Age, margins=True, margins_name=\"Total\", \n",
        "            rownames = [\"Seriousness of Accident\"], colnames = [\"Age\"])"
      ],
      "metadata": {
        "id": "FIyhx1qU4_vt",
        "colab": {
          "base_uri": "https://localhost:8080/",
          "height": 206
        },
        "outputId": "4458037a-6144-4f2a-f68b-c19ba067b15c"
      },
      "execution_count": 798,
      "outputs": [
        {
          "output_type": "execute_result",
          "data": {
            "text/plain": [
              "Age                      <15  15-20  21-25  26-30  31-35  36-50  51-75  >75  \\\n",
              "Seriousness of Accident                                                       \n",
              "Minor                      2     36     62     55     36     59     22    0   \n",
              "Serious                   16    137    331    355    282    431    156    0   \n",
              "Deadly                     3     53    100    121    110    168     85    2   \n",
              "Total                     21    226    493    531    428    658    263    2   \n",
              "\n",
              "Age                      Total  \n",
              "Seriousness of Accident         \n",
              "Minor                      272  \n",
              "Serious                   1708  \n",
              "Deadly                     642  \n",
              "Total                     2622  "
            ],
            "text/html": [
              "\n",
              "  <div id=\"df-347dc05a-839d-4e8d-b465-34e193796012\">\n",
              "    <div class=\"colab-df-container\">\n",
              "      <div>\n",
              "<style scoped>\n",
              "    .dataframe tbody tr th:only-of-type {\n",
              "        vertical-align: middle;\n",
              "    }\n",
              "\n",
              "    .dataframe tbody tr th {\n",
              "        vertical-align: top;\n",
              "    }\n",
              "\n",
              "    .dataframe thead th {\n",
              "        text-align: right;\n",
              "    }\n",
              "</style>\n",
              "<table border=\"1\" class=\"dataframe\">\n",
              "  <thead>\n",
              "    <tr style=\"text-align: right;\">\n",
              "      <th>Age</th>\n",
              "      <th>&lt;15</th>\n",
              "      <th>15-20</th>\n",
              "      <th>21-25</th>\n",
              "      <th>26-30</th>\n",
              "      <th>31-35</th>\n",
              "      <th>36-50</th>\n",
              "      <th>51-75</th>\n",
              "      <th>&gt;75</th>\n",
              "      <th>Total</th>\n",
              "    </tr>\n",
              "    <tr>\n",
              "      <th>Seriousness of Accident</th>\n",
              "      <th></th>\n",
              "      <th></th>\n",
              "      <th></th>\n",
              "      <th></th>\n",
              "      <th></th>\n",
              "      <th></th>\n",
              "      <th></th>\n",
              "      <th></th>\n",
              "      <th></th>\n",
              "    </tr>\n",
              "  </thead>\n",
              "  <tbody>\n",
              "    <tr>\n",
              "      <th>Minor</th>\n",
              "      <td>2</td>\n",
              "      <td>36</td>\n",
              "      <td>62</td>\n",
              "      <td>55</td>\n",
              "      <td>36</td>\n",
              "      <td>59</td>\n",
              "      <td>22</td>\n",
              "      <td>0</td>\n",
              "      <td>272</td>\n",
              "    </tr>\n",
              "    <tr>\n",
              "      <th>Serious</th>\n",
              "      <td>16</td>\n",
              "      <td>137</td>\n",
              "      <td>331</td>\n",
              "      <td>355</td>\n",
              "      <td>282</td>\n",
              "      <td>431</td>\n",
              "      <td>156</td>\n",
              "      <td>0</td>\n",
              "      <td>1708</td>\n",
              "    </tr>\n",
              "    <tr>\n",
              "      <th>Deadly</th>\n",
              "      <td>3</td>\n",
              "      <td>53</td>\n",
              "      <td>100</td>\n",
              "      <td>121</td>\n",
              "      <td>110</td>\n",
              "      <td>168</td>\n",
              "      <td>85</td>\n",
              "      <td>2</td>\n",
              "      <td>642</td>\n",
              "    </tr>\n",
              "    <tr>\n",
              "      <th>Total</th>\n",
              "      <td>21</td>\n",
              "      <td>226</td>\n",
              "      <td>493</td>\n",
              "      <td>531</td>\n",
              "      <td>428</td>\n",
              "      <td>658</td>\n",
              "      <td>263</td>\n",
              "      <td>2</td>\n",
              "      <td>2622</td>\n",
              "    </tr>\n",
              "  </tbody>\n",
              "</table>\n",
              "</div>\n",
              "      <button class=\"colab-df-convert\" onclick=\"convertToInteractive('df-347dc05a-839d-4e8d-b465-34e193796012')\"\n",
              "              title=\"Convert this dataframe to an interactive table.\"\n",
              "              style=\"display:none;\">\n",
              "        \n",
              "  <svg xmlns=\"http://www.w3.org/2000/svg\" height=\"24px\"viewBox=\"0 0 24 24\"\n",
              "       width=\"24px\">\n",
              "    <path d=\"M0 0h24v24H0V0z\" fill=\"none\"/>\n",
              "    <path d=\"M18.56 5.44l.94 2.06.94-2.06 2.06-.94-2.06-.94-.94-2.06-.94 2.06-2.06.94zm-11 1L8.5 8.5l.94-2.06 2.06-.94-2.06-.94L8.5 2.5l-.94 2.06-2.06.94zm10 10l.94 2.06.94-2.06 2.06-.94-2.06-.94-.94-2.06-.94 2.06-2.06.94z\"/><path d=\"M17.41 7.96l-1.37-1.37c-.4-.4-.92-.59-1.43-.59-.52 0-1.04.2-1.43.59L10.3 9.45l-7.72 7.72c-.78.78-.78 2.05 0 2.83L4 21.41c.39.39.9.59 1.41.59.51 0 1.02-.2 1.41-.59l7.78-7.78 2.81-2.81c.8-.78.8-2.07 0-2.86zM5.41 20L4 18.59l7.72-7.72 1.47 1.35L5.41 20z\"/>\n",
              "  </svg>\n",
              "      </button>\n",
              "      \n",
              "  <style>\n",
              "    .colab-df-container {\n",
              "      display:flex;\n",
              "      flex-wrap:wrap;\n",
              "      gap: 12px;\n",
              "    }\n",
              "\n",
              "    .colab-df-convert {\n",
              "      background-color: #E8F0FE;\n",
              "      border: none;\n",
              "      border-radius: 50%;\n",
              "      cursor: pointer;\n",
              "      display: none;\n",
              "      fill: #1967D2;\n",
              "      height: 32px;\n",
              "      padding: 0 0 0 0;\n",
              "      width: 32px;\n",
              "    }\n",
              "\n",
              "    .colab-df-convert:hover {\n",
              "      background-color: #E2EBFA;\n",
              "      box-shadow: 0px 1px 2px rgba(60, 64, 67, 0.3), 0px 1px 3px 1px rgba(60, 64, 67, 0.15);\n",
              "      fill: #174EA6;\n",
              "    }\n",
              "\n",
              "    [theme=dark] .colab-df-convert {\n",
              "      background-color: #3B4455;\n",
              "      fill: #D2E3FC;\n",
              "    }\n",
              "\n",
              "    [theme=dark] .colab-df-convert:hover {\n",
              "      background-color: #434B5C;\n",
              "      box-shadow: 0px 1px 3px 1px rgba(0, 0, 0, 0.15);\n",
              "      filter: drop-shadow(0px 1px 2px rgba(0, 0, 0, 0.3));\n",
              "      fill: #FFFFFF;\n",
              "    }\n",
              "  </style>\n",
              "\n",
              "      <script>\n",
              "        const buttonEl =\n",
              "          document.querySelector('#df-347dc05a-839d-4e8d-b465-34e193796012 button.colab-df-convert');\n",
              "        buttonEl.style.display =\n",
              "          google.colab.kernel.accessAllowed ? 'block' : 'none';\n",
              "\n",
              "        async function convertToInteractive(key) {\n",
              "          const element = document.querySelector('#df-347dc05a-839d-4e8d-b465-34e193796012');\n",
              "          const dataTable =\n",
              "            await google.colab.kernel.invokeFunction('convertToInteractive',\n",
              "                                                     [key], {});\n",
              "          if (!dataTable) return;\n",
              "\n",
              "          const docLinkHtml = 'Like what you see? Visit the ' +\n",
              "            '<a target=\"_blank\" href=https://colab.research.google.com/notebooks/data_table.ipynb>data table notebook</a>'\n",
              "            + ' to learn more about interactive tables.';\n",
              "          element.innerHTML = '';\n",
              "          dataTable['output_type'] = 'display_data';\n",
              "          await google.colab.output.renderOutput(dataTable, element);\n",
              "          const docLink = document.createElement('div');\n",
              "          docLink.innerHTML = docLinkHtml;\n",
              "          element.appendChild(docLink);\n",
              "        }\n",
              "      </script>\n",
              "    </div>\n",
              "  </div>\n",
              "  "
            ]
          },
          "metadata": {},
          "execution_count": 798
        }
      ]
    },
    {
      "cell_type": "code",
      "source": [
        "# heatmap of crosstab\n",
        "sns.heatmap(pd.crosstab(AAC_serious_type_experience_age.Seriousness, AAC_serious_type_experience_age.Age),\n",
        "            cmap=\"YlGnBu\", annot=True, fmt = \".3g\", cbar=False)"
      ],
      "metadata": {
        "id": "SYm0UqZ44_vt",
        "colab": {
          "base_uri": "https://localhost:8080/",
          "height": 296
        },
        "outputId": "7f92ecdd-80ba-4860-fd87-02238c54b86b"
      },
      "execution_count": 799,
      "outputs": [
        {
          "output_type": "execute_result",
          "data": {
            "text/plain": [
              "<matplotlib.axes._subplots.AxesSubplot at 0x7fdbc2c3a590>"
            ]
          },
          "metadata": {},
          "execution_count": 799
        },
        {
          "output_type": "display_data",
          "data": {
            "text/plain": [
              "<Figure size 432x288 with 1 Axes>"
            ],
            "image/png": "[encoded data removed]"
          },
          "metadata": {
            "needs_background": "light"
          }
        }
      ]
    },
    {
      "cell_type": "code",
      "source": [
        "contingency = pd.crosstab(AAC_serious_type_experience_age.Seriousness, AAC_serious_type_experience_age.Age)\n",
        "# Chi-square test of independence. \n",
        "chi2, p, dof, expected = stats.chi2_contingency(contingency) \n",
        "# Print the p-value\n",
        "print(p)"
      ],
      "metadata": {
        "id": "tDqSU2l34_vt",
        "colab": {
          "base_uri": "https://localhost:8080/",
          "height": 0
        },
        "outputId": "ce387584-03fe-4fd2-a366-2509cecde799"
      },
      "execution_count": 800,
      "outputs": [
        {
          "output_type": "stream",
          "name": "stdout",
          "text": [
            "0.0017661603443864722\n"
          ]
        }
      ]
    }
  ],
  "metadata": {
    "colab": {
      "collapsed_sections": [],
      "name": "AACaccidentsjupyter.ipynb",
      "toc_visible": true,
      "provenance": [],
      "include_colab_link": true
    },
    "gpuClass": "standard",
    "kernelspec": {
      "display_name": "Python 3",
      "name": "python3"
    },
    "language_info": {
      "name": "python"
    }
  },
  "nbformat": 4,
  "nbformat_minor": 0
}